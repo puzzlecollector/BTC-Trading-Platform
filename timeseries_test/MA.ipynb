{
 "cells": [
  {
   "cell_type": "markdown",
   "id": "b1189803-1026-4ece-89dd-3036259fbaa4",
   "metadata": {},
   "source": [
    "simple moving average를 이용해서 예측 \n",
    "\n",
    "$x_{t-L+1}, ..., x_{t-2}, x_{t-1}, x_{t}$가 주어지면 $x_{t+1} = \\sum_{i=t-L+1}^t \\frac{x_{i}}{L}$\n",
    "\n",
    "학습이 필요없다. "
   ]
  },
  {
   "cell_type": "code",
   "execution_count": 66,
   "id": "016d61ed-20d4-43e3-938e-b5d64799002b",
   "metadata": {},
   "outputs": [],
   "source": [
    "import pandas as pd \n",
    "import numpy as np \n",
    "import time \n",
    "import torch\n",
    "import torch.nn as nn \n",
    "import torch.nn.functional as F \n",
    "import torch.optim as optim \n",
    "from datetime import datetime, timedelta\n",
    "from sklearn.preprocessing import LabelEncoder\n",
    "from tqdm.auto import tqdm\n",
    "import matplotlib.pyplot as plt\n",
    "from torch.utils.data import Dataset, DataLoader, TensorDataset, RandomSampler, SequentialSampler, IterableDataset \n",
    "from sklearn.preprocessing import MinMaxScaler\n",
    "import random \n",
    "import pickle\n",
    "from transformers import *\n",
    "from sklearn.metrics import mean_absolute_error \n",
    "\n",
    "import warnings\n",
    "warnings.filterwarnings('ignore')"
   ]
  },
  {
   "cell_type": "code",
   "execution_count": 67,
   "id": "df777843-57fa-4a40-aa30-7fe5d4880ecc",
   "metadata": {},
   "outputs": [
    {
     "data": {
      "text/html": [
       "<div>\n",
       "<style scoped>\n",
       "    .dataframe tbody tr th:only-of-type {\n",
       "        vertical-align: middle;\n",
       "    }\n",
       "\n",
       "    .dataframe tbody tr th {\n",
       "        vertical-align: top;\n",
       "    }\n",
       "\n",
       "    .dataframe thead th {\n",
       "        text-align: right;\n",
       "    }\n",
       "</style>\n",
       "<table border=\"1\" class=\"dataframe\">\n",
       "  <thead>\n",
       "    <tr style=\"text-align: right;\">\n",
       "      <th></th>\n",
       "      <th>id</th>\n",
       "      <th>crawling_date</th>\n",
       "      <th>sales_3days</th>\n",
       "      <th>prd_rank</th>\n",
       "      <th>prd_name</th>\n",
       "      <th>price</th>\n",
       "      <th>ctg_2_name</th>\n",
       "      <th>brand</th>\n",
       "      <th>score</th>\n",
       "      <th>delivery_fee</th>\n",
       "    </tr>\n",
       "  </thead>\n",
       "  <tbody>\n",
       "    <tr>\n",
       "      <th>0</th>\n",
       "      <td>1</td>\n",
       "      <td>2020-01-01</td>\n",
       "      <td>99</td>\n",
       "      <td>90</td>\n",
       "      <td>15</td>\n",
       "      <td>29</td>\n",
       "      <td>24</td>\n",
       "      <td>31</td>\n",
       "      <td>95</td>\n",
       "      <td>45</td>\n",
       "    </tr>\n",
       "    <tr>\n",
       "      <th>1</th>\n",
       "      <td>1</td>\n",
       "      <td>2020-01-02</td>\n",
       "      <td>23</td>\n",
       "      <td>42</td>\n",
       "      <td>94</td>\n",
       "      <td>47</td>\n",
       "      <td>20</td>\n",
       "      <td>8</td>\n",
       "      <td>91</td>\n",
       "      <td>67</td>\n",
       "    </tr>\n",
       "    <tr>\n",
       "      <th>2</th>\n",
       "      <td>1</td>\n",
       "      <td>2020-01-03</td>\n",
       "      <td>87</td>\n",
       "      <td>22</td>\n",
       "      <td>4</td>\n",
       "      <td>20</td>\n",
       "      <td>92</td>\n",
       "      <td>76</td>\n",
       "      <td>55</td>\n",
       "      <td>69</td>\n",
       "    </tr>\n",
       "    <tr>\n",
       "      <th>3</th>\n",
       "      <td>1</td>\n",
       "      <td>2020-01-04</td>\n",
       "      <td>8</td>\n",
       "      <td>69</td>\n",
       "      <td>15</td>\n",
       "      <td>37</td>\n",
       "      <td>38</td>\n",
       "      <td>85</td>\n",
       "      <td>19</td>\n",
       "      <td>75</td>\n",
       "    </tr>\n",
       "    <tr>\n",
       "      <th>4</th>\n",
       "      <td>1</td>\n",
       "      <td>2020-01-05</td>\n",
       "      <td>57</td>\n",
       "      <td>57</td>\n",
       "      <td>61</td>\n",
       "      <td>12</td>\n",
       "      <td>64</td>\n",
       "      <td>97</td>\n",
       "      <td>96</td>\n",
       "      <td>47</td>\n",
       "    </tr>\n",
       "    <tr>\n",
       "      <th>...</th>\n",
       "      <td>...</td>\n",
       "      <td>...</td>\n",
       "      <td>...</td>\n",
       "      <td>...</td>\n",
       "      <td>...</td>\n",
       "      <td>...</td>\n",
       "      <td>...</td>\n",
       "      <td>...</td>\n",
       "      <td>...</td>\n",
       "      <td>...</td>\n",
       "    </tr>\n",
       "    <tr>\n",
       "      <th>995</th>\n",
       "      <td>1</td>\n",
       "      <td>2022-09-22</td>\n",
       "      <td>15</td>\n",
       "      <td>49</td>\n",
       "      <td>1</td>\n",
       "      <td>23</td>\n",
       "      <td>41</td>\n",
       "      <td>12</td>\n",
       "      <td>67</td>\n",
       "      <td>91</td>\n",
       "    </tr>\n",
       "    <tr>\n",
       "      <th>996</th>\n",
       "      <td>1</td>\n",
       "      <td>2022-09-23</td>\n",
       "      <td>2</td>\n",
       "      <td>0</td>\n",
       "      <td>10</td>\n",
       "      <td>46</td>\n",
       "      <td>14</td>\n",
       "      <td>24</td>\n",
       "      <td>76</td>\n",
       "      <td>63</td>\n",
       "    </tr>\n",
       "    <tr>\n",
       "      <th>997</th>\n",
       "      <td>1</td>\n",
       "      <td>2022-09-24</td>\n",
       "      <td>42</td>\n",
       "      <td>2</td>\n",
       "      <td>73</td>\n",
       "      <td>61</td>\n",
       "      <td>15</td>\n",
       "      <td>94</td>\n",
       "      <td>56</td>\n",
       "      <td>95</td>\n",
       "    </tr>\n",
       "    <tr>\n",
       "      <th>998</th>\n",
       "      <td>1</td>\n",
       "      <td>2022-09-25</td>\n",
       "      <td>53</td>\n",
       "      <td>67</td>\n",
       "      <td>68</td>\n",
       "      <td>11</td>\n",
       "      <td>80</td>\n",
       "      <td>0</td>\n",
       "      <td>45</td>\n",
       "      <td>54</td>\n",
       "    </tr>\n",
       "    <tr>\n",
       "      <th>999</th>\n",
       "      <td>1</td>\n",
       "      <td>2022-09-26</td>\n",
       "      <td>23</td>\n",
       "      <td>28</td>\n",
       "      <td>50</td>\n",
       "      <td>86</td>\n",
       "      <td>93</td>\n",
       "      <td>33</td>\n",
       "      <td>57</td>\n",
       "      <td>47</td>\n",
       "    </tr>\n",
       "  </tbody>\n",
       "</table>\n",
       "<p>1000 rows × 10 columns</p>\n",
       "</div>"
      ],
      "text/plain": [
       "     id crawling_date  sales_3days  prd_rank  prd_name  price  ctg_2_name  \\\n",
       "0     1    2020-01-01           99        90        15     29          24   \n",
       "1     1    2020-01-02           23        42        94     47          20   \n",
       "2     1    2020-01-03           87        22         4     20          92   \n",
       "3     1    2020-01-04            8        69        15     37          38   \n",
       "4     1    2020-01-05           57        57        61     12          64   \n",
       "..   ..           ...          ...       ...       ...    ...         ...   \n",
       "995   1    2022-09-22           15        49         1     23          41   \n",
       "996   1    2022-09-23            2         0        10     46          14   \n",
       "997   1    2022-09-24           42         2        73     61          15   \n",
       "998   1    2022-09-25           53        67        68     11          80   \n",
       "999   1    2022-09-26           23        28        50     86          93   \n",
       "\n",
       "     brand  score  delivery_fee  \n",
       "0       31     95            45  \n",
       "1        8     91            67  \n",
       "2       76     55            69  \n",
       "3       85     19            75  \n",
       "4       97     96            47  \n",
       "..     ...    ...           ...  \n",
       "995     12     67            91  \n",
       "996     24     76            63  \n",
       "997     94     56            95  \n",
       "998      0     45            54  \n",
       "999     33     57            47  \n",
       "\n",
       "[1000 rows x 10 columns]"
      ]
     },
     "execution_count": 67,
     "metadata": {},
     "output_type": "execute_result"
    }
   ],
   "source": [
    "# dummy data 생성 \n",
    "\n",
    "df = pd.DataFrame(np.random.randint(0, 100, size=(1000, 10)), columns=[\"id\",\"crawling_date\",\"sales_3days\",\"prd_rank\",\"prd_name\", \"price\", \"ctg_2_name\", \"brand\", \"score\", \"delivery_fee\"])\n",
    "\n",
    "# 임의의 datetime으로 \n",
    "datetimes = [] \n",
    "dtobj = datetime(2020,1,1)\n",
    "for i in range(1000): \n",
    "    datetimes.append(dtobj) \n",
    "    dtobj = dtobj + timedelta(days=1) \n",
    "\n",
    "df[\"crawling_date\"] = datetimes \n",
    "\n",
    "#예시를 위해서 id 통일 \n",
    "df[\"id\"] = 1 \n",
    "\n",
    "df"
   ]
  },
  {
   "cell_type": "code",
   "execution_count": 68,
   "id": "87b6fdb8-f5c3-40a3-96cc-56e696236e6e",
   "metadata": {},
   "outputs": [],
   "source": [
    "# clip sales values \n",
    "df[[\"sales_3days\"]] = df[[\"sales_3days\"]].clip(0,)\n",
    "df[[\"sales_3days\"]] = df[[\"sales_3days\"]].apply(lambda x: np.log1p(x))"
   ]
  },
  {
   "cell_type": "code",
   "execution_count": 69,
   "id": "c7f6a96d-0edb-4138-a087-e6c3b133627c",
   "metadata": {},
   "outputs": [],
   "source": [
    "# 시계열 예측을 위해서 shift   \n",
    "lookback_window, lookahead_window = 28, 28 \n",
    "\n",
    "for i in range(1, lookback_window+1):\n",
    "    df[f\"shift_{i}\"] = df.groupby(\"id\")[\"sales_3days\"].shift(i)"
   ]
  },
  {
   "cell_type": "code",
   "execution_count": 70,
   "id": "42774d0d-9970-4039-b7c0-8cb682f3f60a",
   "metadata": {},
   "outputs": [
    {
     "data": {
      "text/plain": [
       "((366, 38), (365, 38), (269, 38))"
      ]
     },
     "execution_count": 70,
     "metadata": {},
     "output_type": "execute_result"
    }
   ],
   "source": [
    "train_df = df[df['crawling_date'] < datetime(2021,1,1)]\n",
    "val_df = df[(df['crawling_date'] >= datetime(2021,1,1)) & (df['crawling_date'] < datetime(2022,1,1))]\n",
    "test_df = df[df['crawling_date'] >= datetime(2022,1,1)]\n",
    "\n",
    "train_df.shape, val_df.shape, test_df.shape   "
   ]
  },
  {
   "cell_type": "code",
   "execution_count": 71,
   "id": "b0bb812b-bfcd-45df-8fc0-f7c56d3d0f9f",
   "metadata": {},
   "outputs": [
    {
     "data": {
      "text/plain": [
       "'\\ntest_df = test_df.query(\"id in @id_list\")\\nle = LabelEncoder()\\nle.fit(train_df[\"id\"])\\ntrain_df[\"id\"] = le.transform(train_df[\"id\"])\\ntest_df[\"id\"] = le.transform(test_df[\"id\"])\\n'"
      ]
     },
     "execution_count": 71,
     "metadata": {},
     "output_type": "execute_result"
    }
   ],
   "source": [
    "# 나중에 실제 데이터를 이용할때 이 부분은 원래 하시던대로 실행하시면 됩니다. Validation data도 추가했으니 비슷하게 하시면됩니다. \n",
    "'''\n",
    "test_df = test_df.query(\"id in @id_list\")\n",
    "le = LabelEncoder()\n",
    "le.fit(train_df[\"id\"])\n",
    "train_df[\"id\"] = le.transform(train_df[\"id\"])\n",
    "test_df[\"id\"] = le.transform(test_df[\"id\"])\n",
    "''' "
   ]
  },
  {
   "cell_type": "code",
   "execution_count": 72,
   "id": "f13fd9d7-81f3-43d8-b6c9-97dbda0639b3",
   "metadata": {},
   "outputs": [
    {
     "data": {
      "text/plain": [
       "((366, 28), (365, 28), (269, 28))"
      ]
     },
     "execution_count": 72,
     "metadata": {},
     "output_type": "execute_result"
    }
   ],
   "source": [
    "train_df = train_df.iloc[:,10:]\n",
    "val_df = val_df.iloc[:, 10:] \n",
    "test_df = test_df.iloc[:,10:]\n",
    "\n",
    "train_df.shape, val_df.shape, test_df.shape"
   ]
  },
  {
   "cell_type": "code",
   "execution_count": 73,
   "id": "5c5c4510-0c52-4ce0-9667-06d559d00ef3",
   "metadata": {},
   "outputs": [
    {
     "data": {
      "text/plain": [
       "((338, 28), (365, 28), (269, 28))"
      ]
     },
     "execution_count": 73,
     "metadata": {},
     "output_type": "execute_result"
    }
   ],
   "source": [
    "train_df.dropna(axis=0, inplace=True) \n",
    "val_df.dropna(axis=0, inplace=True) \n",
    "test_df.dropna(axis=0, inplace=True)  \n",
    "\n",
    "train_df.shape, val_df.shape, test_df.shape"
   ]
  },
  {
   "cell_type": "code",
   "execution_count": 74,
   "id": "cc47af45-770f-4562-b1ec-9b6bd8aa7c9a",
   "metadata": {},
   "outputs": [],
   "source": [
    "train_df = train_df.values  \n",
    "val_df = val_df.values \n",
    "test_df = test_df.values"
   ]
  },
  {
   "cell_type": "code",
   "execution_count": 75,
   "id": "484f63e1-a64a-498b-808a-d10a2e151e6c",
   "metadata": {},
   "outputs": [
    {
     "data": {
      "application/vnd.jupyter.widget-view+json": {
       "model_id": "cf3c5f07bec94efea9b60207dc7650c6",
       "version_major": 2,
       "version_minor": 0
      },
      "text/plain": [
       "  0%|          | 0/213 [00:00<?, ?it/s]"
      ]
     },
     "metadata": {},
     "output_type": "display_data"
    },
    {
     "data": {
      "text/plain": [
       "((213, 28, 1), (213, 28, 1))"
      ]
     },
     "execution_count": 75,
     "metadata": {},
     "output_type": "execute_result"
    }
   ],
   "source": [
    "X_test, Y_test = [], []\n",
    "for i in tqdm(range(28, test_df.shape[0]-lookback_window), position=0, leave=True): \n",
    "    X_test.append(test_df[i][::-1].reshape((lookback_window, 1))) \n",
    "    Y_test.append(test_df[i+28][::-1].reshape((lookahead_window, 1))) \n",
    "\n",
    "X_test = np.array(X_test, dtype=np.float32)\n",
    "Y_test = np.array(Y_test, dtype=np.float32)\n",
    "\n",
    "X_test.shape, Y_test.shape"
   ]
  },
  {
   "cell_type": "code",
   "execution_count": 76,
   "id": "43e6ddae-db57-41f2-818a-0636d869e29b",
   "metadata": {},
   "outputs": [
    {
     "data": {
      "application/vnd.jupyter.widget-view+json": {
       "model_id": "f8f86200d00c4bae98979a3e4c1747c4",
       "version_major": 2,
       "version_minor": 0
      },
      "text/plain": [
       "  0%|          | 0/213 [00:00<?, ?it/s]"
      ]
     },
     "metadata": {},
     "output_type": "display_data"
    },
    {
     "name": "stdout",
     "output_type": "stream",
     "text": [
      "Test MAE = 0.7701713033680991\n"
     ]
    }
   ],
   "source": [
    "test_loss = 0 \n",
    "for i in tqdm(range(X_test.shape[0])): \n",
    "    preds = [] \n",
    "    seq = X_test[i].flatten() \n",
    "    for j in range(28):\n",
    "        all_values = [] \n",
    "        all_values.extend(seq[j:28]) \n",
    "        for p in preds: \n",
    "            all_values.append(p)  \n",
    "        ma_val = np.mean(all_values) \n",
    "        preds.append(ma_val.item()) \n",
    "    y = Y_test[i].flatten() \n",
    "    test_loss += mean_absolute_error(y, preds) \n",
    "    \n",
    "        \n",
    "test_loss /= X_test.shape[0] \n",
    "\n",
    "print(f\"Test MAE = {test_loss}\") "
   ]
  },
  {
   "cell_type": "code",
   "execution_count": null,
   "id": "237e4326-94dd-45d9-9a37-e3d51fbc38a2",
   "metadata": {},
   "outputs": [],
   "source": []
  },
  {
   "cell_type": "code",
   "execution_count": null,
   "id": "b08aa4e8-fde3-498b-8c3e-3ca6dec904ae",
   "metadata": {},
   "outputs": [],
   "source": []
  },
  {
   "cell_type": "code",
   "execution_count": null,
   "id": "5d74987c-2a80-448e-9ef2-1cf46e5d18b9",
   "metadata": {},
   "outputs": [],
   "source": []
  },
  {
   "cell_type": "code",
   "execution_count": null,
   "id": "06317786-11b7-4b1e-9c85-3b740dc4d3d8",
   "metadata": {},
   "outputs": [],
   "source": []
  }
 ],
 "metadata": {
  "kernelspec": {
   "display_name": "Python 3 (ipykernel)",
   "language": "python",
   "name": "python3"
  },
  "language_info": {
   "codemirror_mode": {
    "name": "ipython",
    "version": 3
   },
   "file_extension": ".py",
   "mimetype": "text/x-python",
   "name": "python",
   "nbconvert_exporter": "python",
   "pygments_lexer": "ipython3",
   "version": "3.8.12"
  }
 },
 "nbformat": 4,
 "nbformat_minor": 5
}
