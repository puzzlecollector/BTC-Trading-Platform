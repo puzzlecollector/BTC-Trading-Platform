{
 "cells": [
  {
   "cell_type": "markdown",
   "id": "47474271-f813-4908-852e-0064052d402b",
   "metadata": {},
   "source": [
    "실제 데이터와 비슷한 형식의 dummy data를 생성해서 LSTM 모델로 실험하는 과정을 코딩해본다.   \n",
    "\n",
    "기본적인 LSTM 기반 seq2seq 이기 때문에, 이 모델 이후 seq2seq + attention 그리고 이후에 트랜스포머 기반 architecture들을 살펴보면 좋을 것 같다. "
   ]
  },
  {
   "cell_type": "code",
   "execution_count": 69,
   "id": "1daa1112-ac13-44a7-8364-d754208e0061",
   "metadata": {},
   "outputs": [],
   "source": [
    "import pandas as pd \n",
    "import numpy as np \n",
    "import time \n",
    "import torch\n",
    "import torch.nn as nn \n",
    "import torch.nn.functional as F \n",
    "import torch.optim as optim \n",
    "from datetime import datetime, timedelta\n",
    "from sklearn.preprocessing import LabelEncoder\n",
    "from tqdm.auto import tqdm\n",
    "import matplotlib.pyplot as plt\n",
    "from torch.utils.data import Dataset, DataLoader, TensorDataset, RandomSampler, SequentialSampler, IterableDataset \n",
    "from sklearn.preprocessing import MinMaxScaler\n",
    "import random \n",
    "import pickle\n",
    "from transformers import *\n",
    "from sklearn.metrics import mean_absolute_error"
   ]
  },
  {
   "cell_type": "code",
   "execution_count": 45,
   "id": "17fed0cd-180c-407c-8176-39b58e89780b",
   "metadata": {},
   "outputs": [
    {
     "data": {
      "text/html": [
       "<div>\n",
       "<style scoped>\n",
       "    .dataframe tbody tr th:only-of-type {\n",
       "        vertical-align: middle;\n",
       "    }\n",
       "\n",
       "    .dataframe tbody tr th {\n",
       "        vertical-align: top;\n",
       "    }\n",
       "\n",
       "    .dataframe thead th {\n",
       "        text-align: right;\n",
       "    }\n",
       "</style>\n",
       "<table border=\"1\" class=\"dataframe\">\n",
       "  <thead>\n",
       "    <tr style=\"text-align: right;\">\n",
       "      <th></th>\n",
       "      <th>id</th>\n",
       "      <th>crawling_date</th>\n",
       "      <th>sales_3days</th>\n",
       "      <th>prd_rank</th>\n",
       "      <th>prd_name</th>\n",
       "      <th>price</th>\n",
       "      <th>ctg_2_name</th>\n",
       "      <th>brand</th>\n",
       "      <th>score</th>\n",
       "      <th>delivery_fee</th>\n",
       "    </tr>\n",
       "  </thead>\n",
       "  <tbody>\n",
       "    <tr>\n",
       "      <th>0</th>\n",
       "      <td>1</td>\n",
       "      <td>2020-01-01</td>\n",
       "      <td>77</td>\n",
       "      <td>53</td>\n",
       "      <td>42</td>\n",
       "      <td>74</td>\n",
       "      <td>99</td>\n",
       "      <td>87</td>\n",
       "      <td>65</td>\n",
       "      <td>5</td>\n",
       "    </tr>\n",
       "    <tr>\n",
       "      <th>1</th>\n",
       "      <td>1</td>\n",
       "      <td>2020-01-02</td>\n",
       "      <td>48</td>\n",
       "      <td>52</td>\n",
       "      <td>94</td>\n",
       "      <td>92</td>\n",
       "      <td>99</td>\n",
       "      <td>56</td>\n",
       "      <td>49</td>\n",
       "      <td>31</td>\n",
       "    </tr>\n",
       "    <tr>\n",
       "      <th>2</th>\n",
       "      <td>1</td>\n",
       "      <td>2020-01-03</td>\n",
       "      <td>25</td>\n",
       "      <td>78</td>\n",
       "      <td>67</td>\n",
       "      <td>63</td>\n",
       "      <td>42</td>\n",
       "      <td>48</td>\n",
       "      <td>27</td>\n",
       "      <td>44</td>\n",
       "    </tr>\n",
       "    <tr>\n",
       "      <th>3</th>\n",
       "      <td>1</td>\n",
       "      <td>2020-01-04</td>\n",
       "      <td>87</td>\n",
       "      <td>0</td>\n",
       "      <td>21</td>\n",
       "      <td>14</td>\n",
       "      <td>18</td>\n",
       "      <td>37</td>\n",
       "      <td>61</td>\n",
       "      <td>97</td>\n",
       "    </tr>\n",
       "    <tr>\n",
       "      <th>4</th>\n",
       "      <td>1</td>\n",
       "      <td>2020-01-05</td>\n",
       "      <td>73</td>\n",
       "      <td>76</td>\n",
       "      <td>38</td>\n",
       "      <td>26</td>\n",
       "      <td>51</td>\n",
       "      <td>93</td>\n",
       "      <td>73</td>\n",
       "      <td>55</td>\n",
       "    </tr>\n",
       "    <tr>\n",
       "      <th>...</th>\n",
       "      <td>...</td>\n",
       "      <td>...</td>\n",
       "      <td>...</td>\n",
       "      <td>...</td>\n",
       "      <td>...</td>\n",
       "      <td>...</td>\n",
       "      <td>...</td>\n",
       "      <td>...</td>\n",
       "      <td>...</td>\n",
       "      <td>...</td>\n",
       "    </tr>\n",
       "    <tr>\n",
       "      <th>995</th>\n",
       "      <td>1</td>\n",
       "      <td>2022-09-22</td>\n",
       "      <td>81</td>\n",
       "      <td>36</td>\n",
       "      <td>86</td>\n",
       "      <td>42</td>\n",
       "      <td>57</td>\n",
       "      <td>85</td>\n",
       "      <td>51</td>\n",
       "      <td>16</td>\n",
       "    </tr>\n",
       "    <tr>\n",
       "      <th>996</th>\n",
       "      <td>1</td>\n",
       "      <td>2022-09-23</td>\n",
       "      <td>68</td>\n",
       "      <td>28</td>\n",
       "      <td>44</td>\n",
       "      <td>28</td>\n",
       "      <td>7</td>\n",
       "      <td>41</td>\n",
       "      <td>6</td>\n",
       "      <td>30</td>\n",
       "    </tr>\n",
       "    <tr>\n",
       "      <th>997</th>\n",
       "      <td>1</td>\n",
       "      <td>2022-09-24</td>\n",
       "      <td>0</td>\n",
       "      <td>99</td>\n",
       "      <td>39</td>\n",
       "      <td>64</td>\n",
       "      <td>22</td>\n",
       "      <td>90</td>\n",
       "      <td>66</td>\n",
       "      <td>13</td>\n",
       "    </tr>\n",
       "    <tr>\n",
       "      <th>998</th>\n",
       "      <td>1</td>\n",
       "      <td>2022-09-25</td>\n",
       "      <td>47</td>\n",
       "      <td>83</td>\n",
       "      <td>80</td>\n",
       "      <td>39</td>\n",
       "      <td>82</td>\n",
       "      <td>27</td>\n",
       "      <td>77</td>\n",
       "      <td>19</td>\n",
       "    </tr>\n",
       "    <tr>\n",
       "      <th>999</th>\n",
       "      <td>1</td>\n",
       "      <td>2022-09-26</td>\n",
       "      <td>91</td>\n",
       "      <td>69</td>\n",
       "      <td>87</td>\n",
       "      <td>18</td>\n",
       "      <td>24</td>\n",
       "      <td>98</td>\n",
       "      <td>60</td>\n",
       "      <td>59</td>\n",
       "    </tr>\n",
       "  </tbody>\n",
       "</table>\n",
       "<p>1000 rows × 10 columns</p>\n",
       "</div>"
      ],
      "text/plain": [
       "     id crawling_date  sales_3days  prd_rank  prd_name  price  ctg_2_name  \\\n",
       "0     1    2020-01-01           77        53        42     74          99   \n",
       "1     1    2020-01-02           48        52        94     92          99   \n",
       "2     1    2020-01-03           25        78        67     63          42   \n",
       "3     1    2020-01-04           87         0        21     14          18   \n",
       "4     1    2020-01-05           73        76        38     26          51   \n",
       "..   ..           ...          ...       ...       ...    ...         ...   \n",
       "995   1    2022-09-22           81        36        86     42          57   \n",
       "996   1    2022-09-23           68        28        44     28           7   \n",
       "997   1    2022-09-24            0        99        39     64          22   \n",
       "998   1    2022-09-25           47        83        80     39          82   \n",
       "999   1    2022-09-26           91        69        87     18          24   \n",
       "\n",
       "     brand  score  delivery_fee  \n",
       "0       87     65             5  \n",
       "1       56     49            31  \n",
       "2       48     27            44  \n",
       "3       37     61            97  \n",
       "4       93     73            55  \n",
       "..     ...    ...           ...  \n",
       "995     85     51            16  \n",
       "996     41      6            30  \n",
       "997     90     66            13  \n",
       "998     27     77            19  \n",
       "999     98     60            59  \n",
       "\n",
       "[1000 rows x 10 columns]"
      ]
     },
     "execution_count": 45,
     "metadata": {},
     "output_type": "execute_result"
    }
   ],
   "source": [
    "# dummy data 생성 \n",
    "\n",
    "df = pd.DataFrame(np.random.randint(0, 100, size=(1000, 10)), columns=[\"id\",\"crawling_date\",\"sales_3days\",\"prd_rank\",\"prd_name\", \"price\", \"ctg_2_name\", \"brand\", \"score\", \"delivery_fee\"])\n",
    "\n",
    "# 임의의 datetime으로 \n",
    "datetimes = [] \n",
    "dtobj = datetime(2020,1,1)\n",
    "for i in range(1000): \n",
    "    datetimes.append(dtobj) \n",
    "    dtobj = dtobj + timedelta(days=1) \n",
    "\n",
    "df[\"crawling_date\"] = datetimes \n",
    "\n",
    "#예시를 위해서 id 통일 \n",
    "df[\"id\"] = 1 \n",
    "\n",
    "df"
   ]
  },
  {
   "cell_type": "code",
   "execution_count": 46,
   "id": "bf125d05-4ea3-492e-b327-5dab9bc0da80",
   "metadata": {},
   "outputs": [],
   "source": [
    "# clip sales values \n",
    "df[[\"sales_3days\"]] = df[[\"sales_3days\"]].clip(0,)\n",
    "df[[\"sales_3days\"]] = df[[\"sales_3days\"]].apply(lambda x: np.log1p(x))"
   ]
  },
  {
   "cell_type": "code",
   "execution_count": 47,
   "id": "bcaef6f7-a655-4dbc-8a2a-c9aea04c6271",
   "metadata": {},
   "outputs": [
    {
     "data": {
      "text/html": [
       "<div>\n",
       "<style scoped>\n",
       "    .dataframe tbody tr th:only-of-type {\n",
       "        vertical-align: middle;\n",
       "    }\n",
       "\n",
       "    .dataframe tbody tr th {\n",
       "        vertical-align: top;\n",
       "    }\n",
       "\n",
       "    .dataframe thead th {\n",
       "        text-align: right;\n",
       "    }\n",
       "</style>\n",
       "<table border=\"1\" class=\"dataframe\">\n",
       "  <thead>\n",
       "    <tr style=\"text-align: right;\">\n",
       "      <th></th>\n",
       "      <th>id</th>\n",
       "      <th>crawling_date</th>\n",
       "      <th>sales_3days</th>\n",
       "      <th>prd_rank</th>\n",
       "      <th>prd_name</th>\n",
       "      <th>price</th>\n",
       "      <th>ctg_2_name</th>\n",
       "      <th>brand</th>\n",
       "      <th>score</th>\n",
       "      <th>delivery_fee</th>\n",
       "    </tr>\n",
       "  </thead>\n",
       "  <tbody>\n",
       "    <tr>\n",
       "      <th>0</th>\n",
       "      <td>1</td>\n",
       "      <td>2020-01-01</td>\n",
       "      <td>4.356709</td>\n",
       "      <td>53</td>\n",
       "      <td>42</td>\n",
       "      <td>74</td>\n",
       "      <td>99</td>\n",
       "      <td>87</td>\n",
       "      <td>65</td>\n",
       "      <td>5</td>\n",
       "    </tr>\n",
       "    <tr>\n",
       "      <th>1</th>\n",
       "      <td>1</td>\n",
       "      <td>2020-01-02</td>\n",
       "      <td>3.891820</td>\n",
       "      <td>52</td>\n",
       "      <td>94</td>\n",
       "      <td>92</td>\n",
       "      <td>99</td>\n",
       "      <td>56</td>\n",
       "      <td>49</td>\n",
       "      <td>31</td>\n",
       "    </tr>\n",
       "    <tr>\n",
       "      <th>2</th>\n",
       "      <td>1</td>\n",
       "      <td>2020-01-03</td>\n",
       "      <td>3.258097</td>\n",
       "      <td>78</td>\n",
       "      <td>67</td>\n",
       "      <td>63</td>\n",
       "      <td>42</td>\n",
       "      <td>48</td>\n",
       "      <td>27</td>\n",
       "      <td>44</td>\n",
       "    </tr>\n",
       "    <tr>\n",
       "      <th>3</th>\n",
       "      <td>1</td>\n",
       "      <td>2020-01-04</td>\n",
       "      <td>4.477337</td>\n",
       "      <td>0</td>\n",
       "      <td>21</td>\n",
       "      <td>14</td>\n",
       "      <td>18</td>\n",
       "      <td>37</td>\n",
       "      <td>61</td>\n",
       "      <td>97</td>\n",
       "    </tr>\n",
       "    <tr>\n",
       "      <th>4</th>\n",
       "      <td>1</td>\n",
       "      <td>2020-01-05</td>\n",
       "      <td>4.304065</td>\n",
       "      <td>76</td>\n",
       "      <td>38</td>\n",
       "      <td>26</td>\n",
       "      <td>51</td>\n",
       "      <td>93</td>\n",
       "      <td>73</td>\n",
       "      <td>55</td>\n",
       "    </tr>\n",
       "    <tr>\n",
       "      <th>...</th>\n",
       "      <td>...</td>\n",
       "      <td>...</td>\n",
       "      <td>...</td>\n",
       "      <td>...</td>\n",
       "      <td>...</td>\n",
       "      <td>...</td>\n",
       "      <td>...</td>\n",
       "      <td>...</td>\n",
       "      <td>...</td>\n",
       "      <td>...</td>\n",
       "    </tr>\n",
       "    <tr>\n",
       "      <th>995</th>\n",
       "      <td>1</td>\n",
       "      <td>2022-09-22</td>\n",
       "      <td>4.406719</td>\n",
       "      <td>36</td>\n",
       "      <td>86</td>\n",
       "      <td>42</td>\n",
       "      <td>57</td>\n",
       "      <td>85</td>\n",
       "      <td>51</td>\n",
       "      <td>16</td>\n",
       "    </tr>\n",
       "    <tr>\n",
       "      <th>996</th>\n",
       "      <td>1</td>\n",
       "      <td>2022-09-23</td>\n",
       "      <td>4.234107</td>\n",
       "      <td>28</td>\n",
       "      <td>44</td>\n",
       "      <td>28</td>\n",
       "      <td>7</td>\n",
       "      <td>41</td>\n",
       "      <td>6</td>\n",
       "      <td>30</td>\n",
       "    </tr>\n",
       "    <tr>\n",
       "      <th>997</th>\n",
       "      <td>1</td>\n",
       "      <td>2022-09-24</td>\n",
       "      <td>0.000000</td>\n",
       "      <td>99</td>\n",
       "      <td>39</td>\n",
       "      <td>64</td>\n",
       "      <td>22</td>\n",
       "      <td>90</td>\n",
       "      <td>66</td>\n",
       "      <td>13</td>\n",
       "    </tr>\n",
       "    <tr>\n",
       "      <th>998</th>\n",
       "      <td>1</td>\n",
       "      <td>2022-09-25</td>\n",
       "      <td>3.871201</td>\n",
       "      <td>83</td>\n",
       "      <td>80</td>\n",
       "      <td>39</td>\n",
       "      <td>82</td>\n",
       "      <td>27</td>\n",
       "      <td>77</td>\n",
       "      <td>19</td>\n",
       "    </tr>\n",
       "    <tr>\n",
       "      <th>999</th>\n",
       "      <td>1</td>\n",
       "      <td>2022-09-26</td>\n",
       "      <td>4.521789</td>\n",
       "      <td>69</td>\n",
       "      <td>87</td>\n",
       "      <td>18</td>\n",
       "      <td>24</td>\n",
       "      <td>98</td>\n",
       "      <td>60</td>\n",
       "      <td>59</td>\n",
       "    </tr>\n",
       "  </tbody>\n",
       "</table>\n",
       "<p>1000 rows × 10 columns</p>\n",
       "</div>"
      ],
      "text/plain": [
       "     id crawling_date  sales_3days  prd_rank  prd_name  price  ctg_2_name  \\\n",
       "0     1    2020-01-01     4.356709        53        42     74          99   \n",
       "1     1    2020-01-02     3.891820        52        94     92          99   \n",
       "2     1    2020-01-03     3.258097        78        67     63          42   \n",
       "3     1    2020-01-04     4.477337         0        21     14          18   \n",
       "4     1    2020-01-05     4.304065        76        38     26          51   \n",
       "..   ..           ...          ...       ...       ...    ...         ...   \n",
       "995   1    2022-09-22     4.406719        36        86     42          57   \n",
       "996   1    2022-09-23     4.234107        28        44     28           7   \n",
       "997   1    2022-09-24     0.000000        99        39     64          22   \n",
       "998   1    2022-09-25     3.871201        83        80     39          82   \n",
       "999   1    2022-09-26     4.521789        69        87     18          24   \n",
       "\n",
       "     brand  score  delivery_fee  \n",
       "0       87     65             5  \n",
       "1       56     49            31  \n",
       "2       48     27            44  \n",
       "3       37     61            97  \n",
       "4       93     73            55  \n",
       "..     ...    ...           ...  \n",
       "995     85     51            16  \n",
       "996     41      6            30  \n",
       "997     90     66            13  \n",
       "998     27     77            19  \n",
       "999     98     60            59  \n",
       "\n",
       "[1000 rows x 10 columns]"
      ]
     },
     "execution_count": 47,
     "metadata": {},
     "output_type": "execute_result"
    }
   ],
   "source": [
    "df"
   ]
  },
  {
   "cell_type": "code",
   "execution_count": 48,
   "id": "470f5fc2-4085-4989-9451-43f33004a66b",
   "metadata": {},
   "outputs": [],
   "source": [
    "# 시계열 예측을 위해서 shift   \n",
    "lookback_window, lookahead_window = 28, 28 \n",
    "\n",
    "for i in range(1, lookback_window+1):\n",
    "    df[f\"shift_{i}\"] = df.groupby(\"id\")[\"sales_3days\"].shift(i)"
   ]
  },
  {
   "cell_type": "code",
   "execution_count": 49,
   "id": "47d5636f-0549-4efc-9283-7687d4d098df",
   "metadata": {},
   "outputs": [
    {
     "data": {
      "text/plain": [
       "((366, 38), (365, 38), (269, 38))"
      ]
     },
     "execution_count": 49,
     "metadata": {},
     "output_type": "execute_result"
    }
   ],
   "source": [
    "train_df = df[df['crawling_date'] < datetime(2021,1,1)]\n",
    "val_df = df[(df['crawling_date'] >= datetime(2021,1,1)) & (df['crawling_date'] < datetime(2022,1,1))]\n",
    "test_df = df[df['crawling_date'] >= datetime(2022,1,1)]\n",
    "\n",
    "train_df.shape, val_df.shape, test_df.shape   "
   ]
  },
  {
   "cell_type": "code",
   "execution_count": 35,
   "id": "35a731db-6a60-4fb4-bf31-cd290d14a9ef",
   "metadata": {},
   "outputs": [
    {
     "data": {
      "text/plain": [
       "'\\ntest_df = test_df.query(\"id in @id_list\")\\nle = LabelEncoder()\\nle.fit(train_df[\"id\"])\\ntrain_df[\"id\"] = le.transform(train_df[\"id\"])\\ntest_df[\"id\"] = le.transform(test_df[\"id\"])\\n'"
      ]
     },
     "execution_count": 35,
     "metadata": {},
     "output_type": "execute_result"
    }
   ],
   "source": [
    "# 나중에 실제 데이터를 이용할때 이 부분은 원래 하시던대로 실행하시면 됩니다. Validation data도 추가했으니 비슷하게 하시면됩니다. \n",
    "'''\n",
    "test_df = test_df.query(\"id in @id_list\")\n",
    "le = LabelEncoder()\n",
    "le.fit(train_df[\"id\"])\n",
    "train_df[\"id\"] = le.transform(train_df[\"id\"])\n",
    "test_df[\"id\"] = le.transform(test_df[\"id\"])\n",
    "''' "
   ]
  },
  {
   "cell_type": "code",
   "execution_count": 53,
   "id": "80406185-63e3-494a-9380-83b0700b3566",
   "metadata": {},
   "outputs": [
    {
     "data": {
      "text/plain": [
       "((366, 28), (365, 28), (269, 28))"
      ]
     },
     "execution_count": 53,
     "metadata": {},
     "output_type": "execute_result"
    }
   ],
   "source": [
    "train_df = train_df.iloc[:,10:]\n",
    "val_df = val_df.iloc[:, 10:] \n",
    "test_df = test_df.iloc[:,10:]\n",
    "\n",
    "train_df.shape, val_df.shape, test_df.shape"
   ]
  },
  {
   "cell_type": "code",
   "execution_count": 54,
   "id": "3ea11226-f5b0-4524-8498-90bec16d87fd",
   "metadata": {},
   "outputs": [
    {
     "data": {
      "text/plain": [
       "((338, 28), (365, 28), (269, 28))"
      ]
     },
     "execution_count": 54,
     "metadata": {},
     "output_type": "execute_result"
    }
   ],
   "source": [
    "train_df.dropna(axis=0, inplace=True) \n",
    "val_df.dropna(axis=0, inplace=True) \n",
    "test_df.dropna(axis=0, inplace=True)  \n",
    "\n",
    "train_df.shape, val_df.shape, test_df.shape"
   ]
  },
  {
   "cell_type": "code",
   "execution_count": 55,
   "id": "b6431c44-b57c-49d2-a94d-16c1d47c3800",
   "metadata": {},
   "outputs": [],
   "source": [
    "# normalize data \n",
    "norm = np.max(train_df) \n",
    "train_df = train_df / norm  \n",
    "val_df = val_df / norm \n",
    "test_df = test_df / norm \n",
    "\n",
    "train_df = train_df.values  \n",
    "val_df = val_df.values \n",
    "test_df = test_df.values"
   ]
  },
  {
   "cell_type": "code",
   "execution_count": 65,
   "id": "f471e304-5c5a-430c-8ed2-e499e23797b8",
   "metadata": {},
   "outputs": [
    {
     "data": {
      "text/plain": [
       "shift_1     4.60517\n",
       "shift_2     4.60517\n",
       "shift_3     4.60517\n",
       "shift_4     4.60517\n",
       "shift_5     4.60517\n",
       "shift_6     4.60517\n",
       "shift_7     4.60517\n",
       "shift_8     4.60517\n",
       "shift_9     4.60517\n",
       "shift_10    4.60517\n",
       "shift_11    4.60517\n",
       "shift_12    4.60517\n",
       "shift_13    4.60517\n",
       "shift_14    4.60517\n",
       "shift_15    4.60517\n",
       "shift_16    4.60517\n",
       "shift_17    4.60517\n",
       "shift_18    4.60517\n",
       "shift_19    4.60517\n",
       "shift_20    4.60517\n",
       "shift_21    4.60517\n",
       "shift_22    4.60517\n",
       "shift_23    4.60517\n",
       "shift_24    4.60517\n",
       "shift_25    4.60517\n",
       "shift_26    4.60517\n",
       "shift_27    4.60517\n",
       "shift_28    4.60517\n",
       "dtype: float64"
      ]
     },
     "execution_count": 65,
     "metadata": {},
     "output_type": "execute_result"
    }
   ],
   "source": [
    "norm"
   ]
  },
  {
   "cell_type": "code",
   "execution_count": 56,
   "id": "268cb98e-a108-48eb-bf79-8e59eefd3456",
   "metadata": {},
   "outputs": [
    {
     "data": {
      "application/vnd.jupyter.widget-view+json": {
       "model_id": "b179753591e749329ab3a2d9587c15b9",
       "version_major": 2,
       "version_minor": 0
      },
      "text/plain": [
       "  0%|          | 0/282 [00:00<?, ?it/s]"
      ]
     },
     "metadata": {},
     "output_type": "display_data"
    },
    {
     "data": {
      "text/plain": [
       "(torch.Size([282, 28, 1]), torch.Size([282, 28, 1]))"
      ]
     },
     "execution_count": 56,
     "metadata": {},
     "output_type": "execute_result"
    }
   ],
   "source": [
    "X_train, Y_train = [], [] \n",
    "X_val, Y_val = [], [] \n",
    "X_test, Y_test = [], []  \n",
    "\n",
    "for i in tqdm(range(28, train_df.shape[0]-lookback_window), position=0, leave=True): \n",
    "    X_train.append(train_df[i].reshape((lookback_window, 1))) \n",
    "    Y_train.append(train_df[i+28].reshape((lookahead_window, 1))) \n",
    "    \n",
    "X_train = np.array(X_train, dtype=np.float32)\n",
    "Y_train = np.array(Y_train, dtype=np.float32)\n",
    "\n",
    "# convert to torch tensor \n",
    "X_train = torch.from_numpy(X_train) \n",
    "Y_train = torch.from_numpy(Y_train) \n",
    "\n",
    "X_train.shape, Y_train.shape"
   ]
  },
  {
   "cell_type": "code",
   "execution_count": 57,
   "id": "a0b44958-1538-4b34-836b-eb2f348ae53a",
   "metadata": {},
   "outputs": [
    {
     "data": {
      "application/vnd.jupyter.widget-view+json": {
       "model_id": "8237a75607354503bd59c4e2b1fb2346",
       "version_major": 2,
       "version_minor": 0
      },
      "text/plain": [
       "  0%|          | 0/309 [00:00<?, ?it/s]"
      ]
     },
     "metadata": {},
     "output_type": "display_data"
    },
    {
     "data": {
      "text/plain": [
       "(torch.Size([309, 28, 1]), torch.Size([309, 28, 1]))"
      ]
     },
     "execution_count": 57,
     "metadata": {},
     "output_type": "execute_result"
    }
   ],
   "source": [
    "for i in tqdm(range(28, val_df.shape[0]-lookback_window), position=0, leave=True): \n",
    "    X_val.append(val_df[i].reshape((lookback_window, 1))) \n",
    "    Y_val.append(val_df[i+28].reshape((lookahead_window, 1)))  \n",
    "    \n",
    "X_val = np.array(X_val, dtype=np.float32)\n",
    "Y_val = np.array(Y_val, dtype=np.float32)\n",
    "\n",
    "# convert to torch tensor \n",
    "X_val = torch.from_numpy(X_val) \n",
    "Y_val = torch.from_numpy(Y_val) \n",
    "\n",
    "X_val.shape, Y_val.shape"
   ]
  },
  {
   "cell_type": "code",
   "execution_count": 58,
   "id": "c0cb43bd-36b4-4df8-8d3e-191e3b5c8008",
   "metadata": {},
   "outputs": [
    {
     "data": {
      "application/vnd.jupyter.widget-view+json": {
       "model_id": "fbd857a2c17d43a788c7cc61d3b46770",
       "version_major": 2,
       "version_minor": 0
      },
      "text/plain": [
       "  0%|          | 0/213 [00:00<?, ?it/s]"
      ]
     },
     "metadata": {},
     "output_type": "display_data"
    },
    {
     "data": {
      "text/plain": [
       "(torch.Size([213, 28, 1]), torch.Size([213, 28, 1]))"
      ]
     },
     "execution_count": 58,
     "metadata": {},
     "output_type": "execute_result"
    }
   ],
   "source": [
    "for i in tqdm(range(28, test_df.shape[0]-lookback_window), position=0, leave=True): \n",
    "    X_test.append(test_df[i][::-1].reshape((lookback_window, 1))) \n",
    "    Y_test.append(test_df[i+28][::-1].reshape((lookahead_window, 1))) \n",
    "\n",
    "X_test = np.array(X_test, dtype=np.float32)\n",
    "Y_test = np.array(Y_test, dtype=np.float32)\n",
    "\n",
    "# convert to torch tensor \n",
    "X_test = torch.from_numpy(X_test) \n",
    "Y_test = torch.from_numpy(Y_test) \n",
    "\n",
    "X_test.shape, Y_test.shape"
   ]
  },
  {
   "cell_type": "code",
   "execution_count": 59,
   "id": "c66bfd6b-bfdb-4c02-a72d-766a54d2de98",
   "metadata": {},
   "outputs": [],
   "source": [
    "batch_size = 32 \n",
    "\n",
    "train_data = TensorDataset(X_train, Y_train) \n",
    "train_sampler = RandomSampler(train_data) \n",
    "train_dataloader = DataLoader(train_data, sampler=train_sampler, batch_size=batch_size) \n",
    "\n",
    "val_data = TensorDataset(X_val, Y_val) \n",
    "val_sampler = SequentialSampler(val_data) \n",
    "val_dataloader = DataLoader(val_data, sampler=val_sampler, batch_size=batch_size) \n",
    "\n",
    "test_data = TensorDataset(X_test, Y_test) \n",
    "test_sampler = SequentialSampler(test_data) \n",
    "test_dataloader = DataLoader(test_data, sampler=test_sampler, batch_size=batch_size) "
   ]
  },
  {
   "cell_type": "code",
   "execution_count": 60,
   "id": "6bb839b3-c183-4e69-8902-1c49f48ec2fb",
   "metadata": {},
   "outputs": [],
   "source": [
    "class lstm_encoder(nn.Module): \n",
    "    def __init__(self, input_size, hidden_size, num_layers=1): \n",
    "        super(lstm_encoder, self).__init__() \n",
    "        self.input_size = input_size \n",
    "        self.hidden_size = hidden_size \n",
    "        self.num_layers = num_layers \n",
    "        self.lstm = nn.LSTM(input_size=self.input_size, \n",
    "                            hidden_size=self.hidden_size,\n",
    "                            num_layers=self.num_layers,\n",
    "                            batch_first=True) \n",
    "    \n",
    "    def forward(self, x): \n",
    "        lstm_out, lstm_hidden = self.lstm(x) \n",
    "        return lstm_out, lstm_hidden "
   ]
  },
  {
   "cell_type": "code",
   "execution_count": 61,
   "id": "e4c6dc87-2c36-4321-8278-0161fa2c75d8",
   "metadata": {},
   "outputs": [],
   "source": [
    "class lstm_decoder(nn.Module): \n",
    "    def __init__(self, input_size, hidden_size, num_layers=1): \n",
    "        super(lstm_decoder, self).__init__() \n",
    "        self.input_size = input_size \n",
    "        self.hidden_size = hidden_size \n",
    "        self.num_layers = num_layers \n",
    "        self.lstm = nn.LSTM(input_size=self.input_size, \n",
    "                            hidden_size=self.hidden_size, \n",
    "                            num_layers=self.num_layers,\n",
    "                            batch_first=True) \n",
    "        self.linear = nn.Linear(hidden_size, input_size) \n",
    "    \n",
    "    def forward(self, x, encoder_hidden_states): \n",
    "        lstm_out, self.hidden = self.lstm(x.unsqueeze(-1), encoder_hidden_states) \n",
    "        output = self.linear(lstm_out) \n",
    "        return output, self.hidden "
   ]
  },
  {
   "cell_type": "code",
   "execution_count": 62,
   "id": "f2923759-92c4-4478-aea0-c16014e07dec",
   "metadata": {},
   "outputs": [],
   "source": [
    "class lstm_encoder_decoder(nn.Module): \n",
    "    def __init__(self, input_size, hidden_size): \n",
    "        super(lstm_encoder_decoder, self).__init__() \n",
    "        self.input_size = input_size \n",
    "        self.hidden_size = hidden_size \n",
    "        self.encoder = lstm_encoder(input_size=self.input_size, hidden_size=self.hidden_size) \n",
    "        self.decoder = lstm_decoder(input_size=self.input_size, hidden_size=self.hidden_size) \n",
    "        \n",
    "    def forward(self, inputs, targets, target_len, teacher_forcing_ratio):  \n",
    "        batch_size = inputs.shape[0] \n",
    "        input_size = inputs.shape[2] \n",
    "        outputs = torch.zeros(batch_size, target_len, input_size) \n",
    "        _, hidden = self.encoder(inputs) \n",
    "        decoder_input = inputs[:, -1, :] \n",
    "        for t in range(target_len): \n",
    "            out, hidden = self.decoder(decoder_input, hidden) \n",
    "            out = out.squeeze(1) \n",
    "            # apply teacher forcing \n",
    "            if random.random() < teacher_forcing_ratio: \n",
    "                decoder_input = targets[:, t, :] \n",
    "            else: \n",
    "                decoder_input = out \n",
    "            outputs[:, t, :] = out \n",
    "        return outputs \n",
    "    \n",
    "    def predict(self, inputs, target_len): \n",
    "        self.eval() \n",
    "        batch_size = inputs.shape[0] \n",
    "        input_size = inputs.shape[2] \n",
    "        outputs = torch.zeros(batch_size, target_len, input_size) \n",
    "        _, hidden = self.encoder(inputs) \n",
    "        decoder_input = inputs[:, -1, :] \n",
    "        for t in range(target_len): \n",
    "            out, hidden = self.decoder(decoder_input, hidden) \n",
    "            out = out.squeeze(1) \n",
    "            decoder_input = out \n",
    "            outputs[:, t, :] = out \n",
    "        return outputs.detach() "
   ]
  },
  {
   "cell_type": "code",
   "execution_count": 63,
   "id": "b36b9169-4bfe-4076-a550-ac8858cfb0d2",
   "metadata": {},
   "outputs": [],
   "source": [
    "device = torch.device(\"cuda:0\" if torch.cuda.is_available() else \"cpu\") \n",
    "\n",
    "model = lstm_encoder_decoder(input_size=1, hidden_size=32).to(device) "
   ]
  },
  {
   "cell_type": "code",
   "execution_count": 78,
   "id": "8281e6aa-ddc7-4e09-830c-88c635819bc0",
   "metadata": {},
   "outputs": [
    {
     "data": {
      "application/vnd.jupyter.widget-view+json": {
       "model_id": "a94b9c4ee763449ab81f8a7970e61512",
       "version_major": 2,
       "version_minor": 0
      },
      "text/plain": [
       "Epochs:   0%|          | 0/20 [00:00<?, ?it/s]"
      ]
     },
     "metadata": {},
     "output_type": "display_data"
    },
    {
     "data": {
      "application/vnd.jupyter.widget-view+json": {
       "model_id": "8cf19d403bbf4a5c9cdbb3a33e036643",
       "version_major": 2,
       "version_minor": 0
      },
      "text/plain": [
       "  0%|          | 0/9 [00:00<?, ?batch/s]"
      ]
     },
     "metadata": {},
     "output_type": "display_data"
    },
    {
     "data": {
      "application/vnd.jupyter.widget-view+json": {
       "model_id": "dd6f12ba08834513aaaeab8cdc01618c",
       "version_major": 2,
       "version_minor": 0
      },
      "text/plain": [
       "  0%|          | 0/10 [00:00<?, ?it/s]"
      ]
     },
     "metadata": {},
     "output_type": "display_data"
    },
    {
     "data": {
      "application/vnd.jupyter.widget-view+json": {
       "model_id": "04d4ac4e74f746c6838c5070b2270530",
       "version_major": 2,
       "version_minor": 0
      },
      "text/plain": [
       "  0%|          | 0/9 [00:00<?, ?batch/s]"
      ]
     },
     "metadata": {},
     "output_type": "display_data"
    },
    {
     "data": {
      "application/vnd.jupyter.widget-view+json": {
       "model_id": "0c41ee5fdc7746f5973aa44666710c55",
       "version_major": 2,
       "version_minor": 0
      },
      "text/plain": [
       "  0%|          | 0/10 [00:00<?, ?it/s]"
      ]
     },
     "metadata": {},
     "output_type": "display_data"
    },
    {
     "data": {
      "application/vnd.jupyter.widget-view+json": {
       "model_id": "ff0dc3f69a494b91986757e8c1fccbbd",
       "version_major": 2,
       "version_minor": 0
      },
      "text/plain": [
       "  0%|          | 0/9 [00:00<?, ?batch/s]"
      ]
     },
     "metadata": {},
     "output_type": "display_data"
    },
    {
     "data": {
      "application/vnd.jupyter.widget-view+json": {
       "model_id": "135359f916f04af29feade1af010400d",
       "version_major": 2,
       "version_minor": 0
      },
      "text/plain": [
       "  0%|          | 0/10 [00:00<?, ?it/s]"
      ]
     },
     "metadata": {},
     "output_type": "display_data"
    },
    {
     "data": {
      "application/vnd.jupyter.widget-view+json": {
       "model_id": "ecc82343d0d444798fcfb95ed5ff0a55",
       "version_major": 2,
       "version_minor": 0
      },
      "text/plain": [
       "  0%|          | 0/9 [00:00<?, ?batch/s]"
      ]
     },
     "metadata": {},
     "output_type": "display_data"
    },
    {
     "data": {
      "application/vnd.jupyter.widget-view+json": {
       "model_id": "192474e13f7c4346b4e62fd4ce71e09e",
       "version_major": 2,
       "version_minor": 0
      },
      "text/plain": [
       "  0%|          | 0/10 [00:00<?, ?it/s]"
      ]
     },
     "metadata": {},
     "output_type": "display_data"
    },
    {
     "data": {
      "application/vnd.jupyter.widget-view+json": {
       "model_id": "b3a32262457b478392dcb6a6f0e5b8a9",
       "version_major": 2,
       "version_minor": 0
      },
      "text/plain": [
       "  0%|          | 0/9 [00:00<?, ?batch/s]"
      ]
     },
     "metadata": {},
     "output_type": "display_data"
    },
    {
     "data": {
      "application/vnd.jupyter.widget-view+json": {
       "model_id": "cd32708499f449e4a27f7a397f10dda5",
       "version_major": 2,
       "version_minor": 0
      },
      "text/plain": [
       "  0%|          | 0/10 [00:00<?, ?it/s]"
      ]
     },
     "metadata": {},
     "output_type": "display_data"
    },
    {
     "data": {
      "application/vnd.jupyter.widget-view+json": {
       "model_id": "fe922a7922954dc3a810954b2ae004a0",
       "version_major": 2,
       "version_minor": 0
      },
      "text/plain": [
       "  0%|          | 0/9 [00:00<?, ?batch/s]"
      ]
     },
     "metadata": {},
     "output_type": "display_data"
    },
    {
     "data": {
      "application/vnd.jupyter.widget-view+json": {
       "model_id": "f27291a8e7e84487bc0e6f54701aaca4",
       "version_major": 2,
       "version_minor": 0
      },
      "text/plain": [
       "  0%|          | 0/10 [00:00<?, ?it/s]"
      ]
     },
     "metadata": {},
     "output_type": "display_data"
    },
    {
     "data": {
      "application/vnd.jupyter.widget-view+json": {
       "model_id": "78a9fff266da4f17b940ba7c477b5815",
       "version_major": 2,
       "version_minor": 0
      },
      "text/plain": [
       "  0%|          | 0/9 [00:00<?, ?batch/s]"
      ]
     },
     "metadata": {},
     "output_type": "display_data"
    },
    {
     "data": {
      "application/vnd.jupyter.widget-view+json": {
       "model_id": "be1574e4f94d4d4b9224f926a39fd147",
       "version_major": 2,
       "version_minor": 0
      },
      "text/plain": [
       "  0%|          | 0/10 [00:00<?, ?it/s]"
      ]
     },
     "metadata": {},
     "output_type": "display_data"
    },
    {
     "data": {
      "application/vnd.jupyter.widget-view+json": {
       "model_id": "e3a397a78bd147feab5293ecd067c156",
       "version_major": 2,
       "version_minor": 0
      },
      "text/plain": [
       "  0%|          | 0/9 [00:00<?, ?batch/s]"
      ]
     },
     "metadata": {},
     "output_type": "display_data"
    },
    {
     "data": {
      "application/vnd.jupyter.widget-view+json": {
       "model_id": "2d49b688a2f24442b26dc143f1159701",
       "version_major": 2,
       "version_minor": 0
      },
      "text/plain": [
       "  0%|          | 0/10 [00:00<?, ?it/s]"
      ]
     },
     "metadata": {},
     "output_type": "display_data"
    },
    {
     "data": {
      "application/vnd.jupyter.widget-view+json": {
       "model_id": "c157c4317f1640b2928a239bf6505180",
       "version_major": 2,
       "version_minor": 0
      },
      "text/plain": [
       "  0%|          | 0/9 [00:00<?, ?batch/s]"
      ]
     },
     "metadata": {},
     "output_type": "display_data"
    },
    {
     "data": {
      "application/vnd.jupyter.widget-view+json": {
       "model_id": "420ee05c04bf4d15afcec5fca19489c6",
       "version_major": 2,
       "version_minor": 0
      },
      "text/plain": [
       "  0%|          | 0/10 [00:00<?, ?it/s]"
      ]
     },
     "metadata": {},
     "output_type": "display_data"
    },
    {
     "data": {
      "application/vnd.jupyter.widget-view+json": {
       "model_id": "b88a11a5fa9049b1b689296b53175742",
       "version_major": 2,
       "version_minor": 0
      },
      "text/plain": [
       "  0%|          | 0/9 [00:00<?, ?batch/s]"
      ]
     },
     "metadata": {},
     "output_type": "display_data"
    },
    {
     "data": {
      "application/vnd.jupyter.widget-view+json": {
       "model_id": "7afd61d5522c4137b75c02601036dc36",
       "version_major": 2,
       "version_minor": 0
      },
      "text/plain": [
       "  0%|          | 0/10 [00:00<?, ?it/s]"
      ]
     },
     "metadata": {},
     "output_type": "display_data"
    },
    {
     "data": {
      "application/vnd.jupyter.widget-view+json": {
       "model_id": "1fd566fc23c347c396767fe7c1116461",
       "version_major": 2,
       "version_minor": 0
      },
      "text/plain": [
       "  0%|          | 0/9 [00:00<?, ?batch/s]"
      ]
     },
     "metadata": {},
     "output_type": "display_data"
    },
    {
     "data": {
      "application/vnd.jupyter.widget-view+json": {
       "model_id": "4ca21d313916495f90fd4c5ae12a2edf",
       "version_major": 2,
       "version_minor": 0
      },
      "text/plain": [
       "  0%|          | 0/10 [00:00<?, ?it/s]"
      ]
     },
     "metadata": {},
     "output_type": "display_data"
    },
    {
     "data": {
      "application/vnd.jupyter.widget-view+json": {
       "model_id": "27b5f03c14af4b1eb71f12f312d64c69",
       "version_major": 2,
       "version_minor": 0
      },
      "text/plain": [
       "  0%|          | 0/9 [00:00<?, ?batch/s]"
      ]
     },
     "metadata": {},
     "output_type": "display_data"
    },
    {
     "data": {
      "application/vnd.jupyter.widget-view+json": {
       "model_id": "4f85f16ecc7e49298fe605cb6a99ad68",
       "version_major": 2,
       "version_minor": 0
      },
      "text/plain": [
       "  0%|          | 0/10 [00:00<?, ?it/s]"
      ]
     },
     "metadata": {},
     "output_type": "display_data"
    },
    {
     "data": {
      "application/vnd.jupyter.widget-view+json": {
       "model_id": "aefd82a9cfd746e2b1b6914455856841",
       "version_major": 2,
       "version_minor": 0
      },
      "text/plain": [
       "  0%|          | 0/9 [00:00<?, ?batch/s]"
      ]
     },
     "metadata": {},
     "output_type": "display_data"
    },
    {
     "data": {
      "application/vnd.jupyter.widget-view+json": {
       "model_id": "f966482fbecb4d74bcdd24e22f3fb09d",
       "version_major": 2,
       "version_minor": 0
      },
      "text/plain": [
       "  0%|          | 0/10 [00:00<?, ?it/s]"
      ]
     },
     "metadata": {},
     "output_type": "display_data"
    },
    {
     "data": {
      "application/vnd.jupyter.widget-view+json": {
       "model_id": "e08089bd05f34fca8af8b7aeebdd7827",
       "version_major": 2,
       "version_minor": 0
      },
      "text/plain": [
       "  0%|          | 0/9 [00:00<?, ?batch/s]"
      ]
     },
     "metadata": {},
     "output_type": "display_data"
    },
    {
     "data": {
      "application/vnd.jupyter.widget-view+json": {
       "model_id": "7af73cde0e544b0a94ac86c954363ef7",
       "version_major": 2,
       "version_minor": 0
      },
      "text/plain": [
       "  0%|          | 0/10 [00:00<?, ?it/s]"
      ]
     },
     "metadata": {},
     "output_type": "display_data"
    },
    {
     "data": {
      "application/vnd.jupyter.widget-view+json": {
       "model_id": "7cb390a65bee4e2b910aa6823bdb27dd",
       "version_major": 2,
       "version_minor": 0
      },
      "text/plain": [
       "  0%|          | 0/9 [00:00<?, ?batch/s]"
      ]
     },
     "metadata": {},
     "output_type": "display_data"
    },
    {
     "data": {
      "application/vnd.jupyter.widget-view+json": {
       "model_id": "7881388641c94821af366d8f0ea2580d",
       "version_major": 2,
       "version_minor": 0
      },
      "text/plain": [
       "  0%|          | 0/10 [00:00<?, ?it/s]"
      ]
     },
     "metadata": {},
     "output_type": "display_data"
    },
    {
     "data": {
      "application/vnd.jupyter.widget-view+json": {
       "model_id": "b31f6fe8fcc14bfc8028aca474e07cb3",
       "version_major": 2,
       "version_minor": 0
      },
      "text/plain": [
       "  0%|          | 0/9 [00:00<?, ?batch/s]"
      ]
     },
     "metadata": {},
     "output_type": "display_data"
    },
    {
     "data": {
      "application/vnd.jupyter.widget-view+json": {
       "model_id": "3ecbcd47dad946e4bf7c2902e33499ee",
       "version_major": 2,
       "version_minor": 0
      },
      "text/plain": [
       "  0%|          | 0/10 [00:00<?, ?it/s]"
      ]
     },
     "metadata": {},
     "output_type": "display_data"
    },
    {
     "data": {
      "application/vnd.jupyter.widget-view+json": {
       "model_id": "3382de99d8bd499e8fc3c0a0f0a55ab1",
       "version_major": 2,
       "version_minor": 0
      },
      "text/plain": [
       "  0%|          | 0/9 [00:00<?, ?batch/s]"
      ]
     },
     "metadata": {},
     "output_type": "display_data"
    },
    {
     "data": {
      "application/vnd.jupyter.widget-view+json": {
       "model_id": "a090b6a30761496283bdda44db468a46",
       "version_major": 2,
       "version_minor": 0
      },
      "text/plain": [
       "  0%|          | 0/10 [00:00<?, ?it/s]"
      ]
     },
     "metadata": {},
     "output_type": "display_data"
    },
    {
     "data": {
      "application/vnd.jupyter.widget-view+json": {
       "model_id": "75451393474b43e6a5d99d7cf5b9ed3f",
       "version_major": 2,
       "version_minor": 0
      },
      "text/plain": [
       "  0%|          | 0/9 [00:00<?, ?batch/s]"
      ]
     },
     "metadata": {},
     "output_type": "display_data"
    },
    {
     "data": {
      "application/vnd.jupyter.widget-view+json": {
       "model_id": "c049dda5c97749cf91b3a0112d0c687e",
       "version_major": 2,
       "version_minor": 0
      },
      "text/plain": [
       "  0%|          | 0/10 [00:00<?, ?it/s]"
      ]
     },
     "metadata": {},
     "output_type": "display_data"
    },
    {
     "data": {
      "application/vnd.jupyter.widget-view+json": {
       "model_id": "f1dc2182d4804eb28246cfe0932c5019",
       "version_major": 2,
       "version_minor": 0
      },
      "text/plain": [
       "  0%|          | 0/9 [00:00<?, ?batch/s]"
      ]
     },
     "metadata": {},
     "output_type": "display_data"
    },
    {
     "data": {
      "application/vnd.jupyter.widget-view+json": {
       "model_id": "355035858ae54829a492555f2bd48603",
       "version_major": 2,
       "version_minor": 0
      },
      "text/plain": [
       "  0%|          | 0/10 [00:00<?, ?it/s]"
      ]
     },
     "metadata": {},
     "output_type": "display_data"
    },
    {
     "data": {
      "application/vnd.jupyter.widget-view+json": {
       "model_id": "b786108470b44005a23a92a4edc4ea62",
       "version_major": 2,
       "version_minor": 0
      },
      "text/plain": [
       "  0%|          | 0/9 [00:00<?, ?batch/s]"
      ]
     },
     "metadata": {},
     "output_type": "display_data"
    },
    {
     "data": {
      "application/vnd.jupyter.widget-view+json": {
       "model_id": "e6354b1a160144ba92ac2a0f5ca8c530",
       "version_major": 2,
       "version_minor": 0
      },
      "text/plain": [
       "  0%|          | 0/10 [00:00<?, ?it/s]"
      ]
     },
     "metadata": {},
     "output_type": "display_data"
    }
   ],
   "source": [
    "train_losses, val_losses = [], [] \n",
    "\n",
    "learning_rate = 0.01 \n",
    "epochs = 20 \n",
    "optimizer = optim.Adam(model.parameters(), lr=learning_rate) \n",
    "loss_func = nn.L1Loss() # MAE Loss \n",
    "total_steps = len(train_dataloader) * epochs \n",
    "scheduler = get_linear_schedule_with_warmup(optimizer, \n",
    "                                            num_warmup_steps=int(0.1*total_steps), \n",
    "                                            num_training_steps=total_steps)  \n",
    "\n",
    "best_val_loss = 9999999999\n",
    "\n",
    "\n",
    "model.train() \n",
    "for epoch_i in tqdm(range(epochs), desc=\"Epochs\", position=0, leave=True, total=epochs): \n",
    "    train_loss = 0 \n",
    "    model.train() \n",
    "    with tqdm(train_dataloader, unit=\"batch\") as tepoch: \n",
    "        for step, batch in enumerate(tepoch): \n",
    "            batch = tuple(t.to(device).float() for t in batch) \n",
    "            x, y = batch \n",
    "            outputs = model(x, y, lookahead_window, 0.6).to(device) \n",
    "            loss = loss_func(outputs, y)  \n",
    "            train_loss += loss.item() \n",
    "            loss.backward() \n",
    "            torch.nn.utils.clip_grad_norm_(model.parameters(), 1.0) \n",
    "            optimizer.step() \n",
    "            scheduler.step() \n",
    "            model.zero_grad() \n",
    "            tepoch.set_postfix(loss=train_loss / (step+1)) \n",
    "            time.sleep(0.1) \n",
    "        avg_train_loss = train_loss / len(train_dataloader) \n",
    "        train_losses.append(avg_train_loss) \n",
    "    val_loss = 0 \n",
    "    for x, y in tqdm(val_dataloader): \n",
    "        x = x.to(device).float() \n",
    "        predict = model.predict(x, lookahead_window) \n",
    "        predict = predict * norm[0]  \n",
    "        y = y.squeeze(2).detach().cpu().numpy()\n",
    "        predict = predict.squeeze(2).detach().cpu().numpy() \n",
    "        val_loss += mean_absolute_error(y, predict) \n",
    "    avg_val_loss = val_loss / len(val_dataloader)  \n",
    "    val_losses.append(avg_val_loss) \n",
    "    if best_val_loss > avg_val_loss: \n",
    "        best_val_loss = avg_val_loss \n",
    "        torch.save(model.state_dict(), \"seq2seq.pt\") \n"
   ]
  },
  {
   "cell_type": "code",
   "execution_count": 79,
   "id": "ce71862f-e2fb-4810-b26f-248e72b35996",
   "metadata": {},
   "outputs": [
    {
     "data": {
      "application/vnd.jupyter.widget-view+json": {
       "model_id": "098de6d4d386434a871fa93fddea92b5",
       "version_major": 2,
       "version_minor": 0
      },
      "text/plain": [
       "  0%|          | 0/7 [00:00<?, ?it/s]"
      ]
     },
     "metadata": {},
     "output_type": "display_data"
    },
    {
     "name": "stdout",
     "output_type": "stream",
     "text": [
      "Test MAE = 3.189077172960554\n"
     ]
    }
   ],
   "source": [
    "from sklearn.metrics import mean_absolute_error\n",
    "\n",
    "best_model = lstm_encoder_decoder(input_size=1, hidden_size=32).to(device) \n",
    "checkpoint = torch.load(\"seq2seq.pt\")\n",
    "best_model.load_state_dict(checkpoint) \n",
    "\n",
    "test_loss = 0\n",
    "\n",
    "for x, y in tqdm(test_dataloader): \n",
    "    x = x.to(device).float() \n",
    "    predict = model.predict(x, lookahead_window) \n",
    "    predict = predict * norm[0]  \n",
    "    y = y.squeeze(2).detach().cpu().numpy()\n",
    "    predict = predict.squeeze(2).detach().cpu().numpy() \n",
    "    test_loss += mean_absolute_error(y, predict) \n",
    "\n",
    "    \n",
    "avg_test_loss = test_loss / len(test_dataloader) \n",
    "\n",
    "print(f\"Test MAE = {avg_test_loss}\") "
   ]
  },
  {
   "cell_type": "code",
   "execution_count": null,
   "id": "c11249a4-003c-48c3-97ce-8553a66b8309",
   "metadata": {},
   "outputs": [],
   "source": []
  },
  {
   "cell_type": "code",
   "execution_count": null,
   "id": "ad095a26-3d10-484d-a0d7-321eb988dfae",
   "metadata": {},
   "outputs": [],
   "source": []
  },
  {
   "cell_type": "code",
   "execution_count": null,
   "id": "a4ba0b3f-46fe-4e04-8c3c-09925cbcd52d",
   "metadata": {},
   "outputs": [],
   "source": []
  },
  {
   "cell_type": "code",
   "execution_count": null,
   "id": "43c83003-9167-45c7-9b98-61773d0183dd",
   "metadata": {},
   "outputs": [],
   "source": []
  },
  {
   "cell_type": "code",
   "execution_count": null,
   "id": "ab6aa1a4-839d-4395-820c-d116887931cb",
   "metadata": {},
   "outputs": [],
   "source": []
  },
  {
   "cell_type": "code",
   "execution_count": null,
   "id": "09f06c64-2a43-4a38-9201-4f96b8f4f9bd",
   "metadata": {},
   "outputs": [],
   "source": []
  },
  {
   "cell_type": "code",
   "execution_count": null,
   "id": "4f47561a-910d-47fd-98b4-71e5511ca7be",
   "metadata": {},
   "outputs": [],
   "source": []
  },
  {
   "cell_type": "code",
   "execution_count": null,
   "id": "ac6c280e-4a3a-4297-b7fd-c2108b73b179",
   "metadata": {},
   "outputs": [],
   "source": []
  }
 ],
 "metadata": {
  "kernelspec": {
   "display_name": "Python 3 (ipykernel)",
   "language": "python",
   "name": "python3"
  },
  "language_info": {
   "codemirror_mode": {
    "name": "ipython",
    "version": 3
   },
   "file_extension": ".py",
   "mimetype": "text/x-python",
   "name": "python",
   "nbconvert_exporter": "python",
   "pygments_lexer": "ipython3",
   "version": "3.8.12"
  }
 },
 "nbformat": 4,
 "nbformat_minor": 5
}
