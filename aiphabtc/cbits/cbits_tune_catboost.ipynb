{
  "nbformat": 4,
  "nbformat_minor": 0,
  "metadata": {
    "colab": {
      "provenance": [],
      "machine_shape": "hm",
      "gpuType": "A100"
    },
    "kernelspec": {
      "name": "python3",
      "display_name": "Python 3"
    },
    "language_info": {
      "name": "python"
    },
    "accelerator": "GPU",
    "widgets": {
      "application/vnd.jupyter.widget-state+json": {
        "484492e1c9464a89a9773f010d6a3611": {
          "model_module": "@jupyter-widgets/controls",
          "model_name": "HBoxModel",
          "model_module_version": "1.5.0",
          "state": {
            "_dom_classes": [],
            "_model_module": "@jupyter-widgets/controls",
            "_model_module_version": "1.5.0",
            "_model_name": "HBoxModel",
            "_view_count": null,
            "_view_module": "@jupyter-widgets/controls",
            "_view_module_version": "1.5.0",
            "_view_name": "HBoxView",
            "box_style": "",
            "children": [
              "IPY_MODEL_f211d1fa6adf4544954272644fc88dce",
              "IPY_MODEL_a7ddfceb9fd748f19103fec8e79fb0c5",
              "IPY_MODEL_b7a7b7aaf5314cadb31a1c13b044efb4"
            ],
            "layout": "IPY_MODEL_b8887285aa904948a655b30648e33637"
          }
        },
        "f211d1fa6adf4544954272644fc88dce": {
          "model_module": "@jupyter-widgets/controls",
          "model_name": "HTMLModel",
          "model_module_version": "1.5.0",
          "state": {
            "_dom_classes": [],
            "_model_module": "@jupyter-widgets/controls",
            "_model_module_version": "1.5.0",
            "_model_name": "HTMLModel",
            "_view_count": null,
            "_view_module": "@jupyter-widgets/controls",
            "_view_module_version": "1.5.0",
            "_view_name": "HTMLView",
            "description": "",
            "description_tooltip": null,
            "layout": "IPY_MODEL_c0d5034339ab43ec806f4486d77a453b",
            "placeholder": "​",
            "style": "IPY_MODEL_e137ce5e68bc42ee855df5a7768e84e3",
            "value": "100%"
          }
        },
        "a7ddfceb9fd748f19103fec8e79fb0c5": {
          "model_module": "@jupyter-widgets/controls",
          "model_name": "FloatProgressModel",
          "model_module_version": "1.5.0",
          "state": {
            "_dom_classes": [],
            "_model_module": "@jupyter-widgets/controls",
            "_model_module_version": "1.5.0",
            "_model_name": "FloatProgressModel",
            "_view_count": null,
            "_view_module": "@jupyter-widgets/controls",
            "_view_module_version": "1.5.0",
            "_view_name": "ProgressView",
            "bar_style": "success",
            "description": "",
            "description_tooltip": null,
            "layout": "IPY_MODEL_5f4706b9a2d443b79a338e0e402ece1e",
            "max": 9335,
            "min": 0,
            "orientation": "horizontal",
            "style": "IPY_MODEL_e9773143633b445baba53dcaba13d7f0",
            "value": 9335
          }
        },
        "b7a7b7aaf5314cadb31a1c13b044efb4": {
          "model_module": "@jupyter-widgets/controls",
          "model_name": "HTMLModel",
          "model_module_version": "1.5.0",
          "state": {
            "_dom_classes": [],
            "_model_module": "@jupyter-widgets/controls",
            "_model_module_version": "1.5.0",
            "_model_name": "HTMLModel",
            "_view_count": null,
            "_view_module": "@jupyter-widgets/controls",
            "_view_module_version": "1.5.0",
            "_view_name": "HTMLView",
            "description": "",
            "description_tooltip": null,
            "layout": "IPY_MODEL_c5cf4c1052ee4312b113e913a56c7cc1",
            "placeholder": "​",
            "style": "IPY_MODEL_d42676162c6f46b59c641420863ad2ac",
            "value": " 9335/9335 [00:00&lt;00:00, 14427.79it/s]"
          }
        },
        "b8887285aa904948a655b30648e33637": {
          "model_module": "@jupyter-widgets/base",
          "model_name": "LayoutModel",
          "model_module_version": "1.2.0",
          "state": {
            "_model_module": "@jupyter-widgets/base",
            "_model_module_version": "1.2.0",
            "_model_name": "LayoutModel",
            "_view_count": null,
            "_view_module": "@jupyter-widgets/base",
            "_view_module_version": "1.2.0",
            "_view_name": "LayoutView",
            "align_content": null,
            "align_items": null,
            "align_self": null,
            "border": null,
            "bottom": null,
            "display": null,
            "flex": null,
            "flex_flow": null,
            "grid_area": null,
            "grid_auto_columns": null,
            "grid_auto_flow": null,
            "grid_auto_rows": null,
            "grid_column": null,
            "grid_gap": null,
            "grid_row": null,
            "grid_template_areas": null,
            "grid_template_columns": null,
            "grid_template_rows": null,
            "height": null,
            "justify_content": null,
            "justify_items": null,
            "left": null,
            "margin": null,
            "max_height": null,
            "max_width": null,
            "min_height": null,
            "min_width": null,
            "object_fit": null,
            "object_position": null,
            "order": null,
            "overflow": null,
            "overflow_x": null,
            "overflow_y": null,
            "padding": null,
            "right": null,
            "top": null,
            "visibility": null,
            "width": null
          }
        },
        "c0d5034339ab43ec806f4486d77a453b": {
          "model_module": "@jupyter-widgets/base",
          "model_name": "LayoutModel",
          "model_module_version": "1.2.0",
          "state": {
            "_model_module": "@jupyter-widgets/base",
            "_model_module_version": "1.2.0",
            "_model_name": "LayoutModel",
            "_view_count": null,
            "_view_module": "@jupyter-widgets/base",
            "_view_module_version": "1.2.0",
            "_view_name": "LayoutView",
            "align_content": null,
            "align_items": null,
            "align_self": null,
            "border": null,
            "bottom": null,
            "display": null,
            "flex": null,
            "flex_flow": null,
            "grid_area": null,
            "grid_auto_columns": null,
            "grid_auto_flow": null,
            "grid_auto_rows": null,
            "grid_column": null,
            "grid_gap": null,
            "grid_row": null,
            "grid_template_areas": null,
            "grid_template_columns": null,
            "grid_template_rows": null,
            "height": null,
            "justify_content": null,
            "justify_items": null,
            "left": null,
            "margin": null,
            "max_height": null,
            "max_width": null,
            "min_height": null,
            "min_width": null,
            "object_fit": null,
            "object_position": null,
            "order": null,
            "overflow": null,
            "overflow_x": null,
            "overflow_y": null,
            "padding": null,
            "right": null,
            "top": null,
            "visibility": null,
            "width": null
          }
        },
        "e137ce5e68bc42ee855df5a7768e84e3": {
          "model_module": "@jupyter-widgets/controls",
          "model_name": "DescriptionStyleModel",
          "model_module_version": "1.5.0",
          "state": {
            "_model_module": "@jupyter-widgets/controls",
            "_model_module_version": "1.5.0",
            "_model_name": "DescriptionStyleModel",
            "_view_count": null,
            "_view_module": "@jupyter-widgets/base",
            "_view_module_version": "1.2.0",
            "_view_name": "StyleView",
            "description_width": ""
          }
        },
        "5f4706b9a2d443b79a338e0e402ece1e": {
          "model_module": "@jupyter-widgets/base",
          "model_name": "LayoutModel",
          "model_module_version": "1.2.0",
          "state": {
            "_model_module": "@jupyter-widgets/base",
            "_model_module_version": "1.2.0",
            "_model_name": "LayoutModel",
            "_view_count": null,
            "_view_module": "@jupyter-widgets/base",
            "_view_module_version": "1.2.0",
            "_view_name": "LayoutView",
            "align_content": null,
            "align_items": null,
            "align_self": null,
            "border": null,
            "bottom": null,
            "display": null,
            "flex": null,
            "flex_flow": null,
            "grid_area": null,
            "grid_auto_columns": null,
            "grid_auto_flow": null,
            "grid_auto_rows": null,
            "grid_column": null,
            "grid_gap": null,
            "grid_row": null,
            "grid_template_areas": null,
            "grid_template_columns": null,
            "grid_template_rows": null,
            "height": null,
            "justify_content": null,
            "justify_items": null,
            "left": null,
            "margin": null,
            "max_height": null,
            "max_width": null,
            "min_height": null,
            "min_width": null,
            "object_fit": null,
            "object_position": null,
            "order": null,
            "overflow": null,
            "overflow_x": null,
            "overflow_y": null,
            "padding": null,
            "right": null,
            "top": null,
            "visibility": null,
            "width": null
          }
        },
        "e9773143633b445baba53dcaba13d7f0": {
          "model_module": "@jupyter-widgets/controls",
          "model_name": "ProgressStyleModel",
          "model_module_version": "1.5.0",
          "state": {
            "_model_module": "@jupyter-widgets/controls",
            "_model_module_version": "1.5.0",
            "_model_name": "ProgressStyleModel",
            "_view_count": null,
            "_view_module": "@jupyter-widgets/base",
            "_view_module_version": "1.2.0",
            "_view_name": "StyleView",
            "bar_color": null,
            "description_width": ""
          }
        },
        "c5cf4c1052ee4312b113e913a56c7cc1": {
          "model_module": "@jupyter-widgets/base",
          "model_name": "LayoutModel",
          "model_module_version": "1.2.0",
          "state": {
            "_model_module": "@jupyter-widgets/base",
            "_model_module_version": "1.2.0",
            "_model_name": "LayoutModel",
            "_view_count": null,
            "_view_module": "@jupyter-widgets/base",
            "_view_module_version": "1.2.0",
            "_view_name": "LayoutView",
            "align_content": null,
            "align_items": null,
            "align_self": null,
            "border": null,
            "bottom": null,
            "display": null,
            "flex": null,
            "flex_flow": null,
            "grid_area": null,
            "grid_auto_columns": null,
            "grid_auto_flow": null,
            "grid_auto_rows": null,
            "grid_column": null,
            "grid_gap": null,
            "grid_row": null,
            "grid_template_areas": null,
            "grid_template_columns": null,
            "grid_template_rows": null,
            "height": null,
            "justify_content": null,
            "justify_items": null,
            "left": null,
            "margin": null,
            "max_height": null,
            "max_width": null,
            "min_height": null,
            "min_width": null,
            "object_fit": null,
            "object_position": null,
            "order": null,
            "overflow": null,
            "overflow_x": null,
            "overflow_y": null,
            "padding": null,
            "right": null,
            "top": null,
            "visibility": null,
            "width": null
          }
        },
        "d42676162c6f46b59c641420863ad2ac": {
          "model_module": "@jupyter-widgets/controls",
          "model_name": "DescriptionStyleModel",
          "model_module_version": "1.5.0",
          "state": {
            "_model_module": "@jupyter-widgets/controls",
            "_model_module_version": "1.5.0",
            "_model_name": "DescriptionStyleModel",
            "_view_count": null,
            "_view_module": "@jupyter-widgets/base",
            "_view_module_version": "1.2.0",
            "_view_name": "StyleView",
            "description_width": ""
          }
        }
      }
    }
  },
  "cells": [
    {
      "cell_type": "code",
      "execution_count": 1,
      "metadata": {
        "colab": {
          "base_uri": "https://localhost:8080/"
        },
        "id": "rBYufxF_TNIw",
        "outputId": "185024e2-bddc-4bb8-ceb1-6899c971e4bd"
      },
      "outputs": [
        {
          "output_type": "stream",
          "name": "stdout",
          "text": [
            "Sat Jul  1 11:12:35 2023       \n",
            "+-----------------------------------------------------------------------------+\n",
            "| NVIDIA-SMI 525.85.12    Driver Version: 525.85.12    CUDA Version: 12.0     |\n",
            "|-------------------------------+----------------------+----------------------+\n",
            "| GPU  Name        Persistence-M| Bus-Id        Disp.A | Volatile Uncorr. ECC |\n",
            "| Fan  Temp  Perf  Pwr:Usage/Cap|         Memory-Usage | GPU-Util  Compute M. |\n",
            "|                               |                      |               MIG M. |\n",
            "|===============================+======================+======================|\n",
            "|   0  NVIDIA A100-SXM...  Off  | 00000000:00:04.0 Off |                    0 |\n",
            "| N/A   31C    P0    42W / 400W |      0MiB / 40960MiB |      0%      Default |\n",
            "|                               |                      |             Disabled |\n",
            "+-------------------------------+----------------------+----------------------+\n",
            "                                                                               \n",
            "+-----------------------------------------------------------------------------+\n",
            "| Processes:                                                                  |\n",
            "|  GPU   GI   CI        PID   Type   Process name                  GPU Memory |\n",
            "|        ID   ID                                                   Usage      |\n",
            "|=============================================================================|\n",
            "|  No running processes found                                                 |\n",
            "+-----------------------------------------------------------------------------+\n"
          ]
        }
      ],
      "source": [
        "!nvidia-smi"
      ]
    },
    {
      "cell_type": "code",
      "source": [
        "import pandas as pd\n",
        "import numpy as np\n",
        "import os\n",
        "\n",
        "chart_df = pd.read_csv(\"/content/drive/MyDrive/chart_with_sentiment_scores.csv\")"
      ],
      "metadata": {
        "id": "eBmSLpX0TivJ"
      },
      "execution_count": 3,
      "outputs": []
    },
    {
      "cell_type": "code",
      "source": [
        "# add technical indicators\n",
        "import pandas_ta as ta\n",
        "from tqdm.auto import tqdm\n",
        "hours, days, months = [], [], []\n",
        "for dt in tqdm(chart_df[\"datetime\"]):\n",
        "  dtobj = pd.to_datetime(dt)\n",
        "  hours.append(dtobj.hour)\n",
        "  days.append(dtobj.day)\n",
        "  months.append(dtobj.month)\n",
        "\n",
        "chart_df[\"hours\"] = hours\n",
        "chart_df[\"days\"] = days\n",
        "chart_df[\"months\"] = months\n",
        "\n",
        "chart_df[\"ebsw\"] = chart_df.ta.ebsw(lookahead=False)\n",
        "chart_df[\"cmf\"] = chart_df.ta.cmf(lookahead=False)\n",
        "chart_df[\"bop\"] = chart_df.ta.bop(lookahead=False)\n",
        "chart_df[\"rsi/100\"] = chart_df.ta.rsi(lookahead=False) / 100.0\n",
        "chart_df[\"hwma\"] = chart_df.ta.hwma(lookahead=False)\n",
        "chart_df[\"linreg\"] = chart_df.ta.linreg(lookahead=False)\n",
        "chart_df[\"hwma/close\"] = chart_df[\"hwma\"] / chart_df[\"close\"]\n",
        "chart_df[\"linreg/close\"] = chart_df[\"linreg\"] / chart_df[\"close\"]\n",
        "chart_df[\"high/low\"] = chart_df[\"high\"] / chart_df[\"low\"]\n",
        "chart_df[\"high/open\"] = chart_df[\"high\"] / chart_df[\"open\"]\n",
        "chart_df[\"low/open\"] = chart_df[\"low\"] / chart_df[\"open\"]\n",
        "chart_df[\"close/open\"] = chart_df[\"close\"] / chart_df[\"open\"]\n",
        "chart_df[\"high/close\"] = chart_df[\"high\"] / chart_df[\"close\"]\n",
        "chart_df[\"low/close\"]  = chart_df[\"low\"] / chart_df[\"close\"]\n",
        "\n",
        "for l in range(1, 6):\n",
        "  for col in [\"open\", \"high\", \"low\", \"close\", \"volume\"]:\n",
        "    val = chart_df[col].values\n",
        "    val_ret = [None for _ in range(l)]\n",
        "    for i in range(l, len(val)):\n",
        "      if val[i-l] == 0:\n",
        "        ret = 1\n",
        "      else:\n",
        "        ret = val[i] / val[i-l]\n",
        "      val_ret.append(ret)\n",
        "    chart_df[f\"{col}_change_{l}\"] = val_ret\n",
        "\n",
        "chart_df = chart_df.drop(columns={\"datetime\", \"open\", \"high\", \"low\", \"close\", \"volume\", \"linreg\", \"hwma\"})"
      ],
      "metadata": {
        "colab": {
          "base_uri": "https://localhost:8080/",
          "height": 49,
          "referenced_widgets": [
            "484492e1c9464a89a9773f010d6a3611",
            "f211d1fa6adf4544954272644fc88dce",
            "a7ddfceb9fd748f19103fec8e79fb0c5",
            "b7a7b7aaf5314cadb31a1c13b044efb4",
            "b8887285aa904948a655b30648e33637",
            "c0d5034339ab43ec806f4486d77a453b",
            "e137ce5e68bc42ee855df5a7768e84e3",
            "5f4706b9a2d443b79a338e0e402ece1e",
            "e9773143633b445baba53dcaba13d7f0",
            "c5cf4c1052ee4312b113e913a56c7cc1",
            "d42676162c6f46b59c641420863ad2ac"
          ]
        },
        "id": "2Acrq6LaUJ3S",
        "outputId": "7a2a428e-6803-4616-8f68-68d31cccd6b6"
      },
      "execution_count": 7,
      "outputs": [
        {
          "output_type": "display_data",
          "data": {
            "text/plain": [
              "  0%|          | 0/9335 [00:00<?, ?it/s]"
            ],
            "application/vnd.jupyter.widget-view+json": {
              "version_major": 2,
              "version_minor": 0,
              "model_id": "484492e1c9464a89a9773f010d6a3611"
            }
          },
          "metadata": {}
        }
      ]
    },
    {
      "cell_type": "code",
      "source": [
        "chart_df.dropna(inplace=True)"
      ],
      "metadata": {
        "id": "ke3ZbR-1UVRZ"
      },
      "execution_count": 9,
      "outputs": []
    },
    {
      "cell_type": "code",
      "source": [
        "train_columns = []\n",
        "\n",
        "for col in chart_df.columns:\n",
        "  if col != \"targets\":\n",
        "    train_columns.append(col)\n",
        "\n",
        "X = chart_df[train_columns]\n",
        "Y = chart_df[\"targets\"]"
      ],
      "metadata": {
        "id": "_GHnNMjwKZ2F"
      },
      "execution_count": 12,
      "outputs": []
    },
    {
      "cell_type": "code",
      "source": [
        "import optuna\n",
        "import xgboost as xgb\n",
        "from sklearn.model_selection import train_test_split, TimeSeriesSplit\n",
        "from sklearn.metrics import accuracy_score\n",
        "import catboost as cb\n",
        "\n",
        "def objective(trial):\n",
        "  params = {\n",
        "      \"iterations\": trial.suggest_int(\"iterations\", 50, 5000),\n",
        "      \"learning_rate\": trial.suggest_float(\"learning_rate\", 0.01, 0.1),\n",
        "      \"depth\": trial.suggest_int(\"depth\", 3, 10),\n",
        "      \"l2_leaf_reg\": trial.suggest_float(\"l2_leaf_reg\", 1, 10),\n",
        "      \"border_count\": trial.suggest_int(\"border_count\", 32, 255),\n",
        "      \"task_type\": \"GPU\",\n",
        "      \"loss_function\": \"MultiClass\",\n",
        "      \"eval_metric\": \"Accuracy\",\n",
        "      \"random_seed\": 42,\n",
        "      \"verbose\": False\n",
        "  }\n",
        "  tscv = TimeSeriesSplit(n_splits=5)\n",
        "  accuracies = []\n",
        "  for train_idx, val_idx in tscv.split(X):\n",
        "    X_train, X_val = X.iloc[train_idx], X.iloc[val_idx]\n",
        "    Y_train, Y_val = Y.iloc[train_idx], Y.iloc[val_idx]\n",
        "    model = cb.CatBoostClassifier(**params)\n",
        "    model.fit(X_train, Y_train, eval_set=(X_val, Y_val), early_stopping_rounds=10, verbose=False)\n",
        "    Y_pred = model.predict(X_val)\n",
        "    accuracy = accuracy_score(Y_val, Y_pred)\n",
        "    accuracies.append(accuracy)\n",
        "  return sum(accuracies) / len(accuracies)\n",
        "\n",
        "study = optuna.create_study(direction=\"maximize\")\n",
        "study.optimize(objective, n_trials=100)\n",
        "best_params = study.best_params\n",
        "print(f\"Best Parameters: {best_params}\")"
      ],
      "metadata": {
        "colab": {
          "base_uri": "https://localhost:8080/"
        },
        "id": "9xV1uKYCK8S9",
        "outputId": "ab4ca9a9-e432-400a-da0c-9ff6b6b53320"
      },
      "execution_count": 19,
      "outputs": [
        {
          "output_type": "stream",
          "name": "stderr",
          "text": [
            "[I 2023-07-01 11:23:54,391] A new study created in memory with name: no-name-cf4cde7e-1f4a-4c11-9c33-b52d009bc361\n",
            "[I 2023-07-01 11:24:00,556] Trial 0 finished with value: 0.46559070367979344 and parameters: {'iterations': 2405, 'learning_rate': 0.012336740933882715, 'depth': 8, 'l2_leaf_reg': 9.647821727261267, 'border_count': 123}. Best is trial 0 with value: 0.46559070367979344.\n",
            "[I 2023-07-01 11:24:06,909] Trial 1 finished with value: 0.46998063266623624 and parameters: {'iterations': 1369, 'learning_rate': 0.05613660914127877, 'depth': 4, 'l2_leaf_reg': 5.199876280440501, 'border_count': 55}. Best is trial 1 with value: 0.46998063266623624.\n",
            "[I 2023-07-01 11:24:13,383] Trial 2 finished with value: 0.4661071659134926 and parameters: {'iterations': 4160, 'learning_rate': 0.016769978801398324, 'depth': 6, 'l2_leaf_reg': 7.903509110725789, 'border_count': 139}. Best is trial 1 with value: 0.46998063266623624.\n",
            "[I 2023-07-01 11:24:19,781] Trial 3 finished with value: 0.46946417043253713 and parameters: {'iterations': 3601, 'learning_rate': 0.08875466549613835, 'depth': 4, 'l2_leaf_reg': 4.252523009648592, 'border_count': 154}. Best is trial 1 with value: 0.46998063266623624.\n",
            "[I 2023-07-01 11:24:26,484] Trial 4 finished with value: 0.4685603615235636 and parameters: {'iterations': 2231, 'learning_rate': 0.0128843591277093, 'depth': 8, 'l2_leaf_reg': 3.6458809653997175, 'border_count': 88}. Best is trial 1 with value: 0.46998063266623624.\n",
            "[I 2023-07-01 11:24:33,117] Trial 5 finished with value: 0.4636539703034216 and parameters: {'iterations': 2335, 'learning_rate': 0.059192297999988805, 'depth': 7, 'l2_leaf_reg': 8.965031075937972, 'border_count': 172}. Best is trial 1 with value: 0.46998063266623624.\n",
            "[I 2023-07-01 11:24:40,969] Trial 6 finished with value: 0.46765655261459005 and parameters: {'iterations': 4624, 'learning_rate': 0.0179329979709729, 'depth': 10, 'l2_leaf_reg': 1.0827368610487467, 'border_count': 152}. Best is trial 1 with value: 0.46998063266623624.\n",
            "[I 2023-07-01 11:24:47,222] Trial 7 finished with value: 0.46210458360232415 and parameters: {'iterations': 2942, 'learning_rate': 0.07735036455968795, 'depth': 3, 'l2_leaf_reg': 5.015756772715684, 'border_count': 177}. Best is trial 1 with value: 0.46998063266623624.\n",
            "[I 2023-07-01 11:24:53,478] Trial 8 finished with value: 0.46546158812136856 and parameters: {'iterations': 4293, 'learning_rate': 0.07570400547971654, 'depth': 4, 'l2_leaf_reg': 4.08259186265818, 'border_count': 174}. Best is trial 1 with value: 0.46998063266623624.\n",
            "[I 2023-07-01 11:24:59,772] Trial 9 finished with value: 0.46404131697869594 and parameters: {'iterations': 341, 'learning_rate': 0.09156718872226999, 'depth': 4, 'l2_leaf_reg': 1.0550393982767856, 'border_count': 86}. Best is trial 1 with value: 0.46998063266623624.\n",
            "[I 2023-07-01 11:25:06,171] Trial 10 finished with value: 0.46920593931568755 and parameters: {'iterations': 845, 'learning_rate': 0.04257963884513654, 'depth': 6, 'l2_leaf_reg': 6.494160983190963, 'border_count': 233}. Best is trial 1 with value: 0.46998063266623624.\n",
            "[I 2023-07-01 11:25:12,520] Trial 11 finished with value: 0.4639122014202711 and parameters: {'iterations': 1087, 'learning_rate': 0.08990069229875236, 'depth': 4, 'l2_leaf_reg': 6.059877907988108, 'border_count': 35}. Best is trial 1 with value: 0.46998063266623624.\n",
            "[I 2023-07-01 11:25:19,008] Trial 12 finished with value: 0.4706262104583603 and parameters: {'iterations': 3610, 'learning_rate': 0.09708719872716112, 'depth': 5, 'l2_leaf_reg': 3.2584825594880833, 'border_count': 230}. Best is trial 12 with value: 0.4706262104583603.\n",
            "[I 2023-07-01 11:25:25,339] Trial 13 finished with value: 0.4658489347966429 and parameters: {'iterations': 1589, 'learning_rate': 0.053899063390400334, 'depth': 5, 'l2_leaf_reg': 2.559827080543963, 'border_count': 232}. Best is trial 12 with value: 0.4706262104583603.\n",
            "[I 2023-07-01 11:25:31,643] Trial 14 finished with value: 0.46029696578437695 and parameters: {'iterations': 3579, 'learning_rate': 0.09875509819406046, 'depth': 3, 'l2_leaf_reg': 5.706618143302725, 'border_count': 32}. Best is trial 12 with value: 0.4706262104583603.\n",
            "[I 2023-07-01 11:25:37,953] Trial 15 finished with value: 0.4717882504841834 and parameters: {'iterations': 1622, 'learning_rate': 0.07276470829626777, 'depth': 5, 'l2_leaf_reg': 2.8202253000222224, 'border_count': 201}. Best is trial 15 with value: 0.4717882504841834.\n",
            "[I 2023-07-01 11:25:44,293] Trial 16 finished with value: 0.46998063266623624 and parameters: {'iterations': 3088, 'learning_rate': 0.07695298975018731, 'depth': 5, 'l2_leaf_reg': 2.796762317633065, 'border_count': 211}. Best is trial 15 with value: 0.4717882504841834.\n",
            "[I 2023-07-01 11:25:50,933] Trial 17 finished with value: 0.4741123305358295 and parameters: {'iterations': 1902, 'learning_rate': 0.0691682613463922, 'depth': 7, 'l2_leaf_reg': 2.5779151408905627, 'border_count': 251}. Best is trial 17 with value: 0.4741123305358295.\n",
            "[I 2023-07-01 11:25:57,609] Trial 18 finished with value: 0.4729502905100064 and parameters: {'iterations': 1790, 'learning_rate': 0.07084758834119625, 'depth': 8, 'l2_leaf_reg': 2.132266479629675, 'border_count': 254}. Best is trial 17 with value: 0.4741123305358295.\n",
            "[I 2023-07-01 11:26:06,372] Trial 19 finished with value: 0.47075532601678505 and parameters: {'iterations': 1940, 'learning_rate': 0.0635642464262202, 'depth': 10, 'l2_leaf_reg': 1.78631219007376, 'border_count': 248}. Best is trial 17 with value: 0.4741123305358295.\n",
            "[I 2023-07-01 11:26:13,575] Trial 20 finished with value: 0.47527437056165267 and parameters: {'iterations': 843, 'learning_rate': 0.049018160274023385, 'depth': 9, 'l2_leaf_reg': 2.2338031112812473, 'border_count': 254}. Best is trial 20 with value: 0.47527437056165267.\n",
            "[I 2023-07-01 11:26:20,732] Trial 21 finished with value: 0.4750161394448031 and parameters: {'iterations': 97, 'learning_rate': 0.04617153932666483, 'depth': 9, 'l2_leaf_reg': 2.099479643174825, 'border_count': 254}. Best is trial 20 with value: 0.47527437056165267.\n",
            "[I 2023-07-01 11:26:28,003] Trial 22 finished with value: 0.4698515171078115 and parameters: {'iterations': 508, 'learning_rate': 0.04563440867212526, 'depth': 9, 'l2_leaf_reg': 1.8774042113448264, 'border_count': 207}. Best is trial 20 with value: 0.47527437056165267.\n",
            "[I 2023-07-01 11:26:35,349] Trial 23 finished with value: 0.47165913492575856 and parameters: {'iterations': 271, 'learning_rate': 0.04050425062361403, 'depth': 9, 'l2_leaf_reg': 3.371595132107989, 'border_count': 220}. Best is trial 20 with value: 0.47527437056165267.\n",
            "[I 2023-07-01 11:26:42,518] Trial 24 finished with value: 0.47282117495158166 and parameters: {'iterations': 711, 'learning_rate': 0.035243405863575106, 'depth': 9, 'l2_leaf_reg': 1.979971934166413, 'border_count': 250}. Best is trial 20 with value: 0.47527437056165267.\n",
            "[I 2023-07-01 11:26:49,105] Trial 25 finished with value: 0.4720464816010329 and parameters: {'iterations': 1113, 'learning_rate': 0.051273460693610065, 'depth': 7, 'l2_leaf_reg': 1.0122605561458786, 'border_count': 192}. Best is trial 20 with value: 0.47527437056165267.\n",
            "[I 2023-07-01 11:26:56,890] Trial 26 finished with value: 0.4653324725629438 and parameters: {'iterations': 52, 'learning_rate': 0.062498549889341865, 'depth': 10, 'l2_leaf_reg': 2.53859740072055, 'border_count': 240}. Best is trial 20 with value: 0.47527437056165267.\n",
            "[I 2023-07-01 11:27:04,076] Trial 27 finished with value: 0.46817301484828916 and parameters: {'iterations': 1108, 'learning_rate': 0.03442619120451257, 'depth': 9, 'l2_leaf_reg': 3.9941812374815253, 'border_count': 221}. Best is trial 20 with value: 0.47527437056165267.\n",
            "[I 2023-07-01 11:27:10,651] Trial 28 finished with value: 0.4723047127178825 and parameters: {'iterations': 697, 'learning_rate': 0.04843077665828354, 'depth': 7, 'l2_leaf_reg': 4.58115528349319, 'border_count': 254}. Best is trial 20 with value: 0.47527437056165267.\n",
            "[I 2023-07-01 11:27:17,320] Trial 29 finished with value: 0.4677856681730148 and parameters: {'iterations': 2691, 'learning_rate': 0.06689294419003419, 'depth': 8, 'l2_leaf_reg': 3.176417956409611, 'border_count': 191}. Best is trial 20 with value: 0.47527437056165267.\n",
            "[I 2023-07-01 11:27:24,570] Trial 30 finished with value: 0.4702388637830858 and parameters: {'iterations': 102, 'learning_rate': 0.056966329104685166, 'depth': 9, 'l2_leaf_reg': 3.4772283604619, 'border_count': 217}. Best is trial 20 with value: 0.47527437056165267.\n",
            "[I 2023-07-01 11:27:31,209] Trial 31 finished with value: 0.47824402840542285 and parameters: {'iterations': 1721, 'learning_rate': 0.049627662077003816, 'depth': 8, 'l2_leaf_reg': 2.2763608031118214, 'border_count': 253}. Best is trial 31 with value: 0.47824402840542285.\n",
            "[I 2023-07-01 11:27:37,964] Trial 32 finished with value: 0.471400903808909 and parameters: {'iterations': 1365, 'learning_rate': 0.04962171459754625, 'depth': 8, 'l2_leaf_reg': 1.62226382378246, 'border_count': 236}. Best is trial 31 with value: 0.47824402840542285.\n",
            "[I 2023-07-01 11:27:44,535] Trial 33 finished with value: 0.4729502905100064 and parameters: {'iterations': 2076, 'learning_rate': 0.05734108439124602, 'depth': 7, 'l2_leaf_reg': 2.3551327518660687, 'border_count': 243}. Best is trial 31 with value: 0.47824402840542285.\n",
            "[I 2023-07-01 11:27:51,494] Trial 34 finished with value: 0.47191736604260814 and parameters: {'iterations': 1433, 'learning_rate': 0.05297438998426525, 'depth': 8, 'l2_leaf_reg': 2.6970389334737663, 'border_count': 102}. Best is trial 31 with value: 0.47824402840542285.\n",
            "[I 2023-07-01 11:27:57,992] Trial 35 finished with value: 0.46998063266623624 and parameters: {'iterations': 2592, 'learning_rate': 0.061651660266837674, 'depth': 6, 'l2_leaf_reg': 1.5278872513438877, 'border_count': 124}. Best is trial 31 with value: 0.47824402840542285.\n",
            "[I 2023-07-01 11:28:04,733] Trial 36 finished with value: 0.47333763718528077 and parameters: {'iterations': 927, 'learning_rate': 0.04392652028654649, 'depth': 8, 'l2_leaf_reg': 2.3757149405223896, 'border_count': 229}. Best is trial 31 with value: 0.47824402840542285.\n",
            "[I 2023-07-01 11:28:12,091] Trial 37 finished with value: 0.4725629438347321 and parameters: {'iterations': 534, 'learning_rate': 0.05646544825076001, 'depth': 9, 'l2_leaf_reg': 3.6800376490134923, 'border_count': 255}. Best is trial 31 with value: 0.47824402840542285.\n",
            "[I 2023-07-01 11:28:20,436] Trial 38 finished with value: 0.46894770819883796 and parameters: {'iterations': 1311, 'learning_rate': 0.0676797169573905, 'depth': 10, 'l2_leaf_reg': 2.07367473520687, 'border_count': 195}. Best is trial 31 with value: 0.47824402840542285.\n",
            "[I 2023-07-01 11:28:27,158] Trial 39 finished with value: 0.4739832149774048 and parameters: {'iterations': 2162, 'learning_rate': 0.03904978265500572, 'depth': 7, 'l2_leaf_reg': 1.45540002338245, 'border_count': 222}. Best is trial 31 with value: 0.47824402840542285.\n",
            "[I 2023-07-01 11:28:33,809] Trial 40 finished with value: 0.46920593931568755 and parameters: {'iterations': 1826, 'learning_rate': 0.04779368886779608, 'depth': 8, 'l2_leaf_reg': 3.035263077753448, 'border_count': 241}. Best is trial 31 with value: 0.47824402840542285.\n",
            "[I 2023-07-01 11:28:40,381] Trial 41 finished with value: 0.4706262104583603 and parameters: {'iterations': 2227, 'learning_rate': 0.04062134515121441, 'depth': 7, 'l2_leaf_reg': 1.4590482368538495, 'border_count': 221}. Best is trial 31 with value: 0.47824402840542285.\n",
            "[I 2023-07-01 11:28:46,891] Trial 42 finished with value: 0.4734667527437056 and parameters: {'iterations': 2500, 'learning_rate': 0.03557033037758685, 'depth': 7, 'l2_leaf_reg': 1.3938257543313695, 'border_count': 243}. Best is trial 31 with value: 0.47824402840542285.\n",
            "[I 2023-07-01 11:28:53,339] Trial 43 finished with value: 0.465848934796643 and parameters: {'iterations': 2817, 'learning_rate': 0.05233612590318479, 'depth': 6, 'l2_leaf_reg': 2.221316450427343, 'border_count': 164}. Best is trial 31 with value: 0.47824402840542285.\n",
            "[I 2023-07-01 11:29:00,139] Trial 44 finished with value: 0.4737249838605552 and parameters: {'iterations': 2263, 'learning_rate': 0.030699822872080524, 'depth': 8, 'l2_leaf_reg': 1.4320600085183992, 'border_count': 228}. Best is trial 31 with value: 0.47824402840542285.\n",
            "[I 2023-07-01 11:29:06,961] Trial 45 finished with value: 0.47385409941897993 and parameters: {'iterations': 3206, 'learning_rate': 0.04534606481151121, 'depth': 7, 'l2_leaf_reg': 2.9434207577644615, 'border_count': 255}. Best is trial 31 with value: 0.47824402840542285.\n",
            "[I 2023-07-01 11:29:14,044] Trial 46 finished with value: 0.4695932859909619 and parameters: {'iterations': 1600, 'learning_rate': 0.027223968143831864, 'depth': 9, 'l2_leaf_reg': 1.7595334360386072, 'border_count': 209}. Best is trial 31 with value: 0.47824402840542285.\n",
            "[I 2023-07-01 11:29:20,635] Trial 47 finished with value: 0.4677856681730148 and parameters: {'iterations': 2090, 'learning_rate': 0.04025262171770502, 'depth': 6, 'l2_leaf_reg': 1.0978321445425288, 'border_count': 139}. Best is trial 31 with value: 0.47824402840542285.\n",
            "[I 2023-07-01 11:29:27,294] Trial 48 finished with value: 0.47462879276952874 and parameters: {'iterations': 334, 'learning_rate': 0.05399309623902095, 'depth': 8, 'l2_leaf_reg': 2.378470956230204, 'border_count': 184}. Best is trial 31 with value: 0.47824402840542285.\n",
            "[I 2023-07-01 11:29:34,871] Trial 49 finished with value: 0.4588766946417044 and parameters: {'iterations': 356, 'learning_rate': 0.06011622743337644, 'depth': 10, 'l2_leaf_reg': 2.503605293721172, 'border_count': 64}. Best is trial 31 with value: 0.47824402840542285.\n",
            "[I 2023-07-01 11:29:42,508] Trial 50 finished with value: 0.4733376371852809 and parameters: {'iterations': 897, 'learning_rate': 0.0547147472323311, 'depth': 9, 'l2_leaf_reg': 3.6875449395010422, 'border_count': 183}. Best is trial 31 with value: 0.47824402840542285.\n",
            "[I 2023-07-01 11:29:49,453] Trial 51 finished with value: 0.4695932859909619 and parameters: {'iterations': 510, 'learning_rate': 0.04831254893584039, 'depth': 8, 'l2_leaf_reg': 2.0828980560400128, 'border_count': 159}. Best is trial 31 with value: 0.47824402840542285.\n",
            "[I 2023-07-01 11:29:56,107] Trial 52 finished with value: 0.4697224015493867 and parameters: {'iterations': 317, 'learning_rate': 0.054240586566460455, 'depth': 7, 'l2_leaf_reg': 2.9214770371660945, 'border_count': 237}. Best is trial 31 with value: 0.47824402840542285.\n",
            "[I 2023-07-01 11:30:02,796] Trial 53 finished with value: 0.47282117495158166 and parameters: {'iterations': 734, 'learning_rate': 0.0806437499227563, 'depth': 8, 'l2_leaf_reg': 2.3061084501102598, 'border_count': 227}. Best is trial 31 with value: 0.47824402840542285.\n",
            "[I 2023-07-01 11:30:09,537] Trial 54 finished with value: 0.46739832149774047 and parameters: {'iterations': 4762, 'learning_rate': 0.05912534988390014, 'depth': 8, 'l2_leaf_reg': 1.9037280314123213, 'border_count': 246}. Best is trial 31 with value: 0.47824402840542285.\n",
            "[I 2023-07-01 11:30:16,646] Trial 55 finished with value: 0.4689477081988379 and parameters: {'iterations': 1743, 'learning_rate': 0.051449973126136486, 'depth': 9, 'l2_leaf_reg': 3.1727770116874705, 'border_count': 215}. Best is trial 31 with value: 0.47824402840542285.\n",
            "[I 2023-07-01 11:30:23,253] Trial 56 finished with value: 0.47682375726275017 and parameters: {'iterations': 215, 'learning_rate': 0.042922052192244424, 'depth': 7, 'l2_leaf_reg': 2.666117785275916, 'border_count': 234}. Best is trial 31 with value: 0.47824402840542285.\n",
            "[I 2023-07-01 11:30:30,342] Trial 57 finished with value: 0.4668818592640413 and parameters: {'iterations': 80, 'learning_rate': 0.045092759956848416, 'depth': 9, 'l2_leaf_reg': 2.6854808017751477, 'border_count': 205}. Best is trial 31 with value: 0.47824402840542285.\n",
            "[I 2023-07-01 11:30:36,803] Trial 58 finished with value: 0.47010974822466106 and parameters: {'iterations': 551, 'learning_rate': 0.04969065032691659, 'depth': 6, 'l2_leaf_reg': 2.7012344613849035, 'border_count': 246}. Best is trial 31 with value: 0.47824402840542285.\n",
            "[I 2023-07-01 11:30:43,500] Trial 59 finished with value: 0.47088444157520987 and parameters: {'iterations': 289, 'learning_rate': 0.04349544093808191, 'depth': 8, 'l2_leaf_reg': 3.2280901919178397, 'border_count': 235}. Best is trial 31 with value: 0.47824402840542285.\n",
            "[I 2023-07-01 11:30:50,172] Trial 60 finished with value: 0.4686894770819884 and parameters: {'iterations': 1166, 'learning_rate': 0.04710919661678965, 'depth': 7, 'l2_leaf_reg': 3.8475604349801538, 'border_count': 149}. Best is trial 31 with value: 0.47824402840542285.\n",
            "[I 2023-07-01 11:30:56,771] Trial 61 finished with value: 0.4741123305358295 and parameters: {'iterations': 213, 'learning_rate': 0.04133862418309488, 'depth': 7, 'l2_leaf_reg': 1.8396855901108782, 'border_count': 226}. Best is trial 31 with value: 0.47824402840542285.\n",
            "[I 2023-07-01 11:31:03,448] Trial 62 finished with value: 0.4680438992898644 and parameters: {'iterations': 267, 'learning_rate': 0.042717469858803966, 'depth': 7, 'l2_leaf_reg': 1.8783023786183728, 'border_count': 248}. Best is trial 31 with value: 0.47824402840542285.\n",
            "[I 2023-07-01 11:31:09,888] Trial 63 finished with value: 0.46843124596513885 and parameters: {'iterations': 177, 'learning_rate': 0.05013883866998174, 'depth': 6, 'l2_leaf_reg': 2.1999439822951556, 'border_count': 234}. Best is trial 31 with value: 0.47824402840542285.\n",
            "[I 2023-07-01 11:31:16,450] Trial 64 finished with value: 0.47088444157520987 and parameters: {'iterations': 650, 'learning_rate': 0.05469576587077991, 'depth': 7, 'l2_leaf_reg': 2.4783884928231115, 'border_count': 240}. Best is trial 31 with value: 0.47824402840542285.\n",
            "[I 2023-07-01 11:31:23,172] Trial 65 finished with value: 0.4751452550032279 and parameters: {'iterations': 430, 'learning_rate': 0.046374914652958656, 'depth': 8, 'l2_leaf_reg': 4.379051796076325, 'border_count': 200}. Best is trial 31 with value: 0.47824402840542285.\n",
            "[I 2023-07-01 11:31:30,559] Trial 66 finished with value: 0.46739832149774047 and parameters: {'iterations': 407, 'learning_rate': 0.05912138724908302, 'depth': 9, 'l2_leaf_reg': 3.431217645978814, 'border_count': 199}. Best is trial 31 with value: 0.47824402840542285.\n",
            "[I 2023-07-01 11:31:37,239] Trial 67 finished with value: 0.4724338282763073 and parameters: {'iterations': 861, 'learning_rate': 0.046609609754583836, 'depth': 8, 'l2_leaf_reg': 4.156774202826046, 'border_count': 184}. Best is trial 31 with value: 0.47824402840542285.\n",
            "[I 2023-07-01 11:31:45,925] Trial 68 finished with value: 0.46752743705616523 and parameters: {'iterations': 1021, 'learning_rate': 0.05202602831610173, 'depth': 10, 'l2_leaf_reg': 4.3624899613875305, 'border_count': 170}. Best is trial 31 with value: 0.47824402840542285.\n",
            "[I 2023-07-01 11:31:52,747] Trial 69 finished with value: 0.47372498386055517 and parameters: {'iterations': 1286, 'learning_rate': 0.06341668972228155, 'depth': 8, 'l2_leaf_reg': 2.8933321056074646, 'border_count': 250}. Best is trial 31 with value: 0.47824402840542285.\n",
            "[I 2023-07-01 11:32:00,222] Trial 70 finished with value: 0.4724338282763073 and parameters: {'iterations': 763, 'learning_rate': 0.056499499702368665, 'depth': 9, 'l2_leaf_reg': 3.5212420036609817, 'border_count': 255}. Best is trial 31 with value: 0.47824402840542285.\n",
            "[I 2023-07-01 11:32:06,829] Trial 71 finished with value: 0.47088444157520976 and parameters: {'iterations': 457, 'learning_rate': 0.04550531260745893, 'depth': 7, 'l2_leaf_reg': 1.7333488119409868, 'border_count': 224}. Best is trial 31 with value: 0.47824402840542285.\n",
            "[I 2023-07-01 11:32:13,519] Trial 72 finished with value: 0.47359586830213035 and parameters: {'iterations': 191, 'learning_rate': 0.04182075104502398, 'depth': 8, 'l2_leaf_reg': 2.3930885070509236, 'border_count': 213}. Best is trial 31 with value: 0.47824402840542285.\n",
            "[I 2023-07-01 11:32:20,187] Trial 73 finished with value: 0.47579083279535184 and parameters: {'iterations': 69, 'learning_rate': 0.0377449819420623, 'depth': 8, 'l2_leaf_reg': 1.9580311135193278, 'border_count': 234}. Best is trial 31 with value: 0.47824402840542285.\n",
            "[I 2023-07-01 11:32:27,220] Trial 74 finished with value: 0.47656552614590064 and parameters: {'iterations': 78, 'learning_rate': 0.049153458373181864, 'depth': 8, 'l2_leaf_reg': 2.6311954557351234, 'border_count': 126}. Best is trial 31 with value: 0.47824402840542285.\n",
            "[I 2023-07-01 11:32:34,190] Trial 75 finished with value: 0.47540348612007743 and parameters: {'iterations': 50, 'learning_rate': 0.04854344585614264, 'depth': 8, 'l2_leaf_reg': 2.070584784272846, 'border_count': 129}. Best is trial 31 with value: 0.47824402840542285.\n",
            "[I 2023-07-01 11:32:41,383] Trial 76 finished with value: 0.4729502905100064 and parameters: {'iterations': 73, 'learning_rate': 0.05030565669034951, 'depth': 9, 'l2_leaf_reg': 2.1206840368145548, 'border_count': 129}. Best is trial 31 with value: 0.47824402840542285.\n",
            "[I 2023-07-01 11:32:48,160] Trial 77 finished with value: 0.46765655261459005 and parameters: {'iterations': 527, 'learning_rate': 0.03856907221125206, 'depth': 8, 'l2_leaf_reg': 2.776601502201021, 'border_count': 102}. Best is trial 31 with value: 0.47824402840542285.\n",
            "[I 2023-07-01 11:32:55,010] Trial 78 finished with value: 0.4685603615235635 and parameters: {'iterations': 605, 'learning_rate': 0.04806339417611245, 'depth': 8, 'l2_leaf_reg': 1.287077150541779, 'border_count': 110}. Best is trial 31 with value: 0.47824402840542285.\n",
            "[I 2023-07-01 11:33:02,491] Trial 79 finished with value: 0.47811491284699803 and parameters: {'iterations': 415, 'learning_rate': 0.045158240590552304, 'depth': 9, 'l2_leaf_reg': 2.08801101329772, 'border_count': 114}. Best is trial 31 with value: 0.47824402840542285.\n",
            "[I 2023-07-01 11:33:10,396] Trial 80 finished with value: 0.4724338282763073 and parameters: {'iterations': 425, 'learning_rate': 0.043948430808396347, 'depth': 9, 'l2_leaf_reg': 1.6653151291044792, 'border_count': 115}. Best is trial 31 with value: 0.47824402840542285.\n",
            "[I 2023-07-01 11:33:17,440] Trial 81 finished with value: 0.470755326016785 and parameters: {'iterations': 176, 'learning_rate': 0.03762469702614165, 'depth': 9, 'l2_leaf_reg': 2.032382581036601, 'border_count': 122}. Best is trial 31 with value: 0.47824402840542285.\n",
            "[I 2023-07-01 11:33:25,296] Trial 82 finished with value: 0.46236281471917373 and parameters: {'iterations': 85, 'learning_rate': 0.047407438755273895, 'depth': 10, 'l2_leaf_reg': 3.147060184574955, 'border_count': 94}. Best is trial 31 with value: 0.47824402840542285.\n",
            "[I 2023-07-01 11:33:32,430] Trial 83 finished with value: 0.4690768237572628 and parameters: {'iterations': 647, 'learning_rate': 0.04297262844855805, 'depth': 9, 'l2_leaf_reg': 2.5679993904469347, 'border_count': 132}. Best is trial 31 with value: 0.47824402840542285.\n",
            "[I 2023-07-01 11:33:39,126] Trial 84 finished with value: 0.4671400903808909 and parameters: {'iterations': 391, 'learning_rate': 0.0447020700660952, 'depth': 8, 'l2_leaf_reg': 1.6541118724544779, 'border_count': 144}. Best is trial 31 with value: 0.47824402840542285.\n",
            "[I 2023-07-01 11:33:46,215] Trial 85 finished with value: 0.47088444157520987 and parameters: {'iterations': 227, 'learning_rate': 0.05128030816312107, 'depth': 9, 'l2_leaf_reg': 2.2381080820808044, 'border_count': 78}. Best is trial 31 with value: 0.47824402840542285.\n",
            "[I 2023-07-01 11:33:52,991] Trial 86 finished with value: 0.4679147837314396 and parameters: {'iterations': 53, 'learning_rate': 0.04662977495332096, 'depth': 8, 'l2_leaf_reg': 3.019109051613586, 'border_count': 115}. Best is trial 31 with value: 0.47824402840542285.\n",
            "[I 2023-07-01 11:34:01,148] Trial 87 finished with value: 0.4668818592640413 and parameters: {'iterations': 1005, 'learning_rate': 0.03681529981133315, 'depth': 10, 'l2_leaf_reg': 1.2586823932667155, 'border_count': 122}. Best is trial 31 with value: 0.47824402840542285.\n",
            "[I 2023-07-01 11:34:08,024] Trial 88 finished with value: 0.4704970948999354 and parameters: {'iterations': 425, 'learning_rate': 0.04034073010700502, 'depth': 8, 'l2_leaf_reg': 2.0309405290955427, 'border_count': 140}. Best is trial 31 with value: 0.47824402840542285.\n",
            "[I 2023-07-01 11:34:15,411] Trial 89 finished with value: 0.4704970948999354 and parameters: {'iterations': 788, 'learning_rate': 0.05304048224910105, 'depth': 9, 'l2_leaf_reg': 2.5498832431850667, 'border_count': 128}. Best is trial 31 with value: 0.47824402840542285.\n",
            "[I 2023-07-01 11:34:22,217] Trial 90 finished with value: 0.47075532601678505 and parameters: {'iterations': 3979, 'learning_rate': 0.0494758242187731, 'depth': 8, 'l2_leaf_reg': 2.777943941154143, 'border_count': 133}. Best is trial 31 with value: 0.47824402840542285.\n",
            "[I 2023-07-01 11:34:28,994] Trial 91 finished with value: 0.4755326016785023 and parameters: {'iterations': 361, 'learning_rate': 0.053442738997017826, 'depth': 8, 'l2_leaf_reg': 2.392671715925148, 'border_count': 244}. Best is trial 31 with value: 0.47824402840542285.\n",
            "[I 2023-07-01 11:34:35,756] Trial 92 finished with value: 0.4761781794706262 and parameters: {'iterations': 311, 'learning_rate': 0.04847424762019403, 'depth': 8, 'l2_leaf_reg': 2.222863115925956, 'border_count': 243}. Best is trial 31 with value: 0.47824402840542285.\n",
            "[I 2023-07-01 11:34:42,483] Trial 93 finished with value: 0.47333763718528077 and parameters: {'iterations': 304, 'learning_rate': 0.04931050467679696, 'depth': 8, 'l2_leaf_reg': 2.232912415804951, 'border_count': 231}. Best is trial 31 with value: 0.47824402840542285.\n",
            "[I 2023-07-01 11:34:49,210] Trial 94 finished with value: 0.47282117495158166 and parameters: {'iterations': 560, 'learning_rate': 0.052847058476231404, 'depth': 8, 'l2_leaf_reg': 1.8761420373777506, 'border_count': 238}. Best is trial 31 with value: 0.47824402840542285.\n",
            "[I 2023-07-01 11:34:55,858] Trial 95 finished with value: 0.46559070367979344 and parameters: {'iterations': 669, 'learning_rate': 0.05565948996027556, 'depth': 8, 'l2_leaf_reg': 1.5303193286316805, 'border_count': 241}. Best is trial 31 with value: 0.47824402840542285.\n",
            "[I 2023-07-01 11:35:02,839] Trial 96 finished with value: 0.47643641058747577 and parameters: {'iterations': 1470, 'learning_rate': 0.04246760653655437, 'depth': 8, 'l2_leaf_reg': 2.3929341090600826, 'border_count': 103}. Best is trial 31 with value: 0.47824402840542285.\n",
            "[I 2023-07-01 11:35:09,085] Trial 97 finished with value: 0.4641704325371207 and parameters: {'iterations': 1412, 'learning_rate': 0.04220572673789014, 'depth': 3, 'l2_leaf_reg': 2.400428204403446, 'border_count': 110}. Best is trial 31 with value: 0.47824402840542285.\n",
            "[I 2023-07-01 11:35:15,896] Trial 98 finished with value: 0.4724338282763073 and parameters: {'iterations': 179, 'learning_rate': 0.044486589294233145, 'depth': 8, 'l2_leaf_reg': 2.6759800691987707, 'border_count': 96}. Best is trial 31 with value: 0.47824402840542285.\n",
            "[I 2023-07-01 11:35:22,578] Trial 99 finished with value: 0.46920593931568755 and parameters: {'iterations': 1211, 'learning_rate': 0.03969810758849992, 'depth': 7, 'l2_leaf_reg': 1.9400774630129043, 'border_count': 116}. Best is trial 31 with value: 0.47824402840542285.\n"
          ]
        },
        {
          "output_type": "stream",
          "name": "stdout",
          "text": [
            "Best Parameters: {'iterations': 1721, 'learning_rate': 0.049627662077003816, 'depth': 8, 'l2_leaf_reg': 2.2763608031118214, 'border_count': 253}\n"
          ]
        }
      ]
    },
    {
      "cell_type": "code",
      "source": [
        "clf = cb.CatBoostClassifier(**best_params)\n",
        "\n",
        "clf"
      ],
      "metadata": {
        "colab": {
          "base_uri": "https://localhost:8080/"
        },
        "id": "K1vu_S6XLFBJ",
        "outputId": "6b3576f9-c690-4a38-fd84-efe43ee1ac2a"
      },
      "execution_count": 20,
      "outputs": [
        {
          "output_type": "execute_result",
          "data": {
            "text/plain": [
              "<catboost.core.CatBoostClassifier at 0x7f853fd343d0>"
            ]
          },
          "metadata": {},
          "execution_count": 20
        }
      ]
    },
    {
      "cell_type": "code",
      "source": [],
      "metadata": {
        "id": "y8GydXZOLWya"
      },
      "execution_count": null,
      "outputs": []
    }
  ]
}