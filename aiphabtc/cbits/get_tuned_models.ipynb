{
  "cells": [
    {
      "cell_type": "code",
      "execution_count": 1,
      "metadata": {
        "id": "xqO73PkSGZH3"
      },
      "outputs": [],
      "source": [
        "import pandas as pd\n",
        "import numpy as np\n",
        "import os\n",
        "\n",
        "chart_df = pd.read_csv(\"/content/drive/MyDrive/chart_with_sentiment_scores.csv\")"
      ]
    },
    {
      "cell_type": "code",
      "execution_count": 4,
      "metadata": {
        "colab": {
          "base_uri": "https://localhost:8080/",
          "height": 49,
          "referenced_widgets": [
            "ba8a195d2c6a4b8396ae2e5c8c140780",
            "3a65f6ec0cdd440cae73b71117db6b24",
            "17537434bf304ef2a6f071b6391ee967",
            "3f3c2b62d2304a5c9f14a8863d958cd3",
            "3d59a26f6d6d413aa7caef9ca3517118",
            "11d960be8c8c4fa6937d61743da5a5d0",
            "0208bed3d4e844478206e6a4ced82227",
            "86c8630eb6e84d349a5d32b4cf48439c",
            "8cec277d8fb5495aac7628232755a801",
            "5eecb2a210674f1fad8371e70ced0d39",
            "3afd9bb042e64adeaa7695ffcb67be98"
          ]
        },
        "id": "MgX7GpBMHX9m",
        "outputId": "02c530b8-b759-4727-a260-0d83b62c1d10"
      },
      "outputs": [
        {
          "output_type": "display_data",
          "data": {
            "text/plain": [
              "  0%|          | 0/9335 [00:00<?, ?it/s]"
            ],
            "application/vnd.jupyter.widget-view+json": {
              "version_major": 2,
              "version_minor": 0,
              "model_id": "ba8a195d2c6a4b8396ae2e5c8c140780"
            }
          },
          "metadata": {}
        }
      ],
      "source": [
        "import pandas_ta as ta\n",
        "from tqdm.auto import tqdm\n",
        "hours, days, months = [], [], []\n",
        "for dt in tqdm(chart_df[\"datetime\"]):\n",
        "  dtobj = pd.to_datetime(dt)\n",
        "  hours.append(dtobj.hour)\n",
        "  days.append(dtobj.day)\n",
        "  months.append(dtobj.month)\n",
        "\n",
        "chart_df[\"hours\"] = hours\n",
        "chart_df[\"days\"] = days\n",
        "chart_df[\"months\"] = months\n",
        "\n",
        "chart_df[\"ebsw\"] = chart_df.ta.ebsw(lookahead=False)\n",
        "chart_df[\"cmf\"] = chart_df.ta.cmf(lookahead=False)\n",
        "chart_df[\"bop\"] = chart_df.ta.bop(lookahead=False)\n",
        "chart_df[\"rsi/100\"] = chart_df.ta.rsi(lookahead=False) / 100.0\n",
        "chart_df[\"hwma\"] = chart_df.ta.hwma(lookahead=False)\n",
        "chart_df[\"linreg\"] = chart_df.ta.linreg(lookahead=False)\n",
        "chart_df[\"hwma/close\"] = chart_df[\"hwma\"] / chart_df[\"close\"]\n",
        "chart_df[\"linreg/close\"] = chart_df[\"linreg\"] / chart_df[\"close\"]\n",
        "chart_df[\"high/low\"] = chart_df[\"high\"] / chart_df[\"low\"]\n",
        "chart_df[\"high/open\"] = chart_df[\"high\"] / chart_df[\"open\"]\n",
        "chart_df[\"low/open\"] = chart_df[\"low\"] / chart_df[\"open\"]\n",
        "chart_df[\"close/open\"] = chart_df[\"close\"] / chart_df[\"open\"]\n",
        "chart_df[\"high/close\"] = chart_df[\"high\"] / chart_df[\"close\"]\n",
        "chart_df[\"low/close\"]  = chart_df[\"low\"] / chart_df[\"close\"]\n",
        "\n",
        "for l in range(1, 6):\n",
        "  for col in [\"open\", \"high\", \"low\", \"close\", \"volume\"]:\n",
        "    val = chart_df[col].values\n",
        "    val_ret = [None for _ in range(l)]\n",
        "    for i in range(l, len(val)):\n",
        "      if val[i-l] == 0:\n",
        "        ret = 1\n",
        "      else:\n",
        "        ret = val[i] / val[i-l]\n",
        "      val_ret.append(ret)\n",
        "    chart_df[f\"{col}_change_{l}\"] = val_ret\n",
        "\n",
        "chart_df = chart_df.drop(columns={\"datetime\", \"open\", \"high\", \"low\", \"close\", \"volume\", \"linreg\", \"hwma\"})"
      ]
    },
    {
      "cell_type": "code",
      "execution_count": 5,
      "metadata": {
        "id": "gy-tEKuIHaXZ"
      },
      "outputs": [],
      "source": [
        "chart_df.dropna(inplace=True)\n",
        "\n",
        "train_columns = []\n",
        "\n",
        "for col in chart_df.columns:\n",
        "  if col != \"targets\":\n",
        "    train_columns.append(col)\n",
        "\n",
        "X = chart_df[train_columns]\n",
        "Y = chart_df[\"targets\"]"
      ]
    },
    {
      "cell_type": "markdown",
      "metadata": {
        "id": "KCv9kggDH-Qe"
      },
      "source": [
        "# Train XGBoost"
      ]
    },
    {
      "cell_type": "code",
      "execution_count": null,
      "metadata": {
        "colab": {
          "base_uri": "https://localhost:8080/"
        },
        "id": "xaUcFyGPHkHj",
        "outputId": "fd80aeb5-4de3-46b7-aa85-5f5c42ebd483"
      },
      "outputs": [
        {
          "name": "stdout",
          "output_type": "stream",
          "text": [
            "[0]\tvalidation_0-merror:0.39619\n",
            "[100]\tvalidation_0-merror:0.19213\n",
            "[200]\tvalidation_0-merror:0.15491\n",
            "[300]\tvalidation_0-merror:0.13554\n",
            "[400]\tvalidation_0-merror:0.12478\n",
            "[500]\tvalidation_0-merror:0.12059\n",
            "[600]\tvalidation_0-merror:0.11747\n",
            "[700]\tvalidation_0-merror:0.11510\n",
            "[800]\tvalidation_0-merror:0.11521\n",
            "[900]\tvalidation_0-merror:0.11252\n",
            "[1000]\tvalidation_0-merror:0.11284\n",
            "[1100]\tvalidation_0-merror:0.11231\n",
            "[1200]\tvalidation_0-merror:0.11177\n",
            "[1300]\tvalidation_0-merror:0.11112\n",
            "[1400]\tvalidation_0-merror:0.11015\n",
            "[1500]\tvalidation_0-merror:0.10951\n",
            "[1600]\tvalidation_0-merror:0.10983\n",
            "[1700]\tvalidation_0-merror:0.10929\n",
            "[1800]\tvalidation_0-merror:0.10811\n",
            "[1846]\tvalidation_0-merror:0.10768\n"
          ]
        }
      ],
      "source": [
        "import xgboost as xgb\n",
        "\n",
        "xgboost_best_params = {'subsample': 0.7794564925617046,\n",
        "                       'colsample_bytree': 0.9953018636025351,\n",
        "                       'max_depth': 9,\n",
        "                       'learning_rate': 0.013138686044784876,\n",
        "                       'min_child_weight': 9.040062755238312,\n",
        "                       'gamma': 2.1660919252569797,\n",
        "                       'n_estimators': 1847,\n",
        "                       'objective': \"multi:softmax\",\n",
        "                       'num_class': 3,\n",
        "                       'eval_metric': 'merror',\n",
        "                       'tree_method': 'gpu_hist'}\n",
        "\n",
        "clf = xgb.XGBClassifier(**xgboost_best_params)\n",
        "clf.fit(X, Y, eval_set=[(X, Y)], verbose=100)\n",
        "clf.save_model(\"xgboost_20230703\")"
      ]
    },
    {
      "cell_type": "markdown",
      "metadata": {
        "id": "jfteJDKFIBVW"
      },
      "source": [
        "# Train LightGBM"
      ]
    },
    {
      "cell_type": "code",
      "execution_count": null,
      "metadata": {
        "colab": {
          "base_uri": "https://localhost:8080/"
        },
        "id": "eccxkXi3ICJu",
        "outputId": "8ddc52a6-313c-4250-8ec8-04e0ea43ded6"
      },
      "outputs": [
        {
          "name": "stderr",
          "output_type": "stream",
          "text": [
            "/usr/local/lib/python3.10/dist-packages/lightgbm/sklearn.py:736: UserWarning: 'verbose' argument is deprecated and will be removed in a future release of LightGBM. Pass 'log_evaluation()' callback via 'callbacks' argument instead.\n",
            "  _log_warning(\"'verbose' argument is deprecated and will be removed in a future release of LightGBM. \"\n"
          ]
        },
        {
          "name": "stdout",
          "output_type": "stream",
          "text": [
            "[100]\ttraining's multi_logloss: 0.902585\n",
            "[200]\ttraining's multi_logloss: 0.81345\n"
          ]
        },
        {
          "data": {
            "text/plain": [
              "<lightgbm.basic.Booster at 0x7f7c7c079cf0>"
            ]
          },
          "execution_count": 14,
          "metadata": {},
          "output_type": "execute_result"
        }
      ],
      "source": [
        "import lightgbm as lgb\n",
        "\n",
        "lightgbm_best_params = {'num_leaves': 98,\n",
        "                        'learning_rate': 0.010726258300226442,\n",
        "                                         'max_depth': 6,\n",
        "                                         'min_child_samples': 4,\n",
        "                                         'subsample': 0.6186710352439998,\n",
        "                                         'colsample_bytree': 0.5690642326572914,\n",
        "                                         'reg_alpha': 0.37843237624912734,\n",
        "                                         'reg_lambda': 0.14538913425870043,\n",
        "                                         'n_estimators': 255,\n",
        "                                         'objective': 'multiclass',\n",
        "                                         'num_class': 3,\n",
        "                                         'metric': 'multi_logloss',\n",
        "                                         'boosting_type': 'gbdt',\n",
        "                                         'random_state': 42}\n",
        "\n",
        "lgb_clf = lgb.LGBMClassifier(**lightgbm_best_params)\n",
        "lgb_clf.fit(X, Y, eval_set=[(X, Y)], verbose=100)\n",
        "lgb_clf.booster_.save_model(\"lightgbm_20230703\")"
      ]
    },
    {
      "cell_type": "markdown",
      "metadata": {
        "id": "BEdTPT74ICid"
      },
      "source": [
        "# Train CatBoost"
      ]
    },
    {
      "cell_type": "code",
      "execution_count": null,
      "metadata": {
        "colab": {
          "base_uri": "https://localhost:8080/"
        },
        "id": "aiNxbiViN6uJ",
        "outputId": "c0e7ba99-3320-4a7d-eb87-6eabfe00e715"
      },
      "outputs": [
        {
          "name": "stdout",
          "output_type": "stream",
          "text": [
            "Collecting catboost\n",
            "  Downloading catboost-1.2-cp310-cp310-manylinux2014_x86_64.whl (98.6 MB)\n",
            "\u001b[2K     \u001b[90m━━━━━━━━━━━━━━━━━━━━━━━━━━━━━━━━━━━━━━━━\u001b[0m \u001b[32m98.6/98.6 MB\u001b[0m \u001b[31m17.6 MB/s\u001b[0m eta \u001b[36m0:00:00\u001b[0m\n",
            "\u001b[?25hRequirement already satisfied: graphviz in /usr/local/lib/python3.10/dist-packages (from catboost) (0.20.1)\n",
            "Requirement already satisfied: matplotlib in /usr/local/lib/python3.10/dist-packages (from catboost) (3.7.1)\n",
            "Requirement already satisfied: numpy>=1.16.0 in /usr/local/lib/python3.10/dist-packages (from catboost) (1.22.4)\n",
            "Requirement already satisfied: pandas>=0.24 in /usr/local/lib/python3.10/dist-packages (from catboost) (1.5.3)\n",
            "Requirement already satisfied: scipy in /usr/local/lib/python3.10/dist-packages (from catboost) (1.10.1)\n",
            "Requirement already satisfied: plotly in /usr/local/lib/python3.10/dist-packages (from catboost) (5.13.1)\n",
            "Requirement already satisfied: six in /usr/local/lib/python3.10/dist-packages (from catboost) (1.16.0)\n",
            "Requirement already satisfied: python-dateutil>=2.8.1 in /usr/local/lib/python3.10/dist-packages (from pandas>=0.24->catboost) (2.8.2)\n",
            "Requirement already satisfied: pytz>=2020.1 in /usr/local/lib/python3.10/dist-packages (from pandas>=0.24->catboost) (2022.7.1)\n",
            "Requirement already satisfied: contourpy>=1.0.1 in /usr/local/lib/python3.10/dist-packages (from matplotlib->catboost) (1.1.0)\n",
            "Requirement already satisfied: cycler>=0.10 in /usr/local/lib/python3.10/dist-packages (from matplotlib->catboost) (0.11.0)\n",
            "Requirement already satisfied: fonttools>=4.22.0 in /usr/local/lib/python3.10/dist-packages (from matplotlib->catboost) (4.40.0)\n",
            "Requirement already satisfied: kiwisolver>=1.0.1 in /usr/local/lib/python3.10/dist-packages (from matplotlib->catboost) (1.4.4)\n",
            "Requirement already satisfied: packaging>=20.0 in /usr/local/lib/python3.10/dist-packages (from matplotlib->catboost) (23.1)\n",
            "Requirement already satisfied: pillow>=6.2.0 in /usr/local/lib/python3.10/dist-packages (from matplotlib->catboost) (8.4.0)\n",
            "Requirement already satisfied: pyparsing>=2.3.1 in /usr/local/lib/python3.10/dist-packages (from matplotlib->catboost) (3.1.0)\n",
            "Requirement already satisfied: tenacity>=6.2.0 in /usr/local/lib/python3.10/dist-packages (from plotly->catboost) (8.2.2)\n",
            "Installing collected packages: catboost\n",
            "Successfully installed catboost-1.2\n"
          ]
        }
      ],
      "source": [
        "!pip install catboost"
      ]
    },
    {
      "cell_type": "code",
      "execution_count": null,
      "metadata": {
        "colab": {
          "base_uri": "https://localhost:8080/"
        },
        "id": "HgJQojnIIDWW",
        "outputId": "8d0f39ad-f229-4002-dd0c-93139a9cb50b"
      },
      "outputs": [
        {
          "name": "stdout",
          "output_type": "stream",
          "text": [
            "0:\tlearn: 0.4949441\ttest: 0.4949441\tbest: 0.4949441 (0)\ttotal: 10.5ms\tremaining: 18.1s\n",
            "100:\tlearn: 0.6983649\ttest: 0.6983649\tbest: 0.6983649 (100)\ttotal: 834ms\tremaining: 13.4s\n",
            "200:\tlearn: 0.7806583\ttest: 0.7806583\tbest: 0.7806583 (200)\ttotal: 1.64s\tremaining: 12.4s\n",
            "300:\tlearn: 0.8447719\ttest: 0.8447719\tbest: 0.8447719 (300)\ttotal: 2.45s\tremaining: 11.6s\n",
            "400:\tlearn: 0.8841437\ttest: 0.8841437\tbest: 0.8841437 (400)\ttotal: 3.24s\tremaining: 10.7s\n",
            "500:\tlearn: 0.9170611\ttest: 0.9170611\tbest: 0.9170611 (500)\ttotal: 4.03s\tremaining: 9.8s\n",
            "600:\tlearn: 0.9430938\ttest: 0.9430938\tbest: 0.9430938 (598)\ttotal: 4.83s\tremaining: 8.99s\n",
            "700:\tlearn: 0.9634251\ttest: 0.9634251\tbest: 0.9634251 (700)\ttotal: 5.62s\tremaining: 8.17s\n",
            "800:\tlearn: 0.9757960\ttest: 0.9757960\tbest: 0.9757960 (798)\ttotal: 6.43s\tremaining: 7.39s\n",
            "900:\tlearn: 0.9854776\ttest: 0.9854776\tbest: 0.9855852 (899)\ttotal: 7.23s\tremaining: 6.58s\n",
            "1000:\tlearn: 0.9909639\ttest: 0.9909639\tbest: 0.9911790 (997)\ttotal: 8.04s\tremaining: 5.79s\n",
            "1100:\tlearn: 0.9951592\ttest: 0.9951592\tbest: 0.9951592 (1095)\ttotal: 8.86s\tremaining: 4.99s\n",
            "1200:\tlearn: 0.9963425\ttest: 0.9963425\tbest: 0.9963425 (1200)\ttotal: 9.65s\tremaining: 4.18s\n",
            "1300:\tlearn: 0.9976334\ttest: 0.9976334\tbest: 0.9976334 (1292)\ttotal: 10.5s\tremaining: 3.37s\n",
            "1400:\tlearn: 0.9989243\ttest: 0.9989243\tbest: 0.9989243 (1392)\ttotal: 11.3s\tremaining: 2.57s\n",
            "1500:\tlearn: 0.9993546\ttest: 0.9993546\tbest: 0.9993546 (1444)\ttotal: 12s\tremaining: 1.76s\n",
            "1600:\tlearn: 0.9996773\ttest: 0.9996773\tbest: 0.9996773 (1573)\ttotal: 12.8s\tremaining: 961ms\n",
            "1700:\tlearn: 0.9997849\ttest: 0.9997849\tbest: 0.9997849 (1661)\ttotal: 13.6s\tremaining: 160ms\n",
            "1720:\tlearn: 0.9997849\ttest: 0.9997849\tbest: 0.9997849 (1661)\ttotal: 13.8s\tremaining: 0us\n",
            "bestTest = 0.9997848537\n",
            "bestIteration = 1661\n",
            "Shrink model to first 1662 iterations.\n",
            "done saving!\n"
          ]
        }
      ],
      "source": [
        "import catboost as cb\n",
        "\n",
        "catboost_best_params = {'iterations': 1721,\n",
        "                        'learning_rate': 0.049627662077003816,\n",
        "                        'depth': 8,\n",
        "                        'l2_leaf_reg': 2.2763608031118214,\n",
        "                        'border_count': 253,\n",
        "                        'task_type': 'GPU',\n",
        "                        'loss_function': \"MultiClass\",\n",
        "                        'eval_metric': \"Accuracy\",\n",
        "                        'random_seed': 42,\n",
        "                        'verbose': False}\n",
        "\n",
        "cb_clf = cb.CatBoostClassifier(**catboost_best_params)\n",
        "cb_clf.fit(X, Y, eval_set=(X, Y), verbose=100)\n",
        "cb_clf.save_model(\"catboost_20230703\")\n",
        "print(\"done saving!\")"
      ]
    },
    {
      "cell_type": "markdown",
      "metadata": {
        "id": "D4OIS536IDty"
      },
      "source": [
        "# Train TabNet"
      ]
    },
    {
      "cell_type": "code",
      "source": [
        "!nvidia-smi"
      ],
      "metadata": {
        "colab": {
          "base_uri": "https://localhost:8080/"
        },
        "id": "razvvyrrs0aE",
        "outputId": "60b7e4f6-c00c-4cfa-f4c2-a52cbc11a148"
      },
      "execution_count": 6,
      "outputs": [
        {
          "output_type": "stream",
          "name": "stdout",
          "text": [
            "Mon Jul  3 03:02:09 2023       \n",
            "+-----------------------------------------------------------------------------+\n",
            "| NVIDIA-SMI 525.85.12    Driver Version: 525.85.12    CUDA Version: 12.0     |\n",
            "|-------------------------------+----------------------+----------------------+\n",
            "| GPU  Name        Persistence-M| Bus-Id        Disp.A | Volatile Uncorr. ECC |\n",
            "| Fan  Temp  Perf  Pwr:Usage/Cap|         Memory-Usage | GPU-Util  Compute M. |\n",
            "|                               |                      |               MIG M. |\n",
            "|===============================+======================+======================|\n",
            "|   0  Tesla T4            Off  | 00000000:00:04.0 Off |                    0 |\n",
            "| N/A   34C    P8     9W /  70W |      0MiB / 15360MiB |      0%      Default |\n",
            "|                               |                      |                  N/A |\n",
            "+-------------------------------+----------------------+----------------------+\n",
            "                                                                               \n",
            "+-----------------------------------------------------------------------------+\n",
            "| Processes:                                                                  |\n",
            "|  GPU   GI   CI        PID   Type   Process name                  GPU Memory |\n",
            "|        ID   ID                                                   Usage      |\n",
            "|=============================================================================|\n",
            "|  No running processes found                                                 |\n",
            "+-----------------------------------------------------------------------------+\n"
          ]
        }
      ]
    },
    {
      "cell_type": "code",
      "source": [],
      "metadata": {
        "id": "fT-s2jfGs5cx"
      },
      "execution_count": null,
      "outputs": []
    },
    {
      "cell_type": "code",
      "execution_count": 7,
      "metadata": {
        "colab": {
          "base_uri": "https://localhost:8080/"
        },
        "id": "59L13RyTIEnl",
        "outputId": "69aaaab0-bb36-4088-e961-047cea5d43ab"
      },
      "outputs": [
        {
          "output_type": "stream",
          "name": "stderr",
          "text": [
            "/usr/local/lib/python3.10/dist-packages/pytorch_tabnet/abstract_model.py:75: UserWarning: Device used : cuda\n",
            "  warnings.warn(f\"Device used : {self.device}\")\n"
          ]
        },
        {
          "output_type": "stream",
          "name": "stdout",
          "text": [
            "epoch 0  | loss: 1.53812 | val_0_balanced_accuracy: 0.33588 |  0:00:09s\n",
            "epoch 5  | loss: 1.05661 | val_0_balanced_accuracy: 0.43924 |  0:00:51s\n",
            "epoch 10 | loss: 1.0354  | val_0_balanced_accuracy: 0.459   |  0:01:33s\n",
            "epoch 15 | loss: 1.0143  | val_0_balanced_accuracy: 0.47254 |  0:02:14s\n",
            "epoch 20 | loss: 1.00296 | val_0_balanced_accuracy: 0.46627 |  0:02:56s\n",
            "epoch 25 | loss: 0.99411 | val_0_balanced_accuracy: 0.48181 |  0:03:37s\n",
            "epoch 30 | loss: 0.98613 | val_0_balanced_accuracy: 0.48019 |  0:04:18s\n",
            "epoch 35 | loss: 0.97851 | val_0_balanced_accuracy: 0.48904 |  0:05:00s\n",
            "epoch 40 | loss: 0.97572 | val_0_balanced_accuracy: 0.49412 |  0:05:41s\n",
            "epoch 45 | loss: 0.96837 | val_0_balanced_accuracy: 0.49736 |  0:06:23s\n",
            "epoch 50 | loss: 0.96577 | val_0_balanced_accuracy: 0.501   |  0:07:04s\n",
            "epoch 55 | loss: 0.96194 | val_0_balanced_accuracy: 0.49709 |  0:07:45s\n",
            "epoch 60 | loss: 0.95595 | val_0_balanced_accuracy: 0.51171 |  0:08:27s\n",
            "epoch 65 | loss: 0.95594 | val_0_balanced_accuracy: 0.5106  |  0:09:08s\n",
            "epoch 70 | loss: 0.95123 | val_0_balanced_accuracy: 0.51709 |  0:09:50s\n",
            "epoch 75 | loss: 0.94954 | val_0_balanced_accuracy: 0.5105  |  0:10:31s\n",
            "epoch 80 | loss: 0.94456 | val_0_balanced_accuracy: 0.51128 |  0:11:12s\n",
            "epoch 85 | loss: 0.93965 | val_0_balanced_accuracy: 0.52289 |  0:11:54s\n",
            "epoch 90 | loss: 0.94284 | val_0_balanced_accuracy: 0.51773 |  0:12:35s\n",
            "epoch 95 | loss: 0.93674 | val_0_balanced_accuracy: 0.51013 |  0:13:16s\n",
            "epoch 100| loss: 0.94053 | val_0_balanced_accuracy: 0.50831 |  0:13:58s\n",
            "epoch 105| loss: 0.93547 | val_0_balanced_accuracy: 0.52452 |  0:14:39s\n",
            "epoch 110| loss: 0.93846 | val_0_balanced_accuracy: 0.51736 |  0:15:21s\n",
            "epoch 115| loss: 0.93542 | val_0_balanced_accuracy: 0.52576 |  0:16:02s\n",
            "epoch 120| loss: 0.93272 | val_0_balanced_accuracy: 0.52601 |  0:16:43s\n",
            "epoch 125| loss: 0.93136 | val_0_balanced_accuracy: 0.52053 |  0:17:25s\n",
            "epoch 130| loss: 0.92746 | val_0_balanced_accuracy: 0.52118 |  0:18:06s\n",
            "epoch 135| loss: 0.92293 | val_0_balanced_accuracy: 0.53321 |  0:18:47s\n",
            "epoch 140| loss: 0.92486 | val_0_balanced_accuracy: 0.52663 |  0:19:29s\n",
            "epoch 145| loss: 0.91948 | val_0_balanced_accuracy: 0.5339  |  0:20:10s\n",
            "epoch 150| loss: 0.92243 | val_0_balanced_accuracy: 0.53479 |  0:20:51s\n",
            "epoch 155| loss: 0.91755 | val_0_balanced_accuracy: 0.5319  |  0:21:33s\n",
            "epoch 160| loss: 0.91451 | val_0_balanced_accuracy: 0.52973 |  0:22:14s\n",
            "epoch 165| loss: 0.91794 | val_0_balanced_accuracy: 0.53234 |  0:22:56s\n",
            "epoch 170| loss: 0.91772 | val_0_balanced_accuracy: 0.53771 |  0:23:37s\n",
            "epoch 175| loss: 0.90817 | val_0_balanced_accuracy: 0.53669 |  0:24:19s\n",
            "epoch 180| loss: 0.91035 | val_0_balanced_accuracy: 0.54042 |  0:25:00s\n",
            "epoch 185| loss: 0.90562 | val_0_balanced_accuracy: 0.54212 |  0:25:41s\n",
            "Stop training because you reached max_epochs = 187 with best_epoch = 173 and best_val_0_balanced_accuracy = 0.54277\n"
          ]
        },
        {
          "output_type": "stream",
          "name": "stderr",
          "text": [
            "/usr/local/lib/python3.10/dist-packages/pytorch_tabnet/callbacks.py:172: UserWarning: Best weights from best epoch are automatically used!\n",
            "  warnings.warn(wrn_msg)\n"
          ]
        }
      ],
      "source": [
        "from pytorch_tabnet.tab_model import TabNetClassifier\n",
        "import torch\n",
        "import torch.nn as nn\n",
        "import torch.optim as optim\n",
        "from torch.utils.data import DataLoader\n",
        "\n",
        "best_tabnet_params = {'n_d': 16,\n",
        "                      'n_a': 16,\n",
        "                      'n_steps': 3,\n",
        "                      'gamma': 1.3776893571377133,\n",
        "                      'mask_type': 'sparsemax'\n",
        "                      }\n",
        "\n",
        "model = TabNetClassifier(**best_tabnet_params,\n",
        "                        optimizer_fn=optim.Adam,\n",
        "                        optimizer_params=dict(lr=1e-3),\n",
        "                        device_name = \"cuda\" if torch.cuda.is_available() else \"cpu\",\n",
        "                        verbose=5)\n",
        "\n",
        "model.fit(X.values,\n",
        "         Y.values,\n",
        "         eval_set=[(X.values, Y.values)],\n",
        "         eval_metric = [\"balanced_accuracy\"],\n",
        "         patience=100,\n",
        "         batch_size=32,\n",
        "         virtual_batch_size = 32,\n",
        "         num_workers = 0,\n",
        "         max_epochs=187,\n",
        "         drop_last = False\n",
        ")"
      ]
    },
    {
      "cell_type": "code",
      "execution_count": 8,
      "metadata": {
        "colab": {
          "base_uri": "https://localhost:8080/"
        },
        "id": "h-alLXUYP098",
        "outputId": "3ce78bcc-07be-4a6b-e20c-9ab54f21cf16"
      },
      "outputs": [
        {
          "output_type": "stream",
          "name": "stdout",
          "text": [
            "Successfully saved model at /content/drive/MyDrive/tabnet_20230703.zip\n",
            "done saving!\n"
          ]
        }
      ],
      "source": [
        "model.save_model(\"/content/drive/MyDrive/tabnet_20230703\")\n",
        "print(\"done saving!\")"
      ]
    },
    {
      "cell_type": "code",
      "execution_count": null,
      "metadata": {
        "id": "ZVqWY9HdQx1E"
      },
      "outputs": [],
      "source": []
    }
  ],
  "metadata": {
    "accelerator": "GPU",
    "colab": {
      "machine_shape": "hm",
      "provenance": [],
      "gpuType": "A100"
    },
    "kernelspec": {
      "display_name": "Python 3",
      "name": "python3"
    },
    "language_info": {
      "name": "python"
    },
    "widgets": {
      "application/vnd.jupyter.widget-state+json": {
        "ba8a195d2c6a4b8396ae2e5c8c140780": {
          "model_module": "@jupyter-widgets/controls",
          "model_name": "HBoxModel",
          "model_module_version": "1.5.0",
          "state": {
            "_dom_classes": [],
            "_model_module": "@jupyter-widgets/controls",
            "_model_module_version": "1.5.0",
            "_model_name": "HBoxModel",
            "_view_count": null,
            "_view_module": "@jupyter-widgets/controls",
            "_view_module_version": "1.5.0",
            "_view_name": "HBoxView",
            "box_style": "",
            "children": [
              "IPY_MODEL_3a65f6ec0cdd440cae73b71117db6b24",
              "IPY_MODEL_17537434bf304ef2a6f071b6391ee967",
              "IPY_MODEL_3f3c2b62d2304a5c9f14a8863d958cd3"
            ],
            "layout": "IPY_MODEL_3d59a26f6d6d413aa7caef9ca3517118"
          }
        },
        "3a65f6ec0cdd440cae73b71117db6b24": {
          "model_module": "@jupyter-widgets/controls",
          "model_name": "HTMLModel",
          "model_module_version": "1.5.0",
          "state": {
            "_dom_classes": [],
            "_model_module": "@jupyter-widgets/controls",
            "_model_module_version": "1.5.0",
            "_model_name": "HTMLModel",
            "_view_count": null,
            "_view_module": "@jupyter-widgets/controls",
            "_view_module_version": "1.5.0",
            "_view_name": "HTMLView",
            "description": "",
            "description_tooltip": null,
            "layout": "IPY_MODEL_11d960be8c8c4fa6937d61743da5a5d0",
            "placeholder": "​",
            "style": "IPY_MODEL_0208bed3d4e844478206e6a4ced82227",
            "value": "100%"
          }
        },
        "17537434bf304ef2a6f071b6391ee967": {
          "model_module": "@jupyter-widgets/controls",
          "model_name": "FloatProgressModel",
          "model_module_version": "1.5.0",
          "state": {
            "_dom_classes": [],
            "_model_module": "@jupyter-widgets/controls",
            "_model_module_version": "1.5.0",
            "_model_name": "FloatProgressModel",
            "_view_count": null,
            "_view_module": "@jupyter-widgets/controls",
            "_view_module_version": "1.5.0",
            "_view_name": "ProgressView",
            "bar_style": "success",
            "description": "",
            "description_tooltip": null,
            "layout": "IPY_MODEL_86c8630eb6e84d349a5d32b4cf48439c",
            "max": 9335,
            "min": 0,
            "orientation": "horizontal",
            "style": "IPY_MODEL_8cec277d8fb5495aac7628232755a801",
            "value": 9335
          }
        },
        "3f3c2b62d2304a5c9f14a8863d958cd3": {
          "model_module": "@jupyter-widgets/controls",
          "model_name": "HTMLModel",
          "model_module_version": "1.5.0",
          "state": {
            "_dom_classes": [],
            "_model_module": "@jupyter-widgets/controls",
            "_model_module_version": "1.5.0",
            "_model_name": "HTMLModel",
            "_view_count": null,
            "_view_module": "@jupyter-widgets/controls",
            "_view_module_version": "1.5.0",
            "_view_name": "HTMLView",
            "description": "",
            "description_tooltip": null,
            "layout": "IPY_MODEL_5eecb2a210674f1fad8371e70ced0d39",
            "placeholder": "​",
            "style": "IPY_MODEL_3afd9bb042e64adeaa7695ffcb67be98",
            "value": " 9335/9335 [00:00&lt;00:00, 15768.72it/s]"
          }
        },
        "3d59a26f6d6d413aa7caef9ca3517118": {
          "model_module": "@jupyter-widgets/base",
          "model_name": "LayoutModel",
          "model_module_version": "1.2.0",
          "state": {
            "_model_module": "@jupyter-widgets/base",
            "_model_module_version": "1.2.0",
            "_model_name": "LayoutModel",
            "_view_count": null,
            "_view_module": "@jupyter-widgets/base",
            "_view_module_version": "1.2.0",
            "_view_name": "LayoutView",
            "align_content": null,
            "align_items": null,
            "align_self": null,
            "border": null,
            "bottom": null,
            "display": null,
            "flex": null,
            "flex_flow": null,
            "grid_area": null,
            "grid_auto_columns": null,
            "grid_auto_flow": null,
            "grid_auto_rows": null,
            "grid_column": null,
            "grid_gap": null,
            "grid_row": null,
            "grid_template_areas": null,
            "grid_template_columns": null,
            "grid_template_rows": null,
            "height": null,
            "justify_content": null,
            "justify_items": null,
            "left": null,
            "margin": null,
            "max_height": null,
            "max_width": null,
            "min_height": null,
            "min_width": null,
            "object_fit": null,
            "object_position": null,
            "order": null,
            "overflow": null,
            "overflow_x": null,
            "overflow_y": null,
            "padding": null,
            "right": null,
            "top": null,
            "visibility": null,
            "width": null
          }
        },
        "11d960be8c8c4fa6937d61743da5a5d0": {
          "model_module": "@jupyter-widgets/base",
          "model_name": "LayoutModel",
          "model_module_version": "1.2.0",
          "state": {
            "_model_module": "@jupyter-widgets/base",
            "_model_module_version": "1.2.0",
            "_model_name": "LayoutModel",
            "_view_count": null,
            "_view_module": "@jupyter-widgets/base",
            "_view_module_version": "1.2.0",
            "_view_name": "LayoutView",
            "align_content": null,
            "align_items": null,
            "align_self": null,
            "border": null,
            "bottom": null,
            "display": null,
            "flex": null,
            "flex_flow": null,
            "grid_area": null,
            "grid_auto_columns": null,
            "grid_auto_flow": null,
            "grid_auto_rows": null,
            "grid_column": null,
            "grid_gap": null,
            "grid_row": null,
            "grid_template_areas": null,
            "grid_template_columns": null,
            "grid_template_rows": null,
            "height": null,
            "justify_content": null,
            "justify_items": null,
            "left": null,
            "margin": null,
            "max_height": null,
            "max_width": null,
            "min_height": null,
            "min_width": null,
            "object_fit": null,
            "object_position": null,
            "order": null,
            "overflow": null,
            "overflow_x": null,
            "overflow_y": null,
            "padding": null,
            "right": null,
            "top": null,
            "visibility": null,
            "width": null
          }
        },
        "0208bed3d4e844478206e6a4ced82227": {
          "model_module": "@jupyter-widgets/controls",
          "model_name": "DescriptionStyleModel",
          "model_module_version": "1.5.0",
          "state": {
            "_model_module": "@jupyter-widgets/controls",
            "_model_module_version": "1.5.0",
            "_model_name": "DescriptionStyleModel",
            "_view_count": null,
            "_view_module": "@jupyter-widgets/base",
            "_view_module_version": "1.2.0",
            "_view_name": "StyleView",
            "description_width": ""
          }
        },
        "86c8630eb6e84d349a5d32b4cf48439c": {
          "model_module": "@jupyter-widgets/base",
          "model_name": "LayoutModel",
          "model_module_version": "1.2.0",
          "state": {
            "_model_module": "@jupyter-widgets/base",
            "_model_module_version": "1.2.0",
            "_model_name": "LayoutModel",
            "_view_count": null,
            "_view_module": "@jupyter-widgets/base",
            "_view_module_version": "1.2.0",
            "_view_name": "LayoutView",
            "align_content": null,
            "align_items": null,
            "align_self": null,
            "border": null,
            "bottom": null,
            "display": null,
            "flex": null,
            "flex_flow": null,
            "grid_area": null,
            "grid_auto_columns": null,
            "grid_auto_flow": null,
            "grid_auto_rows": null,
            "grid_column": null,
            "grid_gap": null,
            "grid_row": null,
            "grid_template_areas": null,
            "grid_template_columns": null,
            "grid_template_rows": null,
            "height": null,
            "justify_content": null,
            "justify_items": null,
            "left": null,
            "margin": null,
            "max_height": null,
            "max_width": null,
            "min_height": null,
            "min_width": null,
            "object_fit": null,
            "object_position": null,
            "order": null,
            "overflow": null,
            "overflow_x": null,
            "overflow_y": null,
            "padding": null,
            "right": null,
            "top": null,
            "visibility": null,
            "width": null
          }
        },
        "8cec277d8fb5495aac7628232755a801": {
          "model_module": "@jupyter-widgets/controls",
          "model_name": "ProgressStyleModel",
          "model_module_version": "1.5.0",
          "state": {
            "_model_module": "@jupyter-widgets/controls",
            "_model_module_version": "1.5.0",
            "_model_name": "ProgressStyleModel",
            "_view_count": null,
            "_view_module": "@jupyter-widgets/base",
            "_view_module_version": "1.2.0",
            "_view_name": "StyleView",
            "bar_color": null,
            "description_width": ""
          }
        },
        "5eecb2a210674f1fad8371e70ced0d39": {
          "model_module": "@jupyter-widgets/base",
          "model_name": "LayoutModel",
          "model_module_version": "1.2.0",
          "state": {
            "_model_module": "@jupyter-widgets/base",
            "_model_module_version": "1.2.0",
            "_model_name": "LayoutModel",
            "_view_count": null,
            "_view_module": "@jupyter-widgets/base",
            "_view_module_version": "1.2.0",
            "_view_name": "LayoutView",
            "align_content": null,
            "align_items": null,
            "align_self": null,
            "border": null,
            "bottom": null,
            "display": null,
            "flex": null,
            "flex_flow": null,
            "grid_area": null,
            "grid_auto_columns": null,
            "grid_auto_flow": null,
            "grid_auto_rows": null,
            "grid_column": null,
            "grid_gap": null,
            "grid_row": null,
            "grid_template_areas": null,
            "grid_template_columns": null,
            "grid_template_rows": null,
            "height": null,
            "justify_content": null,
            "justify_items": null,
            "left": null,
            "margin": null,
            "max_height": null,
            "max_width": null,
            "min_height": null,
            "min_width": null,
            "object_fit": null,
            "object_position": null,
            "order": null,
            "overflow": null,
            "overflow_x": null,
            "overflow_y": null,
            "padding": null,
            "right": null,
            "top": null,
            "visibility": null,
            "width": null
          }
        },
        "3afd9bb042e64adeaa7695ffcb67be98": {
          "model_module": "@jupyter-widgets/controls",
          "model_name": "DescriptionStyleModel",
          "model_module_version": "1.5.0",
          "state": {
            "_model_module": "@jupyter-widgets/controls",
            "_model_module_version": "1.5.0",
            "_model_name": "DescriptionStyleModel",
            "_view_count": null,
            "_view_module": "@jupyter-widgets/base",
            "_view_module_version": "1.2.0",
            "_view_name": "StyleView",
            "description_width": ""
          }
        }
      }
    }
  },
  "nbformat": 4,
  "nbformat_minor": 0
}