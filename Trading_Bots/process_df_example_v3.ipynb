{
 "cells": [
  {
   "cell_type": "code",
   "execution_count": 113,
   "id": "20e447a7-6254-448c-a258-ba0a12ff78c6",
   "metadata": {},
   "outputs": [],
   "source": [
    "import numpy as np \n",
    "import pandas as pd \n",
    "import ccxt \n",
    "from tqdm.auto import tqdm \n",
    "from datetime import timedelta\n",
    "import pandas_ta as ta\n",
    "import seaborn as sns\n",
    "from xgboost import XGBClassifier # modeling\n",
    "from sklearn.utils.class_weight import compute_class_weight"
   ]
  },
  {
   "cell_type": "code",
   "execution_count": 4,
   "id": "06353d85-14b7-4171-9453-bccef917f7db",
   "metadata": {},
   "outputs": [],
   "source": [
    "df = pd.read_csv(\"minute_data.csv\") "
   ]
  },
  {
   "cell_type": "code",
   "execution_count": 34,
   "id": "eb376283-f88a-4d2f-9944-94dd5632499a",
   "metadata": {},
   "outputs": [
    {
     "data": {
      "application/vnd.jupyter.widget-view+json": {
       "model_id": "51aa417c499047f298fd4873cb738cdb",
       "version_major": 2,
       "version_minor": 0
      },
      "text/plain": [
       "  0%|          | 0/2705171 [00:00<?, ?it/s]"
      ]
     },
     "metadata": {},
     "output_type": "display_data"
    },
    {
     "data": {
      "text/html": [
       "<div>\n",
       "<style scoped>\n",
       "    .dataframe tbody tr th:only-of-type {\n",
       "        vertical-align: middle;\n",
       "    }\n",
       "\n",
       "    .dataframe tbody tr th {\n",
       "        vertical-align: top;\n",
       "    }\n",
       "\n",
       "    .dataframe thead th {\n",
       "        text-align: right;\n",
       "    }\n",
       "</style>\n",
       "<table border=\"1\" class=\"dataframe\">\n",
       "  <thead>\n",
       "    <tr style=\"text-align: right;\">\n",
       "      <th></th>\n",
       "      <th>open</th>\n",
       "      <th>high</th>\n",
       "      <th>low</th>\n",
       "      <th>close</th>\n",
       "      <th>volume</th>\n",
       "      <th>datetime</th>\n",
       "    </tr>\n",
       "  </thead>\n",
       "  <tbody>\n",
       "    <tr>\n",
       "      <th>0</th>\n",
       "      <td>4261.48</td>\n",
       "      <td>4345.45</td>\n",
       "      <td>4261.32</td>\n",
       "      <td>4324.35</td>\n",
       "      <td>77.645616</td>\n",
       "      <td>2017-08-17 04:00:00</td>\n",
       "    </tr>\n",
       "    <tr>\n",
       "      <th>1</th>\n",
       "      <td>4261.48</td>\n",
       "      <td>4345.45</td>\n",
       "      <td>4261.32</td>\n",
       "      <td>4324.35</td>\n",
       "      <td>75.870433</td>\n",
       "      <td>2017-08-17 04:01:00</td>\n",
       "    </tr>\n",
       "    <tr>\n",
       "      <th>2</th>\n",
       "      <td>4280.56</td>\n",
       "      <td>4345.45</td>\n",
       "      <td>4261.32</td>\n",
       "      <td>4324.35</td>\n",
       "      <td>75.870433</td>\n",
       "      <td>2017-08-17 04:02:00</td>\n",
       "    </tr>\n",
       "    <tr>\n",
       "      <th>3</th>\n",
       "      <td>4261.48</td>\n",
       "      <td>4345.45</td>\n",
       "      <td>4261.32</td>\n",
       "      <td>4324.35</td>\n",
       "      <td>75.609359</td>\n",
       "      <td>2017-08-17 04:03:00</td>\n",
       "    </tr>\n",
       "    <tr>\n",
       "      <th>4</th>\n",
       "      <td>4261.48</td>\n",
       "      <td>4345.45</td>\n",
       "      <td>4261.32</td>\n",
       "      <td>4324.35</td>\n",
       "      <td>75.597351</td>\n",
       "      <td>2017-08-17 04:04:00</td>\n",
       "    </tr>\n",
       "    <tr>\n",
       "      <th>...</th>\n",
       "      <td>...</td>\n",
       "      <td>...</td>\n",
       "      <td>...</td>\n",
       "      <td>...</td>\n",
       "      <td>...</td>\n",
       "      <td>...</td>\n",
       "    </tr>\n",
       "    <tr>\n",
       "      <th>2705166</th>\n",
       "      <td>19349.76</td>\n",
       "      <td>19375.00</td>\n",
       "      <td>19340.11</td>\n",
       "      <td>19368.16</td>\n",
       "      <td>1113.713500</td>\n",
       "      <td>2022-10-14 16:38:00</td>\n",
       "    </tr>\n",
       "    <tr>\n",
       "      <th>2705167</th>\n",
       "      <td>19352.52</td>\n",
       "      <td>19375.00</td>\n",
       "      <td>19340.11</td>\n",
       "      <td>19368.16</td>\n",
       "      <td>805.680590</td>\n",
       "      <td>2022-10-14 16:39:00</td>\n",
       "    </tr>\n",
       "    <tr>\n",
       "      <th>2705168</th>\n",
       "      <td>19348.91</td>\n",
       "      <td>19375.00</td>\n",
       "      <td>19340.11</td>\n",
       "      <td>19368.16</td>\n",
       "      <td>631.715140</td>\n",
       "      <td>2022-10-14 16:40:00</td>\n",
       "    </tr>\n",
       "    <tr>\n",
       "      <th>2705169</th>\n",
       "      <td>19353.45</td>\n",
       "      <td>19375.00</td>\n",
       "      <td>19345.27</td>\n",
       "      <td>19368.16</td>\n",
       "      <td>426.444730</td>\n",
       "      <td>2022-10-14 16:41:00</td>\n",
       "    </tr>\n",
       "    <tr>\n",
       "      <th>2705170</th>\n",
       "      <td>19363.00</td>\n",
       "      <td>19375.00</td>\n",
       "      <td>19351.94</td>\n",
       "      <td>19368.16</td>\n",
       "      <td>301.742490</td>\n",
       "      <td>2022-10-14 16:42:00</td>\n",
       "    </tr>\n",
       "  </tbody>\n",
       "</table>\n",
       "<p>2705171 rows × 6 columns</p>\n",
       "</div>"
      ],
      "text/plain": [
       "             open      high       low     close       volume  \\\n",
       "0         4261.48   4345.45   4261.32   4324.35    77.645616   \n",
       "1         4261.48   4345.45   4261.32   4324.35    75.870433   \n",
       "2         4280.56   4345.45   4261.32   4324.35    75.870433   \n",
       "3         4261.48   4345.45   4261.32   4324.35    75.609359   \n",
       "4         4261.48   4345.45   4261.32   4324.35    75.597351   \n",
       "...           ...       ...       ...       ...          ...   \n",
       "2705166  19349.76  19375.00  19340.11  19368.16  1113.713500   \n",
       "2705167  19352.52  19375.00  19340.11  19368.16   805.680590   \n",
       "2705168  19348.91  19375.00  19340.11  19368.16   631.715140   \n",
       "2705169  19353.45  19375.00  19345.27  19368.16   426.444730   \n",
       "2705170  19363.00  19375.00  19351.94  19368.16   301.742490   \n",
       "\n",
       "                    datetime  \n",
       "0        2017-08-17 04:00:00  \n",
       "1        2017-08-17 04:01:00  \n",
       "2        2017-08-17 04:02:00  \n",
       "3        2017-08-17 04:03:00  \n",
       "4        2017-08-17 04:04:00  \n",
       "...                      ...  \n",
       "2705166  2022-10-14 16:38:00  \n",
       "2705167  2022-10-14 16:39:00  \n",
       "2705168  2022-10-14 16:40:00  \n",
       "2705169  2022-10-14 16:41:00  \n",
       "2705170  2022-10-14 16:42:00  \n",
       "\n",
       "[2705171 rows x 6 columns]"
      ]
     },
     "execution_count": 34,
     "metadata": {},
     "output_type": "execute_result"
    }
   ],
   "source": [
    "open_val = df[\"open\"].values \n",
    "high_val = df[\"high\"].values \n",
    "low_val = df[\"low\"].values \n",
    "close_val = df[\"close\"].values  \n",
    "volume_val = df[\"volume\"].values \n",
    "\n",
    "\n",
    "open_values = [] \n",
    "high_values = [] \n",
    "low_values = [] \n",
    "close_values = [] \n",
    "volume_values = [] \n",
    "datetime_values = [] \n",
    "\n",
    "for i in tqdm(range(df.shape[0]), position=0, leave=True): \n",
    "    chart_df = df.iloc[i:i+180] \n",
    "    open_values.append(chart_df[\"open\"].values[0]) \n",
    "    low_values.append(np.min(chart_df[\"low\"].values)) \n",
    "    high_values.append(np.max(chart_df[\"high\"].values)) \n",
    "    close_values.append(chart_df[\"close\"].values[-1]) \n",
    "    volume_values.append(np.sum(chart_df[\"volume\"].values)) \n",
    "    datetime_values.append(chart_df[\"datetime\"].values[0]) \n",
    "    \n",
    "temp_df = pd.DataFrame(list(zip(open_values, high_values, low_values, close_values, volume_values, datetime_values)), \n",
    "                  columns=[\"open\", \"high\", \"low\", \"close\", \"volume\", \"datetime\"]) \n",
    "\n",
    "temp_df"
   ]
  },
  {
   "cell_type": "code",
   "execution_count": 36,
   "id": "171bae94-b585-4619-8107-8753a9ec703c",
   "metadata": {},
   "outputs": [
    {
     "data": {
      "application/vnd.jupyter.widget-view+json": {
       "model_id": "bb2f8a064e084ee58f808fb9fe864665",
       "version_major": 2,
       "version_minor": 0
      },
      "text/plain": [
       "  0%|          | 0/2705171 [00:00<?, ?it/s]"
      ]
     },
     "metadata": {},
     "output_type": "display_data"
    }
   ],
   "source": [
    "targets_arr = []\n",
    "threshold = 0.007 # 0.7% \n",
    "for i in tqdm(range(temp_df.shape[0])):\n",
    "    dt = pd.to_datetime(temp_df[\"datetime\"].values[i])  \n",
    "    target_dt = dt + timedelta(hours=4) \n",
    "    if target_dt in datetime_table.keys(): \n",
    "        info = datetime_table[target_dt] \n",
    "        high_val = info[\"high\"]  \n",
    "        low_val = info[\"low\"]\n",
    "        close = temp_df[\"close\"].values[i] \n",
    "        high_volatility = (high_val - close) / close \n",
    "        low_volatility = (low_val - close) / close \n",
    "        if high_volatility >= threshold: \n",
    "            targets_arr.append(0) \n",
    "        elif low_volatility <= -threshold: \n",
    "            targets_arr.append(1) \n",
    "        else: \n",
    "            targets_arr.append(2) \n",
    "        "
   ]
  },
  {
   "cell_type": "code",
   "execution_count": 37,
   "id": "9ee5cbf1-2167-4c93-8bde-4eac6df488ae",
   "metadata": {},
   "outputs": [],
   "source": [
    "while len(targets_arr) < temp_df.shape[0]: \n",
    "    targets_arr.append(None) "
   ]
  },
  {
   "cell_type": "code",
   "execution_count": 38,
   "id": "56c792fa-a1bd-4e9b-99ef-8174027f6264",
   "metadata": {},
   "outputs": [],
   "source": [
    "temp_df[\"Targets\"] = targets_arr "
   ]
  },
  {
   "cell_type": "code",
   "execution_count": 39,
   "id": "2b5aa812-8909-4aec-8635-1ec0a5f52eba",
   "metadata": {},
   "outputs": [
    {
     "data": {
      "text/html": [
       "<div>\n",
       "<style scoped>\n",
       "    .dataframe tbody tr th:only-of-type {\n",
       "        vertical-align: middle;\n",
       "    }\n",
       "\n",
       "    .dataframe tbody tr th {\n",
       "        vertical-align: top;\n",
       "    }\n",
       "\n",
       "    .dataframe thead th {\n",
       "        text-align: right;\n",
       "    }\n",
       "</style>\n",
       "<table border=\"1\" class=\"dataframe\">\n",
       "  <thead>\n",
       "    <tr style=\"text-align: right;\">\n",
       "      <th></th>\n",
       "      <th>open</th>\n",
       "      <th>high</th>\n",
       "      <th>low</th>\n",
       "      <th>close</th>\n",
       "      <th>volume</th>\n",
       "      <th>datetime</th>\n",
       "      <th>Targets</th>\n",
       "    </tr>\n",
       "  </thead>\n",
       "  <tbody>\n",
       "    <tr>\n",
       "      <th>0</th>\n",
       "      <td>4261.48</td>\n",
       "      <td>4345.45</td>\n",
       "      <td>4261.32</td>\n",
       "      <td>4324.35</td>\n",
       "      <td>77.645616</td>\n",
       "      <td>2017-08-17 04:00:00</td>\n",
       "      <td>0.0</td>\n",
       "    </tr>\n",
       "    <tr>\n",
       "      <th>1</th>\n",
       "      <td>4261.48</td>\n",
       "      <td>4345.45</td>\n",
       "      <td>4261.32</td>\n",
       "      <td>4324.35</td>\n",
       "      <td>75.870433</td>\n",
       "      <td>2017-08-17 04:01:00</td>\n",
       "      <td>0.0</td>\n",
       "    </tr>\n",
       "    <tr>\n",
       "      <th>2</th>\n",
       "      <td>4280.56</td>\n",
       "      <td>4345.45</td>\n",
       "      <td>4261.32</td>\n",
       "      <td>4324.35</td>\n",
       "      <td>75.870433</td>\n",
       "      <td>2017-08-17 04:02:00</td>\n",
       "      <td>0.0</td>\n",
       "    </tr>\n",
       "    <tr>\n",
       "      <th>3</th>\n",
       "      <td>4261.48</td>\n",
       "      <td>4345.45</td>\n",
       "      <td>4261.32</td>\n",
       "      <td>4324.35</td>\n",
       "      <td>75.609359</td>\n",
       "      <td>2017-08-17 04:03:00</td>\n",
       "      <td>0.0</td>\n",
       "    </tr>\n",
       "    <tr>\n",
       "      <th>4</th>\n",
       "      <td>4261.48</td>\n",
       "      <td>4345.45</td>\n",
       "      <td>4261.32</td>\n",
       "      <td>4324.35</td>\n",
       "      <td>75.597351</td>\n",
       "      <td>2017-08-17 04:04:00</td>\n",
       "      <td>0.0</td>\n",
       "    </tr>\n",
       "    <tr>\n",
       "      <th>...</th>\n",
       "      <td>...</td>\n",
       "      <td>...</td>\n",
       "      <td>...</td>\n",
       "      <td>...</td>\n",
       "      <td>...</td>\n",
       "      <td>...</td>\n",
       "      <td>...</td>\n",
       "    </tr>\n",
       "    <tr>\n",
       "      <th>2705166</th>\n",
       "      <td>19349.76</td>\n",
       "      <td>19375.00</td>\n",
       "      <td>19340.11</td>\n",
       "      <td>19368.16</td>\n",
       "      <td>1113.713500</td>\n",
       "      <td>2022-10-14 16:38:00</td>\n",
       "      <td>NaN</td>\n",
       "    </tr>\n",
       "    <tr>\n",
       "      <th>2705167</th>\n",
       "      <td>19352.52</td>\n",
       "      <td>19375.00</td>\n",
       "      <td>19340.11</td>\n",
       "      <td>19368.16</td>\n",
       "      <td>805.680590</td>\n",
       "      <td>2022-10-14 16:39:00</td>\n",
       "      <td>NaN</td>\n",
       "    </tr>\n",
       "    <tr>\n",
       "      <th>2705168</th>\n",
       "      <td>19348.91</td>\n",
       "      <td>19375.00</td>\n",
       "      <td>19340.11</td>\n",
       "      <td>19368.16</td>\n",
       "      <td>631.715140</td>\n",
       "      <td>2022-10-14 16:40:00</td>\n",
       "      <td>NaN</td>\n",
       "    </tr>\n",
       "    <tr>\n",
       "      <th>2705169</th>\n",
       "      <td>19353.45</td>\n",
       "      <td>19375.00</td>\n",
       "      <td>19345.27</td>\n",
       "      <td>19368.16</td>\n",
       "      <td>426.444730</td>\n",
       "      <td>2022-10-14 16:41:00</td>\n",
       "      <td>NaN</td>\n",
       "    </tr>\n",
       "    <tr>\n",
       "      <th>2705170</th>\n",
       "      <td>19363.00</td>\n",
       "      <td>19375.00</td>\n",
       "      <td>19351.94</td>\n",
       "      <td>19368.16</td>\n",
       "      <td>301.742490</td>\n",
       "      <td>2022-10-14 16:42:00</td>\n",
       "      <td>NaN</td>\n",
       "    </tr>\n",
       "  </tbody>\n",
       "</table>\n",
       "<p>2705171 rows × 7 columns</p>\n",
       "</div>"
      ],
      "text/plain": [
       "             open      high       low     close       volume  \\\n",
       "0         4261.48   4345.45   4261.32   4324.35    77.645616   \n",
       "1         4261.48   4345.45   4261.32   4324.35    75.870433   \n",
       "2         4280.56   4345.45   4261.32   4324.35    75.870433   \n",
       "3         4261.48   4345.45   4261.32   4324.35    75.609359   \n",
       "4         4261.48   4345.45   4261.32   4324.35    75.597351   \n",
       "...           ...       ...       ...       ...          ...   \n",
       "2705166  19349.76  19375.00  19340.11  19368.16  1113.713500   \n",
       "2705167  19352.52  19375.00  19340.11  19368.16   805.680590   \n",
       "2705168  19348.91  19375.00  19340.11  19368.16   631.715140   \n",
       "2705169  19353.45  19375.00  19345.27  19368.16   426.444730   \n",
       "2705170  19363.00  19375.00  19351.94  19368.16   301.742490   \n",
       "\n",
       "                    datetime  Targets  \n",
       "0        2017-08-17 04:00:00      0.0  \n",
       "1        2017-08-17 04:01:00      0.0  \n",
       "2        2017-08-17 04:02:00      0.0  \n",
       "3        2017-08-17 04:03:00      0.0  \n",
       "4        2017-08-17 04:04:00      0.0  \n",
       "...                      ...      ...  \n",
       "2705166  2022-10-14 16:38:00      NaN  \n",
       "2705167  2022-10-14 16:39:00      NaN  \n",
       "2705168  2022-10-14 16:40:00      NaN  \n",
       "2705169  2022-10-14 16:41:00      NaN  \n",
       "2705170  2022-10-14 16:42:00      NaN  \n",
       "\n",
       "[2705171 rows x 7 columns]"
      ]
     },
     "execution_count": 39,
     "metadata": {},
     "output_type": "execute_result"
    }
   ],
   "source": [
    "temp_df"
   ]
  },
  {
   "cell_type": "code",
   "execution_count": 91,
   "id": "26afd613-9999-4526-9121-5c558fa18e2d",
   "metadata": {},
   "outputs": [
    {
     "data": {
      "application/vnd.jupyter.widget-view+json": {
       "model_id": "fd9ef26946034d76a11892992490bc98",
       "version_major": 2,
       "version_minor": 0
      },
      "text/plain": [
       "  0%|          | 0/2700006 [00:00<?, ?it/s]"
      ]
     },
     "metadata": {},
     "output_type": "display_data"
    }
   ],
   "source": [
    "datetime_table = {}  \n",
    "\n",
    "for i in tqdm(range(temp_df.shape[0])): \n",
    "    dt = pd.to_datetime(temp_df[\"datetime\"].values[i]) \n",
    "    datetime_table[dt] = temp_df.iloc[i] "
   ]
  },
  {
   "cell_type": "code",
   "execution_count": null,
   "id": "2d6154cc-2769-4a03-a1d7-53112e03065a",
   "metadata": {},
   "outputs": [],
   "source": [
    "import pickle\n",
    "\n",
    "with open('datetime_table.pickle', 'wb') as handle:\n",
    "    pickle.dump(datetime_table, handle)\n",
    "\n",
    "with open('datetime_table.pickle', 'rb') as handle:\n",
    "    datetime_table = pickle.load(handle)"
   ]
  },
  {
   "cell_type": "code",
   "execution_count": 61,
   "id": "a5cc5960-ecde-4448-9e2c-5b9505adff71",
   "metadata": {},
   "outputs": [],
   "source": [
    "temp_df.dropna(inplace=True)"
   ]
  },
  {
   "cell_type": "code",
   "execution_count": 62,
   "id": "5c316131-1978-4120-a335-11e863bdf6ec",
   "metadata": {},
   "outputs": [],
   "source": [
    "temp_df.to_csv(\"minute_with_targets.csv\",index=False)"
   ]
  },
  {
   "cell_type": "code",
   "execution_count": 63,
   "id": "c3006a3b-ac79-43b1-9bb6-35b8885b78ad",
   "metadata": {},
   "outputs": [
    {
     "data": {
      "text/plain": [
       "<AxesSubplot:xlabel='Targets', ylabel='count'>"
      ]
     },
     "execution_count": 63,
     "metadata": {},
     "output_type": "execute_result"
    },
    {
     "data": {
      "image/png": "[encoded data removed]",
      "text/plain": [
       "<Figure size 432x288 with 1 Axes>"
      ]
     },
     "metadata": {
      "needs_background": "light"
     },
     "output_type": "display_data"
    }
   ],
   "source": [
    "sns.countplot(data=temp_df, x=\"Targets\")"
   ]
  },
  {
   "cell_type": "code",
   "execution_count": 104,
   "id": "6e597c7e-7106-4cb2-bbb4-cd96de598de9",
   "metadata": {},
   "outputs": [],
   "source": [
    "def process_chart_data(chart_df):\n",
    "    chart_df.set_index(pd.DatetimeIndex(chart_df[\"datetime\"]), inplace=True)\n",
    "    ### addition of chart features ### \n",
    "    chart_df[\"bop\"] = chart_df.ta.bop(lookahead=False) \n",
    "    chart_df[\"ebsw\"] = chart_df.ta.ebsw(lookahead=False) \n",
    "    chart_df[\"cmf\"] = chart_df.ta.cmf(lookahead=False) \n",
    "    chart_df[\"rsi/100\"] = chart_df.ta.rsi(lookahead=False) / 100\n",
    "    chart_df[\"high/low\"] = chart_df[\"high\"] / chart_df[\"low\"] \n",
    "    chart_df[\"close/open\"] = chart_df[\"close\"] / chart_df[\"open\"] \n",
    "    chart_df[\"high/open\"] = chart_df[\"high\"] / chart_df[\"open\"] \n",
    "    chart_df[\"low/open\"] = chart_df[\"low\"] / chart_df[\"open\"] \n",
    "    chart_df[\"hwma\"] = chart_df.ta.hwma(lookahead=False) \n",
    "    chart_df[\"linreg\"] = chart_df.ta.linreg(lookahead=False) \n",
    "    chart_df[\"hwma/close\"] = chart_df[\"hwma\"] / chart_df[\"close\"] \n",
    "    chart_df[\"linreg/close\"] = chart_df[\"linreg\"] / chart_df[\"close\"] \n",
    "\n",
    "    ### addition of recent differenced features ### \n",
    "    for l in range(1, 12): \n",
    "        for col in [\"high\", \"low\", \"volume\"]:\n",
    "            val = chart_df[col].values \n",
    "            val_ret = [None for _ in range(l)]\n",
    "            for i in range(l, len(val)):\n",
    "                if val[i-l] == 0: \n",
    "                    ret = 1 \n",
    "                else:\n",
    "                    ret = val[i] / val[i-l]  \n",
    "                val_ret.append(ret) \n",
    "            chart_df[\"{}_change_{}\".format(col, l)] = val_ret\n",
    "\n",
    "    ### drop unnecessary columns ### \n",
    "    chart_df.drop(columns={\"open\",\"high\",\"low\",\"close\",\"volume\",\"linreg\",\"hwma\",\"datetime\"}, inplace=True) \n",
    "    chart_df.dropna(inplace=True)\n",
    "    return chart_df"
   ]
  },
  {
   "cell_type": "code",
   "execution_count": 107,
   "id": "e9c41536-4a82-4c30-a9ff-74c4ebb4f13d",
   "metadata": {},
   "outputs": [
    {
     "data": {
      "application/vnd.jupyter.widget-view+json": {
       "model_id": "ae279da88eaa4d11918ba2878d6f2bbb",
       "version_major": 2,
       "version_minor": 0
      },
      "text/plain": [
       "  0%|          | 0/2700006 [00:00<?, ?it/s]"
      ]
     },
     "metadata": {},
     "output_type": "display_data"
    }
   ],
   "source": [
    "latest_date = pd.to_datetime(temp_df[\"datetime\"].values[-1]) \n",
    "\n",
    "full_dfs = [] \n",
    "\n",
    "for i in tqdm(range(temp_df.shape[0]), position=0, leave=True):\n",
    "    cur_chart_df = temp_df.iloc[i,:]   \n",
    "    dt = cur_chart_df[\"datetime\"]\n",
    "    dt = pd.to_datetime(dt) \n",
    "    df_list = [cur_chart_df] \n",
    "    while dt <= latest_date: \n",
    "        dt = dt + timedelta(hours=4) \n",
    "        if dt in datetime_table.keys(): \n",
    "            df_list.append(datetime_table[dt])\n",
    "    cur_df = pd.concat(df_list, axis=1).T \n",
    "    cur_df = process_chart_data(cur_df) \n",
    "    full_dfs.append(cur_df) \n",
    "    if i==100: \n",
    "        break\n",
    "    "
   ]
  },
  {
   "cell_type": "code",
   "execution_count": 121,
   "id": "4fac0ee0-d275-4600-a8ec-f5aa5fddb9ab",
   "metadata": {},
   "outputs": [
    {
     "data": {
      "application/vnd.jupyter.widget-view+json": {
       "model_id": "28ffb453f4134e5f871ec4c72ce3aff3",
       "version_major": 2,
       "version_minor": 0
      },
      "text/plain": [
       "  0%|          | 0/101 [00:00<?, ?it/s]"
      ]
     },
     "metadata": {},
     "output_type": "display_data"
    }
   ],
   "source": [
    "train_size = int(full_dfs[0].shape[0] * 0.8) \n",
    "val_size = int(full_dfs[0].shape[0] * 0.1) \n",
    "\n",
    "train_dfs, val_dfs, test_dfs = [], [], [] \n",
    "for i in tqdm(range(len(full_dfs)), position=0, leave=True): \n",
    "    full_df = full_dfs[i] \n",
    "    train_df = full_df.iloc[:train_size] \n",
    "    val_df = full_df.iloc[train_size:train_size+val_size] \n",
    "    test_df = full_df.iloc[train_size+val_size:] \n",
    "    \n",
    "    train_dfs.append(train_df) \n",
    "    val_dfs.append(val_df) \n",
    "    test_dfs.append(test_df) "
   ]
  },
  {
   "cell_type": "code",
   "execution_count": 122,
   "id": "e99cb34d-9632-48df-92e9-b5faaa85f0e0",
   "metadata": {},
   "outputs": [
    {
     "data": {
      "text/plain": [
       "((906071, 44), (113221, 44), (113295, 44))"
      ]
     },
     "execution_count": 122,
     "metadata": {},
     "output_type": "execute_result"
    }
   ],
   "source": [
    "train_dfs = pd.concat(train_dfs, axis=0) \n",
    "val_dfs = pd.concat(val_dfs, axis=0) \n",
    "test_dfs = pd.concat(test_dfs, axis=0) \n",
    "\n",
    "train_dfs.shape, val_dfs.shape, test_dfs.shape "
   ]
  },
  {
   "cell_type": "code",
   "execution_count": 128,
   "id": "7c4b1dec-5318-4bd0-b3bf-dccb5b62c739",
   "metadata": {},
   "outputs": [
    {
     "name": "stdout",
     "output_type": "stream",
     "text": [
      "class weights: [0.69300888 1.07218836 1.60167827]\n"
     ]
    }
   ],
   "source": [
    "columns = train_df.columns \n",
    "\n",
    "train_columns = [] \n",
    "\n",
    "for c in columns:\n",
    "    if c not in [\"Targets\"]: \n",
    "        train_columns.append(c) \n",
    "\n",
    "\n",
    "X_train = train_df[train_columns] \n",
    "Y_train = train_df[\"Targets\"]\n",
    "\n",
    "X_val = val_df[train_columns] \n",
    "Y_val = val_df[\"Targets\"] \n",
    "\n",
    "X_test = test_df[train_columns] \n",
    "Y_test = test_df[\"Targets\"] \n",
    "\n",
    "\n",
    "class_weights = compute_class_weight(class_weight = \"balanced\",\n",
    "                                     classes = np.unique(Y_train),\n",
    "                                     y = Y_train) \n",
    "\n",
    "print(f\"class weights: {class_weights}\") \n"
   ]
  },
  {
   "cell_type": "code",
   "execution_count": 133,
   "id": "60b48b1a-1ddd-456b-9fef-4ab548fc8128",
   "metadata": {},
   "outputs": [
    {
     "ename": "TypeError",
     "evalue": "attrs() got an unexpected keyword argument 'eq'",
     "output_type": "error",
     "traceback": [
      "\u001b[0;31m---------------------------------------------------------------------------\u001b[0m",
      "\u001b[0;31mTypeError\u001b[0m                                 Traceback (most recent call last)",
      "Input \u001b[0;32mIn [133]\u001b[0m, in \u001b[0;36m<module>\u001b[0;34m\u001b[0m\n\u001b[1;32m      1\u001b[0m d \u001b[38;5;241m=\u001b[39m {\u001b[38;5;241m0\u001b[39m:class_weights[\u001b[38;5;241m0\u001b[39m], \u001b[38;5;241m1\u001b[39m:class_weights[\u001b[38;5;241m1\u001b[39m], \u001b[38;5;241m2\u001b[39m:class_weights[\u001b[38;5;241m2\u001b[39m]}\n\u001b[1;32m      3\u001b[0m clf \u001b[38;5;241m=\u001b[39m XGBClassifier(silent\u001b[38;5;241m=\u001b[39m\u001b[38;5;28;01mFalse\u001b[39;00m, \n\u001b[1;32m      4\u001b[0m                     n_estimators\u001b[38;5;241m=\u001b[39m\u001b[38;5;241m1000\u001b[39m,\n\u001b[1;32m      5\u001b[0m                     class_weight\u001b[38;5;241m=\u001b[39md, \n\u001b[1;32m      6\u001b[0m                     metric\u001b[38;5;241m=\u001b[39m\u001b[38;5;124m\"\u001b[39m\u001b[38;5;124mlogloss\u001b[39m\u001b[38;5;124m\"\u001b[39m, \n\u001b[1;32m      7\u001b[0m                     tree_method\u001b[38;5;241m=\u001b[39m\u001b[38;5;124m\"\u001b[39m\u001b[38;5;124mgpu_hist\u001b[39m\u001b[38;5;124m\"\u001b[39m)\n\u001b[0;32m----> 9\u001b[0m \u001b[43mclf\u001b[49m\u001b[38;5;241;43m.\u001b[39;49m\u001b[43mfit\u001b[49m\u001b[43m(\u001b[49m\u001b[43mX_train\u001b[49m\u001b[43m,\u001b[49m\u001b[43m \u001b[49m\n\u001b[1;32m     10\u001b[0m \u001b[43m        \u001b[49m\u001b[43mY_train\u001b[49m\u001b[43m,\u001b[49m\u001b[43m \u001b[49m\n\u001b[1;32m     11\u001b[0m \u001b[43m        \u001b[49m\u001b[43meval_set\u001b[49m\u001b[38;5;241;43m=\u001b[39;49m\u001b[43m[\u001b[49m\u001b[43m(\u001b[49m\u001b[43mX_val\u001b[49m\u001b[43m,\u001b[49m\u001b[43m \u001b[49m\u001b[43mY_val\u001b[49m\u001b[43m)\u001b[49m\u001b[43m]\u001b[49m\u001b[43m,\u001b[49m\n\u001b[1;32m     12\u001b[0m \u001b[43m        \u001b[49m\u001b[43mverbose\u001b[49m\u001b[38;5;241;43m=\u001b[39;49m\u001b[38;5;241;43m100\u001b[39;49m\u001b[43m)\u001b[49m\n",
      "File \u001b[0;32m/opt/conda/lib/python3.8/site-packages/xgboost/core.py:506\u001b[0m, in \u001b[0;36m_deprecate_positional_args.<locals>.inner_f\u001b[0;34m(*args, **kwargs)\u001b[0m\n\u001b[1;32m    504\u001b[0m \u001b[38;5;28;01mfor\u001b[39;00m k, arg \u001b[38;5;129;01min\u001b[39;00m \u001b[38;5;28mzip\u001b[39m(sig\u001b[38;5;241m.\u001b[39mparameters, args):\n\u001b[1;32m    505\u001b[0m     kwargs[k] \u001b[38;5;241m=\u001b[39m arg\n\u001b[0;32m--> 506\u001b[0m \u001b[38;5;28;01mreturn\u001b[39;00m \u001b[43mf\u001b[49m\u001b[43m(\u001b[49m\u001b[38;5;241;43m*\u001b[39;49m\u001b[38;5;241;43m*\u001b[39;49m\u001b[43mkwargs\u001b[49m\u001b[43m)\u001b[49m\n",
      "File \u001b[0;32m/opt/conda/lib/python3.8/site-packages/xgboost/sklearn.py:1169\u001b[0m, in \u001b[0;36mXGBClassifier.fit\u001b[0;34m(self, X, y, sample_weight, base_margin, eval_set, eval_metric, early_stopping_rounds, verbose, xgb_model, sample_weight_eval_set, base_margin_eval_set, feature_weights, callbacks)\u001b[0m\n\u001b[1;32m   1160\u001b[0m label_encoder_deprecation_msg \u001b[38;5;241m=\u001b[39m (\n\u001b[1;32m   1161\u001b[0m     \u001b[38;5;124m\"\u001b[39m\u001b[38;5;124mThe use of label encoder in XGBClassifier is deprecated and will be \u001b[39m\u001b[38;5;124m\"\u001b[39m\n\u001b[1;32m   1162\u001b[0m     \u001b[38;5;124m\"\u001b[39m\u001b[38;5;124mremoved in a future release. To remove this warning, do the \u001b[39m\u001b[38;5;124m\"\u001b[39m\n\u001b[0;32m   (...)\u001b[0m\n\u001b[1;32m   1165\u001b[0m     \u001b[38;5;124m\"\u001b[39m\u001b[38;5;124mstarting with 0, i.e. 0, 1, 2, ..., [num_class - 1].\u001b[39m\u001b[38;5;124m\"\u001b[39m\n\u001b[1;32m   1166\u001b[0m )\n\u001b[1;32m   1168\u001b[0m evals_result: TrainingCallback\u001b[38;5;241m.\u001b[39mEvalsLog \u001b[38;5;241m=\u001b[39m {}\n\u001b[0;32m-> 1169\u001b[0m \u001b[38;5;28;01mif\u001b[39;00m \u001b[43m_is_cudf_df\u001b[49m\u001b[43m(\u001b[49m\u001b[43my\u001b[49m\u001b[43m)\u001b[49m \u001b[38;5;129;01mor\u001b[39;00m _is_cudf_ser(y):\n\u001b[1;32m   1170\u001b[0m     \u001b[38;5;28;01mimport\u001b[39;00m \u001b[38;5;21;01mcupy\u001b[39;00m \u001b[38;5;28;01mas\u001b[39;00m \u001b[38;5;21;01mcp\u001b[39;00m  \u001b[38;5;66;03m# pylint: disable=E0401\u001b[39;00m\n\u001b[1;32m   1172\u001b[0m     \u001b[38;5;28mself\u001b[39m\u001b[38;5;241m.\u001b[39mclasses_ \u001b[38;5;241m=\u001b[39m cp\u001b[38;5;241m.\u001b[39munique(y\u001b[38;5;241m.\u001b[39mvalues)\n",
      "File \u001b[0;32m/opt/conda/lib/python3.8/site-packages/xgboost/data.py:425\u001b[0m, in \u001b[0;36m_is_cudf_df\u001b[0;34m(data)\u001b[0m\n\u001b[1;32m    423\u001b[0m \u001b[38;5;28;01mdef\u001b[39;00m \u001b[38;5;21m_is_cudf_df\u001b[39m(data):\n\u001b[1;32m    424\u001b[0m     \u001b[38;5;28;01mtry\u001b[39;00m:\n\u001b[0;32m--> 425\u001b[0m         \u001b[38;5;28;01mimport\u001b[39;00m \u001b[38;5;21;01mcudf\u001b[39;00m\n\u001b[1;32m    426\u001b[0m     \u001b[38;5;28;01mexcept\u001b[39;00m \u001b[38;5;167;01mImportError\u001b[39;00m:\n\u001b[1;32m    427\u001b[0m         \u001b[38;5;28;01mreturn\u001b[39;00m \u001b[38;5;28;01mFalse\u001b[39;00m\n",
      "File \u001b[0;32m/opt/conda/lib/python3.8/site-packages/cudf/__init__.py:6\u001b[0m, in \u001b[0;36m<module>\u001b[0;34m\u001b[0m\n\u001b[1;32m      2\u001b[0m \u001b[38;5;28;01mfrom\u001b[39;00m \u001b[38;5;21;01mcudf\u001b[39;00m\u001b[38;5;21;01m.\u001b[39;00m\u001b[38;5;21;01mutils\u001b[39;00m\u001b[38;5;21;01m.\u001b[39;00m\u001b[38;5;21;01mgpu_utils\u001b[39;00m \u001b[38;5;28;01mimport\u001b[39;00m validate_setup\n\u001b[1;32m      4\u001b[0m validate_setup()\n\u001b[0;32m----> 6\u001b[0m \u001b[38;5;28;01mimport\u001b[39;00m \u001b[38;5;21;01mcupy\u001b[39;00m\n\u001b[1;32m      7\u001b[0m \u001b[38;5;28;01mfrom\u001b[39;00m \u001b[38;5;21;01mnumba\u001b[39;00m \u001b[38;5;28;01mimport\u001b[39;00m config \u001b[38;5;28;01mas\u001b[39;00m numba_config, cuda\n\u001b[1;32m      9\u001b[0m \u001b[38;5;28;01mimport\u001b[39;00m \u001b[38;5;21;01mrmm\u001b[39;00m\n",
      "File \u001b[0;32m/opt/conda/lib/python3.8/site-packages/cupy/__init__.py:58\u001b[0m, in \u001b[0;36m<module>\u001b[0;34m\u001b[0m\n\u001b[1;32m     56\u001b[0m \u001b[38;5;66;03m# `cupy.sparse` is deprecated in v8\u001b[39;00m\n\u001b[1;32m     57\u001b[0m \u001b[38;5;28;01mfrom\u001b[39;00m \u001b[38;5;21;01mcupy\u001b[39;00m \u001b[38;5;28;01mimport\u001b[39;00m sparse  \u001b[38;5;66;03m# NOQA\u001b[39;00m\n\u001b[0;32m---> 58\u001b[0m \u001b[38;5;28;01mfrom\u001b[39;00m \u001b[38;5;21;01mcupy\u001b[39;00m \u001b[38;5;28;01mimport\u001b[39;00m testing  \u001b[38;5;66;03m# NOQA  # NOQA\u001b[39;00m\n\u001b[1;32m     61\u001b[0m \u001b[38;5;66;03m# import class and function\u001b[39;00m\n\u001b[1;32m     62\u001b[0m \u001b[38;5;28;01mfrom\u001b[39;00m \u001b[38;5;21;01mcupy\u001b[39;00m\u001b[38;5;21;01m.\u001b[39;00m\u001b[38;5;21;01m_core\u001b[39;00m \u001b[38;5;28;01mimport\u001b[39;00m ndarray  \u001b[38;5;66;03m# NOQA\u001b[39;00m\n",
      "File \u001b[0;32m/opt/conda/lib/python3.8/site-packages/cupy/testing/__init__.py:8\u001b[0m, in \u001b[0;36m<module>\u001b[0;34m\u001b[0m\n\u001b[1;32m      6\u001b[0m \u001b[38;5;28;01mfrom\u001b[39;00m \u001b[38;5;21;01mcupy\u001b[39;00m\u001b[38;5;21;01m.\u001b[39;00m\u001b[38;5;21;01mtesting\u001b[39;00m\u001b[38;5;21;01m.\u001b[39;00m\u001b[38;5;21;01m_array\u001b[39;00m \u001b[38;5;28;01mimport\u001b[39;00m assert_array_list_equal  \u001b[38;5;66;03m# NOQA\u001b[39;00m\n\u001b[1;32m      7\u001b[0m \u001b[38;5;28;01mfrom\u001b[39;00m \u001b[38;5;21;01mcupy\u001b[39;00m\u001b[38;5;21;01m.\u001b[39;00m\u001b[38;5;21;01mtesting\u001b[39;00m\u001b[38;5;21;01m.\u001b[39;00m\u001b[38;5;21;01m_array\u001b[39;00m \u001b[38;5;28;01mimport\u001b[39;00m assert_array_max_ulp  \u001b[38;5;66;03m# NOQA\u001b[39;00m\n\u001b[0;32m----> 8\u001b[0m \u001b[38;5;28;01mfrom\u001b[39;00m \u001b[38;5;21;01mcupy\u001b[39;00m\u001b[38;5;21;01m.\u001b[39;00m\u001b[38;5;21;01mtesting\u001b[39;00m\u001b[38;5;21;01m.\u001b[39;00m\u001b[38;5;21;01m_attr\u001b[39;00m \u001b[38;5;28;01mimport\u001b[39;00m gpu  \u001b[38;5;66;03m# NOQA\u001b[39;00m\n\u001b[1;32m      9\u001b[0m \u001b[38;5;28;01mfrom\u001b[39;00m \u001b[38;5;21;01mcupy\u001b[39;00m\u001b[38;5;21;01m.\u001b[39;00m\u001b[38;5;21;01mtesting\u001b[39;00m\u001b[38;5;21;01m.\u001b[39;00m\u001b[38;5;21;01m_attr\u001b[39;00m \u001b[38;5;28;01mimport\u001b[39;00m multi_gpu  \u001b[38;5;66;03m# NOQA\u001b[39;00m\n\u001b[1;32m     10\u001b[0m \u001b[38;5;28;01mfrom\u001b[39;00m \u001b[38;5;21;01mcupy\u001b[39;00m\u001b[38;5;21;01m.\u001b[39;00m\u001b[38;5;21;01mtesting\u001b[39;00m\u001b[38;5;21;01m.\u001b[39;00m\u001b[38;5;21;01m_attr\u001b[39;00m \u001b[38;5;28;01mimport\u001b[39;00m slow  \u001b[38;5;66;03m# NOQA\u001b[39;00m\n",
      "File \u001b[0;32m/opt/conda/lib/python3.8/site-packages/cupy/testing/_attr.py:5\u001b[0m, in \u001b[0;36m<module>\u001b[0;34m\u001b[0m\n\u001b[1;32m      1\u001b[0m \u001b[38;5;28;01mimport\u001b[39;00m \u001b[38;5;21;01mos\u001b[39;00m\n\u001b[1;32m      4\u001b[0m \u001b[38;5;28;01mtry\u001b[39;00m:\n\u001b[0;32m----> 5\u001b[0m     \u001b[38;5;28;01mimport\u001b[39;00m \u001b[38;5;21;01mpytest\u001b[39;00m\n\u001b[1;32m      6\u001b[0m     _error \u001b[38;5;241m=\u001b[39m \u001b[38;5;28;01mNone\u001b[39;00m\n\u001b[1;32m      7\u001b[0m \u001b[38;5;28;01mexcept\u001b[39;00m \u001b[38;5;167;01mImportError\u001b[39;00m \u001b[38;5;28;01mas\u001b[39;00m e:\n",
      "File \u001b[0;32m/opt/conda/lib/python3.8/site-packages/pytest/__init__.py:5\u001b[0m, in \u001b[0;36m<module>\u001b[0;34m\u001b[0m\n\u001b[1;32m      3\u001b[0m \u001b[38;5;28;01mfrom\u001b[39;00m \u001b[38;5;21;01m.\u001b[39;00m \u001b[38;5;28;01mimport\u001b[39;00m collect\n\u001b[1;32m      4\u001b[0m \u001b[38;5;28;01mfrom\u001b[39;00m \u001b[38;5;21;01m_pytest\u001b[39;00m \u001b[38;5;28;01mimport\u001b[39;00m __version__\n\u001b[0;32m----> 5\u001b[0m \u001b[38;5;28;01mfrom\u001b[39;00m \u001b[38;5;21;01m_pytest\u001b[39;00m\u001b[38;5;21;01m.\u001b[39;00m\u001b[38;5;21;01massertion\u001b[39;00m \u001b[38;5;28;01mimport\u001b[39;00m register_assert_rewrite\n\u001b[1;32m      6\u001b[0m \u001b[38;5;28;01mfrom\u001b[39;00m \u001b[38;5;21;01m_pytest\u001b[39;00m\u001b[38;5;21;01m.\u001b[39;00m\u001b[38;5;21;01mcacheprovider\u001b[39;00m \u001b[38;5;28;01mimport\u001b[39;00m Cache\n\u001b[1;32m      7\u001b[0m \u001b[38;5;28;01mfrom\u001b[39;00m \u001b[38;5;21;01m_pytest\u001b[39;00m\u001b[38;5;21;01m.\u001b[39;00m\u001b[38;5;21;01mcapture\u001b[39;00m \u001b[38;5;28;01mimport\u001b[39;00m CaptureFixture\n",
      "File \u001b[0;32m/opt/conda/lib/python3.8/site-packages/_pytest/assertion/__init__.py:9\u001b[0m, in \u001b[0;36m<module>\u001b[0;34m\u001b[0m\n\u001b[1;32m      6\u001b[0m \u001b[38;5;28;01mfrom\u001b[39;00m \u001b[38;5;21;01mtyping\u001b[39;00m \u001b[38;5;28;01mimport\u001b[39;00m Optional\n\u001b[1;32m      7\u001b[0m \u001b[38;5;28;01mfrom\u001b[39;00m \u001b[38;5;21;01mtyping\u001b[39;00m \u001b[38;5;28;01mimport\u001b[39;00m TYPE_CHECKING\n\u001b[0;32m----> 9\u001b[0m \u001b[38;5;28;01mfrom\u001b[39;00m \u001b[38;5;21;01m_pytest\u001b[39;00m\u001b[38;5;21;01m.\u001b[39;00m\u001b[38;5;21;01massertion\u001b[39;00m \u001b[38;5;28;01mimport\u001b[39;00m rewrite\n\u001b[1;32m     10\u001b[0m \u001b[38;5;28;01mfrom\u001b[39;00m \u001b[38;5;21;01m_pytest\u001b[39;00m\u001b[38;5;21;01m.\u001b[39;00m\u001b[38;5;21;01massertion\u001b[39;00m \u001b[38;5;28;01mimport\u001b[39;00m truncate\n\u001b[1;32m     11\u001b[0m \u001b[38;5;28;01mfrom\u001b[39;00m \u001b[38;5;21;01m_pytest\u001b[39;00m\u001b[38;5;21;01m.\u001b[39;00m\u001b[38;5;21;01massertion\u001b[39;00m \u001b[38;5;28;01mimport\u001b[39;00m util\n",
      "File \u001b[0;32m/opt/conda/lib/python3.8/site-packages/_pytest/assertion/rewrite.py:34\u001b[0m, in \u001b[0;36m<module>\u001b[0;34m\u001b[0m\n\u001b[1;32m     32\u001b[0m \u001b[38;5;28;01mfrom\u001b[39;00m \u001b[38;5;21;01m_pytest\u001b[39;00m\u001b[38;5;21;01m.\u001b[39;00m\u001b[38;5;21;01m_io\u001b[39;00m\u001b[38;5;21;01m.\u001b[39;00m\u001b[38;5;21;01msaferepr\u001b[39;00m \u001b[38;5;28;01mimport\u001b[39;00m saferepr\n\u001b[1;32m     33\u001b[0m \u001b[38;5;28;01mfrom\u001b[39;00m \u001b[38;5;21;01m_pytest\u001b[39;00m\u001b[38;5;21;01m.\u001b[39;00m\u001b[38;5;21;01m_version\u001b[39;00m \u001b[38;5;28;01mimport\u001b[39;00m version\n\u001b[0;32m---> 34\u001b[0m \u001b[38;5;28;01mfrom\u001b[39;00m \u001b[38;5;21;01m_pytest\u001b[39;00m\u001b[38;5;21;01m.\u001b[39;00m\u001b[38;5;21;01massertion\u001b[39;00m \u001b[38;5;28;01mimport\u001b[39;00m util\n\u001b[1;32m     35\u001b[0m \u001b[38;5;28;01mfrom\u001b[39;00m \u001b[38;5;21;01m_pytest\u001b[39;00m\u001b[38;5;21;01m.\u001b[39;00m\u001b[38;5;21;01massertion\u001b[39;00m\u001b[38;5;21;01m.\u001b[39;00m\u001b[38;5;21;01mutil\u001b[39;00m \u001b[38;5;28;01mimport\u001b[39;00m (  \u001b[38;5;66;03m# noqa: F401\u001b[39;00m\n\u001b[1;32m     36\u001b[0m     format_explanation \u001b[38;5;28;01mas\u001b[39;00m _format_explanation,\n\u001b[1;32m     37\u001b[0m )\n\u001b[1;32m     38\u001b[0m \u001b[38;5;28;01mfrom\u001b[39;00m \u001b[38;5;21;01m_pytest\u001b[39;00m\u001b[38;5;21;01m.\u001b[39;00m\u001b[38;5;21;01mconfig\u001b[39;00m \u001b[38;5;28;01mimport\u001b[39;00m Config\n",
      "File \u001b[0;32m/opt/conda/lib/python3.8/site-packages/_pytest/assertion/util.py:13\u001b[0m, in \u001b[0;36m<module>\u001b[0;34m\u001b[0m\n\u001b[1;32m     10\u001b[0m \u001b[38;5;28;01mfrom\u001b[39;00m \u001b[38;5;21;01mtyping\u001b[39;00m \u001b[38;5;28;01mimport\u001b[39;00m Optional\n\u001b[1;32m     11\u001b[0m \u001b[38;5;28;01mfrom\u001b[39;00m \u001b[38;5;21;01mtyping\u001b[39;00m \u001b[38;5;28;01mimport\u001b[39;00m Sequence\n\u001b[0;32m---> 13\u001b[0m \u001b[38;5;28;01mimport\u001b[39;00m \u001b[38;5;21;01m_pytest\u001b[39;00m\u001b[38;5;21;01m.\u001b[39;00m\u001b[38;5;21;01m_code\u001b[39;00m\n\u001b[1;32m     14\u001b[0m \u001b[38;5;28;01mfrom\u001b[39;00m \u001b[38;5;21;01m_pytest\u001b[39;00m \u001b[38;5;28;01mimport\u001b[39;00m outcomes\n\u001b[1;32m     15\u001b[0m \u001b[38;5;28;01mfrom\u001b[39;00m \u001b[38;5;21;01m_pytest\u001b[39;00m\u001b[38;5;21;01m.\u001b[39;00m\u001b[38;5;21;01m_io\u001b[39;00m\u001b[38;5;21;01m.\u001b[39;00m\u001b[38;5;21;01msaferepr\u001b[39;00m \u001b[38;5;28;01mimport\u001b[39;00m _pformat_dispatch\n",
      "File \u001b[0;32m/opt/conda/lib/python3.8/site-packages/_pytest/_code/__init__.py:2\u001b[0m, in \u001b[0;36m<module>\u001b[0;34m\u001b[0m\n\u001b[1;32m      1\u001b[0m \u001b[38;5;124;03m\"\"\"Python inspection/code generation API.\"\"\"\u001b[39;00m\n\u001b[0;32m----> 2\u001b[0m \u001b[38;5;28;01mfrom\u001b[39;00m \u001b[38;5;21;01m.\u001b[39;00m\u001b[38;5;21;01mcode\u001b[39;00m \u001b[38;5;28;01mimport\u001b[39;00m Code\n\u001b[1;32m      3\u001b[0m \u001b[38;5;28;01mfrom\u001b[39;00m \u001b[38;5;21;01m.\u001b[39;00m\u001b[38;5;21;01mcode\u001b[39;00m \u001b[38;5;28;01mimport\u001b[39;00m ExceptionInfo\n\u001b[1;32m      4\u001b[0m \u001b[38;5;28;01mfrom\u001b[39;00m \u001b[38;5;21;01m.\u001b[39;00m\u001b[38;5;21;01mcode\u001b[39;00m \u001b[38;5;28;01mimport\u001b[39;00m filter_traceback\n",
      "File \u001b[0;32m/opt/conda/lib/python3.8/site-packages/_pytest/_code/code.py:942\u001b[0m, in \u001b[0;36m<module>\u001b[0;34m\u001b[0m\n\u001b[1;32m    938\u001b[0m         repr_chain\u001b[38;5;241m.\u001b[39mreverse()\n\u001b[1;32m    939\u001b[0m         \u001b[38;5;28;01mreturn\u001b[39;00m ExceptionChainRepr(repr_chain)\n\u001b[0;32m--> 942\u001b[0m \u001b[38;5;129m@attr\u001b[39m\u001b[38;5;241;43m.\u001b[39;49m\u001b[43ms\u001b[49m\u001b[43m(\u001b[49m\u001b[43meq\u001b[49m\u001b[38;5;241;43m=\u001b[39;49m\u001b[38;5;28;43;01mFalse\u001b[39;49;00m\u001b[43m)\u001b[49m\n\u001b[1;32m    943\u001b[0m \u001b[38;5;28;01mclass\u001b[39;00m \u001b[38;5;21;01mTerminalRepr\u001b[39;00m:\n\u001b[1;32m    944\u001b[0m     \u001b[38;5;28;01mdef\u001b[39;00m \u001b[38;5;21m__str__\u001b[39m(\u001b[38;5;28mself\u001b[39m) \u001b[38;5;241m-\u001b[39m\u001b[38;5;241m>\u001b[39m \u001b[38;5;28mstr\u001b[39m:\n\u001b[1;32m    945\u001b[0m         \u001b[38;5;66;03m# FYI this is called from pytest-xdist's serialization of exception\u001b[39;00m\n\u001b[1;32m    946\u001b[0m         \u001b[38;5;66;03m# information.\u001b[39;00m\n\u001b[1;32m    947\u001b[0m         io \u001b[38;5;241m=\u001b[39m StringIO()\n",
      "\u001b[0;31mTypeError\u001b[0m: attrs() got an unexpected keyword argument 'eq'"
     ]
    }
   ],
   "source": [
    "d = {0:class_weights[0], 1:class_weights[1], 2:class_weights[2]}\n",
    "\n",
    "clf = XGBClassifier(silent=False, \n",
    "                    n_estimators=1000,\n",
    "                    class_weight=d, \n",
    "                    metric=\"logloss\", \n",
    "                    tree_method=\"gpu_hist\")\n",
    "\n",
    "clf.fit(X_train, \n",
    "        Y_train, \n",
    "        eval_set=[(X_val, Y_val)],\n",
    "        verbose=100) "
   ]
  },
  {
   "cell_type": "code",
   "execution_count": null,
   "id": "66cacb75-898a-4835-919f-da80b63611fd",
   "metadata": {},
   "outputs": [],
   "source": []
  }
 ],
 "metadata": {
  "kernelspec": {
   "display_name": "Python 3 (ipykernel)",
   "language": "python",
   "name": "python3"
  },
  "language_info": {
   "codemirror_mode": {
    "name": "ipython",
    "version": 3
   },
   "file_extension": ".py",
   "mimetype": "text/x-python",
   "name": "python",
   "nbconvert_exporter": "python",
   "pygments_lexer": "ipython3",
   "version": "3.8.12"
  }
 },
 "nbformat": 4,
 "nbformat_minor": 5
}
