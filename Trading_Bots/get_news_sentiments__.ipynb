{
 "cells": [
  {
   "cell_type": "code",
   "execution_count": 9,
   "id": "0638421b-c085-4982-9e9d-677b39599149",
   "metadata": {},
   "outputs": [],
   "source": [
    "import numpy as np \n",
    "import pandas as pd  \n",
    "import math \n",
    "from transformers import AutoModelForSequenceClassification, AutoTokenizer\n",
    "import torch \n",
    "import torch.nn as nn \n",
    "import torch.nn.functional as F \n",
    "from tqdm import tqdm\n",
    "import ccxt"
   ]
  },
  {
   "cell_type": "code",
   "execution_count": 2,
   "id": "939c7e61-b464-427e-9b4d-3c6797eb44c0",
   "metadata": {},
   "outputs": [
    {
     "data": {
      "application/vnd.jupyter.widget-view+json": {
       "model_id": "cb91808b07fb4ce49ba7ef7876f62d2c",
       "version_major": 2,
       "version_minor": 0
      },
      "text/plain": [
       "Downloading:   0%|          | 0.00/661 [00:00<?, ?B/s]"
      ]
     },
     "metadata": {},
     "output_type": "display_data"
    },
    {
     "data": {
      "application/vnd.jupyter.widget-view+json": {
       "model_id": "f5767bad513a4f8ab161314aec78d32b",
       "version_major": 2,
       "version_minor": 0
      },
      "text/plain": [
       "Downloading:   0%|          | 0.00/1.17M [00:00<?, ?B/s]"
      ]
     },
     "metadata": {},
     "output_type": "display_data"
    },
    {
     "data": {
      "application/vnd.jupyter.widget-view+json": {
       "model_id": "1a52956a10834c19ba0f83504ca18a4e",
       "version_major": 2,
       "version_minor": 0
      },
      "text/plain": [
       "Downloading:   0%|          | 0.00/16.0 [00:00<?, ?B/s]"
      ]
     },
     "metadata": {},
     "output_type": "display_data"
    },
    {
     "data": {
      "application/vnd.jupyter.widget-view+json": {
       "model_id": "ab0afa9073e747edb4ceefe8de50109a",
       "version_major": 2,
       "version_minor": 0
      },
      "text/plain": [
       "Downloading:   0%|          | 0.00/245 [00:00<?, ?B/s]"
      ]
     },
     "metadata": {},
     "output_type": "display_data"
    },
    {
     "name": "stderr",
     "output_type": "stream",
     "text": [
      "Special tokens have been added in the vocabulary, make sure the associated word embeddings are fine-tuned or trained.\n"
     ]
    },
    {
     "data": {
      "application/vnd.jupyter.widget-view+json": {
       "model_id": "e4e5e27c7e5941bf8ec09cabc659d128",
       "version_major": 2,
       "version_minor": 0
      },
      "text/plain": [
       "Downloading:   0%|          | 0.00/953 [00:00<?, ?B/s]"
      ]
     },
     "metadata": {},
     "output_type": "display_data"
    },
    {
     "data": {
      "application/vnd.jupyter.widget-view+json": {
       "model_id": "54a12c8181a349a49caf6dd3b7eda918",
       "version_major": 2,
       "version_minor": 0
      },
      "text/plain": [
       "Downloading:   0%|          | 0.00/536M [00:00<?, ?B/s]"
      ]
     },
     "metadata": {},
     "output_type": "display_data"
    },
    {
     "name": "stdout",
     "output_type": "stream",
     "text": [
      "\n"
     ]
    }
   ],
   "source": [
    "tokenizer = AutoTokenizer.from_pretrained(\"totoro4007/cryptodeberta-base-all-finetuned\") \n",
    "model = AutoModelForSequenceClassification.from_pretrained(\"totoro4007/cryptodeberta-base-all-finetuned\") \n",
    "model.cuda() \n",
    "model.eval() \n",
    "print()"
   ]
  },
  {
   "cell_type": "code",
   "execution_count": 3,
   "id": "d7170da1-7dca-46ff-972c-06060a4a451c",
   "metadata": {},
   "outputs": [],
   "source": [
    "news_df = pd.read_csv(\"august_2022_coinness.csv\") "
   ]
  },
  {
   "cell_type": "code",
   "execution_count": 5,
   "id": "aaea20f1-2752-4b44-b6aa-8e15f95e1a7c",
   "metadata": {},
   "outputs": [
    {
     "name": "stderr",
     "output_type": "stream",
     "text": [
      "calculating news sentiment scores: 100%|██████████| 101919/101919 [30:12<00:00, 56.22it/s]\n"
     ]
    }
   ],
   "source": [
    "device = torch.device(\"cuda\") \n",
    "\n",
    "news_sentiment_dict = {} \n",
    "\n",
    "titles = news_df[\"titles\"].values \n",
    "contents = news_df[\"contents\"].values \n",
    "years = news_df[\"year\"].values \n",
    "months = news_df[\"month\"].values \n",
    "days = news_df[\"day\"].values \n",
    "hours = news_df[\"hour\"].values \n",
    "\n",
    "m = nn.Softmax(dim=1) \n",
    "\n",
    "for i in range(len(years)):\n",
    "    datestr = str(years[i]) + '/' + str(months[i]) + '/' + str(days[i]) + '/' + str(hours[i]) \n",
    "    news_sentiment_dict[datestr] = [] \n",
    "\n",
    "for i in tqdm(range(len(years)), desc=\"calculating news sentiment scores\", position=0, leave=True):\n",
    "    datestr = str(years[i]) + '/' + str(months[i]) + '/' + str(days[i]) + '/' + str(hours[i]) \n",
    "    title = str(titles[i]) \n",
    "    content = str(contents[i]) \n",
    "    inputs = tokenizer(title, content, return_tensors=\"pt\", max_length=512, padding=\"max_length\", truncation=True).to(device)\n",
    "    \n",
    "    with torch.no_grad():\n",
    "        logits = model(**inputs).logits\n",
    "    probs = m(logits)\n",
    "    probs = probs.detach().cpu().numpy().flatten() \n",
    "    \n",
    "    news_sentiment_dict[datestr].append(probs) \n"
   ]
  },
  {
   "cell_type": "code",
   "execution_count": 6,
   "id": "0140f5e5-a6ff-4265-8fea-29c6fa6217fe",
   "metadata": {},
   "outputs": [],
   "source": [
    "import pickle\n",
    "\n",
    "with open('news_sentiment_dict.pickle', 'wb') as handle:\n",
    "    pickle.dump(news_sentiment_dict, handle)\n",
    "\n",
    "with open('news_sentiment_dict.pickle', 'rb') as handle:\n",
    "    b = pickle.load(handle)\n",
    "\n"
   ]
  },
  {
   "cell_type": "code",
   "execution_count": 10,
   "id": "3f8be342-0554-47f0-813a-394938c998e0",
   "metadata": {},
   "outputs": [
    {
     "name": "stderr",
     "output_type": "stream",
     "text": [
      "100%|██████████| 10969/10969 [00:02<00:00, 5021.77it/s]\n"
     ]
    },
    {
     "data": {
      "text/html": [
       "<div>\n",
       "<style scoped>\n",
       "    .dataframe tbody tr th:only-of-type {\n",
       "        vertical-align: middle;\n",
       "    }\n",
       "\n",
       "    .dataframe tbody tr th {\n",
       "        vertical-align: top;\n",
       "    }\n",
       "\n",
       "    .dataframe thead th {\n",
       "        text-align: right;\n",
       "    }\n",
       "</style>\n",
       "<table border=\"1\" class=\"dataframe\">\n",
       "  <thead>\n",
       "    <tr style=\"text-align: right;\">\n",
       "      <th></th>\n",
       "      <th>open</th>\n",
       "      <th>high</th>\n",
       "      <th>low</th>\n",
       "      <th>close</th>\n",
       "      <th>volume</th>\n",
       "      <th>datetime</th>\n",
       "      <th>hour</th>\n",
       "      <th>day</th>\n",
       "      <th>month</th>\n",
       "      <th>year</th>\n",
       "    </tr>\n",
       "  </thead>\n",
       "  <tbody>\n",
       "    <tr>\n",
       "      <th>0</th>\n",
       "      <td>4261.48</td>\n",
       "      <td>4349.99</td>\n",
       "      <td>4261.32</td>\n",
       "      <td>4349.99</td>\n",
       "      <td>82.088865</td>\n",
       "      <td>2017-08-17 04:00:00</td>\n",
       "      <td>4</td>\n",
       "      <td>17</td>\n",
       "      <td>8</td>\n",
       "      <td>2017</td>\n",
       "    </tr>\n",
       "    <tr>\n",
       "      <th>1</th>\n",
       "      <td>4333.32</td>\n",
       "      <td>4485.39</td>\n",
       "      <td>4333.32</td>\n",
       "      <td>4427.30</td>\n",
       "      <td>63.619882</td>\n",
       "      <td>2017-08-17 08:00:00</td>\n",
       "      <td>8</td>\n",
       "      <td>17</td>\n",
       "      <td>8</td>\n",
       "      <td>2017</td>\n",
       "    </tr>\n",
       "    <tr>\n",
       "      <th>2</th>\n",
       "      <td>4436.06</td>\n",
       "      <td>4485.39</td>\n",
       "      <td>4333.42</td>\n",
       "      <td>4352.34</td>\n",
       "      <td>174.562001</td>\n",
       "      <td>2017-08-17 12:00:00</td>\n",
       "      <td>12</td>\n",
       "      <td>17</td>\n",
       "      <td>8</td>\n",
       "      <td>2017</td>\n",
       "    </tr>\n",
       "    <tr>\n",
       "      <th>3</th>\n",
       "      <td>4352.33</td>\n",
       "      <td>4354.84</td>\n",
       "      <td>4200.74</td>\n",
       "      <td>4325.23</td>\n",
       "      <td>225.109716</td>\n",
       "      <td>2017-08-17 16:00:00</td>\n",
       "      <td>16</td>\n",
       "      <td>17</td>\n",
       "      <td>8</td>\n",
       "      <td>2017</td>\n",
       "    </tr>\n",
       "    <tr>\n",
       "      <th>4</th>\n",
       "      <td>4307.56</td>\n",
       "      <td>4369.69</td>\n",
       "      <td>4258.56</td>\n",
       "      <td>4285.08</td>\n",
       "      <td>249.769913</td>\n",
       "      <td>2017-08-17 20:00:00</td>\n",
       "      <td>20</td>\n",
       "      <td>17</td>\n",
       "      <td>8</td>\n",
       "      <td>2017</td>\n",
       "    </tr>\n",
       "  </tbody>\n",
       "</table>\n",
       "</div>"
      ],
      "text/plain": [
       "      open     high      low    close      volume             datetime  hour  \\\n",
       "0  4261.48  4349.99  4261.32  4349.99   82.088865  2017-08-17 04:00:00     4   \n",
       "1  4333.32  4485.39  4333.32  4427.30   63.619882  2017-08-17 08:00:00     8   \n",
       "2  4436.06  4485.39  4333.42  4352.34  174.562001  2017-08-17 12:00:00    12   \n",
       "3  4352.33  4354.84  4200.74  4325.23  225.109716  2017-08-17 16:00:00    16   \n",
       "4  4307.56  4369.69  4258.56  4285.08  249.769913  2017-08-17 20:00:00    20   \n",
       "\n",
       "   day  month  year  \n",
       "0   17      8  2017  \n",
       "1   17      8  2017  \n",
       "2   17      8  2017  \n",
       "3   17      8  2017  \n",
       "4   17      8  2017  "
      ]
     },
     "execution_count": 10,
     "metadata": {},
     "output_type": "execute_result"
    }
   ],
   "source": [
    "import json \n",
    "with open(\"BTC_USDT-4h-10.json\") as f: \n",
    "    d = json.load(f) \n",
    "    \n",
    "chart_df = pd.DataFrame(d) \n",
    "chart_df = chart_df.rename(columns={0:\"timestamp\", \n",
    "                                    1:\"open\",\n",
    "                                    2:\"high\",\n",
    "                                    3:\"low\",\n",
    "                                    4:\"close\",\n",
    "                                    5:\"volume\"}) \n",
    "\n",
    "def process(df): \n",
    "    binance = ccxt.binance() \n",
    "    dates = df[\"timestamp\"].values \n",
    "    timestamp = [] \n",
    "    for i in range(len(dates)):\n",
    "        date_string = binance.iso8601(int(dates[i]))\n",
    "        date_string = date_string[:10] + \" \" + date_string[11:-5] \n",
    "        timestamp.append(date_string) \n",
    "    df[\"datetime\"] = timestamp \n",
    "    df = df.drop(columns={\"timestamp\"})  \n",
    "    return df \n",
    "\n",
    "chart_df = process(chart_df) \n",
    "\n",
    "hours, days, months, years = [], [], [], [] \n",
    "for dt in tqdm(chart_df[\"datetime\"]): \n",
    "    hour = pd.to_datetime(dt).hour \n",
    "    day = pd.to_datetime(dt).day \n",
    "    month = pd.to_datetime(dt).month \n",
    "    year = pd.to_datetime(dt).year \n",
    "    hours.append(hour) \n",
    "    days.append(day) \n",
    "    months.append(month) \n",
    "    years.append(year)  \n",
    "\n",
    "chart_df[\"hour\"] = hours \n",
    "chart_df[\"day\"] = days \n",
    "chart_df[\"month\"] = months  \n",
    "chart_df[\"year\"] = years \n",
    "\n",
    "\n",
    "chart_df.head()"
   ]
  },
  {
   "cell_type": "code",
   "execution_count": 11,
   "id": "7a4eeadf-2d25-403c-8a31-d09078524872",
   "metadata": {},
   "outputs": [
    {
     "name": "stderr",
     "output_type": "stream",
     "text": [
      "100%|██████████| 10969/10969 [00:04<00:00, 2281.81it/s]\n"
     ]
    }
   ],
   "source": [
    "chart_datestr = {} \n",
    "chart_newscnt = {} \n",
    "years = chart_df[\"year\"].values \n",
    "months = chart_df[\"month\"].values \n",
    "days = chart_df[\"day\"].values \n",
    "hours = chart_df[\"hour\"].values \n",
    "\n",
    "cnt = 0 \n",
    "\n",
    "for i in tqdm(range(len(years))): \n",
    "    datestr = str(years[i]) + '/' + str(months[i]) + '/' + str(days[i]) + '/' + str(hours[i]) \n",
    "    if hours[i] == 4:\n",
    "        partial = str(years[i]) + '/' + str(months[i]) + '/' + str(days[i]) + '/'  \n",
    "        cnt = 0 # for calculating average \n",
    "        for d in [partial+str(i) for i in range(0,4)]:\n",
    "            if d in news_sentiment_dict.keys():\n",
    "                if datestr not in chart_datestr.keys(): \n",
    "                    chart_datestr[datestr] = torch.tensor([0,0,0], dtype=torch.float32)\n",
    "                for arr in news_sentiment_dict[d]:\n",
    "                    chart_datestr[datestr] += arr \n",
    "    elif hours[i] == 8:\n",
    "        partial = str(years[i]) + '/' + str(months[i]) + '/' + str(days[i]) + '/'  \n",
    "        for d in [partial+str(i) for i in range(4,8)]:\n",
    "            if d in news_sentiment_dict.keys():\n",
    "                if datestr not in chart_datestr.keys(): \n",
    "                    chart_datestr[datestr] = torch.tensor([0,0,0], dtype=torch.float32)\n",
    "                for arr in news_sentiment_dict[d]:\n",
    "                    chart_datestr[datestr] += arr \n",
    "    elif hours[i] == 12:\n",
    "        partial = str(years[i]) + '/' + str(months[i]) + '/' + str(days[i]) + '/'  \n",
    "        for d in [partial+str(i) for i in range(8,12)]:\n",
    "            if d in news_sentiment_dict.keys():\n",
    "                if datestr not in chart_datestr.keys(): \n",
    "                    chart_datestr[datestr] = torch.tensor([0,0,0], dtype=torch.float32)\n",
    "                for arr in news_sentiment_dict[d]:\n",
    "                    chart_datestr[datestr] += arr \n",
    "    elif hours[i] == 16:\n",
    "        partial = str(years[i]) + '/' + str(months[i]) + '/' + str(days[i]) + '/'  \n",
    "        for d in [partial+str(i) for i in range(12,16)]:\n",
    "            if d in news_sentiment_dict.keys():\n",
    "                if datestr not in chart_datestr.keys(): \n",
    "                    chart_datestr[datestr] = torch.tensor([0,0,0], dtype=torch.float32)\n",
    "                for arr in news_sentiment_dict[d]:\n",
    "                    chart_datestr[datestr] += arr \n",
    "    elif hours[i] == 20:\n",
    "        partial = str(years[i]) + '/' + str(months[i]) + '/' + str(days[i]) + '/'  \n",
    "        for d in [partial+str(i) for i in range(16,20)]:\n",
    "            if d in news_sentiment_dict.keys():\n",
    "                if datestr not in chart_datestr.keys(): \n",
    "                    chart_datestr[datestr] = torch.tensor([0,0,0], dtype=torch.float32)\n",
    "                for arr in news_sentiment_dict[d]:\n",
    "                    chart_datestr[datestr] += arr \n",
    "    elif hours[i] == 0: \n",
    "        partial = str(years[i]) + '/' + str(months[i]) + '/' + str(days[i]) + '/'  \n",
    "        for d in [partial+str(i) for i in range(20,24)]:\n",
    "            if d in news_sentiment_dict.keys():\n",
    "                if datestr not in chart_datestr.keys(): \n",
    "                    chart_datestr[datestr] = torch.tensor([0,0,0], dtype=torch.float32)\n",
    "                for arr in news_sentiment_dict[d]:\n",
    "                    chart_datestr[datestr] += arr \n"
   ]
  },
  {
   "cell_type": "code",
   "execution_count": null,
   "id": "e93d2c5b-309c-45fe-9785-caaf146641e7",
   "metadata": {},
   "outputs": [],
   "source": []
  },
  {
   "cell_type": "code",
   "execution_count": 25,
   "id": "470f6b02-ba64-4fa4-b3b5-bc0e19808a2d",
   "metadata": {},
   "outputs": [
    {
     "name": "stderr",
     "output_type": "stream",
     "text": [
      "  0%|          | 0/10969 [00:00<?, ?it/s]/tmp/ipykernel_66/780961601.py:9: UserWarning: Implicit dimension choice for softmax has been deprecated. Change the call to include dim=X as an argument.\n",
      "  probs = nn.Softmax()(torch.tensor([v[0], v[1]]))\n",
      "100%|██████████| 10969/10969 [00:00<00:00, 39984.50it/s]\n"
     ]
    }
   ],
   "source": [
    "positives, negatives, neutrals = [], [], [] \n",
    "positive_cnts, negative_cnts, neutral_cnts = [], [], [] \n",
    "\n",
    "flag = False\n",
    "for i in tqdm(range(len(years)), position=0, leave=True):\n",
    "    datestr = str(years[i]) + \"/\" + str(months[i]) + \"/\" + str(days[i]) + \"/\" + str(hours[i]) \n",
    "    if datestr in chart_datestr.keys(): \n",
    "        v = chart_datestr[datestr] \n",
    "        probs = nn.Softmax()(torch.tensor([v[0], v[1]])) \n",
    "        positives.append(probs[0].item()) \n",
    "        negatives.append(probs[1].item()) \n",
    "    else:\n",
    "        positives.append(0) \n",
    "        negatives.append(0) "
   ]
  },
  {
   "cell_type": "code",
   "execution_count": 26,
   "id": "80d02776-0495-46d9-a76b-48aafe1ddf99",
   "metadata": {},
   "outputs": [],
   "source": [
    "chart_df[\"positive_sentiment\"] = positives \n",
    "chart_df[\"negative_sentiment\"] = negatives "
   ]
  },
  {
   "cell_type": "code",
   "execution_count": 27,
   "id": "47f1d609-0a15-4ad2-911f-8334179e9115",
   "metadata": {},
   "outputs": [
    {
     "data": {
      "text/html": [
       "<div>\n",
       "<style scoped>\n",
       "    .dataframe tbody tr th:only-of-type {\n",
       "        vertical-align: middle;\n",
       "    }\n",
       "\n",
       "    .dataframe tbody tr th {\n",
       "        vertical-align: top;\n",
       "    }\n",
       "\n",
       "    .dataframe thead th {\n",
       "        text-align: right;\n",
       "    }\n",
       "</style>\n",
       "<table border=\"1\" class=\"dataframe\">\n",
       "  <thead>\n",
       "    <tr style=\"text-align: right;\">\n",
       "      <th></th>\n",
       "      <th>open</th>\n",
       "      <th>high</th>\n",
       "      <th>low</th>\n",
       "      <th>close</th>\n",
       "      <th>volume</th>\n",
       "      <th>datetime</th>\n",
       "      <th>hour</th>\n",
       "      <th>day</th>\n",
       "      <th>month</th>\n",
       "      <th>year</th>\n",
       "      <th>positive_sentiment</th>\n",
       "      <th>negative_sentiment</th>\n",
       "    </tr>\n",
       "  </thead>\n",
       "  <tbody>\n",
       "    <tr>\n",
       "      <th>10964</th>\n",
       "      <td>21210.06</td>\n",
       "      <td>21285.08</td>\n",
       "      <td>21069.11</td>\n",
       "      <td>21251.38</td>\n",
       "      <td>21730.29782</td>\n",
       "      <td>2022-08-21 04:00:00</td>\n",
       "      <td>4</td>\n",
       "      <td>21</td>\n",
       "      <td>8</td>\n",
       "      <td>2022</td>\n",
       "      <td>0.415333</td>\n",
       "      <td>0.584667</td>\n",
       "    </tr>\n",
       "    <tr>\n",
       "      <th>10965</th>\n",
       "      <td>21250.21</td>\n",
       "      <td>21570.00</td>\n",
       "      <td>21224.48</td>\n",
       "      <td>21524.39</td>\n",
       "      <td>34690.60227</td>\n",
       "      <td>2022-08-21 08:00:00</td>\n",
       "      <td>8</td>\n",
       "      <td>21</td>\n",
       "      <td>8</td>\n",
       "      <td>2022</td>\n",
       "      <td>0.000000</td>\n",
       "      <td>0.000000</td>\n",
       "    </tr>\n",
       "    <tr>\n",
       "      <th>10966</th>\n",
       "      <td>21525.57</td>\n",
       "      <td>21587.74</td>\n",
       "      <td>21314.88</td>\n",
       "      <td>21420.20</td>\n",
       "      <td>24843.69947</td>\n",
       "      <td>2022-08-21 12:00:00</td>\n",
       "      <td>12</td>\n",
       "      <td>21</td>\n",
       "      <td>8</td>\n",
       "      <td>2022</td>\n",
       "      <td>0.000000</td>\n",
       "      <td>0.000000</td>\n",
       "    </tr>\n",
       "    <tr>\n",
       "      <th>10967</th>\n",
       "      <td>21419.00</td>\n",
       "      <td>21557.26</td>\n",
       "      <td>21330.75</td>\n",
       "      <td>21512.01</td>\n",
       "      <td>21034.03801</td>\n",
       "      <td>2022-08-21 16:00:00</td>\n",
       "      <td>16</td>\n",
       "      <td>21</td>\n",
       "      <td>8</td>\n",
       "      <td>2022</td>\n",
       "      <td>0.000000</td>\n",
       "      <td>0.000000</td>\n",
       "    </tr>\n",
       "    <tr>\n",
       "      <th>10968</th>\n",
       "      <td>21512.01</td>\n",
       "      <td>21800.00</td>\n",
       "      <td>21277.73</td>\n",
       "      <td>21515.61</td>\n",
       "      <td>35006.75105</td>\n",
       "      <td>2022-08-21 20:00:00</td>\n",
       "      <td>20</td>\n",
       "      <td>21</td>\n",
       "      <td>8</td>\n",
       "      <td>2022</td>\n",
       "      <td>0.000000</td>\n",
       "      <td>0.000000</td>\n",
       "    </tr>\n",
       "  </tbody>\n",
       "</table>\n",
       "</div>"
      ],
      "text/plain": [
       "           open      high       low     close       volume  \\\n",
       "10964  21210.06  21285.08  21069.11  21251.38  21730.29782   \n",
       "10965  21250.21  21570.00  21224.48  21524.39  34690.60227   \n",
       "10966  21525.57  21587.74  21314.88  21420.20  24843.69947   \n",
       "10967  21419.00  21557.26  21330.75  21512.01  21034.03801   \n",
       "10968  21512.01  21800.00  21277.73  21515.61  35006.75105   \n",
       "\n",
       "                  datetime  hour  day  month  year  positive_sentiment  \\\n",
       "10964  2022-08-21 04:00:00     4   21      8  2022            0.415333   \n",
       "10965  2022-08-21 08:00:00     8   21      8  2022            0.000000   \n",
       "10966  2022-08-21 12:00:00    12   21      8  2022            0.000000   \n",
       "10967  2022-08-21 16:00:00    16   21      8  2022            0.000000   \n",
       "10968  2022-08-21 20:00:00    20   21      8  2022            0.000000   \n",
       "\n",
       "       negative_sentiment  \n",
       "10964            0.584667  \n",
       "10965            0.000000  \n",
       "10966            0.000000  \n",
       "10967            0.000000  \n",
       "10968            0.000000  "
      ]
     },
     "execution_count": 27,
     "metadata": {},
     "output_type": "execute_result"
    }
   ],
   "source": [
    "chart_df.tail()"
   ]
  },
  {
   "cell_type": "code",
   "execution_count": 30,
   "id": "492f81fd-a25c-40d6-84d7-bd1f98c87d48",
   "metadata": {},
   "outputs": [],
   "source": [
    "chart_df.to_csv(\"chart_df_with_deberta_sentiments.csv\",index=False) "
   ]
  },
  {
   "cell_type": "code",
   "execution_count": null,
   "id": "92d542a0-21f3-4658-b149-1687a61b0eae",
   "metadata": {},
   "outputs": [],
   "source": []
  }
 ],
 "metadata": {
  "kernelspec": {
   "display_name": "Python 3 (ipykernel)",
   "language": "python",
   "name": "python3"
  },
  "language_info": {
   "codemirror_mode": {
    "name": "ipython",
    "version": 3
   },
   "file_extension": ".py",
   "mimetype": "text/x-python",
   "name": "python",
   "nbconvert_exporter": "python",
   "pygments_lexer": "ipython3",
   "version": "3.9.13"
  }
 },
 "nbformat": 4,
 "nbformat_minor": 5
}
