{
 "cells": [
  {
   "cell_type": "markdown",
   "id": "d43e81c4-560c-4a8d-9670-92f371bc2421",
   "metadata": {},
   "source": [
    "# Anomaly Detection Model"
   ]
  },
  {
   "cell_type": "code",
   "execution_count": 88,
   "id": "f04a32ae-34ec-4f3f-9007-05c394655e2c",
   "metadata": {},
   "outputs": [
    {
     "data": {
      "text/html": [
       "<div>\n",
       "<style scoped>\n",
       "    .dataframe tbody tr th:only-of-type {\n",
       "        vertical-align: middle;\n",
       "    }\n",
       "\n",
       "    .dataframe tbody tr th {\n",
       "        vertical-align: top;\n",
       "    }\n",
       "\n",
       "    .dataframe thead th {\n",
       "        text-align: right;\n",
       "    }\n",
       "</style>\n",
       "<table border=\"1\" class=\"dataframe\">\n",
       "  <thead>\n",
       "    <tr style=\"text-align: right;\">\n",
       "      <th></th>\n",
       "      <th>open</th>\n",
       "      <th>high</th>\n",
       "      <th>low</th>\n",
       "      <th>close</th>\n",
       "      <th>volume</th>\n",
       "      <th>datetime</th>\n",
       "    </tr>\n",
       "  </thead>\n",
       "  <tbody>\n",
       "    <tr>\n",
       "      <th>0</th>\n",
       "      <td>4261.48</td>\n",
       "      <td>4280.56</td>\n",
       "      <td>4261.48</td>\n",
       "      <td>4261.48</td>\n",
       "      <td>2.189061</td>\n",
       "      <td>2017-08-17 04:00:00</td>\n",
       "    </tr>\n",
       "    <tr>\n",
       "      <th>1</th>\n",
       "      <td>4261.48</td>\n",
       "      <td>4270.41</td>\n",
       "      <td>4261.32</td>\n",
       "      <td>4261.45</td>\n",
       "      <td>9.119865</td>\n",
       "      <td>2017-08-17 04:15:00</td>\n",
       "    </tr>\n",
       "    <tr>\n",
       "      <th>2</th>\n",
       "      <td>4280.00</td>\n",
       "      <td>4310.07</td>\n",
       "      <td>4267.99</td>\n",
       "      <td>4310.07</td>\n",
       "      <td>21.923552</td>\n",
       "      <td>2017-08-17 04:30:00</td>\n",
       "    </tr>\n",
       "    <tr>\n",
       "      <th>3</th>\n",
       "      <td>4310.07</td>\n",
       "      <td>4313.62</td>\n",
       "      <td>4291.37</td>\n",
       "      <td>4308.83</td>\n",
       "      <td>13.948531</td>\n",
       "      <td>2017-08-17 04:45:00</td>\n",
       "    </tr>\n",
       "    <tr>\n",
       "      <th>4</th>\n",
       "      <td>4308.83</td>\n",
       "      <td>4328.69</td>\n",
       "      <td>4304.31</td>\n",
       "      <td>4304.31</td>\n",
       "      <td>5.101153</td>\n",
       "      <td>2017-08-17 05:00:00</td>\n",
       "    </tr>\n",
       "  </tbody>\n",
       "</table>\n",
       "</div>"
      ],
      "text/plain": [
       "      open     high      low    close     volume             datetime\n",
       "0  4261.48  4280.56  4261.48  4261.48   2.189061  2017-08-17 04:00:00\n",
       "1  4261.48  4270.41  4261.32  4261.45   9.119865  2017-08-17 04:15:00\n",
       "2  4280.00  4310.07  4267.99  4310.07  21.923552  2017-08-17 04:30:00\n",
       "3  4310.07  4313.62  4291.37  4308.83  13.948531  2017-08-17 04:45:00\n",
       "4  4308.83  4328.69  4304.31  4304.31   5.101153  2017-08-17 05:00:00"
      ]
     },
     "execution_count": 88,
     "metadata": {},
     "output_type": "execute_result"
    }
   ],
   "source": [
    "import numpy as np \n",
    "import pandas as pd \n",
    "import json \n",
    "import ccxt \n",
    "import seaborn as sns\n",
    "import json\n",
    "import pandas as pd\n",
    "import numpy as np\n",
    "import ccxt\n",
    "from tqdm import tqdm\n",
    "import seaborn as sns\n",
    "from sklearn.utils.class_weight import compute_class_weight\n",
    "from sklearn.metrics import f1_score \n",
    "import pandas_ta as ta\n",
    "from xgboost import XGBClassifier  \n",
    "import lightgbm as lgbm \n",
    "\n",
    "with open(\"BTC_USDT-15m.json\") as f: \n",
    "    d = json.load(f) \n",
    "    \n",
    "chart_df = pd.DataFrame(d) \n",
    "chart_df = chart_df.rename(columns={0:\"timestamp\", \n",
    "                                    1:\"open\", \n",
    "                                    2:\"high\", \n",
    "                                    3:\"low\",\n",
    "                                    4:\"close\",\n",
    "                                    5:\"volume\"}) \n",
    "\n",
    "def process(df):\n",
    "    binance = ccxt.binance() \n",
    "    dates = df[\"timestamp\"].values \n",
    "    timestamp = [] \n",
    "    for i in range(len(dates)):\n",
    "        date_string = binance.iso8601(int(dates[i]))\n",
    "        date_string = date_string[:10] + \" \" + date_string[11:-5] \n",
    "        timestamp.append(date_string) \n",
    "    df[\"datetime\"] = timestamp \n",
    "    df = df.drop(columns={\"timestamp\"}) \n",
    "    return df \n",
    "\n",
    "chart_df = process(chart_df) \n",
    "\n",
    "chart_df.head()"
   ]
  },
  {
   "cell_type": "code",
   "execution_count": 89,
   "id": "ac94f6b2-59de-4afd-b864-31f0421438b5",
   "metadata": {},
   "outputs": [],
   "source": [
    "close = chart_df[\"close\"].values \n",
    "high = chart_df[\"high\"].values \n",
    "low = chart_df[\"low\"].values \n",
    "\n",
    "threshold = 0.006\n",
    "\n",
    "targets = [] \n",
    "for i in range(len(close)-1):\n",
    "    high_vol = (high[i+1]-close[i])/close[i] \n",
    "    low_vol = (low[i+1]-close[i])/close[i] \n",
    "    if high_vol >= threshold or low_vol <= -threshold:\n",
    "        targets.append(1) \n",
    "    else:\n",
    "        targets.append(0) \n",
    "        \n",
    "targets.append(None) "
   ]
  },
  {
   "cell_type": "code",
   "execution_count": 90,
   "id": "11e82a05-ee95-4468-9b55-20688674b0c5",
   "metadata": {},
   "outputs": [],
   "source": [
    "chart_df[\"Targets\"] = targets"
   ]
  },
  {
   "cell_type": "code",
   "execution_count": 91,
   "id": "a82cf4fa-d7e4-4c51-b073-31a98da96130",
   "metadata": {},
   "outputs": [
    {
     "name": "stderr",
     "output_type": "stream",
     "text": [
      "100%|██████████| 11/11 [00:04<00:00,  2.52it/s]\n"
     ]
    },
    {
     "name": "stdout",
     "output_type": "stream",
     "text": [
      "(176535, 56)\n"
     ]
    }
   ],
   "source": [
    "chart_df.set_index(pd.DatetimeIndex(chart_df[\"datetime\"]), inplace=True)\n",
    "\n",
    "### addition of chart features ### \n",
    "chart_df[\"bop\"] = chart_df.ta.bop(lookahead=False) \n",
    "chart_df[\"ebsw\"] = chart_df.ta.ebsw(lookahead=False) \n",
    "chart_df[\"cmf\"] = chart_df.ta.cmf(lookahead=False) \n",
    "chart_df[\"vwap\"] = chart_df.ta.vwap(lookahead=False) \n",
    "chart_df[\"rsi/100\"] = chart_df.ta.rsi(lookahead=False) / 100\n",
    "chart_df[\"high/low\"] = chart_df[\"high\"] / chart_df[\"low\"] \n",
    "chart_df[\"close/open\"] = chart_df[\"close\"] / chart_df[\"open\"] \n",
    "chart_df[\"high/open\"] = chart_df[\"high\"] / chart_df[\"open\"] \n",
    "chart_df[\"low/open\"] = chart_df[\"low\"] / chart_df[\"open\"] \n",
    "chart_df[\"hwma\"] = chart_df.ta.hwma(lookahead=False) \n",
    "chart_df[\"linreg\"] = chart_df.ta.linreg(lookahead=False) \n",
    "chart_df[\"hwma/close\"] = chart_df[\"hwma\"] / chart_df[\"close\"] \n",
    "chart_df[\"linreg/close\"] = chart_df[\"linreg\"] / chart_df[\"close\"]\n",
    "\n",
    "\n",
    "### addition of recent differenced features ### \n",
    "for l in tqdm(range(1, 12), position=0, leave=True): \n",
    "    for col in [\"high\", \"low\", \"volume\", \"vwap\"]:\n",
    "        val = chart_df[col].values \n",
    "        val_ret = [None for _ in range(l)]\n",
    "        for i in range(l, len(val)):\n",
    "            if val[i-l] == 0: \n",
    "                ret = 1 \n",
    "            else:\n",
    "                ret = val[i] / val[i-l]  \n",
    "            val_ret.append(ret) \n",
    "        chart_df[\"{}_change_{}\".format(col, l)] = val_ret\n",
    "        \n",
    "### drop unnecessary columns ### \n",
    "chart_df.drop(columns={\"open\",\"high\",\"low\",\"close\",\"volume\",\"vwap\",\"hwma\",\"linreg\"}, inplace=True) \n",
    "\n",
    "\n",
    "chart_df.dropna(inplace=True)\n",
    "\n",
    "print(chart_df.shape)  "
   ]
  },
  {
   "cell_type": "code",
   "execution_count": 92,
   "id": "b16d077c-1c8b-4a6c-bf1c-60501261a98a",
   "metadata": {},
   "outputs": [
    {
     "name": "stderr",
     "output_type": "stream",
     "text": [
      "/usr/local/lib/python3.9/dist-packages/seaborn/_decorators.py:36: FutureWarning: Pass the following variable as a keyword arg: x. From version 0.12, the only valid positional argument will be `data`, and passing other arguments without an explicit keyword will result in an error or misinterpretation.\n",
      "  warnings.warn(\n"
     ]
    },
    {
     "data": {
      "text/plain": [
       "<AxesSubplot:xlabel='Targets', ylabel='count'>"
      ]
     },
     "execution_count": 92,
     "metadata": {},
     "output_type": "execute_result"
    },
    {
     "data": {
      "image/png": "[encoded data removed]",
      "text/plain": [
       "<Figure size 432x288 with 1 Axes>"
      ]
     },
     "metadata": {
      "needs_background": "light"
     },
     "output_type": "display_data"
    }
   ],
   "source": [
    "sns.countplot(chart_df[\"Targets\"])"
   ]
  },
  {
   "cell_type": "code",
   "execution_count": 93,
   "id": "775a6143-35e3-4f4b-9493-f25a57ad4a00",
   "metadata": {},
   "outputs": [
    {
     "data": {
      "text/plain": [
       "((141228, 56), (17653, 56), (17654, 56))"
      ]
     },
     "execution_count": 93,
     "metadata": {},
     "output_type": "execute_result"
    }
   ],
   "source": [
    "columns = chart_df.columns \n",
    "\n",
    "train_columns = [] \n",
    "\n",
    "for c in columns:\n",
    "    if c not in [\"year\",\"datetime\",\"Targets\"]: \n",
    "        train_columns.append(c) \n",
    "        \n",
    "        \n",
    "train_idx = int(chart_df.shape[0] * 0.8) \n",
    "val_idx = int(chart_df.shape[0] * 0.1)\n",
    "train_df, val_df, test_df = chart_df.iloc[:train_idx], chart_df.iloc[train_idx:train_idx+val_idx], chart_df.iloc[train_idx+val_idx:]\n",
    "\n",
    "\n",
    "train_df.shape, val_df.shape, test_df.shape"
   ]
  },
  {
   "cell_type": "code",
   "execution_count": 94,
   "id": "58090d81-e59c-4397-b732-e79cfd0bd8d8",
   "metadata": {},
   "outputs": [
    {
     "name": "stdout",
     "output_type": "stream",
     "text": [
      "{0: 0.6554780978195286, 1: 2.1079435207021104}\n"
     ]
    }
   ],
   "source": [
    "chart_df.dropna(inplace=True)\n",
    "X_train = train_df[train_columns] \n",
    "Y_train = train_df[\"Targets\"]\n",
    "\n",
    "X_val = val_df[train_columns] \n",
    "Y_val = val_df[\"Targets\"] \n",
    "\n",
    "X_test = test_df[train_columns] \n",
    "Y_test = test_df[\"Targets\"] \n",
    "\n",
    "\n",
    "class_weights = compute_class_weight(class_weight = \"balanced\",\n",
    "                                     classes = np.unique(Y_train),\n",
    "                                     y = Y_train) \n",
    "\n",
    "# d = {0:class_weights[0], 1:class_weights[1], 2:class_weights[2]} \n",
    "\n",
    "d = {0:class_weights[0], 1:class_weights[1]} \n",
    "\n",
    "print(d) "
   ]
  },
  {
   "cell_type": "code",
   "execution_count": 95,
   "id": "e4349f9b-e669-426a-b306-cbc4a48a3042",
   "metadata": {},
   "outputs": [
    {
     "name": "stdout",
     "output_type": "stream",
     "text": [
      "[16:04:31] WARNING: ../src/learner.cc:627: \n",
      "Parameters: { \"class_weight\", \"metric\", \"silent\" } might not be used.\n",
      "\n",
      "  This could be a false alarm, with some parameters getting used by language bindings but\n",
      "  then being mistakenly passed down to XGBoost core, or some parameter actually being used\n",
      "  but getting flagged wrongly here. Please open an issue if you find any such cases.\n",
      "\n",
      "\n",
      "[0]\tvalidation_0-logloss:0.56150\n",
      "[20]\tvalidation_0-logloss:0.37351\n",
      "[40]\tvalidation_0-logloss:0.37351\n",
      "[60]\tvalidation_0-logloss:0.37407\n",
      "[80]\tvalidation_0-logloss:0.37546\n",
      "[100]\tvalidation_0-logloss:0.37591\n",
      "[120]\tvalidation_0-logloss:0.37645\n",
      "[140]\tvalidation_0-logloss:0.37733\n",
      "[160]\tvalidation_0-logloss:0.37805\n",
      "[180]\tvalidation_0-logloss:0.38008\n",
      "[199]\tvalidation_0-logloss:0.38125\n"
     ]
    },
    {
     "data": {
      "text/html": [
       "<style>#sk-container-id-4 {color: black;background-color: white;}#sk-container-id-4 pre{padding: 0;}#sk-container-id-4 div.sk-toggleable {background-color: white;}#sk-container-id-4 label.sk-toggleable__label {cursor: pointer;display: block;width: 100%;margin-bottom: 0;padding: 0.3em;box-sizing: border-box;text-align: center;}#sk-container-id-4 label.sk-toggleable__label-arrow:before {content: \"▸\";float: left;margin-right: 0.25em;color: #696969;}#sk-container-id-4 label.sk-toggleable__label-arrow:hover:before {color: black;}#sk-container-id-4 div.sk-estimator:hover label.sk-toggleable__label-arrow:before {color: black;}#sk-container-id-4 div.sk-toggleable__content {max-height: 0;max-width: 0;overflow: hidden;text-align: left;background-color: #f0f8ff;}#sk-container-id-4 div.sk-toggleable__content pre {margin: 0.2em;color: black;border-radius: 0.25em;background-color: #f0f8ff;}#sk-container-id-4 input.sk-toggleable__control:checked~div.sk-toggleable__content {max-height: 200px;max-width: 100%;overflow: auto;}#sk-container-id-4 input.sk-toggleable__control:checked~label.sk-toggleable__label-arrow:before {content: \"▾\";}#sk-container-id-4 div.sk-estimator input.sk-toggleable__control:checked~label.sk-toggleable__label {background-color: #d4ebff;}#sk-container-id-4 div.sk-label input.sk-toggleable__control:checked~label.sk-toggleable__label {background-color: #d4ebff;}#sk-container-id-4 input.sk-hidden--visually {border: 0;clip: rect(1px 1px 1px 1px);clip: rect(1px, 1px, 1px, 1px);height: 1px;margin: -1px;overflow: hidden;padding: 0;position: absolute;width: 1px;}#sk-container-id-4 div.sk-estimator {font-family: monospace;background-color: #f0f8ff;border: 1px dotted black;border-radius: 0.25em;box-sizing: border-box;margin-bottom: 0.5em;}#sk-container-id-4 div.sk-estimator:hover {background-color: #d4ebff;}#sk-container-id-4 div.sk-parallel-item::after {content: \"\";width: 100%;border-bottom: 1px solid gray;flex-grow: 1;}#sk-container-id-4 div.sk-label:hover label.sk-toggleable__label {background-color: #d4ebff;}#sk-container-id-4 div.sk-serial::before {content: \"\";position: absolute;border-left: 1px solid gray;box-sizing: border-box;top: 0;bottom: 0;left: 50%;z-index: 0;}#sk-container-id-4 div.sk-serial {display: flex;flex-direction: column;align-items: center;background-color: white;padding-right: 0.2em;padding-left: 0.2em;position: relative;}#sk-container-id-4 div.sk-item {position: relative;z-index: 1;}#sk-container-id-4 div.sk-parallel {display: flex;align-items: stretch;justify-content: center;background-color: white;position: relative;}#sk-container-id-4 div.sk-item::before, #sk-container-id-4 div.sk-parallel-item::before {content: \"\";position: absolute;border-left: 1px solid gray;box-sizing: border-box;top: 0;bottom: 0;left: 50%;z-index: -1;}#sk-container-id-4 div.sk-parallel-item {display: flex;flex-direction: column;z-index: 1;position: relative;background-color: white;}#sk-container-id-4 div.sk-parallel-item:first-child::after {align-self: flex-end;width: 50%;}#sk-container-id-4 div.sk-parallel-item:last-child::after {align-self: flex-start;width: 50%;}#sk-container-id-4 div.sk-parallel-item:only-child::after {width: 0;}#sk-container-id-4 div.sk-dashed-wrapped {border: 1px dashed gray;margin: 0 0.4em 0.5em 0.4em;box-sizing: border-box;padding-bottom: 0.4em;background-color: white;}#sk-container-id-4 div.sk-label label {font-family: monospace;font-weight: bold;display: inline-block;line-height: 1.2em;}#sk-container-id-4 div.sk-label-container {text-align: center;}#sk-container-id-4 div.sk-container {/* jupyter's `normalize.less` sets `[hidden] { display: none; }` but bootstrap.min.css set `[hidden] { display: none !important; }` so we also need the `!important` here to be able to override the default hidden behavior on the sphinx rendered scikit-learn.org. See: https://github.com/scikit-learn/scikit-learn/issues/21755 */display: inline-block !important;position: relative;}#sk-container-id-4 div.sk-text-repr-fallback {display: none;}</style><div id=\"sk-container-id-4\" class=\"sk-top-container\"><div class=\"sk-text-repr-fallback\"><pre>XGBClassifier(base_score=0.5, booster=&#x27;gbtree&#x27;, callbacks=None,\n",
       "              class_weight={0: 0.6554780978195286, 1: 2.1079435207021104},\n",
       "              colsample_bylevel=1, colsample_bynode=1, colsample_bytree=1,\n",
       "              early_stopping_rounds=None, enable_categorical=False,\n",
       "              eval_metric=None, gamma=0, gpu_id=-1, grow_policy=&#x27;depthwise&#x27;,\n",
       "              importance_type=None, interaction_constraints=&#x27;&#x27;,\n",
       "              learning_rate=0.300000012, max_bin=256, max_cat_to_onehot=4,\n",
       "              max_delta_step=0, max_depth=6, max_leaves=0, metric=&#x27;logloss&#x27;,\n",
       "              min_child_weight=1, missing=nan, monotone_constraints=&#x27;()&#x27;,\n",
       "              n_estimators=200, n_jobs=0, num_parallel_tree=1, predictor=&#x27;auto&#x27;,\n",
       "              random_state=0, ...)</pre><b>In a Jupyter environment, please rerun this cell to show the HTML representation or trust the notebook. <br />On GitHub, the HTML representation is unable to render, please try loading this page with nbviewer.org.</b></div><div class=\"sk-container\" hidden><div class=\"sk-item\"><div class=\"sk-estimator sk-toggleable\"><input class=\"sk-toggleable__control sk-hidden--visually\" id=\"sk-estimator-id-4\" type=\"checkbox\" checked><label for=\"sk-estimator-id-4\" class=\"sk-toggleable__label sk-toggleable__label-arrow\">XGBClassifier</label><div class=\"sk-toggleable__content\"><pre>XGBClassifier(base_score=0.5, booster=&#x27;gbtree&#x27;, callbacks=None,\n",
       "              class_weight={0: 0.6554780978195286, 1: 2.1079435207021104},\n",
       "              colsample_bylevel=1, colsample_bynode=1, colsample_bytree=1,\n",
       "              early_stopping_rounds=None, enable_categorical=False,\n",
       "              eval_metric=None, gamma=0, gpu_id=-1, grow_policy=&#x27;depthwise&#x27;,\n",
       "              importance_type=None, interaction_constraints=&#x27;&#x27;,\n",
       "              learning_rate=0.300000012, max_bin=256, max_cat_to_onehot=4,\n",
       "              max_delta_step=0, max_depth=6, max_leaves=0, metric=&#x27;logloss&#x27;,\n",
       "              min_child_weight=1, missing=nan, monotone_constraints=&#x27;()&#x27;,\n",
       "              n_estimators=200, n_jobs=0, num_parallel_tree=1, predictor=&#x27;auto&#x27;,\n",
       "              random_state=0, ...)</pre></div></div></div></div></div>"
      ],
      "text/plain": [
       "XGBClassifier(base_score=0.5, booster='gbtree', callbacks=None,\n",
       "              class_weight={0: 0.6554780978195286, 1: 2.1079435207021104},\n",
       "              colsample_bylevel=1, colsample_bynode=1, colsample_bytree=1,\n",
       "              early_stopping_rounds=None, enable_categorical=False,\n",
       "              eval_metric=None, gamma=0, gpu_id=-1, grow_policy='depthwise',\n",
       "              importance_type=None, interaction_constraints='',\n",
       "              learning_rate=0.300000012, max_bin=256, max_cat_to_onehot=4,\n",
       "              max_delta_step=0, max_depth=6, max_leaves=0, metric='logloss',\n",
       "              min_child_weight=1, missing=nan, monotone_constraints='()',\n",
       "              n_estimators=200, n_jobs=0, num_parallel_tree=1, predictor='auto',\n",
       "              random_state=0, ...)"
      ]
     },
     "execution_count": 95,
     "metadata": {},
     "output_type": "execute_result"
    }
   ],
   "source": [
    "clf = XGBClassifier(silent=False, \n",
    "                    n_estimators=200,\n",
    "                    class_weight=d, \n",
    "                    metric=\"logloss\")\n",
    "\n",
    "clf.fit(X_train, \n",
    "        Y_train, \n",
    "        eval_set=[(X_val, Y_val)],\n",
    "        verbose=20)"
   ]
  },
  {
   "cell_type": "code",
   "execution_count": 96,
   "id": "457de714-27d8-4ad9-8b8c-bbe1c944b710",
   "metadata": {},
   "outputs": [
    {
     "name": "stdout",
     "output_type": "stream",
     "text": [
      "accuracy = 86.16177636796193%\n"
     ]
    }
   ],
   "source": [
    "Y_pred = clf.predict(X_test) \n",
    "cnt = 0 \n",
    "for i in range(len(Y_pred)):\n",
    "    if Y_pred[i] == Y_test.values[i]:\n",
    "        cnt += 1 \n",
    "        \n",
    "print(\"accuracy = {}%\".format(cnt / len(Y_pred) * 100.))"
   ]
  },
  {
   "cell_type": "code",
   "execution_count": 97,
   "id": "7642b2a2-ceac-4cc1-88a8-d2d4bf393f44",
   "metadata": {},
   "outputs": [
    {
     "data": {
      "text/plain": [
       "0.6796754259082048"
      ]
     },
     "execution_count": 97,
     "metadata": {},
     "output_type": "execute_result"
    }
   ],
   "source": [
    "f1_score(Y_test, Y_pred, average='macro')"
   ]
  },
  {
   "cell_type": "code",
   "execution_count": 98,
   "id": "f819d730-7473-4069-b782-f69650b7f89b",
   "metadata": {},
   "outputs": [],
   "source": [
    "Y_true = Y_test.values \n",
    "prob = clf.predict_proba(X_test)"
   ]
  },
  {
   "cell_type": "code",
   "execution_count": 99,
   "id": "7f9ffbae-7ee4-4e0c-8379-e9370daafc31",
   "metadata": {},
   "outputs": [
    {
     "name": "stdout",
     "output_type": "stream",
     "text": [
      "0.7\n",
      "617 196\n",
      "75.89175891758919\n",
      "===================================\n",
      "0.8\n",
      "483 99\n",
      "82.9896907216495\n",
      "===================================\n",
      "0.9\n",
      "319 43\n",
      "88.12154696132598\n",
      "===================================\n",
      "0.95\n",
      "212 14\n",
      "93.80530973451327\n",
      "===================================\n",
      "0.99\n",
      "79 3\n",
      "96.34146341463415\n",
      "===================================\n"
     ]
    }
   ],
   "source": [
    "confidence = [0.7, 0.8, 0.9, 0.95, 0.99] \n",
    "\n",
    "for c in confidence: \n",
    "    correct, wrong = 0, 0 \n",
    "    for i in range(len(prob)):\n",
    "        p = prob[i] \n",
    "        if p[1] >= c: \n",
    "            if Y_true[i] == 1:\n",
    "                correct += 1 \n",
    "            else:\n",
    "                wrong += 1 \n",
    "    print(c) \n",
    "    print(correct, wrong) \n",
    "    print(correct / (correct + wrong) * 100)\n",
    "    print(\"===================================\")"
   ]
  },
  {
   "cell_type": "markdown",
   "id": "80b53dd4-989c-41e8-9746-d2b2a6a3c2f6",
   "metadata": {},
   "source": [
    "# Directional Prediction Model"
   ]
  },
  {
   "cell_type": "code",
   "execution_count": 195,
   "id": "647d8592-3881-4f0a-a889-c752eeb822eb",
   "metadata": {},
   "outputs": [
    {
     "data": {
      "text/html": [
       "<div>\n",
       "<style scoped>\n",
       "    .dataframe tbody tr th:only-of-type {\n",
       "        vertical-align: middle;\n",
       "    }\n",
       "\n",
       "    .dataframe tbody tr th {\n",
       "        vertical-align: top;\n",
       "    }\n",
       "\n",
       "    .dataframe thead th {\n",
       "        text-align: right;\n",
       "    }\n",
       "</style>\n",
       "<table border=\"1\" class=\"dataframe\">\n",
       "  <thead>\n",
       "    <tr style=\"text-align: right;\">\n",
       "      <th></th>\n",
       "      <th>open</th>\n",
       "      <th>high</th>\n",
       "      <th>low</th>\n",
       "      <th>close</th>\n",
       "      <th>volume</th>\n",
       "      <th>datetime</th>\n",
       "    </tr>\n",
       "  </thead>\n",
       "  <tbody>\n",
       "    <tr>\n",
       "      <th>0</th>\n",
       "      <td>4261.48</td>\n",
       "      <td>4280.56</td>\n",
       "      <td>4261.48</td>\n",
       "      <td>4261.48</td>\n",
       "      <td>2.189061</td>\n",
       "      <td>2017-08-17 04:00:00</td>\n",
       "    </tr>\n",
       "    <tr>\n",
       "      <th>1</th>\n",
       "      <td>4261.48</td>\n",
       "      <td>4270.41</td>\n",
       "      <td>4261.32</td>\n",
       "      <td>4261.45</td>\n",
       "      <td>9.119865</td>\n",
       "      <td>2017-08-17 04:15:00</td>\n",
       "    </tr>\n",
       "    <tr>\n",
       "      <th>2</th>\n",
       "      <td>4280.00</td>\n",
       "      <td>4310.07</td>\n",
       "      <td>4267.99</td>\n",
       "      <td>4310.07</td>\n",
       "      <td>21.923552</td>\n",
       "      <td>2017-08-17 04:30:00</td>\n",
       "    </tr>\n",
       "    <tr>\n",
       "      <th>3</th>\n",
       "      <td>4310.07</td>\n",
       "      <td>4313.62</td>\n",
       "      <td>4291.37</td>\n",
       "      <td>4308.83</td>\n",
       "      <td>13.948531</td>\n",
       "      <td>2017-08-17 04:45:00</td>\n",
       "    </tr>\n",
       "    <tr>\n",
       "      <th>4</th>\n",
       "      <td>4308.83</td>\n",
       "      <td>4328.69</td>\n",
       "      <td>4304.31</td>\n",
       "      <td>4304.31</td>\n",
       "      <td>5.101153</td>\n",
       "      <td>2017-08-17 05:00:00</td>\n",
       "    </tr>\n",
       "  </tbody>\n",
       "</table>\n",
       "</div>"
      ],
      "text/plain": [
       "      open     high      low    close     volume             datetime\n",
       "0  4261.48  4280.56  4261.48  4261.48   2.189061  2017-08-17 04:00:00\n",
       "1  4261.48  4270.41  4261.32  4261.45   9.119865  2017-08-17 04:15:00\n",
       "2  4280.00  4310.07  4267.99  4310.07  21.923552  2017-08-17 04:30:00\n",
       "3  4310.07  4313.62  4291.37  4308.83  13.948531  2017-08-17 04:45:00\n",
       "4  4308.83  4328.69  4304.31  4304.31   5.101153  2017-08-17 05:00:00"
      ]
     },
     "execution_count": 195,
     "metadata": {},
     "output_type": "execute_result"
    }
   ],
   "source": [
    "import numpy as np \n",
    "import pandas as pd \n",
    "import json \n",
    "import ccxt \n",
    "import seaborn as sns\n",
    "import json\n",
    "import pandas as pd\n",
    "import numpy as np\n",
    "import ccxt\n",
    "from tqdm import tqdm\n",
    "import seaborn as sns\n",
    "from sklearn.utils.class_weight import compute_class_weight\n",
    "from sklearn.metrics import f1_score \n",
    "import pandas_ta as ta\n",
    "from xgboost import XGBClassifier  \n",
    "import lightgbm as lgbm \n",
    "\n",
    "with open(\"BTC_USDT-15m.json\") as f: \n",
    "    d = json.load(f) \n",
    "    \n",
    "chart_df = pd.DataFrame(d) \n",
    "chart_df = chart_df.rename(columns={0:\"timestamp\", \n",
    "                                    1:\"open\", \n",
    "                                    2:\"high\", \n",
    "                                    3:\"low\",\n",
    "                                    4:\"close\",\n",
    "                                    5:\"volume\"}) \n",
    "\n",
    "def process(df):\n",
    "    binance = ccxt.binance() \n",
    "    dates = df[\"timestamp\"].values \n",
    "    timestamp = [] \n",
    "    for i in range(len(dates)):\n",
    "        date_string = binance.iso8601(int(dates[i]))\n",
    "        date_string = date_string[:10] + \" \" + date_string[11:-5] \n",
    "        timestamp.append(date_string) \n",
    "    df[\"datetime\"] = timestamp \n",
    "    df = df.drop(columns={\"timestamp\"}) \n",
    "    return df \n",
    "\n",
    "chart_df = process(chart_df) \n",
    "\n",
    "chart_df.head()"
   ]
  },
  {
   "cell_type": "code",
   "execution_count": 196,
   "id": "be00f971-b6d0-4ff2-a5ee-6946c7cf5943",
   "metadata": {},
   "outputs": [],
   "source": [
    "close = chart_df[\"close\"].values \n",
    "high = chart_df[\"high\"].values \n",
    "low = chart_df[\"low\"].values \n",
    "threshold = 0.006\n",
    "targets = [] \n",
    "for i in range(len(close)-1):\n",
    "    high_vol = (high[i+1]-close[i])/close[i] \n",
    "    low_vol = (low[i+1]-close[i])/close[i] \n",
    "    if high_vol >= threshold or low_vol <= -threshold:\n",
    "        if np.abs(high_vol) >= np.abs(low_vol):\n",
    "            targets.append(0) \n",
    "        elif np.abs(high_vol) < np.abs(low_vol):\n",
    "            targets.append(1) \n",
    "    else:\n",
    "        targets.append(2) \n",
    "        \n",
    "targets.append(None) "
   ]
  },
  {
   "cell_type": "code",
   "execution_count": 197,
   "id": "0bda99a2-f6c6-41bd-a1b9-ccbf90b85a9f",
   "metadata": {},
   "outputs": [],
   "source": [
    "chart_df[\"Targets\"] = targets"
   ]
  },
  {
   "cell_type": "code",
   "execution_count": 198,
   "id": "feda9702-8ab1-49d5-8d48-8f851dd268b3",
   "metadata": {},
   "outputs": [
    {
     "name": "stderr",
     "output_type": "stream",
     "text": [
      "100%|██████████| 9/9 [00:03<00:00,  2.51it/s]"
     ]
    },
    {
     "name": "stdout",
     "output_type": "stream",
     "text": [
      "(176535, 49)\n"
     ]
    },
    {
     "name": "stderr",
     "output_type": "stream",
     "text": [
      "\n"
     ]
    }
   ],
   "source": [
    "chart_df.set_index(pd.DatetimeIndex(chart_df[\"datetime\"]), inplace=True)\n",
    "\n",
    "### addition of chart features ### \n",
    "chart_df[\"bop\"] = chart_df.ta.bop(lookahead=False) \n",
    "chart_df[\"ebsw\"] = chart_df.ta.ebsw(lookahead=False) \n",
    "chart_df[\"cmf\"] = chart_df.ta.cmf(lookahead=False) \n",
    "chart_df[\"vwap\"] = chart_df.ta.vwap(lookahead=False) \n",
    "chart_df[\"rsi/100\"] = chart_df.ta.rsi(lookahead=False) / 100\n",
    "chart_df[\"high/low\"] = chart_df[\"high\"] / chart_df[\"low\"] \n",
    "chart_df[\"close/open\"] = chart_df[\"close\"] / chart_df[\"open\"] \n",
    "chart_df[\"high/open\"] = chart_df[\"high\"] / chart_df[\"open\"] \n",
    "chart_df[\"low/open\"] = chart_df[\"low\"] / chart_df[\"open\"] \n",
    "chart_df[\"hwma\"] = chart_df.ta.hwma(lookahead=False) \n",
    "chart_df[\"linreg\"] = chart_df.ta.linreg(lookahead=False) \n",
    "chart_df[\"hwma/close\"] = chart_df[\"hwma\"] / chart_df[\"close\"] \n",
    "chart_df[\"linreg/close\"] = chart_df[\"linreg\"] / chart_df[\"close\"]\n",
    "chart_df[\"sma\"] = chart_df.ta.sma(lookahead=False)\n",
    "chart_df[\"sma/close\"] = chart_df[\"sma\"] / chart_df[\"close\"]\n",
    "\n",
    "\n",
    "\n",
    "### addition of recent differenced features ### \n",
    "for l in tqdm(range(1, 10), position=0, leave=True): \n",
    "    for col in [\"high\", \"low\", \"volume\", \"vwap\"]:\n",
    "        val = chart_df[col].values \n",
    "        val_ret = [None for _ in range(l)]\n",
    "        for i in range(l, len(val)):\n",
    "            if val[i-l] == 0: \n",
    "                ret = 1 \n",
    "            else:\n",
    "                ret = val[i] / val[i-l]  \n",
    "            val_ret.append(ret) \n",
    "        chart_df[\"{}_change_{}\".format(col, l)] = val_ret\n",
    "        \n",
    "### drop unnecessary columns ### \n",
    "chart_df.drop(columns={\"open\",\"high\",\"low\",\"close\",\"volume\",\"vwap\",\"hwma\",\"linreg\",\"sma\"}, inplace=True) \n",
    "\n",
    "\n",
    "chart_df.dropna(inplace=True)\n",
    "\n",
    "print(chart_df.shape)  "
   ]
  },
  {
   "cell_type": "code",
   "execution_count": 199,
   "id": "902b262b-9f20-46d7-86c8-2d65cbf0216c",
   "metadata": {},
   "outputs": [],
   "source": [
    "chart_df = chart_df[chart_df[\"Targets\"] != 2.0]"
   ]
  },
  {
   "cell_type": "code",
   "execution_count": 200,
   "id": "ab8b6c82-52fd-4530-8202-8f93bfb754db",
   "metadata": {},
   "outputs": [
    {
     "data": {
      "text/plain": [
       "(39031, 49)"
      ]
     },
     "execution_count": 200,
     "metadata": {},
     "output_type": "execute_result"
    }
   ],
   "source": [
    "chart_df.shape"
   ]
  },
  {
   "cell_type": "code",
   "execution_count": 201,
   "id": "1baa7439-f9f7-4e27-9483-dc045c37fa31",
   "metadata": {},
   "outputs": [
    {
     "name": "stderr",
     "output_type": "stream",
     "text": [
      "/usr/local/lib/python3.9/dist-packages/seaborn/_decorators.py:36: FutureWarning: Pass the following variable as a keyword arg: x. From version 0.12, the only valid positional argument will be `data`, and passing other arguments without an explicit keyword will result in an error or misinterpretation.\n",
      "  warnings.warn(\n"
     ]
    },
    {
     "data": {
      "text/plain": [
       "<AxesSubplot:xlabel='Targets', ylabel='count'>"
      ]
     },
     "execution_count": 201,
     "metadata": {},
     "output_type": "execute_result"
    },
    {
     "data": {
      "image/png": "[encoded data removed]",
      "text/plain": [
       "<Figure size 432x288 with 1 Axes>"
      ]
     },
     "metadata": {
      "needs_background": "light"
     },
     "output_type": "display_data"
    }
   ],
   "source": [
    "sns.countplot(chart_df[\"Targets\"])"
   ]
  },
  {
   "cell_type": "code",
   "execution_count": 202,
   "id": "3673706b-d5fe-43a6-ba55-ba08c7710883",
   "metadata": {},
   "outputs": [
    {
     "data": {
      "text/plain": [
       "((31224, 49), (3903, 49), (3904, 49))"
      ]
     },
     "execution_count": 202,
     "metadata": {},
     "output_type": "execute_result"
    }
   ],
   "source": [
    "columns = chart_df.columns \n",
    "\n",
    "train_columns = [] \n",
    "\n",
    "for c in columns:\n",
    "    if c not in [\"year\",\"datetime\",\"Targets\"]: \n",
    "        train_columns.append(c) \n",
    "        \n",
    "        \n",
    "train_idx = int(chart_df.shape[0] * 0.8) \n",
    "val_idx = int(chart_df.shape[0] * 0.1)\n",
    "train_df, val_df, test_df = chart_df.iloc[:train_idx], chart_df.iloc[train_idx:train_idx+val_idx], chart_df.iloc[train_idx+val_idx:]\n",
    "\n",
    "\n",
    "train_df.shape, val_df.shape, test_df.shape"
   ]
  },
  {
   "cell_type": "code",
   "execution_count": 203,
   "id": "5c759a09-8718-44c1-bebc-d75b47ed6d3e",
   "metadata": {},
   "outputs": [
    {
     "name": "stdout",
     "output_type": "stream",
     "text": [
      "{0: 1.0342497515733686, 1: 0.9679459358918718}\n"
     ]
    }
   ],
   "source": [
    "chart_df.dropna(inplace=True)\n",
    "X_train = train_df[train_columns] \n",
    "Y_train = train_df[\"Targets\"]\n",
    "\n",
    "X_val = val_df[train_columns] \n",
    "Y_val = val_df[\"Targets\"] \n",
    "\n",
    "X_test = test_df[train_columns] \n",
    "Y_test = test_df[\"Targets\"] \n",
    "\n",
    "\n",
    "class_weights = compute_class_weight(class_weight = \"balanced\",\n",
    "                                     classes = np.unique(Y_train),\n",
    "                                     y = Y_train) \n",
    "\n",
    "# d = {0:class_weights[0], 1:class_weights[1], 2:class_weights[2]} \n",
    "\n",
    "d = {0:class_weights[0], 1:class_weights[1]} \n",
    "\n",
    "print(d) "
   ]
  },
  {
   "cell_type": "code",
   "execution_count": 204,
   "id": "48517f19-c2f1-4928-a481-4d646720cce0",
   "metadata": {},
   "outputs": [
    {
     "name": "stdout",
     "output_type": "stream",
     "text": [
      "[16:19:35] WARNING: ../src/learner.cc:627: \n",
      "Parameters: { \"class_weight\", \"metric\", \"silent\" } might not be used.\n",
      "\n",
      "  This could be a false alarm, with some parameters getting used by language bindings but\n",
      "  then being mistakenly passed down to XGBoost core, or some parameter actually being used\n",
      "  but getting flagged wrongly here. Please open an issue if you find any such cases.\n",
      "\n",
      "\n",
      "[0]\tvalidation_0-logloss:0.69001\n",
      "[20]\tvalidation_0-logloss:0.69366\n",
      "[40]\tvalidation_0-logloss:0.69776\n",
      "[60]\tvalidation_0-logloss:0.69986\n",
      "[80]\tvalidation_0-logloss:0.70524\n",
      "[100]\tvalidation_0-logloss:0.70997\n",
      "[120]\tvalidation_0-logloss:0.71645\n",
      "[140]\tvalidation_0-logloss:0.72063\n",
      "[160]\tvalidation_0-logloss:0.72490\n",
      "[180]\tvalidation_0-logloss:0.72746\n",
      "[199]\tvalidation_0-logloss:0.72922\n"
     ]
    },
    {
     "data": {
      "text/html": [
       "<style>#sk-container-id-14 {color: black;background-color: white;}#sk-container-id-14 pre{padding: 0;}#sk-container-id-14 div.sk-toggleable {background-color: white;}#sk-container-id-14 label.sk-toggleable__label {cursor: pointer;display: block;width: 100%;margin-bottom: 0;padding: 0.3em;box-sizing: border-box;text-align: center;}#sk-container-id-14 label.sk-toggleable__label-arrow:before {content: \"▸\";float: left;margin-right: 0.25em;color: #696969;}#sk-container-id-14 label.sk-toggleable__label-arrow:hover:before {color: black;}#sk-container-id-14 div.sk-estimator:hover label.sk-toggleable__label-arrow:before {color: black;}#sk-container-id-14 div.sk-toggleable__content {max-height: 0;max-width: 0;overflow: hidden;text-align: left;background-color: #f0f8ff;}#sk-container-id-14 div.sk-toggleable__content pre {margin: 0.2em;color: black;border-radius: 0.25em;background-color: #f0f8ff;}#sk-container-id-14 input.sk-toggleable__control:checked~div.sk-toggleable__content {max-height: 200px;max-width: 100%;overflow: auto;}#sk-container-id-14 input.sk-toggleable__control:checked~label.sk-toggleable__label-arrow:before {content: \"▾\";}#sk-container-id-14 div.sk-estimator input.sk-toggleable__control:checked~label.sk-toggleable__label {background-color: #d4ebff;}#sk-container-id-14 div.sk-label input.sk-toggleable__control:checked~label.sk-toggleable__label {background-color: #d4ebff;}#sk-container-id-14 input.sk-hidden--visually {border: 0;clip: rect(1px 1px 1px 1px);clip: rect(1px, 1px, 1px, 1px);height: 1px;margin: -1px;overflow: hidden;padding: 0;position: absolute;width: 1px;}#sk-container-id-14 div.sk-estimator {font-family: monospace;background-color: #f0f8ff;border: 1px dotted black;border-radius: 0.25em;box-sizing: border-box;margin-bottom: 0.5em;}#sk-container-id-14 div.sk-estimator:hover {background-color: #d4ebff;}#sk-container-id-14 div.sk-parallel-item::after {content: \"\";width: 100%;border-bottom: 1px solid gray;flex-grow: 1;}#sk-container-id-14 div.sk-label:hover label.sk-toggleable__label {background-color: #d4ebff;}#sk-container-id-14 div.sk-serial::before {content: \"\";position: absolute;border-left: 1px solid gray;box-sizing: border-box;top: 0;bottom: 0;left: 50%;z-index: 0;}#sk-container-id-14 div.sk-serial {display: flex;flex-direction: column;align-items: center;background-color: white;padding-right: 0.2em;padding-left: 0.2em;position: relative;}#sk-container-id-14 div.sk-item {position: relative;z-index: 1;}#sk-container-id-14 div.sk-parallel {display: flex;align-items: stretch;justify-content: center;background-color: white;position: relative;}#sk-container-id-14 div.sk-item::before, #sk-container-id-14 div.sk-parallel-item::before {content: \"\";position: absolute;border-left: 1px solid gray;box-sizing: border-box;top: 0;bottom: 0;left: 50%;z-index: -1;}#sk-container-id-14 div.sk-parallel-item {display: flex;flex-direction: column;z-index: 1;position: relative;background-color: white;}#sk-container-id-14 div.sk-parallel-item:first-child::after {align-self: flex-end;width: 50%;}#sk-container-id-14 div.sk-parallel-item:last-child::after {align-self: flex-start;width: 50%;}#sk-container-id-14 div.sk-parallel-item:only-child::after {width: 0;}#sk-container-id-14 div.sk-dashed-wrapped {border: 1px dashed gray;margin: 0 0.4em 0.5em 0.4em;box-sizing: border-box;padding-bottom: 0.4em;background-color: white;}#sk-container-id-14 div.sk-label label {font-family: monospace;font-weight: bold;display: inline-block;line-height: 1.2em;}#sk-container-id-14 div.sk-label-container {text-align: center;}#sk-container-id-14 div.sk-container {/* jupyter's `normalize.less` sets `[hidden] { display: none; }` but bootstrap.min.css set `[hidden] { display: none !important; }` so we also need the `!important` here to be able to override the default hidden behavior on the sphinx rendered scikit-learn.org. See: https://github.com/scikit-learn/scikit-learn/issues/21755 */display: inline-block !important;position: relative;}#sk-container-id-14 div.sk-text-repr-fallback {display: none;}</style><div id=\"sk-container-id-14\" class=\"sk-top-container\"><div class=\"sk-text-repr-fallback\"><pre>XGBClassifier(base_score=0.5, booster=&#x27;gbtree&#x27;, callbacks=None,\n",
       "              class_weight={0: 1.0342497515733686, 1: 0.9679459358918718},\n",
       "              colsample_bylevel=1, colsample_bynode=1, colsample_bytree=1,\n",
       "              early_stopping_rounds=None, enable_categorical=False,\n",
       "              eval_metric=None, gamma=0, gpu_id=-1, grow_policy=&#x27;depthwise&#x27;,\n",
       "              importance_type=None, interaction_constraints=&#x27;&#x27;,\n",
       "              learning_rate=0.300000012, max_bin=256, max_cat_to_onehot=4,\n",
       "              max_delta_step=0, max_depth=6, max_leaves=0, metric=&#x27;logloss&#x27;,\n",
       "              min_child_weight=1, missing=nan, monotone_constraints=&#x27;()&#x27;,\n",
       "              n_estimators=200, n_jobs=0, num_parallel_tree=1, predictor=&#x27;auto&#x27;,\n",
       "              random_state=0, ...)</pre><b>In a Jupyter environment, please rerun this cell to show the HTML representation or trust the notebook. <br />On GitHub, the HTML representation is unable to render, please try loading this page with nbviewer.org.</b></div><div class=\"sk-container\" hidden><div class=\"sk-item\"><div class=\"sk-estimator sk-toggleable\"><input class=\"sk-toggleable__control sk-hidden--visually\" id=\"sk-estimator-id-14\" type=\"checkbox\" checked><label for=\"sk-estimator-id-14\" class=\"sk-toggleable__label sk-toggleable__label-arrow\">XGBClassifier</label><div class=\"sk-toggleable__content\"><pre>XGBClassifier(base_score=0.5, booster=&#x27;gbtree&#x27;, callbacks=None,\n",
       "              class_weight={0: 1.0342497515733686, 1: 0.9679459358918718},\n",
       "              colsample_bylevel=1, colsample_bynode=1, colsample_bytree=1,\n",
       "              early_stopping_rounds=None, enable_categorical=False,\n",
       "              eval_metric=None, gamma=0, gpu_id=-1, grow_policy=&#x27;depthwise&#x27;,\n",
       "              importance_type=None, interaction_constraints=&#x27;&#x27;,\n",
       "              learning_rate=0.300000012, max_bin=256, max_cat_to_onehot=4,\n",
       "              max_delta_step=0, max_depth=6, max_leaves=0, metric=&#x27;logloss&#x27;,\n",
       "              min_child_weight=1, missing=nan, monotone_constraints=&#x27;()&#x27;,\n",
       "              n_estimators=200, n_jobs=0, num_parallel_tree=1, predictor=&#x27;auto&#x27;,\n",
       "              random_state=0, ...)</pre></div></div></div></div></div>"
      ],
      "text/plain": [
       "XGBClassifier(base_score=0.5, booster='gbtree', callbacks=None,\n",
       "              class_weight={0: 1.0342497515733686, 1: 0.9679459358918718},\n",
       "              colsample_bylevel=1, colsample_bynode=1, colsample_bytree=1,\n",
       "              early_stopping_rounds=None, enable_categorical=False,\n",
       "              eval_metric=None, gamma=0, gpu_id=-1, grow_policy='depthwise',\n",
       "              importance_type=None, interaction_constraints='',\n",
       "              learning_rate=0.300000012, max_bin=256, max_cat_to_onehot=4,\n",
       "              max_delta_step=0, max_depth=6, max_leaves=0, metric='logloss',\n",
       "              min_child_weight=1, missing=nan, monotone_constraints='()',\n",
       "              n_estimators=200, n_jobs=0, num_parallel_tree=1, predictor='auto',\n",
       "              random_state=0, ...)"
      ]
     },
     "execution_count": 204,
     "metadata": {},
     "output_type": "execute_result"
    }
   ],
   "source": [
    "directional_model = XGBClassifier(silent=False, \n",
    "                                  n_estimators=200,\n",
    "                                  class_weight=d, \n",
    "                                  metric=\"logloss\")\n",
    "\n",
    "directional_model.fit(X_train, \n",
    "                      Y_train, \n",
    "                      eval_set=[(X_val, Y_val)],\n",
    "                      verbose=20)"
   ]
  },
  {
   "cell_type": "code",
   "execution_count": 205,
   "id": "d8db635e-4ca8-4bba-822d-b560d9a5f01f",
   "metadata": {},
   "outputs": [
    {
     "name": "stdout",
     "output_type": "stream",
     "text": [
      "accuracy = 57.146516393442624%\n"
     ]
    }
   ],
   "source": [
    "Y_pred = directional_model.predict(X_test) \n",
    "cnt = 0 \n",
    "for i in range(len(Y_pred)):\n",
    "    if Y_pred[i] == Y_test.values[i]:\n",
    "        cnt += 1 \n",
    "        \n",
    "print(\"accuracy = {}%\".format(cnt / len(Y_pred) * 100.))"
   ]
  },
  {
   "cell_type": "code",
   "execution_count": 206,
   "id": "45bd9096-c322-4616-96db-3ec0834ff17d",
   "metadata": {},
   "outputs": [
    {
     "data": {
      "text/plain": [
       "0.5693902368673058"
      ]
     },
     "execution_count": 206,
     "metadata": {},
     "output_type": "execute_result"
    }
   ],
   "source": [
    "f1_score(Y_test, Y_pred, average='macro') "
   ]
  },
  {
   "cell_type": "code",
   "execution_count": 208,
   "id": "6b070da6-52f8-44e0-94cf-36c857e465ac",
   "metadata": {},
   "outputs": [],
   "source": [
    "cnt = 0 \n",
    "for i in range(len(Y_test)):\n",
    "    if Y_test.values[i] == 1:\n",
    "        cnt += 1 "
   ]
  },
  {
   "cell_type": "code",
   "execution_count": 209,
   "id": "5e0a250a-cb82-4553-8e3c-cfc2d9106923",
   "metadata": {},
   "outputs": [
    {
     "data": {
      "text/plain": [
       "50.92213114754098"
      ]
     },
     "execution_count": 209,
     "metadata": {},
     "output_type": "execute_result"
    }
   ],
   "source": [
    "cnt / len(Y_test) * 100"
   ]
  },
  {
   "cell_type": "code",
   "execution_count": 211,
   "id": "65083d39-d526-4c53-b11f-2b5181d408f2",
   "metadata": {},
   "outputs": [
    {
     "data": {
      "text/plain": [
       "49.07786885245902"
      ]
     },
     "execution_count": 211,
     "metadata": {},
     "output_type": "execute_result"
    }
   ],
   "source": [
    "cnt = 0 \n",
    "for i in range(len(Y_test)):\n",
    "    if Y_test.values[i] == 0:\n",
    "        cnt += 1 \n",
    "        \n",
    "cnt / len(Y_test) * 100"
   ]
  },
  {
   "cell_type": "code",
   "execution_count": null,
   "id": "80ef6dd7-f63d-4b7e-b905-df1d85244940",
   "metadata": {},
   "outputs": [],
   "source": []
  },
  {
   "cell_type": "code",
   "execution_count": null,
   "id": "df25e8ab-4145-485b-9109-76a59e8c2406",
   "metadata": {},
   "outputs": [],
   "source": []
  },
  {
   "cell_type": "code",
   "execution_count": null,
   "id": "bdac8679-97c2-4197-a0a4-aed0c9db8f0e",
   "metadata": {},
   "outputs": [],
   "source": []
  }
 ],
 "metadata": {
  "kernelspec": {
   "display_name": "Python 3 (ipykernel)",
   "language": "python",
   "name": "python3"
  },
  "language_info": {
   "codemirror_mode": {
    "name": "ipython",
    "version": 3
   },
   "file_extension": ".py",
   "mimetype": "text/x-python",
   "name": "python",
   "nbconvert_exporter": "python",
   "pygments_lexer": "ipython3",
   "version": "3.9.13"
  }
 },
 "nbformat": 4,
 "nbformat_minor": 5
}
