{
 "cells": [
  {
   "cell_type": "code",
   "execution_count": 14,
   "id": "b18d5d5e-4991-4862-be50-08be79a46312",
   "metadata": {},
   "outputs": [],
   "source": [
    "import json\n",
    "import pandas as pd\n",
    "import numpy as np\n",
    "import ccxt\n",
    "from tqdm import tqdm\n",
    "import seaborn as sns\n",
    "from sklearn.utils.class_weight import compute_class_weight\n",
    "from sklearn.metrics import f1_score \n",
    "import pandas_ta as ta\n",
    "from pytorch_tabnet.tab_model import TabNetClassifier "
   ]
  },
  {
   "cell_type": "code",
   "execution_count": 15,
   "id": "4bc04f80-9d27-41f8-8993-58093b821ae1",
   "metadata": {},
   "outputs": [],
   "source": [
    "chart_df = pd.read_csv(\"chart_df_with_deberta_sentiments.csv\") \n",
    "targets = [] \n",
    "high = chart_df[\"high\"].values \n",
    "low = chart_df[\"low\"].values \n",
    "close = chart_df[\"close\"].values \n",
    "\n",
    "threshold = 0.01 \n",
    "\n",
    "for i in range(len(close)-1):\n",
    "    high_vol = (high[i+1] - close[i]) / close[i] \n",
    "    low_vol = (low[i+1] - close[i]) / close[i] \n",
    "    if high_vol >= threshold: \n",
    "        targets.append(0) \n",
    "    elif low_vol <= -threshold:\n",
    "        targets.append(1) \n",
    "    else:\n",
    "        targets.append(2) \n",
    "        \n",
    "targets.append(None) \n",
    "\n",
    "chart_df[\"Targets\"] = targets "
   ]
  },
  {
   "cell_type": "code",
   "execution_count": 16,
   "id": "6f791092-0a19-4f37-8973-37e949c62f10",
   "metadata": {},
   "outputs": [
    {
     "name": "stderr",
     "output_type": "stream",
     "text": [
      "100%|██████████| 11/11 [00:00<00:00, 46.56it/s]"
     ]
    },
    {
     "name": "stdout",
     "output_type": "stream",
     "text": [
      "(10929, 63)\n"
     ]
    },
    {
     "name": "stderr",
     "output_type": "stream",
     "text": [
      "\n"
     ]
    }
   ],
   "source": [
    "chart_df.set_index(pd.DatetimeIndex(chart_df[\"datetime\"]), inplace=True)\n",
    "\n",
    "### addition of chart features ### \n",
    "chart_df[\"bop\"] = chart_df.ta.bop(lookahead=False) \n",
    "chart_df[\"ebsw\"] = chart_df.ta.ebsw(lookahead=False) \n",
    "chart_df[\"cmf\"] = chart_df.ta.cmf(lookahead=False) \n",
    "chart_df[\"vwap\"] = chart_df.ta.vwap(lookahead=False) \n",
    "chart_df[\"rsi/100\"] = chart_df.ta.rsi(lookahead=False) / 100\n",
    "chart_df[\"high/low\"] = chart_df[\"high\"] / chart_df[\"low\"] \n",
    "chart_df[\"close/open\"] = chart_df[\"close\"] / chart_df[\"open\"] \n",
    "chart_df[\"high/open\"] = chart_df[\"high\"] / chart_df[\"open\"] \n",
    "chart_df[\"low/open\"] = chart_df[\"low\"] / chart_df[\"open\"] \n",
    "chart_df[\"hwma\"] = chart_df.ta.hwma(lookahead=False) \n",
    "chart_df[\"linreg\"] = chart_df.ta.linreg(lookahead=False) \n",
    "chart_df[\"hwma/close\"] = chart_df[\"hwma\"] / chart_df[\"close\"] \n",
    "chart_df[\"linreg/close\"] = chart_df[\"linreg\"] / chart_df[\"close\"]\n",
    "chart_df[\"sma\"] = chart_df.ta.sma(lookahead=False) \n",
    "chart_df[\"sma/close\"] = chart_df[\"sma\"] / chart_df[\"close\"] \n",
    "\n",
    "\n",
    "### addition of recent differenced features ### \n",
    "for l in tqdm(range(1, 12), position=0, leave=True): \n",
    "    for col in [\"high\", \"low\", \"volume\", \"vwap\"]:\n",
    "        val = chart_df[col].values \n",
    "        val_ret = [None for _ in range(l)]\n",
    "        for i in range(l, len(val)):\n",
    "            if val[i-l] == 0: \n",
    "                ret = 1 \n",
    "            else:\n",
    "                ret = val[i] / val[i-l]  \n",
    "            val_ret.append(ret) \n",
    "        chart_df[\"{}_change_{}\".format(col, l)] = val_ret\n",
    "        \n",
    "### drop unnecessary columns ### \n",
    "chart_df.drop(columns={\"open\",\"high\",\"low\",\"close\",\"volume\",\"vwap\",\"hwma\",\"linreg\", \"sma\"}, inplace=True) \n",
    "\n",
    "\n",
    "chart_df.dropna(inplace=True)\n",
    "\n",
    "print(chart_df.shape)  "
   ]
  },
  {
   "cell_type": "code",
   "execution_count": 17,
   "id": "cd9ed8a4-0c16-4224-9a27-f7df3a083350",
   "metadata": {},
   "outputs": [
    {
     "data": {
      "text/plain": [
       "((8743, 63), (1092, 63), (1094, 63))"
      ]
     },
     "execution_count": 17,
     "metadata": {},
     "output_type": "execute_result"
    }
   ],
   "source": [
    "columns = chart_df.columns \n",
    "\n",
    "train_columns = [] \n",
    "\n",
    "for c in columns:\n",
    "    if c not in [\"year\",\"datetime\",\"Targets\"]: \n",
    "        train_columns.append(c) \n",
    "        \n",
    "        \n",
    "train_idx = int(chart_df.shape[0] * 0.8) \n",
    "val_idx = int(chart_df.shape[0] * 0.1)\n",
    "train_df, val_df, test_df = chart_df.iloc[:train_idx], chart_df.iloc[train_idx:train_idx+val_idx], chart_df.iloc[train_idx+val_idx:]\n",
    "\n",
    "\n",
    "train_df.shape, val_df.shape, test_df.shape"
   ]
  },
  {
   "cell_type": "code",
   "execution_count": 18,
   "id": "daaeb734-681d-41fd-bf3e-3c191c199023",
   "metadata": {},
   "outputs": [
    {
     "name": "stdout",
     "output_type": "stream",
     "text": [
      "{0: 0.8696906396100667, 1: 1.2178576403398802, 2: 0.9717683672335223}\n"
     ]
    }
   ],
   "source": [
    "chart_df.dropna(inplace=True)\n",
    "X_train = train_df[train_columns] \n",
    "Y_train = train_df[\"Targets\"]\n",
    "\n",
    "X_val = val_df[train_columns] \n",
    "Y_val = val_df[\"Targets\"] \n",
    "\n",
    "X_test = test_df[train_columns] \n",
    "Y_test = test_df[\"Targets\"] \n",
    "\n",
    "\n",
    "class_weights = compute_class_weight(class_weight = \"balanced\",\n",
    "                                     classes = np.unique(Y_train),\n",
    "                                     y = Y_train) \n",
    "\n",
    "d = {0:class_weights[0], 1:class_weights[1], 2:class_weights[2]} \n",
    "\n",
    "print(d) "
   ]
  },
  {
   "cell_type": "code",
   "execution_count": 19,
   "id": "a1290903-731f-4839-8320-cf9a959ecd1b",
   "metadata": {},
   "outputs": [],
   "source": [
    "X_train = X_train.values \n",
    "Y_train = Y_train.values \n",
    "\n",
    "X_val = X_val.values \n",
    "Y_val = Y_val.values \n",
    "\n",
    "X_test = X_test.values \n",
    "Y_test = Y_test.values \n",
    "\n"
   ]
  },
  {
   "cell_type": "code",
   "execution_count": 34,
   "id": "d57ec1a6-0f24-41a8-be79-a36022c2f1d8",
   "metadata": {},
   "outputs": [
    {
     "name": "stdout",
     "output_type": "stream",
     "text": [
      "Device used : cuda\n",
      "epoch 0  | loss: 2.05617 | val_0_logloss: 1.54466 | val_0_balanced_accuracy: 0.33235 |  0:00:00s\n",
      "epoch 1  | loss: 1.29919 | val_0_logloss: 1.13229 | val_0_balanced_accuracy: 0.33498 |  0:00:00s\n",
      "epoch 2  | loss: 1.13934 | val_0_logloss: 1.13859 | val_0_balanced_accuracy: 0.35422 |  0:00:01s\n",
      "epoch 3  | loss: 1.08385 | val_0_logloss: 1.16988 | val_0_balanced_accuracy: 0.31845 |  0:00:01s\n",
      "epoch 4  | loss: 1.04898 | val_0_logloss: 1.12237 | val_0_balanced_accuracy: 0.32512 |  0:00:02s\n",
      "epoch 5  | loss: 1.02266 | val_0_logloss: 1.21318 | val_0_balanced_accuracy: 0.32034 |  0:00:02s\n",
      "epoch 6  | loss: 1.0104  | val_0_logloss: 1.21495 | val_0_balanced_accuracy: 0.32706 |  0:00:03s\n",
      "epoch 7  | loss: 0.99415 | val_0_logloss: 1.37174 | val_0_balanced_accuracy: 0.33333 |  0:00:03s\n",
      "epoch 8  | loss: 0.97279 | val_0_logloss: 1.21554 | val_0_balanced_accuracy: 0.34256 |  0:00:04s\n",
      "epoch 9  | loss: 0.99039 | val_0_logloss: 1.18382 | val_0_balanced_accuracy: 0.33333 |  0:00:04s\n",
      "epoch 10 | loss: 0.97163 | val_0_logloss: 1.28754 | val_0_balanced_accuracy: 0.33333 |  0:00:05s\n",
      "epoch 11 | loss: 0.97379 | val_0_logloss: 1.14967 | val_0_balanced_accuracy: 0.33599 |  0:00:05s\n",
      "epoch 12 | loss: 0.97568 | val_0_logloss: 1.24333 | val_0_balanced_accuracy: 0.33333 |  0:00:05s\n",
      "epoch 13 | loss: 0.9618  | val_0_logloss: 1.1544  | val_0_balanced_accuracy: 0.32425 |  0:00:06s\n",
      "epoch 14 | loss: 0.96753 | val_0_logloss: 1.26106 | val_0_balanced_accuracy: 0.33943 |  0:00:06s\n",
      "epoch 15 | loss: 0.9679  | val_0_logloss: 1.18761 | val_0_balanced_accuracy: 0.33333 |  0:00:07s\n",
      "epoch 16 | loss: 0.9553  | val_0_logloss: 1.1841  | val_0_balanced_accuracy: 0.34603 |  0:00:07s\n",
      "epoch 17 | loss: 0.9526  | val_0_logloss: 1.17119 | val_0_balanced_accuracy: 0.33333 |  0:00:08s\n",
      "epoch 18 | loss: 0.9518  | val_0_logloss: 1.20765 | val_0_balanced_accuracy: 0.33333 |  0:00:08s\n",
      "epoch 19 | loss: 0.94871 | val_0_logloss: 1.18727 | val_0_balanced_accuracy: 0.33333 |  0:00:09s\n",
      "epoch 20 | loss: 0.94744 | val_0_logloss: 1.16575 | val_0_balanced_accuracy: 0.33595 |  0:00:09s\n",
      "epoch 21 | loss: 0.94115 | val_0_logloss: 1.2046  | val_0_balanced_accuracy: 0.33499 |  0:00:10s\n",
      "epoch 22 | loss: 0.94523 | val_0_logloss: 1.18942 | val_0_balanced_accuracy: 0.3322  |  0:00:10s\n",
      "epoch 23 | loss: 0.95381 | val_0_logloss: 1.17669 | val_0_balanced_accuracy: 0.34025 |  0:00:11s\n",
      "epoch 24 | loss: 0.95752 | val_0_logloss: 1.13933 | val_0_balanced_accuracy: 0.3157  |  0:00:11s\n",
      "epoch 25 | loss: 0.95891 | val_0_logloss: 1.17855 | val_0_balanced_accuracy: 0.32335 |  0:00:12s\n",
      "epoch 26 | loss: 0.95431 | val_0_logloss: 1.17948 | val_0_balanced_accuracy: 0.34335 |  0:00:12s\n",
      "epoch 27 | loss: 0.95234 | val_0_logloss: 1.19975 | val_0_balanced_accuracy: 0.33333 |  0:00:12s\n",
      "epoch 28 | loss: 0.94664 | val_0_logloss: 1.20463 | val_0_balanced_accuracy: 0.33333 |  0:00:13s\n",
      "epoch 29 | loss: 0.9536  | val_0_logloss: 1.15688 | val_0_balanced_accuracy: 0.33689 |  0:00:13s\n",
      "epoch 30 | loss: 0.94585 | val_0_logloss: 1.17421 | val_0_balanced_accuracy: 0.32717 |  0:00:14s\n",
      "epoch 31 | loss: 0.95299 | val_0_logloss: 1.14435 | val_0_balanced_accuracy: 0.32658 |  0:00:14s\n",
      "epoch 32 | loss: 0.95219 | val_0_logloss: 1.18408 | val_0_balanced_accuracy: 0.32017 |  0:00:15s\n",
      "epoch 33 | loss: 0.9473  | val_0_logloss: 1.15751 | val_0_balanced_accuracy: 0.32868 |  0:00:15s\n",
      "epoch 34 | loss: 0.94905 | val_0_logloss: 1.14365 | val_0_balanced_accuracy: 0.33349 |  0:00:15s\n",
      "epoch 35 | loss: 0.95164 | val_0_logloss: 1.13445 | val_0_balanced_accuracy: 0.33892 |  0:00:16s\n",
      "epoch 36 | loss: 0.93746 | val_0_logloss: 1.14567 | val_0_balanced_accuracy: 0.33711 |  0:00:16s\n",
      "epoch 37 | loss: 0.95579 | val_0_logloss: 1.12568 | val_0_balanced_accuracy: 0.32053 |  0:00:17s\n",
      "epoch 38 | loss: 0.94564 | val_0_logloss: 1.11632 | val_0_balanced_accuracy: 0.3434  |  0:00:17s\n",
      "epoch 39 | loss: 0.95624 | val_0_logloss: 1.12823 | val_0_balanced_accuracy: 0.34317 |  0:00:18s\n",
      "epoch 40 | loss: 0.95606 | val_0_logloss: 1.11056 | val_0_balanced_accuracy: 0.34441 |  0:00:18s\n",
      "epoch 41 | loss: 0.95615 | val_0_logloss: 1.13094 | val_0_balanced_accuracy: 0.3304  |  0:00:19s\n",
      "epoch 42 | loss: 0.9523  | val_0_logloss: 1.15691 | val_0_balanced_accuracy: 0.34205 |  0:00:19s\n",
      "epoch 43 | loss: 0.95036 | val_0_logloss: 1.13504 | val_0_balanced_accuracy: 0.34438 |  0:00:19s\n",
      "epoch 44 | loss: 0.95491 | val_0_logloss: 1.11279 | val_0_balanced_accuracy: 0.34074 |  0:00:20s\n",
      "epoch 45 | loss: 0.94935 | val_0_logloss: 1.11377 | val_0_balanced_accuracy: 0.32836 |  0:00:20s\n",
      "epoch 46 | loss: 0.95691 | val_0_logloss: 1.10396 | val_0_balanced_accuracy: 0.33809 |  0:00:21s\n",
      "epoch 47 | loss: 0.94981 | val_0_logloss: 1.11817 | val_0_balanced_accuracy: 0.33505 |  0:00:21s\n",
      "epoch 48 | loss: 0.94481 | val_0_logloss: 1.10484 | val_0_balanced_accuracy: 0.33968 |  0:00:22s\n",
      "epoch 49 | loss: 0.94926 | val_0_logloss: 1.11706 | val_0_balanced_accuracy: 0.33599 |  0:00:22s\n",
      "epoch 50 | loss: 0.943   | val_0_logloss: 1.11881 | val_0_balanced_accuracy: 0.33629 |  0:00:22s\n",
      "epoch 51 | loss: 0.94044 | val_0_logloss: 1.10561 | val_0_balanced_accuracy: 0.35233 |  0:00:23s\n",
      "epoch 52 | loss: 0.95472 | val_0_logloss: 1.10111 | val_0_balanced_accuracy: 0.35411 |  0:00:23s\n",
      "epoch 53 | loss: 0.94048 | val_0_logloss: 1.12219 | val_0_balanced_accuracy: 0.35069 |  0:00:24s\n",
      "epoch 54 | loss: 0.93405 | val_0_logloss: 1.11386 | val_0_balanced_accuracy: 0.34982 |  0:00:24s\n",
      "epoch 55 | loss: 0.94698 | val_0_logloss: 1.10731 | val_0_balanced_accuracy: 0.3767  |  0:00:25s\n",
      "epoch 56 | loss: 0.94436 | val_0_logloss: 1.12938 | val_0_balanced_accuracy: 0.34451 |  0:00:25s\n",
      "epoch 57 | loss: 0.94157 | val_0_logloss: 1.11826 | val_0_balanced_accuracy: 0.3429  |  0:00:26s\n",
      "epoch 58 | loss: 0.9415  | val_0_logloss: 1.11813 | val_0_balanced_accuracy: 0.3442  |  0:00:26s\n",
      "epoch 59 | loss: 0.94358 | val_0_logloss: 1.12011 | val_0_balanced_accuracy: 0.34838 |  0:00:26s\n",
      "epoch 60 | loss: 0.94258 | val_0_logloss: 1.11297 | val_0_balanced_accuracy: 0.34837 |  0:00:27s\n",
      "epoch 61 | loss: 0.94346 | val_0_logloss: 1.13327 | val_0_balanced_accuracy: 0.34193 |  0:00:27s\n",
      "epoch 62 | loss: 0.94251 | val_0_logloss: 1.12677 | val_0_balanced_accuracy: 0.36414 |  0:00:28s\n",
      "epoch 63 | loss: 0.94545 | val_0_logloss: 1.10802 | val_0_balanced_accuracy: 0.34101 |  0:00:28s\n",
      "epoch 64 | loss: 0.95111 | val_0_logloss: 1.09594 | val_0_balanced_accuracy: 0.37653 |  0:00:29s\n",
      "epoch 65 | loss: 0.94527 | val_0_logloss: 1.10541 | val_0_balanced_accuracy: 0.36541 |  0:00:29s\n",
      "epoch 66 | loss: 0.94315 | val_0_logloss: 1.10754 | val_0_balanced_accuracy: 0.37004 |  0:00:30s\n",
      "epoch 67 | loss: 0.95172 | val_0_logloss: 1.10141 | val_0_balanced_accuracy: 0.38252 |  0:00:30s\n",
      "epoch 68 | loss: 0.94053 | val_0_logloss: 1.11839 | val_0_balanced_accuracy: 0.35591 |  0:00:30s\n",
      "epoch 69 | loss: 0.93991 | val_0_logloss: 1.10544 | val_0_balanced_accuracy: 0.37557 |  0:00:31s\n",
      "epoch 70 | loss: 0.94627 | val_0_logloss: 1.11909 | val_0_balanced_accuracy: 0.3627  |  0:00:31s\n",
      "epoch 71 | loss: 0.93496 | val_0_logloss: 1.13284 | val_0_balanced_accuracy: 0.36195 |  0:00:32s\n",
      "epoch 72 | loss: 0.94011 | val_0_logloss: 1.12008 | val_0_balanced_accuracy: 0.36918 |  0:00:32s\n",
      "epoch 73 | loss: 0.94024 | val_0_logloss: 1.11075 | val_0_balanced_accuracy: 0.37619 |  0:00:33s\n",
      "epoch 74 | loss: 0.9288  | val_0_logloss: 1.13136 | val_0_balanced_accuracy: 0.36642 |  0:00:33s\n",
      "epoch 75 | loss: 0.92993 | val_0_logloss: 1.12884 | val_0_balanced_accuracy: 0.36932 |  0:00:34s\n",
      "epoch 76 | loss: 0.94318 | val_0_logloss: 1.10839 | val_0_balanced_accuracy: 0.37775 |  0:00:34s\n",
      "epoch 77 | loss: 0.93559 | val_0_logloss: 1.11647 | val_0_balanced_accuracy: 0.36972 |  0:00:34s\n",
      "epoch 78 | loss: 0.93898 | val_0_logloss: 1.1049  | val_0_balanced_accuracy: 0.39196 |  0:00:35s\n",
      "epoch 79 | loss: 0.93396 | val_0_logloss: 1.10477 | val_0_balanced_accuracy: 0.37367 |  0:00:35s\n",
      "epoch 80 | loss: 0.93831 | val_0_logloss: 1.10646 | val_0_balanced_accuracy: 0.38461 |  0:00:36s\n",
      "epoch 81 | loss: 0.94025 | val_0_logloss: 1.11614 | val_0_balanced_accuracy: 0.37962 |  0:00:36s\n",
      "epoch 82 | loss: 0.93229 | val_0_logloss: 1.10346 | val_0_balanced_accuracy: 0.39449 |  0:00:37s\n",
      "epoch 83 | loss: 0.94435 | val_0_logloss: 1.10502 | val_0_balanced_accuracy: 0.39395 |  0:00:37s\n",
      "epoch 84 | loss: 0.93834 | val_0_logloss: 1.10349 | val_0_balanced_accuracy: 0.36856 |  0:00:38s\n",
      "epoch 85 | loss: 0.94001 | val_0_logloss: 1.12032 | val_0_balanced_accuracy: 0.37844 |  0:00:38s\n",
      "epoch 86 | loss: 0.93372 | val_0_logloss: 1.11913 | val_0_balanced_accuracy: 0.37368 |  0:00:39s\n",
      "epoch 87 | loss: 0.93556 | val_0_logloss: 1.1135  | val_0_balanced_accuracy: 0.37925 |  0:00:39s\n",
      "epoch 88 | loss: 0.93819 | val_0_logloss: 1.11316 | val_0_balanced_accuracy: 0.39263 |  0:00:40s\n",
      "epoch 89 | loss: 0.9427  | val_0_logloss: 1.10249 | val_0_balanced_accuracy: 0.40016 |  0:00:40s\n",
      "epoch 90 | loss: 0.9374  | val_0_logloss: 1.10422 | val_0_balanced_accuracy: 0.38801 |  0:00:40s\n",
      "epoch 91 | loss: 0.94379 | val_0_logloss: 1.1271  | val_0_balanced_accuracy: 0.38053 |  0:00:41s\n",
      "epoch 92 | loss: 0.94007 | val_0_logloss: 1.10536 | val_0_balanced_accuracy: 0.37398 |  0:00:41s\n",
      "epoch 93 | loss: 0.92699 | val_0_logloss: 1.12935 | val_0_balanced_accuracy: 0.39497 |  0:00:42s\n",
      "epoch 94 | loss: 0.9419  | val_0_logloss: 1.11323 | val_0_balanced_accuracy: 0.39292 |  0:00:42s\n",
      "epoch 95 | loss: 0.93301 | val_0_logloss: 1.11141 | val_0_balanced_accuracy: 0.38907 |  0:00:43s\n",
      "epoch 96 | loss: 0.94087 | val_0_logloss: 1.11264 | val_0_balanced_accuracy: 0.3899  |  0:00:43s\n",
      "epoch 97 | loss: 0.92795 | val_0_logloss: 1.10467 | val_0_balanced_accuracy: 0.3878  |  0:00:44s\n",
      "epoch 98 | loss: 0.93769 | val_0_logloss: 1.11381 | val_0_balanced_accuracy: 0.38013 |  0:00:44s\n",
      "epoch 99 | loss: 0.9396  | val_0_logloss: 1.11224 | val_0_balanced_accuracy: 0.38764 |  0:00:44s\n",
      "epoch 100| loss: 0.93263 | val_0_logloss: 1.11822 | val_0_balanced_accuracy: 0.38988 |  0:00:45s\n",
      "epoch 101| loss: 0.9372  | val_0_logloss: 1.11216 | val_0_balanced_accuracy: 0.39019 |  0:00:45s\n",
      "epoch 102| loss: 0.93611 | val_0_logloss: 1.10606 | val_0_balanced_accuracy: 0.38254 |  0:00:46s\n",
      "epoch 103| loss: 0.93995 | val_0_logloss: 1.11201 | val_0_balanced_accuracy: 0.38953 |  0:00:46s\n",
      "epoch 104| loss: 0.93446 | val_0_logloss: 1.1088  | val_0_balanced_accuracy: 0.40008 |  0:00:47s\n",
      "epoch 105| loss: 0.94135 | val_0_logloss: 1.11402 | val_0_balanced_accuracy: 0.40702 |  0:00:47s\n",
      "epoch 106| loss: 0.94107 | val_0_logloss: 1.11607 | val_0_balanced_accuracy: 0.39837 |  0:00:48s\n",
      "epoch 107| loss: 0.93794 | val_0_logloss: 1.10697 | val_0_balanced_accuracy: 0.4088  |  0:00:48s\n",
      "epoch 108| loss: 0.9416  | val_0_logloss: 1.09888 | val_0_balanced_accuracy: 0.39061 |  0:00:49s\n",
      "epoch 109| loss: 0.93864 | val_0_logloss: 1.10852 | val_0_balanced_accuracy: 0.39156 |  0:00:49s\n",
      "epoch 110| loss: 0.9368  | val_0_logloss: 1.10251 | val_0_balanced_accuracy: 0.40117 |  0:00:49s\n",
      "epoch 111| loss: 0.92735 | val_0_logloss: 1.09844 | val_0_balanced_accuracy: 0.39342 |  0:00:50s\n",
      "epoch 112| loss: 0.94281 | val_0_logloss: 1.10721 | val_0_balanced_accuracy: 0.39509 |  0:00:50s\n",
      "epoch 113| loss: 0.93563 | val_0_logloss: 1.11104 | val_0_balanced_accuracy: 0.38528 |  0:00:51s\n",
      "epoch 114| loss: 0.93993 | val_0_logloss: 1.10767 | val_0_balanced_accuracy: 0.38998 |  0:00:51s\n",
      "epoch 115| loss: 0.94663 | val_0_logloss: 1.10416 | val_0_balanced_accuracy: 0.3859  |  0:00:52s\n",
      "epoch 116| loss: 0.93765 | val_0_logloss: 1.11244 | val_0_balanced_accuracy: 0.38789 |  0:00:52s\n",
      "epoch 117| loss: 0.93489 | val_0_logloss: 1.10705 | val_0_balanced_accuracy: 0.38928 |  0:00:53s\n",
      "epoch 118| loss: 0.93608 | val_0_logloss: 1.11432 | val_0_balanced_accuracy: 0.39171 |  0:00:53s\n",
      "epoch 119| loss: 0.9337  | val_0_logloss: 1.11156 | val_0_balanced_accuracy: 0.38934 |  0:00:54s\n",
      "epoch 120| loss: 0.93579 | val_0_logloss: 1.10544 | val_0_balanced_accuracy: 0.39142 |  0:00:54s\n",
      "epoch 121| loss: 0.9383  | val_0_logloss: 1.11475 | val_0_balanced_accuracy: 0.37907 |  0:00:55s\n",
      "epoch 122| loss: 0.92122 | val_0_logloss: 1.11997 | val_0_balanced_accuracy: 0.37942 |  0:00:55s\n",
      "epoch 123| loss: 0.94133 | val_0_logloss: 1.11284 | val_0_balanced_accuracy: 0.37946 |  0:00:55s\n",
      "epoch 124| loss: 0.94139 | val_0_logloss: 1.1118  | val_0_balanced_accuracy: 0.38018 |  0:00:56s\n",
      "epoch 125| loss: 0.94268 | val_0_logloss: 1.11746 | val_0_balanced_accuracy: 0.38619 |  0:00:56s\n",
      "epoch 126| loss: 0.93559 | val_0_logloss: 1.11122 | val_0_balanced_accuracy: 0.37661 |  0:00:57s\n",
      "epoch 127| loss: 0.9363  | val_0_logloss: 1.12253 | val_0_balanced_accuracy: 0.36919 |  0:00:57s\n",
      "epoch 128| loss: 0.94831 | val_0_logloss: 1.10968 | val_0_balanced_accuracy: 0.37206 |  0:00:58s\n",
      "epoch 129| loss: 0.95654 | val_0_logloss: 1.10497 | val_0_balanced_accuracy: 0.37602 |  0:00:58s\n",
      "epoch 130| loss: 0.94876 | val_0_logloss: 1.1099  | val_0_balanced_accuracy: 0.37563 |  0:00:59s\n",
      "epoch 131| loss: 0.94855 | val_0_logloss: 1.11146 | val_0_balanced_accuracy: 0.37428 |  0:00:59s\n",
      "epoch 132| loss: 0.9345  | val_0_logloss: 1.12876 | val_0_balanced_accuracy: 0.37069 |  0:00:59s\n",
      "epoch 133| loss: 0.95077 | val_0_logloss: 1.11261 | val_0_balanced_accuracy: 0.37002 |  0:01:00s\n",
      "epoch 134| loss: 0.94136 | val_0_logloss: 1.11073 | val_0_balanced_accuracy: 0.36276 |  0:01:00s\n",
      "epoch 135| loss: 0.92813 | val_0_logloss: 1.13431 | val_0_balanced_accuracy: 0.38184 |  0:01:01s\n",
      "epoch 136| loss: 0.94623 | val_0_logloss: 1.10843 | val_0_balanced_accuracy: 0.37209 |  0:01:01s\n",
      "epoch 137| loss: 0.93811 | val_0_logloss: 1.11244 | val_0_balanced_accuracy: 0.37517 |  0:01:02s\n",
      "epoch 138| loss: 0.94571 | val_0_logloss: 1.11405 | val_0_balanced_accuracy: 0.38067 |  0:01:02s\n",
      "epoch 139| loss: 0.93874 | val_0_logloss: 1.11017 | val_0_balanced_accuracy: 0.37618 |  0:01:03s\n",
      "epoch 140| loss: 0.94863 | val_0_logloss: 1.11117 | val_0_balanced_accuracy: 0.3848  |  0:01:03s\n",
      "epoch 141| loss: 0.93045 | val_0_logloss: 1.1165  | val_0_balanced_accuracy: 0.38386 |  0:01:03s\n",
      "epoch 142| loss: 0.94273 | val_0_logloss: 1.12315 | val_0_balanced_accuracy: 0.38067 |  0:01:04s\n",
      "epoch 143| loss: 0.93454 | val_0_logloss: 1.11871 | val_0_balanced_accuracy: 0.37424 |  0:01:04s\n",
      "epoch 144| loss: 0.93769 | val_0_logloss: 1.12767 | val_0_balanced_accuracy: 0.38891 |  0:01:05s\n",
      "epoch 145| loss: 0.93684 | val_0_logloss: 1.11708 | val_0_balanced_accuracy: 0.3809  |  0:01:05s\n",
      "epoch 146| loss: 0.93315 | val_0_logloss: 1.12012 | val_0_balanced_accuracy: 0.36193 |  0:01:06s\n",
      "epoch 147| loss: 0.93582 | val_0_logloss: 1.11923 | val_0_balanced_accuracy: 0.38085 |  0:01:06s\n",
      "epoch 148| loss: 0.93311 | val_0_logloss: 1.12108 | val_0_balanced_accuracy: 0.37839 |  0:01:07s\n",
      "epoch 149| loss: 0.9333  | val_0_logloss: 1.11576 | val_0_balanced_accuracy: 0.37868 |  0:01:07s\n",
      "epoch 150| loss: 0.94069 | val_0_logloss: 1.11478 | val_0_balanced_accuracy: 0.39573 |  0:01:08s\n",
      "epoch 151| loss: 0.93569 | val_0_logloss: 1.11495 | val_0_balanced_accuracy: 0.3741  |  0:01:08s\n",
      "epoch 152| loss: 0.93286 | val_0_logloss: 1.11972 | val_0_balanced_accuracy: 0.38513 |  0:01:08s\n",
      "epoch 153| loss: 0.9271  | val_0_logloss: 1.12726 | val_0_balanced_accuracy: 0.38716 |  0:01:09s\n",
      "epoch 154| loss: 0.9379  | val_0_logloss: 1.11132 | val_0_balanced_accuracy: 0.37844 |  0:01:09s\n",
      "epoch 155| loss: 0.92936 | val_0_logloss: 1.12096 | val_0_balanced_accuracy: 0.37795 |  0:01:10s\n",
      "epoch 156| loss: 0.93104 | val_0_logloss: 1.12073 | val_0_balanced_accuracy: 0.38465 |  0:01:10s\n",
      "epoch 157| loss: 0.93688 | val_0_logloss: 1.13251 | val_0_balanced_accuracy: 0.38113 |  0:01:11s\n",
      "epoch 158| loss: 0.9285  | val_0_logloss: 1.13506 | val_0_balanced_accuracy: 0.37971 |  0:01:11s\n",
      "epoch 159| loss: 0.93153 | val_0_logloss: 1.11965 | val_0_balanced_accuracy: 0.3863  |  0:01:11s\n",
      "epoch 160| loss: 0.93203 | val_0_logloss: 1.12085 | val_0_balanced_accuracy: 0.3915  |  0:01:12s\n",
      "epoch 161| loss: 0.9421  | val_0_logloss: 1.11746 | val_0_balanced_accuracy: 0.38419 |  0:01:12s\n",
      "epoch 162| loss: 0.92956 | val_0_logloss: 1.11156 | val_0_balanced_accuracy: 0.39298 |  0:01:13s\n",
      "epoch 163| loss: 0.92594 | val_0_logloss: 1.13127 | val_0_balanced_accuracy: 0.39719 |  0:01:13s\n",
      "epoch 164| loss: 0.93854 | val_0_logloss: 1.13625 | val_0_balanced_accuracy: 0.38739 |  0:01:14s\n",
      "epoch 165| loss: 0.94793 | val_0_logloss: 1.12347 | val_0_balanced_accuracy: 0.38345 |  0:01:14s\n",
      "epoch 166| loss: 0.95139 | val_0_logloss: 1.11781 | val_0_balanced_accuracy: 0.38131 |  0:01:15s\n",
      "epoch 167| loss: 0.93994 | val_0_logloss: 1.12637 | val_0_balanced_accuracy: 0.37238 |  0:01:15s\n",
      "epoch 168| loss: 0.93722 | val_0_logloss: 1.13353 | val_0_balanced_accuracy: 0.37987 |  0:01:15s\n",
      "epoch 169| loss: 0.93727 | val_0_logloss: 1.11663 | val_0_balanced_accuracy: 0.38411 |  0:01:16s\n",
      "epoch 170| loss: 0.93622 | val_0_logloss: 1.11666 | val_0_balanced_accuracy: 0.38706 |  0:01:16s\n",
      "epoch 171| loss: 0.93931 | val_0_logloss: 1.12393 | val_0_balanced_accuracy: 0.39174 |  0:01:17s\n",
      "epoch 172| loss: 0.95344 | val_0_logloss: 1.10557 | val_0_balanced_accuracy: 0.38631 |  0:01:17s\n",
      "epoch 173| loss: 0.95151 | val_0_logloss: 1.10977 | val_0_balanced_accuracy: 0.38759 |  0:01:18s\n",
      "epoch 174| loss: 0.93422 | val_0_logloss: 1.12084 | val_0_balanced_accuracy: 0.39791 |  0:01:18s\n",
      "epoch 175| loss: 0.93662 | val_0_logloss: 1.11698 | val_0_balanced_accuracy: 0.39195 |  0:01:18s\n",
      "epoch 176| loss: 0.93296 | val_0_logloss: 1.12136 | val_0_balanced_accuracy: 0.39117 |  0:01:19s\n",
      "epoch 177| loss: 0.94295 | val_0_logloss: 1.13257 | val_0_balanced_accuracy: 0.3953  |  0:01:19s\n",
      "epoch 178| loss: 0.94678 | val_0_logloss: 1.11698 | val_0_balanced_accuracy: 0.39553 |  0:01:20s\n",
      "epoch 179| loss: 0.94617 | val_0_logloss: 1.11346 | val_0_balanced_accuracy: 0.38221 |  0:01:20s\n",
      "epoch 180| loss: 0.93003 | val_0_logloss: 1.12509 | val_0_balanced_accuracy: 0.39517 |  0:01:21s\n",
      "epoch 181| loss: 0.93566 | val_0_logloss: 1.13011 | val_0_balanced_accuracy: 0.38949 |  0:01:21s\n",
      "epoch 182| loss: 0.93631 | val_0_logloss: 1.1296  | val_0_balanced_accuracy: 0.38681 |  0:01:22s\n",
      "epoch 183| loss: 0.93234 | val_0_logloss: 1.11887 | val_0_balanced_accuracy: 0.39774 |  0:01:22s\n",
      "epoch 184| loss: 0.93743 | val_0_logloss: 1.12299 | val_0_balanced_accuracy: 0.39431 |  0:01:22s\n",
      "epoch 185| loss: 0.93165 | val_0_logloss: 1.11851 | val_0_balanced_accuracy: 0.3897  |  0:01:23s\n",
      "epoch 186| loss: 0.94078 | val_0_logloss: 1.11029 | val_0_balanced_accuracy: 0.39112 |  0:01:23s\n",
      "epoch 187| loss: 0.93179 | val_0_logloss: 1.11724 | val_0_balanced_accuracy: 0.3973  |  0:01:24s\n",
      "epoch 188| loss: 0.92698 | val_0_logloss: 1.11938 | val_0_balanced_accuracy: 0.39342 |  0:01:24s\n",
      "epoch 189| loss: 0.93663 | val_0_logloss: 1.10634 | val_0_balanced_accuracy: 0.39603 |  0:01:24s\n",
      "epoch 190| loss: 0.93291 | val_0_logloss: 1.12155 | val_0_balanced_accuracy: 0.4001  |  0:01:25s\n",
      "epoch 191| loss: 0.92616 | val_0_logloss: 1.10653 | val_0_balanced_accuracy: 0.38468 |  0:01:25s\n",
      "epoch 192| loss: 0.93054 | val_0_logloss: 1.10766 | val_0_balanced_accuracy: 0.39634 |  0:01:26s\n",
      "epoch 193| loss: 0.93289 | val_0_logloss: 1.12769 | val_0_balanced_accuracy: 0.38717 |  0:01:26s\n",
      "epoch 194| loss: 0.93124 | val_0_logloss: 1.11172 | val_0_balanced_accuracy: 0.39651 |  0:01:27s\n",
      "epoch 195| loss: 0.93029 | val_0_logloss: 1.10992 | val_0_balanced_accuracy: 0.39542 |  0:01:27s\n",
      "epoch 196| loss: 0.93324 | val_0_logloss: 1.1083  | val_0_balanced_accuracy: 0.39269 |  0:01:27s\n",
      "epoch 197| loss: 0.92979 | val_0_logloss: 1.10456 | val_0_balanced_accuracy: 0.38065 |  0:01:28s\n",
      "epoch 198| loss: 0.93102 | val_0_logloss: 1.12432 | val_0_balanced_accuracy: 0.38231 |  0:01:28s\n",
      "epoch 199| loss: 0.93756 | val_0_logloss: 1.10477 | val_0_balanced_accuracy: 0.37255 |  0:01:29s\n",
      "Stop training because you reached max_epochs = 200 with best_epoch = 107 and best_val_0_balanced_accuracy = 0.4088\n",
      "Best weights from best epoch are automatically used!\n"
     ]
    }
   ],
   "source": [
    "clf = TabNetClassifier(n_d = 10, \n",
    "                       n_a = 10, \n",
    "                       n_steps = 6) \n",
    "\n",
    "clf.fit(\n",
    "    X_train, \n",
    "    Y_train, \n",
    "    eval_set=[(X_val, Y_val)], \n",
    "    eval_metric=[\"logloss\", \"balanced_accuracy\"], \n",
    "    weights=d, \n",
    "    max_epochs=200, \n",
    "    patience=200 \n",
    ")"
   ]
  },
  {
   "cell_type": "code",
   "execution_count": 35,
   "id": "d5686208-f6c4-49f4-a1f5-bb5926915d0c",
   "metadata": {},
   "outputs": [
    {
     "name": "stdout",
     "output_type": "stream",
     "text": [
      "accuracy = 44.24131627056673\n"
     ]
    }
   ],
   "source": [
    "cnt = 0 \n",
    "Y_pred = clf.predict(X_test) \n",
    "for i in range(len(Y_pred)): \n",
    "    if Y_test[i] == float(Y_pred[i]): \n",
    "        cnt += 1 \n",
    "        \n",
    "        \n",
    "print(\"accuracy = {}\".format(cnt / len(pred) * 100))"
   ]
  },
  {
   "cell_type": "code",
   "execution_count": 36,
   "id": "0d8326ab-dca6-4850-909b-09d8c342a958",
   "metadata": {},
   "outputs": [
    {
     "data": {
      "text/plain": [
       "0.433729748008911"
      ]
     },
     "execution_count": 36,
     "metadata": {},
     "output_type": "execute_result"
    }
   ],
   "source": [
    "f1_score(Y_test, Y_pred, average='macro')"
   ]
  },
  {
   "cell_type": "code",
   "execution_count": 51,
   "id": "dd69f630-f628-489f-8816-74bf26ec3f5e",
   "metadata": {},
   "outputs": [],
   "source": [
    "import joblib \n",
    "import lightgbm as lgbm \n",
    "from xgboost import XGBClassifier  \n",
    "\n",
    "lgbm = joblib.load('lgbm_btc.pkl') \n",
    "xgboost = XGBClassifier() \n",
    "xgboost.load_model(\"xgboost_btc_3\") "
   ]
  },
  {
   "cell_type": "code",
   "execution_count": 54,
   "id": "72b9958b-2e2b-473e-8551-8c4fd00b5a05",
   "metadata": {},
   "outputs": [],
   "source": [
    "lgbm_probs = lgbm.predict_proba(X_test) \n",
    "xgboost_probs = xgboost.predict_proba(X_test) \n",
    "tabnet_probs = clf.predict_proba(X_test) "
   ]
  },
  {
   "cell_type": "code",
   "execution_count": 56,
   "id": "8a1b4477-def5-4483-8923-c5a21c2ed085",
   "metadata": {},
   "outputs": [
    {
     "data": {
      "text/plain": [
       "array([[0.22124264, 0.21160304, 0.5671543 ],\n",
       "       [0.36422471, 0.32866346, 0.3071118 ],\n",
       "       [0.13771362, 0.64507033, 0.21721604],\n",
       "       ...,\n",
       "       [0.14050208, 0.36051689, 0.49898102],\n",
       "       [0.11572027, 0.24580406, 0.63847565],\n",
       "       [0.20679073, 0.19489644, 0.59831286]])"
      ]
     },
     "execution_count": 56,
     "metadata": {},
     "output_type": "execute_result"
    }
   ],
   "source": [
    "avg_probs = (lgbm_probs + xgboost_probs + tabnet_probs) / 3.0 \n",
    "\n",
    "avg_probs"
   ]
  },
  {
   "cell_type": "code",
   "execution_count": 62,
   "id": "b304063a-a919-413b-a5a8-6c5b98b3d2de",
   "metadata": {},
   "outputs": [
    {
     "name": "stdout",
     "output_type": "stream",
     "text": [
      "accuracy = 48.446069469835464%\n"
     ]
    }
   ],
   "source": [
    "Y_pred = np.argmax(avg_probs, axis=1)\n",
    "\n",
    "cnt = 0 \n",
    "for i in range(len(Y_pred)):\n",
    "    if Y_pred[i] == Y_test[i]:\n",
    "        cnt += 1 \n",
    "        \n",
    "print(\"accuracy = {}%\".format(cnt / len(Y_pred) * 100.))"
   ]
  },
  {
   "cell_type": "code",
   "execution_count": 63,
   "id": "1aa4fc03-0a04-4c6a-8f22-7fadffaa5794",
   "metadata": {},
   "outputs": [
    {
     "name": "stdout",
     "output_type": "stream",
     "text": [
      "Successfully saved model at tabnet_btc.zip\n"
     ]
    },
    {
     "data": {
      "text/plain": [
       "'tabnet_btc.zip'"
      ]
     },
     "execution_count": 63,
     "metadata": {},
     "output_type": "execute_result"
    }
   ],
   "source": [
    "clf.save_model(\"tabnet_btc\") "
   ]
  },
  {
   "cell_type": "code",
   "execution_count": 64,
   "id": "339b3463-f905-42c2-bc1d-f25d632e70b7",
   "metadata": {},
   "outputs": [
    {
     "data": {
      "text/plain": [
       "0.4656160131978309"
      ]
     },
     "execution_count": 64,
     "metadata": {},
     "output_type": "execute_result"
    }
   ],
   "source": [
    "f1_score(Y_test, Y_pred, average=\"macro\")"
   ]
  },
  {
   "cell_type": "code",
   "execution_count": null,
   "id": "49419b02-1d43-4c12-b57b-1dd0acaa5897",
   "metadata": {},
   "outputs": [],
   "source": []
  },
  {
   "cell_type": "code",
   "execution_count": null,
   "id": "cff59898-5e2b-4116-b276-22efb20d104f",
   "metadata": {},
   "outputs": [],
   "source": []
  },
  {
   "cell_type": "code",
   "execution_count": null,
   "id": "9ed992eb-9ca6-4d25-a91c-d21cb2d4c8b4",
   "metadata": {},
   "outputs": [],
   "source": []
  },
  {
   "cell_type": "code",
   "execution_count": null,
   "id": "06699fee-989f-451f-9d93-16f66ce3c116",
   "metadata": {},
   "outputs": [],
   "source": []
  },
  {
   "cell_type": "code",
   "execution_count": null,
   "id": "1301713c-0b56-48cc-b016-4a99d63b8318",
   "metadata": {},
   "outputs": [],
   "source": []
  },
  {
   "cell_type": "code",
   "execution_count": null,
   "id": "abb34fc1-c7dd-4a72-b7f7-7556218d13b7",
   "metadata": {},
   "outputs": [],
   "source": []
  },
  {
   "cell_type": "code",
   "execution_count": null,
   "id": "b44c6eb2-2b16-4b70-a58a-98ef279d124b",
   "metadata": {},
   "outputs": [],
   "source": []
  }
 ],
 "metadata": {
  "kernelspec": {
   "display_name": "Python 3 (ipykernel)",
   "language": "python",
   "name": "python3"
  },
  "language_info": {
   "codemirror_mode": {
    "name": "ipython",
    "version": 3
   },
   "file_extension": ".py",
   "mimetype": "text/x-python",
   "name": "python",
   "nbconvert_exporter": "python",
   "pygments_lexer": "ipython3",
   "version": "3.9.13"
  }
 },
 "nbformat": 4,
 "nbformat_minor": 5
}
