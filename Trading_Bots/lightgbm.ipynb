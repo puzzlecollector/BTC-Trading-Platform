{
 "cells": [
  {
   "cell_type": "code",
   "execution_count": 432,
   "id": "400d853a-f423-49c5-bc48-337d2dbdba8e",
   "metadata": {},
   "outputs": [],
   "source": [
    "from catboost import CatBoostRegressor, CatBoostClassifier\n",
    "import lightgbm as lgbm\n",
    "from pytorch_tabnet.tab_model import TabNetClassifier\n",
    "import numpy as np \n",
    "import pandas as pd \n",
    "import os \n",
    "import json\n",
    "import ccxt\n",
    "from tqdm import tqdm\n",
    "import seaborn as sns\n",
    "import matplotlib.pyplot as plt\n",
    "import pandas_ta as ta\n",
    "from sklearn.utils.class_weight import compute_class_weight\n",
    "from random import randint"
   ]
  },
  {
   "cell_type": "code",
   "execution_count": 433,
   "id": "f95a845b-bbe5-4f38-bc7c-c365441d1605",
   "metadata": {},
   "outputs": [],
   "source": [
    "with open('BTC_USDT-4h-10.json') as f:\n",
    "    d = json.load(f)\n",
    "    \n",
    "chart_df = pd.DataFrame(d)\n",
    "chart_df = chart_df.rename(columns={0:\"timestamp\",\n",
    "                                    1:\"open\",\n",
    "                                    2:\"high\",\n",
    "                                    3:\"low\",\n",
    "                                    4:\"close\",\n",
    "                                    5:\"volume\"})"
   ]
  },
  {
   "cell_type": "code",
   "execution_count": 434,
   "id": "4f61f7c6-7e2f-42ee-91a5-dcef610a0384",
   "metadata": {},
   "outputs": [],
   "source": [
    "def process(df): \n",
    "    binance = ccxt.binance() \n",
    "    dates = df['timestamp'].values \n",
    "    timestamp = [] \n",
    "    for i in range(len(dates)): \n",
    "        date_string = binance.iso8601(int(dates[i])) \n",
    "        date_string = date_string[:10] + \" \" + date_string[11:-5] \n",
    "        timestamp.append(date_string) \n",
    "    df['datetime'] = timestamp \n",
    "    df = df.drop(columns={'timestamp'})\n",
    "    return df"
   ]
  },
  {
   "cell_type": "code",
   "execution_count": 435,
   "id": "611ace30-2c2a-47e3-8408-14ccb93b362b",
   "metadata": {},
   "outputs": [
    {
     "data": {
      "text/html": [
       "<div>\n",
       "<style scoped>\n",
       "    .dataframe tbody tr th:only-of-type {\n",
       "        vertical-align: middle;\n",
       "    }\n",
       "\n",
       "    .dataframe tbody tr th {\n",
       "        vertical-align: top;\n",
       "    }\n",
       "\n",
       "    .dataframe thead th {\n",
       "        text-align: right;\n",
       "    }\n",
       "</style>\n",
       "<table border=\"1\" class=\"dataframe\">\n",
       "  <thead>\n",
       "    <tr style=\"text-align: right;\">\n",
       "      <th></th>\n",
       "      <th>open</th>\n",
       "      <th>high</th>\n",
       "      <th>low</th>\n",
       "      <th>close</th>\n",
       "      <th>volume</th>\n",
       "      <th>datetime</th>\n",
       "    </tr>\n",
       "  </thead>\n",
       "  <tbody>\n",
       "    <tr>\n",
       "      <th>10964</th>\n",
       "      <td>21210.06</td>\n",
       "      <td>21285.08</td>\n",
       "      <td>21069.11</td>\n",
       "      <td>21251.38</td>\n",
       "      <td>21730.29782</td>\n",
       "      <td>2022-08-21 04:00:00</td>\n",
       "    </tr>\n",
       "    <tr>\n",
       "      <th>10965</th>\n",
       "      <td>21250.21</td>\n",
       "      <td>21570.00</td>\n",
       "      <td>21224.48</td>\n",
       "      <td>21524.39</td>\n",
       "      <td>34690.60227</td>\n",
       "      <td>2022-08-21 08:00:00</td>\n",
       "    </tr>\n",
       "    <tr>\n",
       "      <th>10966</th>\n",
       "      <td>21525.57</td>\n",
       "      <td>21587.74</td>\n",
       "      <td>21314.88</td>\n",
       "      <td>21420.20</td>\n",
       "      <td>24843.69947</td>\n",
       "      <td>2022-08-21 12:00:00</td>\n",
       "    </tr>\n",
       "    <tr>\n",
       "      <th>10967</th>\n",
       "      <td>21419.00</td>\n",
       "      <td>21557.26</td>\n",
       "      <td>21330.75</td>\n",
       "      <td>21512.01</td>\n",
       "      <td>21034.03801</td>\n",
       "      <td>2022-08-21 16:00:00</td>\n",
       "    </tr>\n",
       "    <tr>\n",
       "      <th>10968</th>\n",
       "      <td>21512.01</td>\n",
       "      <td>21800.00</td>\n",
       "      <td>21277.73</td>\n",
       "      <td>21515.61</td>\n",
       "      <td>35006.75105</td>\n",
       "      <td>2022-08-21 20:00:00</td>\n",
       "    </tr>\n",
       "  </tbody>\n",
       "</table>\n",
       "</div>"
      ],
      "text/plain": [
       "           open      high       low     close       volume  \\\n",
       "10964  21210.06  21285.08  21069.11  21251.38  21730.29782   \n",
       "10965  21250.21  21570.00  21224.48  21524.39  34690.60227   \n",
       "10966  21525.57  21587.74  21314.88  21420.20  24843.69947   \n",
       "10967  21419.00  21557.26  21330.75  21512.01  21034.03801   \n",
       "10968  21512.01  21800.00  21277.73  21515.61  35006.75105   \n",
       "\n",
       "                  datetime  \n",
       "10964  2022-08-21 04:00:00  \n",
       "10965  2022-08-21 08:00:00  \n",
       "10966  2022-08-21 12:00:00  \n",
       "10967  2022-08-21 16:00:00  \n",
       "10968  2022-08-21 20:00:00  "
      ]
     },
     "execution_count": 435,
     "metadata": {},
     "output_type": "execute_result"
    }
   ],
   "source": [
    "chart_df = process(chart_df)\n",
    "chart_df.tail() "
   ]
  },
  {
   "cell_type": "code",
   "execution_count": 436,
   "id": "e8fe882b-060f-4978-8f3d-5f8c44c123ca",
   "metadata": {},
   "outputs": [
    {
     "name": "stderr",
     "output_type": "stream",
     "text": [
      "100%|██████████| 10969/10969 [00:01<00:00, 5517.00it/s]\n"
     ]
    }
   ],
   "source": [
    "hours, days, months, years = [],[],[],[] \n",
    "\n",
    "for dt in tqdm(chart_df['datetime']):\n",
    "    hour = pd.to_datetime(dt).hour \n",
    "    day = pd.to_datetime(dt).day \n",
    "    month = pd.to_datetime(dt).month \n",
    "    year = pd.to_datetime(dt).year \n",
    "    hours.append(hour) \n",
    "    days.append(day) \n",
    "    months.append(month)\n",
    "    years.append(year) \n",
    "\n",
    "chart_df['hours'] = hours \n",
    "chart_df['days'] = days \n",
    "chart_df['months'] = months \n",
    "chart_df['years'] = years"
   ]
  },
  {
   "cell_type": "code",
   "execution_count": 437,
   "id": "3de41f8c-0a9f-4e83-9727-313fae8e28de",
   "metadata": {},
   "outputs": [
    {
     "data": {
      "text/html": [
       "<div>\n",
       "<style scoped>\n",
       "    .dataframe tbody tr th:only-of-type {\n",
       "        vertical-align: middle;\n",
       "    }\n",
       "\n",
       "    .dataframe tbody tr th {\n",
       "        vertical-align: top;\n",
       "    }\n",
       "\n",
       "    .dataframe thead th {\n",
       "        text-align: right;\n",
       "    }\n",
       "</style>\n",
       "<table border=\"1\" class=\"dataframe\">\n",
       "  <thead>\n",
       "    <tr style=\"text-align: right;\">\n",
       "      <th></th>\n",
       "      <th>open</th>\n",
       "      <th>high</th>\n",
       "      <th>low</th>\n",
       "      <th>close</th>\n",
       "      <th>volume</th>\n",
       "      <th>datetime</th>\n",
       "      <th>hours</th>\n",
       "      <th>days</th>\n",
       "      <th>months</th>\n",
       "      <th>years</th>\n",
       "    </tr>\n",
       "  </thead>\n",
       "  <tbody>\n",
       "    <tr>\n",
       "      <th>10964</th>\n",
       "      <td>21210.06</td>\n",
       "      <td>21285.08</td>\n",
       "      <td>21069.11</td>\n",
       "      <td>21251.38</td>\n",
       "      <td>21730.29782</td>\n",
       "      <td>2022-08-21 04:00:00</td>\n",
       "      <td>4</td>\n",
       "      <td>21</td>\n",
       "      <td>8</td>\n",
       "      <td>2022</td>\n",
       "    </tr>\n",
       "    <tr>\n",
       "      <th>10965</th>\n",
       "      <td>21250.21</td>\n",
       "      <td>21570.00</td>\n",
       "      <td>21224.48</td>\n",
       "      <td>21524.39</td>\n",
       "      <td>34690.60227</td>\n",
       "      <td>2022-08-21 08:00:00</td>\n",
       "      <td>8</td>\n",
       "      <td>21</td>\n",
       "      <td>8</td>\n",
       "      <td>2022</td>\n",
       "    </tr>\n",
       "    <tr>\n",
       "      <th>10966</th>\n",
       "      <td>21525.57</td>\n",
       "      <td>21587.74</td>\n",
       "      <td>21314.88</td>\n",
       "      <td>21420.20</td>\n",
       "      <td>24843.69947</td>\n",
       "      <td>2022-08-21 12:00:00</td>\n",
       "      <td>12</td>\n",
       "      <td>21</td>\n",
       "      <td>8</td>\n",
       "      <td>2022</td>\n",
       "    </tr>\n",
       "    <tr>\n",
       "      <th>10967</th>\n",
       "      <td>21419.00</td>\n",
       "      <td>21557.26</td>\n",
       "      <td>21330.75</td>\n",
       "      <td>21512.01</td>\n",
       "      <td>21034.03801</td>\n",
       "      <td>2022-08-21 16:00:00</td>\n",
       "      <td>16</td>\n",
       "      <td>21</td>\n",
       "      <td>8</td>\n",
       "      <td>2022</td>\n",
       "    </tr>\n",
       "    <tr>\n",
       "      <th>10968</th>\n",
       "      <td>21512.01</td>\n",
       "      <td>21800.00</td>\n",
       "      <td>21277.73</td>\n",
       "      <td>21515.61</td>\n",
       "      <td>35006.75105</td>\n",
       "      <td>2022-08-21 20:00:00</td>\n",
       "      <td>20</td>\n",
       "      <td>21</td>\n",
       "      <td>8</td>\n",
       "      <td>2022</td>\n",
       "    </tr>\n",
       "  </tbody>\n",
       "</table>\n",
       "</div>"
      ],
      "text/plain": [
       "           open      high       low     close       volume  \\\n",
       "10964  21210.06  21285.08  21069.11  21251.38  21730.29782   \n",
       "10965  21250.21  21570.00  21224.48  21524.39  34690.60227   \n",
       "10966  21525.57  21587.74  21314.88  21420.20  24843.69947   \n",
       "10967  21419.00  21557.26  21330.75  21512.01  21034.03801   \n",
       "10968  21512.01  21800.00  21277.73  21515.61  35006.75105   \n",
       "\n",
       "                  datetime  hours  days  months  years  \n",
       "10964  2022-08-21 04:00:00      4    21       8   2022  \n",
       "10965  2022-08-21 08:00:00      8    21       8   2022  \n",
       "10966  2022-08-21 12:00:00     12    21       8   2022  \n",
       "10967  2022-08-21 16:00:00     16    21       8   2022  \n",
       "10968  2022-08-21 20:00:00     20    21       8   2022  "
      ]
     },
     "execution_count": 437,
     "metadata": {},
     "output_type": "execute_result"
    }
   ],
   "source": [
    "chart_df.tail() "
   ]
  },
  {
   "cell_type": "code",
   "execution_count": 438,
   "id": "e8b7d7ab-b65f-4800-b18e-5fbf30a9783d",
   "metadata": {},
   "outputs": [
    {
     "data": {
      "text/html": [
       "<div>\n",
       "<style scoped>\n",
       "    .dataframe tbody tr th:only-of-type {\n",
       "        vertical-align: middle;\n",
       "    }\n",
       "\n",
       "    .dataframe tbody tr th {\n",
       "        vertical-align: top;\n",
       "    }\n",
       "\n",
       "    .dataframe thead th {\n",
       "        text-align: right;\n",
       "    }\n",
       "</style>\n",
       "<table border=\"1\" class=\"dataframe\">\n",
       "  <thead>\n",
       "    <tr style=\"text-align: right;\">\n",
       "      <th></th>\n",
       "      <th>open</th>\n",
       "      <th>high</th>\n",
       "      <th>low</th>\n",
       "      <th>close</th>\n",
       "      <th>volume</th>\n",
       "      <th>datetime</th>\n",
       "      <th>hours</th>\n",
       "      <th>days</th>\n",
       "      <th>months</th>\n",
       "      <th>years</th>\n",
       "      <th>Targets</th>\n",
       "    </tr>\n",
       "  </thead>\n",
       "  <tbody>\n",
       "    <tr>\n",
       "      <th>0</th>\n",
       "      <td>4261.48</td>\n",
       "      <td>4349.99</td>\n",
       "      <td>4261.32</td>\n",
       "      <td>4349.99</td>\n",
       "      <td>82.088865</td>\n",
       "      <td>2017-08-17 04:00:00</td>\n",
       "      <td>4</td>\n",
       "      <td>17</td>\n",
       "      <td>8</td>\n",
       "      <td>2017</td>\n",
       "      <td>0.0</td>\n",
       "    </tr>\n",
       "    <tr>\n",
       "      <th>1</th>\n",
       "      <td>4333.32</td>\n",
       "      <td>4485.39</td>\n",
       "      <td>4333.32</td>\n",
       "      <td>4427.30</td>\n",
       "      <td>63.619882</td>\n",
       "      <td>2017-08-17 08:00:00</td>\n",
       "      <td>8</td>\n",
       "      <td>17</td>\n",
       "      <td>8</td>\n",
       "      <td>2017</td>\n",
       "      <td>1.0</td>\n",
       "    </tr>\n",
       "    <tr>\n",
       "      <th>2</th>\n",
       "      <td>4436.06</td>\n",
       "      <td>4485.39</td>\n",
       "      <td>4333.42</td>\n",
       "      <td>4352.34</td>\n",
       "      <td>174.562001</td>\n",
       "      <td>2017-08-17 12:00:00</td>\n",
       "      <td>12</td>\n",
       "      <td>17</td>\n",
       "      <td>8</td>\n",
       "      <td>2017</td>\n",
       "      <td>1.0</td>\n",
       "    </tr>\n",
       "    <tr>\n",
       "      <th>3</th>\n",
       "      <td>4352.33</td>\n",
       "      <td>4354.84</td>\n",
       "      <td>4200.74</td>\n",
       "      <td>4325.23</td>\n",
       "      <td>225.109716</td>\n",
       "      <td>2017-08-17 16:00:00</td>\n",
       "      <td>16</td>\n",
       "      <td>17</td>\n",
       "      <td>8</td>\n",
       "      <td>2017</td>\n",
       "      <td>1.0</td>\n",
       "    </tr>\n",
       "    <tr>\n",
       "      <th>4</th>\n",
       "      <td>4307.56</td>\n",
       "      <td>4369.69</td>\n",
       "      <td>4258.56</td>\n",
       "      <td>4285.08</td>\n",
       "      <td>249.769913</td>\n",
       "      <td>2017-08-17 20:00:00</td>\n",
       "      <td>20</td>\n",
       "      <td>17</td>\n",
       "      <td>8</td>\n",
       "      <td>2017</td>\n",
       "      <td>1.0</td>\n",
       "    </tr>\n",
       "  </tbody>\n",
       "</table>\n",
       "</div>"
      ],
      "text/plain": [
       "      open     high      low    close      volume             datetime  hours  \\\n",
       "0  4261.48  4349.99  4261.32  4349.99   82.088865  2017-08-17 04:00:00      4   \n",
       "1  4333.32  4485.39  4333.32  4427.30   63.619882  2017-08-17 08:00:00      8   \n",
       "2  4436.06  4485.39  4333.42  4352.34  174.562001  2017-08-17 12:00:00     12   \n",
       "3  4352.33  4354.84  4200.74  4325.23  225.109716  2017-08-17 16:00:00     16   \n",
       "4  4307.56  4369.69  4258.56  4285.08  249.769913  2017-08-17 20:00:00     20   \n",
       "\n",
       "   days  months  years  Targets  \n",
       "0    17       8   2017      0.0  \n",
       "1    17       8   2017      1.0  \n",
       "2    17       8   2017      1.0  \n",
       "3    17       8   2017      1.0  \n",
       "4    17       8   2017      1.0  "
      ]
     },
     "execution_count": 438,
     "metadata": {},
     "output_type": "execute_result"
    }
   ],
   "source": [
    "targets = [] \n",
    "close = chart_df['close'].values \n",
    "high = chart_df['high'].values \n",
    "low = chart_df['low'].values \n",
    "\n",
    "threshold = 0.0075\n",
    "\n",
    "for i in range(close.shape[0]-1): \n",
    "    high_volatility = (high[i+1] - close[i]) / close[i] \n",
    "    low_volatility = (low[i+1] - close[i]) / close[i] \n",
    "    if np.abs(high_volatility) >= np.abs(low_volatility): \n",
    "        if high_volatility >= threshold:\n",
    "            targets.append(0) # long, tp=+0.75% \n",
    "        else:\n",
    "            targets.append(2) # long, tp=+0.4% \n",
    "    elif np.abs(high_volatility) < np.abs(low_volatility):\n",
    "        if low_volatility <= -threshold: \n",
    "            targets.append(1) # short, tp=-0.75%\n",
    "        else:\n",
    "            targets.append(3) # short, tp=-0.4%  \n",
    "    \n",
    "targets.append(None) \n",
    "\n",
    "chart_df['Targets'] = targets \n",
    "chart_df.head(5)"
   ]
  },
  {
   "cell_type": "code",
   "execution_count": 439,
   "id": "c4cacc8a-6d9b-40e2-a048-f0826c6fb282",
   "metadata": {},
   "outputs": [
    {
     "name": "stdout",
     "output_type": "stream",
     "text": [
      "total shape = (10969, 11)\n"
     ]
    }
   ],
   "source": [
    "print(\"total shape = {}\".format(chart_df.shape))"
   ]
  },
  {
   "cell_type": "code",
   "execution_count": 441,
   "id": "e2aec0b9-1879-4491-8b44-e7d4010a5841",
   "metadata": {},
   "outputs": [
    {
     "name": "stderr",
     "output_type": "stream",
     "text": [
      "/usr/local/lib/python3.9/dist-packages/seaborn/_decorators.py:36: FutureWarning: Pass the following variable as a keyword arg: x. From version 0.12, the only valid positional argument will be `data`, and passing other arguments without an explicit keyword will result in an error or misinterpretation.\n",
      "  warnings.warn(\n"
     ]
    },
    {
     "data": {
      "text/plain": [
       "<AxesSubplot:ylabel='count'>"
      ]
     },
     "execution_count": 441,
     "metadata": {},
     "output_type": "execute_result"
    },
    {
     "data": {
      "image/png": "[encoded data removed]",
      "text/plain": [
       "<Figure size 432x288 with 1 Axes>"
      ]
     },
     "metadata": {
      "needs_background": "light"
     },
     "output_type": "display_data"
    }
   ],
   "source": [
    "sns.countplot(chart_df['Targets'].values)"
   ]
  },
  {
   "cell_type": "code",
   "execution_count": 442,
   "id": "2dab346e-3034-4725-adb8-f23136f2fd05",
   "metadata": {},
   "outputs": [
    {
     "name": "stdout",
     "output_type": "stream",
     "text": [
      "(10849, 51)\n"
     ]
    }
   ],
   "source": [
    "chart_df.set_index(pd.DatetimeIndex(chart_df[\"datetime\"]), inplace=True)\n",
    "\n",
    "### addition of chart features ### \n",
    "chart_df[\"bop\"] = chart_df.ta.bop(lookahead=False) \n",
    "chart_df[\"ebsw\"] = chart_df.ta.ebsw(lookahead=False) \n",
    "chart_df[\"cmf\"] = chart_df.ta.cmf(lookahead=False) \n",
    "chart_df[\"vwap\"] = chart_df.ta.vwap(lookahead=False) \n",
    "chart_df[\"rsi/100\"] = chart_df.ta.rsi(lookahead=False) / 100\n",
    "chart_df[\"high/low\"] = chart_df[\"high\"] / chart_df[\"low\"] \n",
    "chart_df[\"close/open\"] = chart_df[\"close\"] / chart_df[\"open\"] \n",
    "chart_df[\"high/open\"] = chart_df[\"high\"] / chart_df[\"open\"] \n",
    "chart_df[\"low/open\"] = chart_df[\"low\"] / chart_df[\"open\"] \n",
    "chart_df[\"hwma\"] = chart_df.ta.hwma(lookahead=False) \n",
    "chart_df[\"linreg\"] = chart_df.ta.linreg(lookahead=False) \n",
    "chart_df[\"hwma/close\"] = chart_df[\"hwma\"] / chart_df[\"close\"] \n",
    "chart_df[\"linreg/close\"] = chart_df[\"linreg\"] / chart_df[\"close\"] \n",
    "\n",
    "\n",
    "\n",
    "### addition of moving average features ### \n",
    "windows = [5, 10, 20, 60, 120]\n",
    "for window in windows:\n",
    "    chart_df[\"close_ma{}\".format(window)] = chart_df[\"close\"].rolling(window).mean() \n",
    "    chart_df[\"close_ma{}_ratio\".format(window)] = (chart_df[\"close\"] - chart_df[\"close_ma{}\".format(window)])/chart_df[\"close_ma{}\".format(window)]    \n",
    "    \n",
    "### addition of recent differenced features ### \n",
    "for l in range(1, 6): \n",
    "    for col in [\"open\", \"high\", \"low\", \"close\", \"volume\", \"vwap\"]:\n",
    "        val = chart_df[col].values \n",
    "        val_ret = [None for _ in range(l)]\n",
    "        for i in range(l, len(val)):\n",
    "            if val[i-l] == 0: \n",
    "                ret = 1 \n",
    "            else:\n",
    "                ret = val[i] / val[i-l]  \n",
    "            val_ret.append(ret) \n",
    "        chart_df[\"{}_change_{}\".format(col, l)] = val_ret\n",
    "        \n",
    "### drop unnecessary columns ### \n",
    "chart_df.drop(columns={\"open\",\"high\",\"low\",\"close\",\"volume\",\"vwap\",\"hwma\",\"linreg\",\n",
    "                       \"close_ma5\",\"close_ma10\",\"close_ma20\", \"close_ma60\",\"close_ma120\"}, inplace=True) \n",
    "\n",
    "\n",
    "chart_df.dropna(inplace=True)\n",
    "\n",
    "print(chart_df.shape)  \n"
   ]
  },
  {
   "cell_type": "code",
   "execution_count": 443,
   "id": "bf006db0-a115-46ad-88be-0acd83a4b35d",
   "metadata": {},
   "outputs": [
    {
     "data": {
      "text/plain": [
       "((8679, 51), (1084, 51), (1086, 51))"
      ]
     },
     "execution_count": 443,
     "metadata": {},
     "output_type": "execute_result"
    }
   ],
   "source": [
    "columns = chart_df.columns \n",
    "\n",
    "train_columns = [] \n",
    "\n",
    "for c in columns:\n",
    "    if c not in [\"years\",\"datetime\",\"Targets\"]: \n",
    "        train_columns.append(c) \n",
    "        \n",
    "        \n",
    "train_idx = int(chart_df.shape[0] * 0.8) \n",
    "val_idx = int(chart_df.shape[0] * 0.1)\n",
    "train_df, val_df, test_df = chart_df.iloc[:train_idx], chart_df.iloc[train_idx:train_idx+val_idx], chart_df.iloc[train_idx+val_idx:]\n",
    "\n",
    "\n",
    "train_df.shape, val_df.shape, test_df.shape"
   ]
  },
  {
   "cell_type": "code",
   "execution_count": 444,
   "id": "b6d4846c-b4dc-4364-9c0c-5ab8a285bf3e",
   "metadata": {},
   "outputs": [
    {
     "data": {
      "text/plain": [
       "array([0.65690282, 0.6176345 , 2.33055854, 2.32805794])"
      ]
     },
     "execution_count": 444,
     "metadata": {},
     "output_type": "execute_result"
    }
   ],
   "source": [
    "chart_df.dropna(inplace=True)\n",
    "X_train = train_df[train_columns] \n",
    "Y_train = train_df[\"Targets\"]\n",
    "\n",
    "X_val = val_df[train_columns] \n",
    "Y_val = val_df[\"Targets\"] \n",
    "\n",
    "X_test = test_df[train_columns] \n",
    "Y_test = test_df[\"Targets\"] \n",
    "\n",
    "\n",
    "class_weights = compute_class_weight(class_weight = \"balanced\",\n",
    "                                     classes = np.unique(Y_train),\n",
    "                                     y = Y_train) \n",
    "\n",
    "class_weights"
   ]
  },
  {
   "cell_type": "code",
   "execution_count": 445,
   "id": "cf68ef86-63a7-4b6e-b0fb-a74f527ed20b",
   "metadata": {},
   "outputs": [
    {
     "name": "stderr",
     "output_type": "stream",
     "text": [
      "/usr/local/lib/python3.9/dist-packages/lightgbm/engine.py:239: UserWarning: 'verbose_eval' argument is deprecated and will be removed in a future release of LightGBM. Pass 'log_evaluation()' callback via 'callbacks' argument instead.\n",
      "  _log_warning(\"'verbose_eval' argument is deprecated and will be removed in a future release of LightGBM. \"\n"
     ]
    },
    {
     "name": "stdout",
     "output_type": "stream",
     "text": [
      "[LightGBM] [Warning] Auto-choosing col-wise multi-threading, the overhead of testing was 0.002712 seconds.\n",
      "You can set `force_col_wise=true` to remove the overhead.\n",
      "[LightGBM] [Info] Total Bins 11526\n",
      "[LightGBM] [Info] Number of data points in the train set: 8679, number of used features: 48\n",
      "[LightGBM] [Info] Using GOSS\n",
      "[LightGBM] [Info] Start training from score -0.966075\n",
      "[LightGBM] [Info] Start training from score -0.904436\n",
      "[LightGBM] [Info] Start training from score -2.232402\n",
      "[LightGBM] [Info] Start training from score -2.231329\n",
      "[100]\tvalid_0's multi_logloss: 1.16361\n",
      "[200]\tvalid_0's multi_logloss: 1.25963\n",
      "[300]\tvalid_0's multi_logloss: 1.35788\n",
      "[400]\tvalid_0's multi_logloss: 1.45831\n",
      "[500]\tvalid_0's multi_logloss: 1.55018\n",
      "[600]\tvalid_0's multi_logloss: 1.63959\n",
      "[700]\tvalid_0's multi_logloss: 1.72351\n",
      "[800]\tvalid_0's multi_logloss: 1.82852\n",
      "[900]\tvalid_0's multi_logloss: 1.93388\n",
      "[1000]\tvalid_0's multi_logloss: 2.03559\n"
     ]
    }
   ],
   "source": [
    "params = {\"objective\":\"multiclass\", \n",
    "          \"metric\":\"multi_logloss\", \n",
    "          \"num_class\":4, \n",
    "          \"boosting\":\"goss\"} \n",
    "\n",
    "train_ds = lgbm.Dataset(X_train, label=Y_train) \n",
    "val_ds = lgbm.Dataset(X_val, label=Y_val) \n",
    "model = lgbm.train(params, train_ds, 1000, val_ds, verbose_eval=100) \n"
   ]
  },
  {
   "cell_type": "code",
   "execution_count": 446,
   "id": "10a6f20e-0e39-4daa-adc2-97cb8f31a130",
   "metadata": {},
   "outputs": [
    {
     "data": {
      "text/plain": [
       "42.7255985267035"
      ]
     },
     "execution_count": 446,
     "metadata": {},
     "output_type": "execute_result"
    }
   ],
   "source": [
    "Y_pred = model.predict(X_test) \n",
    "classes = np.argmax(Y_pred, axis=1) \n",
    "\n",
    "cnt = 0 \n",
    "for i in range(len(classes)):\n",
    "    if classes[i] == Y_test.values[i]:\n",
    "        cnt += 1 \n",
    "        \n",
    "cnt / len(classes) * 100 \n"
   ]
  },
  {
   "cell_type": "code",
   "execution_count": 407,
   "id": "33b829fc-1d76-40c6-9c97-cac24b8f4304",
   "metadata": {},
   "outputs": [
    {
     "data": {
      "image/png": "[encoded data removed]",
      "text/plain": [
       "<Figure size 864x864 with 1 Axes>"
      ]
     },
     "metadata": {
      "needs_background": "light"
     },
     "output_type": "display_data"
    }
   ],
   "source": [
    "ax = lgbm.plot_importance(model)\n",
    "fig = ax.figure \n",
    "fig.set_size_inches(12, 12)"
   ]
  },
  {
   "cell_type": "code",
   "execution_count": 447,
   "id": "d1dec002-6ddf-4992-85a9-059924191363",
   "metadata": {},
   "outputs": [],
   "source": [
    "import joblib\n",
    "#joblib.dump(model, 'lgb.pkl')\n"
   ]
  },
  {
   "cell_type": "code",
   "execution_count": 448,
   "id": "68ed44e0-809a-42cc-b9f1-e31c1eba35e6",
   "metadata": {},
   "outputs": [],
   "source": [
    "lgbm_saved = joblib.load('lgb.pkl')\n"
   ]
  },
  {
   "cell_type": "code",
   "execution_count": 449,
   "id": "e371fefc-872a-4c5c-af43-93f9b529e29e",
   "metadata": {},
   "outputs": [
    {
     "data": {
      "text/plain": [
       "<lightgbm.basic.Booster at 0x7f384fd3af40>"
      ]
     },
     "execution_count": 449,
     "metadata": {},
     "output_type": "execute_result"
    }
   ],
   "source": [
    "lgbm_saved"
   ]
  },
  {
   "cell_type": "code",
   "execution_count": null,
   "id": "19ed4ca3-ef72-4a5e-8e5c-6eccc1c73ab6",
   "metadata": {},
   "outputs": [],
   "source": []
  },
  {
   "cell_type": "code",
   "execution_count": 410,
   "id": "563f4638-7643-420a-b6b5-90166034fc9c",
   "metadata": {},
   "outputs": [
    {
     "data": {
      "text/plain": [
       "array([0, 0, 0, ..., 1, 1, 1])"
      ]
     },
     "execution_count": 410,
     "metadata": {},
     "output_type": "execute_result"
    }
   ],
   "source": [
    "classes = np.argmax(Y_pred, axis=1) \n",
    "\n",
    "classes"
   ]
  },
  {
   "cell_type": "code",
   "execution_count": 450,
   "id": "3fb81c7b-a392-4e44-a53c-66c01883bdaa",
   "metadata": {},
   "outputs": [
    {
     "data": {
      "text/plain": [
       "42.7255985267035"
      ]
     },
     "execution_count": 450,
     "metadata": {},
     "output_type": "execute_result"
    }
   ],
   "source": [
    "cnt = 0 \n",
    "for i in range(len(classes)):\n",
    "    if classes[i] == Y_test.values[i]:\n",
    "        cnt += 1 \n",
    "        \n",
    "cnt / len(classes) * 100 "
   ]
  },
  {
   "cell_type": "code",
   "execution_count": 414,
   "id": "1f6df9c7-3c20-4210-bbb7-13f5dfa18c5d",
   "metadata": {},
   "outputs": [
    {
     "data": {
      "text/plain": [
       "25.59852670349908"
      ]
     },
     "execution_count": 414,
     "metadata": {},
     "output_type": "execute_result"
    }
   ],
   "source": [
    "rand_agent = [randint(0,3) for _ in range(len(Y_test))] \n",
    "\n",
    "cnt = 0 \n",
    "for i in range(len(rand_agent)):\n",
    "    if rand_agent[i] == Y_test.values[i]:\n",
    "        cnt += 1 \n",
    "        \n",
    "cnt / len(Y_pred) * 100 "
   ]
  },
  {
   "cell_type": "code",
   "execution_count": 415,
   "id": "86773b92-49e4-462d-b0c9-436ebdf08223",
   "metadata": {},
   "outputs": [
    {
     "data": {
      "text/plain": [
       "40.79189686924494"
      ]
     },
     "execution_count": 415,
     "metadata": {},
     "output_type": "execute_result"
    }
   ],
   "source": [
    "all_long = [0 for _ in range(len(Y_test))] \n",
    "cnt = 0 \n",
    "for i in range(len(all_long)):\n",
    "    if all_long[i] == Y_test.values[i]:\n",
    "        cnt += 1 \n",
    "        \n",
    "cnt / len(Y_pred) * 100 "
   ]
  },
  {
   "cell_type": "code",
   "execution_count": 416,
   "id": "f1b81276-00fe-4206-b741-c4ef66695f16",
   "metadata": {},
   "outputs": [
    {
     "data": {
      "text/plain": [
       "39.50276243093923"
      ]
     },
     "execution_count": 416,
     "metadata": {},
     "output_type": "execute_result"
    }
   ],
   "source": [
    "all_short = [1 for _ in range(len(Y_test))] \n",
    "cnt = 0 \n",
    "for i in range(len(all_short)):\n",
    "    if all_short[i] == Y_test.values[i]:\n",
    "        cnt += 1 \n",
    "        \n",
    "cnt / len(Y_pred) * 100 "
   ]
  },
  {
   "cell_type": "code",
   "execution_count": 417,
   "id": "5f95cc9e-3c4f-40b4-8195-76c44cb5c16f",
   "metadata": {},
   "outputs": [
    {
     "data": {
      "text/plain": [
       "8.931860036832411"
      ]
     },
     "execution_count": 417,
     "metadata": {},
     "output_type": "execute_result"
    }
   ],
   "source": [
    "all_long = [2 for _ in range(len(Y_test))] \n",
    "cnt = 0 \n",
    "for i in range(len(all_long)):\n",
    "    if all_long[i] == Y_test.values[i]:\n",
    "        cnt += 1 \n",
    "\n",
    "cnt / len(all_long) * 100"
   ]
  },
  {
   "cell_type": "code",
   "execution_count": 418,
   "id": "2bf182a5-ea5b-4378-b0da-ff34da297745",
   "metadata": {},
   "outputs": [
    {
     "data": {
      "text/plain": [
       "10.773480662983426"
      ]
     },
     "execution_count": 418,
     "metadata": {},
     "output_type": "execute_result"
    }
   ],
   "source": [
    "all_short = [3 for _ in range(len(Y_test))] \n",
    "cnt = 0 \n",
    "for i in range(len(all_short)):\n",
    "    if all_short[i] == Y_test.values[i]:\n",
    "        cnt += 1 \n",
    "\n",
    "cnt / len(all_short) * 100"
   ]
  },
  {
   "cell_type": "code",
   "execution_count": null,
   "id": "288aa431-340d-47f0-8c51-28d76cd3ca64",
   "metadata": {},
   "outputs": [],
   "source": []
  },
  {
   "cell_type": "code",
   "execution_count": null,
   "id": "d9fdad29-a9a2-4a97-bf7c-cd040af5f7aa",
   "metadata": {},
   "outputs": [],
   "source": []
  }
 ],
 "metadata": {
  "kernelspec": {
   "display_name": "Python 3 (ipykernel)",
   "language": "python",
   "name": "python3"
  },
  "language_info": {
   "codemirror_mode": {
    "name": "ipython",
    "version": 3
   },
   "file_extension": ".py",
   "mimetype": "text/x-python",
   "name": "python",
   "nbconvert_exporter": "python",
   "pygments_lexer": "ipython3",
   "version": "3.9.13"
  }
 },
 "nbformat": 4,
 "nbformat_minor": 5
}
