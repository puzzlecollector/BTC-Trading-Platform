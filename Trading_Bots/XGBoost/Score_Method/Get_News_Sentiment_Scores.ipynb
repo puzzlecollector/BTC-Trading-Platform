{
 "cells": [
  {
   "cell_type": "code",
   "execution_count": 1,
   "id": "61c16e97-e20f-4569-8073-0e8589b4b0c4",
   "metadata": {},
   "outputs": [],
   "source": [
    "import numpy as np \n",
    "import pandas as pd \n",
    "import os \n",
    "import pickle\n",
    "import json \n",
    "import math \n",
    "from transformers import (\n",
    "    AdamW, \n",
    "    AutoConfig, \n",
    "    AutoModel, \n",
    "    AutoModelForSequenceClassification,\n",
    "    AutoTokenizer, \n",
    "    AlbertTokenizer,\n",
    "    get_linear_schedule_with_warmup\n",
    ")\n",
    "import torch \n",
    "import torch.nn as nn \n",
    "import torch.nn.functional as F \n",
    "from tqdm.auto import tqdm\n",
    "import ccxt\n",
    "import logging\n",
    "import re"
   ]
  },
  {
   "cell_type": "code",
   "execution_count": 2,
   "id": "f2825da3-4846-4f79-8144-e728bf2a64a8",
   "metadata": {},
   "outputs": [],
   "source": [
    "def set_global_logging_level(level=logging.ERROR, prefices=[\"\"]):\n",
    "    prefix_re = re.compile(fr'^(?:{ \"|\".join(prefices) })')\n",
    "    for name in logging.root.manager.loggerDict:\n",
    "        if re.match(prefix_re, name):\n",
    "            logging.getLogger(name).setLevel(level)\n",
    "\n",
    "set_global_logging_level(logging.ERROR, [\"transformers\", \"nlp\", \"torch\", \"tensorflow\", \"tensorboard\", \"wandb\"]) "
   ]
  },
  {
   "cell_type": "code",
   "execution_count": 6,
   "id": "d73caebe-0306-426e-878a-dd94cc4e8e66",
   "metadata": {},
   "outputs": [
    {
     "name": "stdout",
     "output_type": "stream",
     "text": [
      "\n"
     ]
    }
   ],
   "source": [
    "tokenizer = AlbertTokenizer.from_pretrained(\"totoro4007/cryptodeberta-base-all-finetuned\") \n",
    "model = AutoModelForSequenceClassification.from_pretrained(\"totoro4007/cryptodeberta-base-all-finetuned\") \n",
    "model.cuda() \n",
    "model.eval() \n",
    "print()"
   ]
  },
  {
   "cell_type": "code",
   "execution_count": 7,
   "id": "5630a983-2ac5-434e-9f0d-7bac0b6760ec",
   "metadata": {},
   "outputs": [],
   "source": [
    "# read the most recent news dataframe \n",
    "news_df = pd.read_csv(\"full_news_october_1st.csv\") "
   ]
  },
  {
   "cell_type": "code",
   "execution_count": 8,
   "id": "8ff45b70-09ea-4496-b811-3781109eddeb",
   "metadata": {},
   "outputs": [
    {
     "data": {
      "application/vnd.jupyter.widget-view+json": {
       "model_id": "f075febdb1384b23b694c104381a1158",
       "version_major": 2,
       "version_minor": 0
      },
      "text/plain": [
       "calculating news sentiment scores:   0%|          | 0/104826 [00:00<?, ?it/s]"
      ]
     },
     "metadata": {},
     "output_type": "display_data"
    }
   ],
   "source": [
    "device = torch.device(\"cuda\") \n",
    "\n",
    "news_sentiment_dict = {} \n",
    "\n",
    "titles = news_df[\"titles\"].values \n",
    "contents = news_df[\"contents\"].values \n",
    "years = news_df[\"year\"].values \n",
    "months = news_df[\"month\"].values \n",
    "days = news_df[\"day\"].values \n",
    "hours = news_df[\"hour\"].values \n",
    "\n",
    "m = nn.Softmax(dim=1) \n",
    "\n",
    "for i in range(len(years)):\n",
    "    datestr = str(years[i]) + '/' + str(months[i]) + '/' + str(days[i]) + '/' + str(hours[i]) \n",
    "    news_sentiment_dict[datestr] = [] \n",
    "\n",
    "for i in tqdm(range(len(years)), desc=\"calculating news sentiment scores\", position=0, leave=True):\n",
    "    datestr = str(years[i]) + '/' + str(months[i]) + '/' + str(days[i]) + '/' + str(hours[i]) \n",
    "    title = str(titles[i]) \n",
    "    content = str(contents[i]) \n",
    "    inputs = tokenizer(title, content, return_tensors=\"pt\", max_length=512, padding=\"max_length\", truncation=True).to(device)\n",
    "    \n",
    "    with torch.no_grad():\n",
    "        logits = model(**inputs).logits\n",
    "    probs = m(logits)\n",
    "    probs = probs.detach().cpu().numpy().flatten() \n",
    "    \n",
    "    news_sentiment_dict[datestr].append(probs) "
   ]
  },
  {
   "cell_type": "code",
   "execution_count": 9,
   "id": "17864254-7da9-4be1-a254-7460c37eac01",
   "metadata": {},
   "outputs": [],
   "source": [
    "import pickle\n",
    "\n",
    "with open('deberta_news_sentiment_scores.pickle', 'wb') as handle:\n",
    "    pickle.dump(news_sentiment_dict, handle)"
   ]
  },
  {
   "cell_type": "code",
   "execution_count": 10,
   "id": "5f14785d-8458-46a9-971d-fdbaf21f2eb8",
   "metadata": {},
   "outputs": [
    {
     "name": "stdout",
     "output_type": "stream",
     "text": [
      "done!\n"
     ]
    }
   ],
   "source": [
    "print(\"done!\") "
   ]
  },
  {
   "cell_type": "code",
   "execution_count": null,
   "id": "e1de8709-b557-4610-8805-3c96c92769e8",
   "metadata": {},
   "outputs": [],
   "source": []
  }
 ],
 "metadata": {
  "kernelspec": {
   "display_name": "Python 3 (ipykernel)",
   "language": "python",
   "name": "python3"
  },
  "language_info": {
   "codemirror_mode": {
    "name": "ipython",
    "version": 3
   },
   "file_extension": ".py",
   "mimetype": "text/x-python",
   "name": "python",
   "nbconvert_exporter": "python",
   "pygments_lexer": "ipython3",
   "version": "3.8.12"
  }
 },
 "nbformat": 4,
 "nbformat_minor": 5
}
