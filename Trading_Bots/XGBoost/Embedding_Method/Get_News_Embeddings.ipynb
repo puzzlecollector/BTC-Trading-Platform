{
 "cells": [
  {
   "cell_type": "code",
   "execution_count": 13,
   "id": "50e6aaf8-f794-4583-9432-623efbc4b89f",
   "metadata": {},
   "outputs": [],
   "source": [
    "import numpy as np \n",
    "import pandas as pd \n",
    "import os \n",
    "import pickle\n",
    "import json \n",
    "import math \n",
    "from transformers import (\n",
    "    AdamW, \n",
    "    AutoConfig, \n",
    "    AutoModel, \n",
    "    AutoModelForSequenceClassification,\n",
    "    AutoTokenizer, \n",
    "    AlbertTokenizer,\n",
    "    get_linear_schedule_with_warmup\n",
    ")\n",
    "import torch \n",
    "import torch.nn as nn \n",
    "import torch.nn.functional as F \n",
    "from tqdm.auto import tqdm\n",
    "import ccxt\n",
    "import logging\n",
    "import re"
   ]
  },
  {
   "cell_type": "code",
   "execution_count": 14,
   "id": "483c1739-9acb-43b5-926e-d625cf4e4255",
   "metadata": {},
   "outputs": [],
   "source": [
    "def set_global_logging_level(level=logging.ERROR, prefices=[\"\"]):\n",
    "    prefix_re = re.compile(fr'^(?:{ \"|\".join(prefices) })')\n",
    "    for name in logging.root.manager.loggerDict:\n",
    "        if re.match(prefix_re, name):\n",
    "            logging.getLogger(name).setLevel(level)\n",
    "\n",
    "set_global_logging_level(logging.ERROR, [\"transformers\", \"nlp\", \"torch\", \"tensorflow\", \"tensorboard\", \"wandb\"]) "
   ]
  },
  {
   "cell_type": "code",
   "execution_count": 15,
   "id": "6228d695-69dd-4df9-bdbe-f29d66714a4f",
   "metadata": {},
   "outputs": [
    {
     "name": "stdout",
     "output_type": "stream",
     "text": [
      "\n"
     ]
    }
   ],
   "source": [
    "tokenizer = AlbertTokenizer.from_pretrained(\"totoro4007/cryptodeberta-base-all-finetuned\") \n",
    "model = AutoModel.from_pretrained(\"totoro4007/cryptodeberta-base-all-finetuned\") \n",
    "model.cuda() \n",
    "model.eval() \n",
    "print()"
   ]
  },
  {
   "cell_type": "code",
   "execution_count": 16,
   "id": "ef0aada7-2a7a-4586-95f5-a3c7764d15b5",
   "metadata": {},
   "outputs": [],
   "source": [
    "# read the most recent news dataframe \n",
    "news_df = pd.read_csv(\"full_news_october_1st.csv\") "
   ]
  },
  {
   "cell_type": "code",
   "execution_count": 17,
   "id": "b9ed5b0f-5a85-4838-91a4-7519bc8ef0ed",
   "metadata": {},
   "outputs": [
    {
     "data": {
      "application/vnd.jupyter.widget-view+json": {
       "model_id": "cea581714b7c4177b752823729c3f9ee",
       "version_major": 2,
       "version_minor": 0
      },
      "text/plain": [
       "calculating news embedding vectors...:   0%|          | 0/104826 [00:00<?, ?it/s]"
      ]
     },
     "metadata": {},
     "output_type": "display_data"
    }
   ],
   "source": [
    "device = torch.device(\"cuda\") \n",
    "\n",
    "news_sentiment_dict = {} \n",
    "\n",
    "titles = news_df[\"titles\"].values \n",
    "contents = news_df[\"contents\"].values \n",
    "years = news_df[\"year\"].values \n",
    "months = news_df[\"month\"].values \n",
    "days = news_df[\"day\"].values \n",
    "hours = news_df[\"hour\"].values \n",
    "\n",
    "softmax_func = nn.Softmax(dim=1) \n",
    "\n",
    "for i in range(len(years)):\n",
    "    datestr = str(years[i]) + '/' + str(months[i]) + '/' + str(days[i]) + '/' + str(hours[i]) \n",
    "    news_sentiment_dict[datestr] = [] \n",
    "\n",
    "for i in tqdm(range(len(years)), desc=\"calculating news embedding vectors...\", position=0, leave=True):\n",
    "    datestr = str(years[i]) + '/' + str(months[i]) + '/' + str(days[i]) + '/' + str(hours[i]) \n",
    "    title = str(titles[i]) \n",
    "    content = str(contents[i]) \n",
    "    inputs = tokenizer(title, content, return_tensors=\"pt\", max_length=512, padding=\"max_length\", truncation=True).to(device) \n",
    "    with torch.no_grad():\n",
    "        embedding = model(**inputs)[0][:,0] # CLS pooling \n",
    "    embedding = embedding.detach().cpu().numpy() \n",
    "    news_sentiment_dict[datestr].append(embedding) \n"
   ]
  },
  {
   "cell_type": "code",
   "execution_count": 18,
   "id": "1b02ba88-b448-4a27-a3dd-e0febe121c7e",
   "metadata": {},
   "outputs": [],
   "source": [
    "import pickle\n",
    "\n",
    "with open('deberta_news_embeddings.pickle', 'wb') as handle:\n",
    "    pickle.dump(news_sentiment_dict, handle)"
   ]
  },
  {
   "cell_type": "code",
   "execution_count": 19,
   "id": "56e56920-733a-4c25-bd85-b108fe1a5d62",
   "metadata": {},
   "outputs": [
    {
     "name": "stdout",
     "output_type": "stream",
     "text": [
      "done!\n"
     ]
    }
   ],
   "source": [
    "print(\"done!\") "
   ]
  },
  {
   "cell_type": "code",
   "execution_count": null,
   "id": "136a4d21-8b8b-451a-81fc-62ca6ba088a6",
   "metadata": {},
   "outputs": [],
   "source": []
  }
 ],
 "metadata": {
  "kernelspec": {
   "display_name": "Python 3 (ipykernel)",
   "language": "python",
   "name": "python3"
  },
  "language_info": {
   "codemirror_mode": {
    "name": "ipython",
    "version": 3
   },
   "file_extension": ".py",
   "mimetype": "text/x-python",
   "name": "python",
   "nbconvert_exporter": "python",
   "pygments_lexer": "ipython3",
   "version": "3.8.12"
  }
 },
 "nbformat": 4,
 "nbformat_minor": 5
}
