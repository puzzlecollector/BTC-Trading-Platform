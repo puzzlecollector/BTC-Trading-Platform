{
 "cells": [
  {
   "cell_type": "code",
   "execution_count": 2,
   "id": "83eab5f7-fa30-4c48-90d5-fc5e860b225b",
   "metadata": {},
   "outputs": [
    {
     "name": "stderr",
     "output_type": "stream",
     "text": [
      "/opt/conda/lib/python3.8/site-packages/transformers/generation_utils.py:24: FutureWarning: Importing `GenerationMixin` from `src/transformers/generation_utils.py` is deprecated and will be removed in Transformers v5. Import as `from transformers import GenerationMixin` instead.\n",
      "  warnings.warn(\n"
     ]
    }
   ],
   "source": [
    "import numpy as np \n",
    "import os \n",
    "import pandas as pd \n",
    "import torch \n",
    "import torch.nn as nn \n",
    "from torch.utils.data import Dataset, TensorDataset, DataLoader, RandomSampler, SequentialSampler \n",
    "from transformers import * \n",
    "import seaborn as sns \n",
    "import matplotlib.pyplot as plt\n",
    "from tqdm.auto import tqdm"
   ]
  },
  {
   "cell_type": "code",
   "execution_count": 2,
   "id": "948d5a06-fdfc-42e4-9f84-564957010fd1",
   "metadata": {},
   "outputs": [],
   "source": [
    "train = pd.read_csv(\"train.csv\") \n",
    "test = pd.read_csv(\"test.csv\") "
   ]
  },
  {
   "cell_type": "code",
   "execution_count": 3,
   "id": "541fdfa0-e106-4f77-a150-68b5e4444906",
   "metadata": {},
   "outputs": [
    {
     "data": {
      "text/html": [
       "<div>\n",
       "<style scoped>\n",
       "    .dataframe tbody tr th:only-of-type {\n",
       "        vertical-align: middle;\n",
       "    }\n",
       "\n",
       "    .dataframe tbody tr th {\n",
       "        vertical-align: top;\n",
       "    }\n",
       "\n",
       "    .dataframe thead th {\n",
       "        text-align: right;\n",
       "    }\n",
       "</style>\n",
       "<table border=\"1\" class=\"dataframe\">\n",
       "  <thead>\n",
       "    <tr style=\"text-align: right;\">\n",
       "      <th></th>\n",
       "      <th>id</th>\n",
       "      <th>text</th>\n",
       "      <th>summary</th>\n",
       "    </tr>\n",
       "  </thead>\n",
       "  <tbody>\n",
       "    <tr>\n",
       "      <th>0</th>\n",
       "      <td>REPORT-news_r-00007-00001</td>\n",
       "      <td>보수진영 사분오열 속 ‘국민통합연대’ 띄운 비박계 크리스마스를 앞둔 지난 23일 오...</td>\n",
       "      <td>국민통합연대가 연 창립대회에 자유한국당 홍 전 대표 등 의원 20여 명을 포함한 5...</td>\n",
       "    </tr>\n",
       "    <tr>\n",
       "      <th>1</th>\n",
       "      <td>REPORT-news_r-00018-00001</td>\n",
       "      <td>가난 속에서 맨손으로 혼자 창업해 30대 중반에 코스닥 상장까지 일궈낸 이가 있다....</td>\n",
       "      <td>아이엘사이언스 대표 송 씨는 발광다이오드 조명용 실리콘 렌즈를 세계 최초로 개발하여...</td>\n",
       "    </tr>\n",
       "    <tr>\n",
       "      <th>2</th>\n",
       "      <td>REPORT-news_r-00020-00002</td>\n",
       "      <td>SK텔레콤은 ‘T끼리 온가족 할인’ 요금제로, 가족 구성원의 가입 합산 기간이...</td>\n",
       "      <td>SK텔레콤은 T끼리 온가족 할인으로 요금을 깎아주거나 30년 이상 가입자를 위해 호...</td>\n",
       "    </tr>\n",
       "    <tr>\n",
       "      <th>3</th>\n",
       "      <td>REPORT-news_r-00024-00001</td>\n",
       "      <td>“박스 테이프는 어디 갔죠?” 1일 오전 서울 중구의 한 대형마트.\\n  장을 본 ...</td>\n",
       "      <td>대형마트 3사가 장바구니 사용을 독려하고 플라스틱 폐기물을 줄이기 위해 포장용 테이...</td>\n",
       "    </tr>\n",
       "    <tr>\n",
       "      <th>4</th>\n",
       "      <td>REPORT-news_r-00029-00001</td>\n",
       "      <td>현대차그룹 고급 브랜드 제네시스의 첫 스포츠유틸리티차량(SUV), GV80이 드디어...</td>\n",
       "      <td>현대차그룹은 제네시스를 이끌 GV80의 내·외관 사진을 공개하며 이달 중 출시한다고...</td>\n",
       "    </tr>\n",
       "    <tr>\n",
       "      <th>...</th>\n",
       "      <td>...</td>\n",
       "      <td>...</td>\n",
       "      <td>...</td>\n",
       "    </tr>\n",
       "    <tr>\n",
       "      <th>40395</th>\n",
       "      <td>REPORT-speech-16815-00004</td>\n",
       "      <td>이것들이 잘할 수 있도록 저희들이 워크숍을 예정하는데 한국고용정보원하고 한국청소년정...</td>\n",
       "      <td>전국기능경기대회는 심각한 코로나 상황으로 인해 방역에 특히 신경을 써서 추진하고자 한다.</td>\n",
       "    </tr>\n",
       "    <tr>\n",
       "      <th>40396</th>\n",
       "      <td>REPORT-speech-16815-00005</td>\n",
       "      <td>그래서 10~12월간 제조업체 등을 대상으로 해서 관련된 자율진단을 하고 필요하면 ...</td>\n",
       "      <td>이륜차 사고예방 시범사업은 이동시간 논란이 많은 배달업 종사원들에 대해 안전 배달시...</td>\n",
       "    </tr>\n",
       "    <tr>\n",
       "      <th>40397</th>\n",
       "      <td>REPORT-speech-16817-00002</td>\n",
       "      <td>마지막으로 10월 4일에는 슈타인 마이어 독일 연방정부 대통령을 예방합니다. 이 자...</td>\n",
       "      <td>강원도 철원군에서 2021년 통일로가요 결선 경연을 개최하며 결선에 진출한 12개 ...</td>\n",
       "    </tr>\n",
       "    <tr>\n",
       "      <th>40398</th>\n",
       "      <td>REPORT-speech-16819-00001</td>\n",
       "      <td>안녕하십니까? 국민권익위원회 대변인 허재우입니다. 9월 넷째 주 정례브리핑입니다. ...</td>\n",
       "      <td>국민권익위는 경기도 소재 21개 중·고등학교를 표본으로 실태조사를 한 결과 저소득층...</td>\n",
       "    </tr>\n",
       "    <tr>\n",
       "      <th>40399</th>\n",
       "      <td>REPORT-speech-16820-00001</td>\n",
       "      <td>안녕하십니까? 과기정통부 대변인실 김세준입니다. 9월 27일 월요일 정례브리핑을 시...</td>\n",
       "      <td>국립중앙과학관은 국민이 직접 만든 영상 콘텐츠, 국민들과 과학관이 함께 만드는 영상...</td>\n",
       "    </tr>\n",
       "  </tbody>\n",
       "</table>\n",
       "<p>40400 rows × 3 columns</p>\n",
       "</div>"
      ],
      "text/plain": [
       "                              id  \\\n",
       "0      REPORT-news_r-00007-00001   \n",
       "1      REPORT-news_r-00018-00001   \n",
       "2      REPORT-news_r-00020-00002   \n",
       "3      REPORT-news_r-00024-00001   \n",
       "4      REPORT-news_r-00029-00001   \n",
       "...                          ...   \n",
       "40395  REPORT-speech-16815-00004   \n",
       "40396  REPORT-speech-16815-00005   \n",
       "40397  REPORT-speech-16817-00002   \n",
       "40398  REPORT-speech-16819-00001   \n",
       "40399  REPORT-speech-16820-00001   \n",
       "\n",
       "                                                    text  \\\n",
       "0      보수진영 사분오열 속 ‘국민통합연대’ 띄운 비박계 크리스마스를 앞둔 지난 23일 오...   \n",
       "1      가난 속에서 맨손으로 혼자 창업해 30대 중반에 코스닥 상장까지 일궈낸 이가 있다....   \n",
       "2         SK텔레콤은 ‘T끼리 온가족 할인’ 요금제로, 가족 구성원의 가입 합산 기간이...   \n",
       "3      “박스 테이프는 어디 갔죠?” 1일 오전 서울 중구의 한 대형마트.\\n  장을 본 ...   \n",
       "4      현대차그룹 고급 브랜드 제네시스의 첫 스포츠유틸리티차량(SUV), GV80이 드디어...   \n",
       "...                                                  ...   \n",
       "40395  이것들이 잘할 수 있도록 저희들이 워크숍을 예정하는데 한국고용정보원하고 한국청소년정...   \n",
       "40396  그래서 10~12월간 제조업체 등을 대상으로 해서 관련된 자율진단을 하고 필요하면 ...   \n",
       "40397  마지막으로 10월 4일에는 슈타인 마이어 독일 연방정부 대통령을 예방합니다. 이 자...   \n",
       "40398  안녕하십니까? 국민권익위원회 대변인 허재우입니다. 9월 넷째 주 정례브리핑입니다. ...   \n",
       "40399  안녕하십니까? 과기정통부 대변인실 김세준입니다. 9월 27일 월요일 정례브리핑을 시...   \n",
       "\n",
       "                                                 summary  \n",
       "0      국민통합연대가 연 창립대회에 자유한국당 홍 전 대표 등 의원 20여 명을 포함한 5...  \n",
       "1      아이엘사이언스 대표 송 씨는 발광다이오드 조명용 실리콘 렌즈를 세계 최초로 개발하여...  \n",
       "2      SK텔레콤은 T끼리 온가족 할인으로 요금을 깎아주거나 30년 이상 가입자를 위해 호...  \n",
       "3      대형마트 3사가 장바구니 사용을 독려하고 플라스틱 폐기물을 줄이기 위해 포장용 테이...  \n",
       "4      현대차그룹은 제네시스를 이끌 GV80의 내·외관 사진을 공개하며 이달 중 출시한다고...  \n",
       "...                                                  ...  \n",
       "40395  전국기능경기대회는 심각한 코로나 상황으로 인해 방역에 특히 신경을 써서 추진하고자 한다.  \n",
       "40396  이륜차 사고예방 시범사업은 이동시간 논란이 많은 배달업 종사원들에 대해 안전 배달시...  \n",
       "40397  강원도 철원군에서 2021년 통일로가요 결선 경연을 개최하며 결선에 진출한 12개 ...  \n",
       "40398  국민권익위는 경기도 소재 21개 중·고등학교를 표본으로 실태조사를 한 결과 저소득층...  \n",
       "40399  국립중앙과학관은 국민이 직접 만든 영상 콘텐츠, 국민들과 과학관이 함께 만드는 영상...  \n",
       "\n",
       "[40400 rows x 3 columns]"
      ]
     },
     "execution_count": 3,
     "metadata": {},
     "output_type": "execute_result"
    }
   ],
   "source": [
    "train"
   ]
  },
  {
   "cell_type": "code",
   "execution_count": 4,
   "id": "6e351958-b150-49ad-8262-e7ade98d8eb9",
   "metadata": {},
   "outputs": [
    {
     "data": {
      "text/html": [
       "<div>\n",
       "<style scoped>\n",
       "    .dataframe tbody tr th:only-of-type {\n",
       "        vertical-align: middle;\n",
       "    }\n",
       "\n",
       "    .dataframe tbody tr th {\n",
       "        vertical-align: top;\n",
       "    }\n",
       "\n",
       "    .dataframe thead th {\n",
       "        text-align: right;\n",
       "    }\n",
       "</style>\n",
       "<table border=\"1\" class=\"dataframe\">\n",
       "  <thead>\n",
       "    <tr style=\"text-align: right;\">\n",
       "      <th></th>\n",
       "      <th>id</th>\n",
       "      <th>text</th>\n",
       "    </tr>\n",
       "  </thead>\n",
       "  <tbody>\n",
       "    <tr>\n",
       "      <th>0</th>\n",
       "      <td>xAqIHdvEZG</td>\n",
       "      <td>‘서울시 성평등 어린이사전’ 보니 “여자는 얌전해야 해” “남자니까 씩씩해야지” “...</td>\n",
       "    </tr>\n",
       "    <tr>\n",
       "      <th>1</th>\n",
       "      <td>zWSR9EQhrG</td>\n",
       "      <td>정부가 신종 코로나바이러스 감염증(코로나19) 여파로 직격탄을 맞은 사회적 취약계층...</td>\n",
       "    </tr>\n",
       "    <tr>\n",
       "      <th>2</th>\n",
       "      <td>FdCwnykWkd</td>\n",
       "      <td>창원 경상대병원에서 간호사들이 의사로부터 수년간 폭언과 폭행을 당했다는 진정이 고용...</td>\n",
       "    </tr>\n",
       "    <tr>\n",
       "      <th>3</th>\n",
       "      <td>vBwAKwGXHz</td>\n",
       "      <td>또한, 열량에 있어서도 오렌지 주스의 평균 열량은 87.41kcal, 혼합 주스의 ...</td>\n",
       "    </tr>\n",
       "    <tr>\n",
       "      <th>4</th>\n",
       "      <td>dDkXHmhxN9</td>\n",
       "      <td>이재민 자녀는 아니더라도 심리적인 요인 등으로 안전한 학습장소에서 공부를 희망하는 ...</td>\n",
       "    </tr>\n",
       "    <tr>\n",
       "      <th>...</th>\n",
       "      <td>...</td>\n",
       "      <td>...</td>\n",
       "    </tr>\n",
       "    <tr>\n",
       "      <th>495</th>\n",
       "      <td>UZt8k9n0Z6</td>\n",
       "      <td>또 접근매체가 분실 또는 도난당한 경우는 서면으로 신고하게 하거나 아니면 직접 대면...</td>\n",
       "    </tr>\n",
       "    <tr>\n",
       "      <th>496</th>\n",
       "      <td>Lg1fQG5DpJ</td>\n",
       "      <td>18세 이하의 감염경로에 대해서 말씀드리겠습니다. 12세 이하의 어린이의 경우 부모...</td>\n",
       "    </tr>\n",
       "    <tr>\n",
       "      <th>497</th>\n",
       "      <td>UHZEucimy0</td>\n",
       "      <td>김현미 위원] \"그런데 저는 이렇게 조기 집행을 하는 이 방식 자체가 실제적으로 경...</td>\n",
       "    </tr>\n",
       "    <tr>\n",
       "      <th>498</th>\n",
       "      <td>hH1fi1JTUi</td>\n",
       "      <td>(전진석 학생지원국장) 이 부분은 우리 평가원에서 답변해주시겠습니까?  &lt;답변&gt; (...</td>\n",
       "    </tr>\n",
       "    <tr>\n",
       "      <th>499</th>\n",
       "      <td>A6x0T74ORS</td>\n",
       "      <td>극장가에 늦봄이 오는 걸까.\\n  코로나 악재 속에 잔뜩 움츠렸던 영화관들이 지난...</td>\n",
       "    </tr>\n",
       "  </tbody>\n",
       "</table>\n",
       "<p>500 rows × 2 columns</p>\n",
       "</div>"
      ],
      "text/plain": [
       "             id                                               text\n",
       "0    xAqIHdvEZG  ‘서울시 성평등 어린이사전’ 보니 “여자는 얌전해야 해” “남자니까 씩씩해야지” “...\n",
       "1    zWSR9EQhrG  정부가 신종 코로나바이러스 감염증(코로나19) 여파로 직격탄을 맞은 사회적 취약계층...\n",
       "2    FdCwnykWkd  창원 경상대병원에서 간호사들이 의사로부터 수년간 폭언과 폭행을 당했다는 진정이 고용...\n",
       "3    vBwAKwGXHz  또한, 열량에 있어서도 오렌지 주스의 평균 열량은 87.41kcal, 혼합 주스의 ...\n",
       "4    dDkXHmhxN9  이재민 자녀는 아니더라도 심리적인 요인 등으로 안전한 학습장소에서 공부를 희망하는 ...\n",
       "..          ...                                                ...\n",
       "495  UZt8k9n0Z6  또 접근매체가 분실 또는 도난당한 경우는 서면으로 신고하게 하거나 아니면 직접 대면...\n",
       "496  Lg1fQG5DpJ  18세 이하의 감염경로에 대해서 말씀드리겠습니다. 12세 이하의 어린이의 경우 부모...\n",
       "497  UHZEucimy0  김현미 위원] \"그런데 저는 이렇게 조기 집행을 하는 이 방식 자체가 실제적으로 경...\n",
       "498  hH1fi1JTUi  (전진석 학생지원국장) 이 부분은 우리 평가원에서 답변해주시겠습니까?  <답변> (...\n",
       "499  A6x0T74ORS   극장가에 늦봄이 오는 걸까.\\n  코로나 악재 속에 잔뜩 움츠렸던 영화관들이 지난...\n",
       "\n",
       "[500 rows x 2 columns]"
      ]
     },
     "execution_count": 4,
     "metadata": {},
     "output_type": "execute_result"
    }
   ],
   "source": [
    "test"
   ]
  },
  {
   "cell_type": "code",
   "execution_count": 12,
   "id": "cab39466-7e4f-4a0a-9d24-e8fc62cc11dd",
   "metadata": {},
   "outputs": [
    {
     "name": "stderr",
     "output_type": "stream",
     "text": [
      "Could not locate the tokenizer configuration file, will try to use the model config instead.\n"
     ]
    },
    {
     "data": {
      "application/vnd.jupyter.widget-view+json": {
       "model_id": "43fc8d5f40b748368e093d255e441ab9",
       "version_major": 2,
       "version_minor": 0
      },
      "text/plain": [
       "Downloading (…)lve/main/config.json:   0%|          | 0.00/1.36k [00:00<?, ?B/s]"
      ]
     },
     "metadata": {},
     "output_type": "display_data"
    },
    {
     "name": "stderr",
     "output_type": "stream",
     "text": [
      "loading configuration file config.json from cache at /root/.cache/huggingface/hub/models--gogamza--kobart-base-v2/snapshots/f9f2ec35d3c32a1ecc7a3281f9626b7ec1913fed/config.json\n",
      "You passed along `num_labels=3` with an incompatible id to label map: {'0': 'NEGATIVE', '1': 'POSITIVE'}. The number of labels wil be overwritten to 2.\n",
      "Model config BartConfig {\n",
      "  \"_name_or_path\": \"gogamza/kobart-base-v2\",\n",
      "  \"activation_dropout\": 0.0,\n",
      "  \"activation_function\": \"gelu\",\n",
      "  \"add_bias_logits\": false,\n",
      "  \"add_final_layer_norm\": false,\n",
      "  \"architectures\": [\n",
      "    \"BartModel\"\n",
      "  ],\n",
      "  \"attention_dropout\": 0.0,\n",
      "  \"author\": \"Heewon Jeon(madjakarta@gmail.com)\",\n",
      "  \"bos_token_id\": 1,\n",
      "  \"classif_dropout\": 0.1,\n",
      "  \"classifier_dropout\": 0.1,\n",
      "  \"d_model\": 768,\n",
      "  \"decoder_attention_heads\": 16,\n",
      "  \"decoder_ffn_dim\": 3072,\n",
      "  \"decoder_layerdrop\": 0.0,\n",
      "  \"decoder_layers\": 6,\n",
      "  \"decoder_start_token_id\": 1,\n",
      "  \"do_blenderbot_90_layernorm\": false,\n",
      "  \"dropout\": 0.1,\n",
      "  \"encoder_attention_heads\": 16,\n",
      "  \"encoder_ffn_dim\": 3072,\n",
      "  \"encoder_layerdrop\": 0.0,\n",
      "  \"encoder_layers\": 6,\n",
      "  \"eos_token_id\": 1,\n",
      "  \"extra_pos_embeddings\": 2,\n",
      "  \"force_bos_token_to_be_generated\": false,\n",
      "  \"forced_eos_token_id\": 1,\n",
      "  \"gradient_checkpointing\": false,\n",
      "  \"id2label\": {\n",
      "    \"0\": \"NEGATIVE\",\n",
      "    \"1\": \"POSITIVE\"\n",
      "  },\n",
      "  \"init_std\": 0.02,\n",
      "  \"is_encoder_decoder\": true,\n",
      "  \"kobart_version\": 2.0,\n",
      "  \"label2id\": {\n",
      "    \"NEGATIVE\": 0,\n",
      "    \"POSITIVE\": 1\n",
      "  },\n",
      "  \"max_position_embeddings\": 1026,\n",
      "  \"model_type\": \"bart\",\n",
      "  \"normalize_before\": false,\n",
      "  \"normalize_embedding\": true,\n",
      "  \"num_hidden_layers\": 6,\n",
      "  \"pad_token_id\": 3,\n",
      "  \"scale_embedding\": false,\n",
      "  \"static_position_embeddings\": false,\n",
      "  \"tokenizer_class\": \"PreTrainedTokenizerFast\",\n",
      "  \"transformers_version\": \"4.27.1\",\n",
      "  \"use_cache\": true,\n",
      "  \"vocab_size\": 30000\n",
      "}\n",
      "\n"
     ]
    },
    {
     "data": {
      "application/vnd.jupyter.widget-view+json": {
       "model_id": "80827646786246adb60368178e1e8dd4",
       "version_major": 2,
       "version_minor": 0
      },
      "text/plain": [
       "Downloading (…)/main/tokenizer.json:   0%|          | 0.00/682k [00:00<?, ?B/s]"
      ]
     },
     "metadata": {},
     "output_type": "display_data"
    },
    {
     "data": {
      "application/vnd.jupyter.widget-view+json": {
       "model_id": "e6d3ef50f75945b0af1326813611b515",
       "version_major": 2,
       "version_minor": 0
      },
      "text/plain": [
       "Downloading (…)in/added_tokens.json:   0%|          | 0.00/4.00 [00:00<?, ?B/s]"
      ]
     },
     "metadata": {},
     "output_type": "display_data"
    },
    {
     "data": {
      "application/vnd.jupyter.widget-view+json": {
       "model_id": "0235ea4f3e9d42ad85e91db0920c7ef4",
       "version_major": 2,
       "version_minor": 0
      },
      "text/plain": [
       "Downloading (…)cial_tokens_map.json:   0%|          | 0.00/112 [00:00<?, ?B/s]"
      ]
     },
     "metadata": {},
     "output_type": "display_data"
    },
    {
     "name": "stderr",
     "output_type": "stream",
     "text": [
      "loading file tokenizer.json from cache at /root/.cache/huggingface/hub/models--gogamza--kobart-base-v2/snapshots/f9f2ec35d3c32a1ecc7a3281f9626b7ec1913fed/tokenizer.json\n",
      "loading file added_tokens.json from cache at /root/.cache/huggingface/hub/models--gogamza--kobart-base-v2/snapshots/f9f2ec35d3c32a1ecc7a3281f9626b7ec1913fed/added_tokens.json\n",
      "loading file special_tokens_map.json from cache at /root/.cache/huggingface/hub/models--gogamza--kobart-base-v2/snapshots/f9f2ec35d3c32a1ecc7a3281f9626b7ec1913fed/special_tokens_map.json\n",
      "loading file tokenizer_config.json from cache at None\n",
      "loading configuration file config.json from cache at /root/.cache/huggingface/hub/models--gogamza--kobart-base-v2/snapshots/f9f2ec35d3c32a1ecc7a3281f9626b7ec1913fed/config.json\n",
      "You passed along `num_labels=3` with an incompatible id to label map: {'0': 'NEGATIVE', '1': 'POSITIVE'}. The number of labels wil be overwritten to 2.\n",
      "Model config BartConfig {\n",
      "  \"_name_or_path\": \"gogamza/kobart-base-v2\",\n",
      "  \"activation_dropout\": 0.0,\n",
      "  \"activation_function\": \"gelu\",\n",
      "  \"add_bias_logits\": false,\n",
      "  \"add_final_layer_norm\": false,\n",
      "  \"architectures\": [\n",
      "    \"BartModel\"\n",
      "  ],\n",
      "  \"attention_dropout\": 0.0,\n",
      "  \"author\": \"Heewon Jeon(madjakarta@gmail.com)\",\n",
      "  \"bos_token_id\": 1,\n",
      "  \"classif_dropout\": 0.1,\n",
      "  \"classifier_dropout\": 0.1,\n",
      "  \"d_model\": 768,\n",
      "  \"decoder_attention_heads\": 16,\n",
      "  \"decoder_ffn_dim\": 3072,\n",
      "  \"decoder_layerdrop\": 0.0,\n",
      "  \"decoder_layers\": 6,\n",
      "  \"decoder_start_token_id\": 1,\n",
      "  \"do_blenderbot_90_layernorm\": false,\n",
      "  \"dropout\": 0.1,\n",
      "  \"encoder_attention_heads\": 16,\n",
      "  \"encoder_ffn_dim\": 3072,\n",
      "  \"encoder_layerdrop\": 0.0,\n",
      "  \"encoder_layers\": 6,\n",
      "  \"eos_token_id\": 1,\n",
      "  \"extra_pos_embeddings\": 2,\n",
      "  \"force_bos_token_to_be_generated\": false,\n",
      "  \"forced_eos_token_id\": 1,\n",
      "  \"gradient_checkpointing\": false,\n",
      "  \"id2label\": {\n",
      "    \"0\": \"NEGATIVE\",\n",
      "    \"1\": \"POSITIVE\"\n",
      "  },\n",
      "  \"init_std\": 0.02,\n",
      "  \"is_encoder_decoder\": true,\n",
      "  \"kobart_version\": 2.0,\n",
      "  \"label2id\": {\n",
      "    \"NEGATIVE\": 0,\n",
      "    \"POSITIVE\": 1\n",
      "  },\n",
      "  \"max_position_embeddings\": 1026,\n",
      "  \"model_type\": \"bart\",\n",
      "  \"normalize_before\": false,\n",
      "  \"normalize_embedding\": true,\n",
      "  \"num_hidden_layers\": 6,\n",
      "  \"pad_token_id\": 3,\n",
      "  \"scale_embedding\": false,\n",
      "  \"static_position_embeddings\": false,\n",
      "  \"tokenizer_class\": \"PreTrainedTokenizerFast\",\n",
      "  \"transformers_version\": \"4.27.1\",\n",
      "  \"use_cache\": true,\n",
      "  \"vocab_size\": 30000\n",
      "}\n",
      "\n"
     ]
    },
    {
     "data": {
      "application/vnd.jupyter.widget-view+json": {
       "model_id": "ff303fbac6a04f71bcaabe6a4adb42dd",
       "version_major": 2,
       "version_minor": 0
      },
      "text/plain": [
       "  0%|          | 0/40400 [00:00<?, ?it/s]"
      ]
     },
     "metadata": {},
     "output_type": "display_data"
    }
   ],
   "source": [
    "train_texts = train[\"text\"].values  \n",
    "test_texts = test[\"text\"].values \n",
    "\n",
    "tokenizer = AutoTokenizer.from_pretrained(\"gogamza/kobart-base-v2\")\n",
    "\n",
    "lens = []\n",
    "\n",
    "for i in tqdm(range(len(train_texts))): \n",
    "    lens.append(len(tokenizer.tokenize(train_texts[i])))"
   ]
  },
  {
   "cell_type": "code",
   "execution_count": 13,
   "id": "e3967320-0bae-4512-ab5f-24e5ca24d9a8",
   "metadata": {},
   "outputs": [
    {
     "data": {
      "text/plain": [
       "(728, 234, 381.3301237623762)"
      ]
     },
     "execution_count": 13,
     "metadata": {},
     "output_type": "execute_result"
    }
   ],
   "source": [
    "np.max(lens), np.min(lens), np.mean(lens) "
   ]
  },
  {
   "cell_type": "code",
   "execution_count": 15,
   "id": "7d41b895-f147-4e68-be12-cc8af441457f",
   "metadata": {},
   "outputs": [],
   "source": [
    "pnls = [-5.918, 4.3485, 6.6188, -1.3177, -0.8793, 0.8011, -2.8997, 0.8236, \n",
    "        4.0749, 2.8133, 1.9742, 4.4448, 7.5866, 2.6792, 8.4933, 12.6465] \n",
    "\n"
   ]
  },
  {
   "cell_type": "code",
   "execution_count": 18,
   "id": "c834178f-0144-4507-aba7-b88b8676e05a",
   "metadata": {},
   "outputs": [
    {
     "data": {
      "text/plain": [
       "324.7099"
      ]
     },
     "execution_count": 18,
     "metadata": {},
     "output_type": "execute_result"
    }
   ],
   "source": [
    "start_amount = 371 - np.sum(pnls) \n",
    "start_amount"
   ]
  },
  {
   "cell_type": "code",
   "execution_count": 19,
   "id": "372691d5-6029-4d11-b8d0-6ecf64779431",
   "metadata": {},
   "outputs": [
    {
     "data": {
      "text/plain": [
       "16"
      ]
     },
     "execution_count": 19,
     "metadata": {},
     "output_type": "execute_result"
    }
   ],
   "source": [
    "len(pnls)"
   ]
  },
  {
   "cell_type": "code",
   "execution_count": 4,
   "id": "52979749-04f6-48b4-86c4-b7921489e682",
   "metadata": {},
   "outputs": [],
   "source": [
    "import ccxt \n",
    "\n",
    "bybit = ccxt.bybit() \n",
    "\n",
    "df = bybit.fetch_ohlcv(\"BTCUSDT\", timeframe=\"4h\") \n",
    "\n",
    "df = pd.DataFrame(df) \n",
    "\n",
    "close_prices = df[4].values[-18:-1]"
   ]
  },
  {
   "cell_type": "code",
   "execution_count": 5,
   "id": "99111e00-4343-443e-bd4e-4bca8a3c7db8",
   "metadata": {},
   "outputs": [
    {
     "data": {
      "text/plain": [
       "array([27350. , 27443.2, 27220. , 27324.4, 26898.2, 27190.2, 26964.9,\n",
       "       27154.9, 27546. , 28244.9, 27962.1, 27270.1, 28171.1, 28177.4,\n",
       "       27684. , 27769.9, 27703.6])"
      ]
     },
     "execution_count": 5,
     "metadata": {},
     "output_type": "execute_result"
    }
   ],
   "source": [
    "close_prices "
   ]
  },
  {
   "cell_type": "code",
   "execution_count": 6,
   "id": "3a07ff22-af51-4ae9-816b-60ca3be0b70a",
   "metadata": {},
   "outputs": [
    {
     "data": {
      "text/plain": [
       "array([28171.1, 28177.4, 27684. , 27769.9, 27703.6])"
      ]
     },
     "execution_count": 6,
     "metadata": {},
     "output_type": "execute_result"
    }
   ],
   "source": [
    "close_prices = close_prices[-5:] \n",
    "close_prices"
   ]
  },
  {
   "cell_type": "code",
   "execution_count": null,
   "id": "f8beb06d-809b-4cbe-9b4e-e58be81fa7c6",
   "metadata": {},
   "outputs": [],
   "source": []
  },
  {
   "cell_type": "code",
   "execution_count": 7,
   "id": "11b63194-341d-48c6-ba74-4e442d9bd600",
   "metadata": {},
   "outputs": [],
   "source": [
    "ret = [] \n",
    "\n",
    "\n",
    "for i in range(1, len(close_prices)): \n",
    "    r = close_prices[i] / close_prices[i-1] \n",
    "    ret.append(r) "
   ]
  },
  {
   "cell_type": "code",
   "execution_count": 8,
   "id": "b1897672-f487-40c3-9c52-b610071062a9",
   "metadata": {},
   "outputs": [
    {
     "data": {
      "text/plain": [
       "[1.000223633439944, 0.9824895128720179, 1.0031028753070366, 0.9976125229114976]"
      ]
     },
     "execution_count": 8,
     "metadata": {},
     "output_type": "execute_result"
    }
   ],
   "source": [
    "ret "
   ]
  },
  {
   "cell_type": "code",
   "execution_count": 15,
   "id": "b72cd1aa-0ec4-428c-b93f-733c9190703f",
   "metadata": {},
   "outputs": [],
   "source": [
    "gamma = 0.06 \n",
    "start_amount = 339.78673630051406 \n",
    "bah_rets = [start_amount] \n",
    "cur_amount = start_amount\n",
    "for i in range(len(ret)): \n",
    "    cur_ret = cur_amount * ret[i] * (1-gamma/100) * (1-gamma/100) \n",
    "    bah_rets.append(cur_ret) \n",
    "    cur_amount = cur_ret\n"
   ]
  },
  {
   "cell_type": "code",
   "execution_count": 10,
   "id": "6be3aa50-4c11-4c0b-93ba-620837457165",
   "metadata": {},
   "outputs": [],
   "source": [
    "pnls = [-1.4122, 5.4905, 0.8698, -1.5076]\n",
    "\n",
    "cbits_rets = [start_amount] \n",
    "cur_amount = start_amount \n",
    "\n",
    "for i in range(len(pnls)): \n",
    "    cur_ret = cur_amount + pnls[i] \n",
    "    cbits_rets.append(cur_ret) \n",
    "    cur_amount = cur_ret "
   ]
  },
  {
   "cell_type": "code",
   "execution_count": 16,
   "id": "251462b6-8279-465d-b4de-bcce2b967cb8",
   "metadata": {},
   "outputs": [
    {
     "data": {
      "text/plain": [
       "([371, 369.5878, 375.0783, 375.9481, 374.4405],\n",
       " [339.78673630051406,\n",
       "  339.45501105900826,\n",
       "  333.1108953351375,\n",
       "  333.74364380250853,\n",
       "  332.54742215415916])"
      ]
     },
     "execution_count": 16,
     "metadata": {},
     "output_type": "execute_result"
    }
   ],
   "source": [
    "cbits_rets, bah_rets"
   ]
  },
  {
   "cell_type": "code",
   "execution_count": null,
   "id": "58fc7e49-78e1-47c9-a852-bd2a9ace32be",
   "metadata": {},
   "outputs": [],
   "source": []
  },
  {
   "cell_type": "code",
   "execution_count": 49,
   "id": "8d2a5c91-4593-4966-b02e-683c2b44b035",
   "metadata": {},
   "outputs": [
    {
     "data": {
      "text/plain": [
       "<matplotlib.legend.Legend at 0x7f903ecc87c0>"
      ]
     },
     "execution_count": 49,
     "metadata": {},
     "output_type": "execute_result"
    },
    {
     "data": {
      "image/png": "[encoded data removed]",
      "text/plain": [
       "<Figure size 432x288 with 1 Axes>"
      ]
     },
     "metadata": {
      "needs_background": "light"
     },
     "output_type": "display_data"
    }
   ],
   "source": [
    "plt.plot(bah_rets, label=\"CBITS_Ensemble\")\n",
    "plt.plot(cbits_rets, label=\"Buy And Hold\")\n",
    "plt.legend()"
   ]
  },
  {
   "cell_type": "code",
   "execution_count": 54,
   "id": "2780b688-be4e-446d-a360-4cd58b4d11c9",
   "metadata": {},
   "outputs": [
    {
     "data": {
      "text/plain": [
       "([324.7099,\n",
       "  329.4696523437864,\n",
       "  335.86851337908655,\n",
       "  334.32867806058357,\n",
       "  334.66913781699765,\n",
       "  335.4067319495814,\n",
       "  332.27971974452146,\n",
       "  333.15400550999294,\n",
       "  327.56411139388916,\n",
       "  330.7228389829918,\n",
       "  327.58898431796695,\n",
       "  329.5014829410178,\n",
       "  333.8461706430732,\n",
       "  341.90589405913437,\n",
       "  338.0765289966346,\n",
       "  329.3143510488885,\n",
       "  339.78673630051406],\n",
       " 341.90589405913437,\n",
       " 324.7099)"
      ]
     },
     "execution_count": 54,
     "metadata": {},
     "output_type": "execute_result"
    }
   ],
   "source": [
    "bah_rets, np.max(bah_rets), np.min(bah_rets)"
   ]
  },
  {
   "cell_type": "code",
   "execution_count": 55,
   "id": "81bdd283-8ca6-4246-a14d-690d4f42bc5f",
   "metadata": {},
   "outputs": [
    {
     "data": {
      "text/plain": [
       "([324.7099,\n",
       "  318.7919,\n",
       "  323.1404,\n",
       "  329.7592,\n",
       "  328.4415,\n",
       "  327.5622,\n",
       "  328.36330000000004,\n",
       "  325.46360000000004,\n",
       "  326.28720000000004,\n",
       "  330.36210000000005,\n",
       "  333.1754000000001,\n",
       "  335.1496000000001,\n",
       "  339.59440000000006,\n",
       "  347.18100000000004,\n",
       "  349.8602,\n",
       "  358.3535,\n",
       "  371.0],\n",
       " 371.0,\n",
       " 318.7919)"
      ]
     },
     "execution_count": 55,
     "metadata": {},
     "output_type": "execute_result"
    }
   ],
   "source": [
    "cbits_rets, np.max(cbits_rets), np.min(cbits_rets)"
   ]
  },
  {
   "cell_type": "code",
   "execution_count": null,
   "id": "f0b619d5-0968-4bf2-82a2-d26027abae96",
   "metadata": {},
   "outputs": [],
   "source": []
  },
  {
   "cell_type": "code",
   "execution_count": null,
   "id": "9a880257-de5e-469c-94ed-e097e2d48186",
   "metadata": {},
   "outputs": [],
   "source": []
  },
  {
   "cell_type": "markdown",
   "id": "af5007a8-bee8-448f-aeff-fd739d78c9ab",
   "metadata": {},
   "source": [
    "# For Updates\n",
    "\n",
    "Update every day \n",
    "\n",
    "every day at 9pm "
   ]
  },
  {
   "cell_type": "code",
   "execution_count": 17,
   "id": "3d446c6e-993c-48af-ad8a-cc40e00692a5",
   "metadata": {},
   "outputs": [],
   "source": [
    "last_close = 27703.6 \n",
    "bah_start_amount = 332.54742215415916\n",
    "cbits_start_amount = 374.4405 "
   ]
  },
  {
   "cell_type": "code",
   "execution_count": 18,
   "id": "9adfd4a1-94d9-4863-ac97-2b0720334a9c",
   "metadata": {},
   "outputs": [],
   "source": [
    "# get close \n",
    "import ccxt \n",
    "bybit = ccxt.bybit() \n",
    "df = bybit.fetch_ohlcv(\"BTCUSDT\", timeframe=\"4h\") \n",
    "df = pd.DataFrame(df) \n",
    "# close_prices = df[4].values[-18:-1]"
   ]
  },
  {
   "cell_type": "code",
   "execution_count": null,
   "id": "e070fa06-a337-41b8-bbc3-659e0fdd4e3d",
   "metadata": {},
   "outputs": [],
   "source": []
  }
 ],
 "metadata": {
  "kernelspec": {
   "display_name": "Python 3 (ipykernel)",
   "language": "python",
   "name": "python3"
  },
  "language_info": {
   "codemirror_mode": {
    "name": "ipython",
    "version": 3
   },
   "file_extension": ".py",
   "mimetype": "text/x-python",
   "name": "python",
   "nbconvert_exporter": "python",
   "pygments_lexer": "ipython3",
   "version": "3.8.12"
  }
 },
 "nbformat": 4,
 "nbformat_minor": 5
}
