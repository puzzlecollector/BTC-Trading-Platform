{
 "cells": [
  {
   "cell_type": "code",
   "execution_count": 219,
   "id": "22c949ff-3d61-4b2d-b992-187bd45098d1",
   "metadata": {},
   "outputs": [],
   "source": [
    "import json\n",
    "import pandas as pd\n",
    "import numpy as np\n",
    "import ccxt\n",
    "from tqdm import tqdm\n",
    "import seaborn as sns\n",
    "from sklearn.utils.class_weight import compute_class_weight\n",
    "from sklearn.metrics import f1_score \n",
    "import pandas_ta as ta\n",
    "from xgboost import XGBClassifier  "
   ]
  },
  {
   "cell_type": "code",
   "execution_count": 220,
   "id": "c46db585-0114-4a8e-8bed-af041ca27e30",
   "metadata": {},
   "outputs": [],
   "source": [
    "chart_df = pd.read_csv(\"chart_df_with_deberta_sentiments.csv\") \n",
    "targets = [] \n",
    "high = chart_df[\"high\"].values \n",
    "low = chart_df[\"low\"].values \n",
    "close = chart_df[\"close\"].values \n",
    "\n",
    "threshold = 0.01 \n",
    "\n",
    "for i in range(len(close)-1):\n",
    "    high_vol = (high[i+1] - close[i]) / close[i] \n",
    "    low_vol = (low[i+1] - close[i]) / close[i] \n",
    "    if high_vol >= threshold: \n",
    "        targets.append(0) \n",
    "    elif low_vol <= -threshold:\n",
    "        targets.append(1) \n",
    "    else:\n",
    "        targets.append(2) \n",
    "        \n",
    "targets.append(None) \n",
    "\n",
    "chart_df[\"Targets\"] = targets "
   ]
  },
  {
   "cell_type": "code",
   "execution_count": 221,
   "id": "45864efb-1cb5-48e0-bfe6-78aff138bb1b",
   "metadata": {},
   "outputs": [
    {
     "name": "stderr",
     "output_type": "stream",
     "text": [
      "100%|██████████| 11/11 [00:00<00:00, 47.49it/s]"
     ]
    },
    {
     "name": "stdout",
     "output_type": "stream",
     "text": [
      "(10929, 63)\n"
     ]
    },
    {
     "name": "stderr",
     "output_type": "stream",
     "text": [
      "\n"
     ]
    }
   ],
   "source": [
    "chart_df.set_index(pd.DatetimeIndex(chart_df[\"datetime\"]), inplace=True)\n",
    "\n",
    "### addition of chart features ### \n",
    "chart_df[\"bop\"] = chart_df.ta.bop(lookahead=False) \n",
    "chart_df[\"ebsw\"] = chart_df.ta.ebsw(lookahead=False) \n",
    "chart_df[\"cmf\"] = chart_df.ta.cmf(lookahead=False) \n",
    "chart_df[\"vwap\"] = chart_df.ta.vwap(lookahead=False) \n",
    "chart_df[\"rsi/100\"] = chart_df.ta.rsi(lookahead=False) / 100\n",
    "chart_df[\"high/low\"] = chart_df[\"high\"] / chart_df[\"low\"] \n",
    "chart_df[\"close/open\"] = chart_df[\"close\"] / chart_df[\"open\"] \n",
    "chart_df[\"high/open\"] = chart_df[\"high\"] / chart_df[\"open\"] \n",
    "chart_df[\"low/open\"] = chart_df[\"low\"] / chart_df[\"open\"] \n",
    "chart_df[\"hwma\"] = chart_df.ta.hwma(lookahead=False) \n",
    "chart_df[\"linreg\"] = chart_df.ta.linreg(lookahead=False) \n",
    "chart_df[\"hwma/close\"] = chart_df[\"hwma\"] / chart_df[\"close\"] \n",
    "chart_df[\"linreg/close\"] = chart_df[\"linreg\"] / chart_df[\"close\"]\n",
    "chart_df[\"sma\"] = chart_df.ta.sma(lookahead=False) \n",
    "chart_df[\"sma/close\"] = chart_df[\"sma\"] / chart_df[\"close\"] \n",
    "\n",
    "\n",
    "### addition of recent differenced features ### \n",
    "for l in tqdm(range(1, 12), position=0, leave=True): \n",
    "    for col in [\"high\", \"low\", \"volume\", \"vwap\"]:\n",
    "        val = chart_df[col].values \n",
    "        val_ret = [None for _ in range(l)]\n",
    "        for i in range(l, len(val)):\n",
    "            if val[i-l] == 0: \n",
    "                ret = 1 \n",
    "            else:\n",
    "                ret = val[i] / val[i-l]  \n",
    "            val_ret.append(ret) \n",
    "        chart_df[\"{}_change_{}\".format(col, l)] = val_ret\n",
    "        \n",
    "### drop unnecessary columns ### \n",
    "chart_df.drop(columns={\"open\",\"high\",\"low\",\"close\",\"volume\",\"vwap\",\"hwma\",\"linreg\", \"sma\"}, inplace=True) \n",
    "\n",
    "\n",
    "chart_df.dropna(inplace=True)\n",
    "\n",
    "print(chart_df.shape)  "
   ]
  },
  {
   "cell_type": "code",
   "execution_count": 222,
   "id": "52d5b283-fba8-4835-b71c-abd614ad1e32",
   "metadata": {},
   "outputs": [
    {
     "data": {
      "text/plain": [
       "((8743, 63), (1092, 63), (1094, 63))"
      ]
     },
     "execution_count": 222,
     "metadata": {},
     "output_type": "execute_result"
    }
   ],
   "source": [
    "columns = chart_df.columns \n",
    "\n",
    "train_columns = [] \n",
    "\n",
    "for c in columns:\n",
    "    if c not in [\"year\",\"datetime\",\"Targets\"]: \n",
    "        train_columns.append(c) \n",
    "        \n",
    "        \n",
    "train_idx = int(chart_df.shape[0] * 0.8) \n",
    "val_idx = int(chart_df.shape[0] * 0.1)\n",
    "train_df, val_df, test_df = chart_df.iloc[:train_idx], chart_df.iloc[train_idx:train_idx+val_idx], chart_df.iloc[train_idx+val_idx:]\n",
    "\n",
    "\n",
    "train_df.shape, val_df.shape, test_df.shape"
   ]
  },
  {
   "cell_type": "code",
   "execution_count": 223,
   "id": "dbb531fb-9a9b-44f1-98cc-69a122bc7ad4",
   "metadata": {},
   "outputs": [
    {
     "name": "stdout",
     "output_type": "stream",
     "text": [
      "{0: 0.8696906396100667, 1: 1.2178576403398802, 2: 0.9717683672335223}\n"
     ]
    }
   ],
   "source": [
    "chart_df.dropna(inplace=True)\n",
    "X_train = train_df[train_columns] \n",
    "Y_train = train_df[\"Targets\"]\n",
    "\n",
    "X_val = val_df[train_columns] \n",
    "Y_val = val_df[\"Targets\"] \n",
    "\n",
    "X_test = test_df[train_columns] \n",
    "Y_test = test_df[\"Targets\"] \n",
    "\n",
    "\n",
    "class_weights = compute_class_weight(class_weight = \"balanced\",\n",
    "                                     classes = np.unique(Y_train),\n",
    "                                     y = Y_train) \n",
    "\n",
    "d = {0:class_weights[0], 1:class_weights[1], 2:class_weights[2]} \n",
    "\n",
    "print(d) "
   ]
  },
  {
   "cell_type": "code",
   "execution_count": 224,
   "id": "8948a169-aa9b-403b-a23b-52be01f2d489",
   "metadata": {},
   "outputs": [
    {
     "name": "stdout",
     "output_type": "stream",
     "text": [
      "[09:26:15] WARNING: ../src/learner.cc:627: \n",
      "Parameters: { \"class_weight\", \"metric\", \"silent\" } might not be used.\n",
      "\n",
      "  This could be a false alarm, with some parameters getting used by language bindings but\n",
      "  then being mistakenly passed down to XGBoost core, or some parameter actually being used\n",
      "  but getting flagged wrongly here. Please open an issue if you find any such cases.\n",
      "\n",
      "\n",
      "[0]\tvalidation_0-mlogloss:1.08611\n",
      "[20]\tvalidation_0-mlogloss:1.10654\n",
      "[40]\tvalidation_0-mlogloss:1.12927\n",
      "[60]\tvalidation_0-mlogloss:1.15398\n",
      "[80]\tvalidation_0-mlogloss:1.17782\n",
      "[100]\tvalidation_0-mlogloss:1.20497\n",
      "[120]\tvalidation_0-mlogloss:1.23242\n",
      "[140]\tvalidation_0-mlogloss:1.25229\n",
      "[160]\tvalidation_0-mlogloss:1.27764\n",
      "[180]\tvalidation_0-mlogloss:1.30256\n",
      "[199]\tvalidation_0-mlogloss:1.32233\n"
     ]
    },
    {
     "data": {
      "text/html": [
       "<style>#sk-container-id-23 {color: black;background-color: white;}#sk-container-id-23 pre{padding: 0;}#sk-container-id-23 div.sk-toggleable {background-color: white;}#sk-container-id-23 label.sk-toggleable__label {cursor: pointer;display: block;width: 100%;margin-bottom: 0;padding: 0.3em;box-sizing: border-box;text-align: center;}#sk-container-id-23 label.sk-toggleable__label-arrow:before {content: \"▸\";float: left;margin-right: 0.25em;color: #696969;}#sk-container-id-23 label.sk-toggleable__label-arrow:hover:before {color: black;}#sk-container-id-23 div.sk-estimator:hover label.sk-toggleable__label-arrow:before {color: black;}#sk-container-id-23 div.sk-toggleable__content {max-height: 0;max-width: 0;overflow: hidden;text-align: left;background-color: #f0f8ff;}#sk-container-id-23 div.sk-toggleable__content pre {margin: 0.2em;color: black;border-radius: 0.25em;background-color: #f0f8ff;}#sk-container-id-23 input.sk-toggleable__control:checked~div.sk-toggleable__content {max-height: 200px;max-width: 100%;overflow: auto;}#sk-container-id-23 input.sk-toggleable__control:checked~label.sk-toggleable__label-arrow:before {content: \"▾\";}#sk-container-id-23 div.sk-estimator input.sk-toggleable__control:checked~label.sk-toggleable__label {background-color: #d4ebff;}#sk-container-id-23 div.sk-label input.sk-toggleable__control:checked~label.sk-toggleable__label {background-color: #d4ebff;}#sk-container-id-23 input.sk-hidden--visually {border: 0;clip: rect(1px 1px 1px 1px);clip: rect(1px, 1px, 1px, 1px);height: 1px;margin: -1px;overflow: hidden;padding: 0;position: absolute;width: 1px;}#sk-container-id-23 div.sk-estimator {font-family: monospace;background-color: #f0f8ff;border: 1px dotted black;border-radius: 0.25em;box-sizing: border-box;margin-bottom: 0.5em;}#sk-container-id-23 div.sk-estimator:hover {background-color: #d4ebff;}#sk-container-id-23 div.sk-parallel-item::after {content: \"\";width: 100%;border-bottom: 1px solid gray;flex-grow: 1;}#sk-container-id-23 div.sk-label:hover label.sk-toggleable__label {background-color: #d4ebff;}#sk-container-id-23 div.sk-serial::before {content: \"\";position: absolute;border-left: 1px solid gray;box-sizing: border-box;top: 0;bottom: 0;left: 50%;z-index: 0;}#sk-container-id-23 div.sk-serial {display: flex;flex-direction: column;align-items: center;background-color: white;padding-right: 0.2em;padding-left: 0.2em;position: relative;}#sk-container-id-23 div.sk-item {position: relative;z-index: 1;}#sk-container-id-23 div.sk-parallel {display: flex;align-items: stretch;justify-content: center;background-color: white;position: relative;}#sk-container-id-23 div.sk-item::before, #sk-container-id-23 div.sk-parallel-item::before {content: \"\";position: absolute;border-left: 1px solid gray;box-sizing: border-box;top: 0;bottom: 0;left: 50%;z-index: -1;}#sk-container-id-23 div.sk-parallel-item {display: flex;flex-direction: column;z-index: 1;position: relative;background-color: white;}#sk-container-id-23 div.sk-parallel-item:first-child::after {align-self: flex-end;width: 50%;}#sk-container-id-23 div.sk-parallel-item:last-child::after {align-self: flex-start;width: 50%;}#sk-container-id-23 div.sk-parallel-item:only-child::after {width: 0;}#sk-container-id-23 div.sk-dashed-wrapped {border: 1px dashed gray;margin: 0 0.4em 0.5em 0.4em;box-sizing: border-box;padding-bottom: 0.4em;background-color: white;}#sk-container-id-23 div.sk-label label {font-family: monospace;font-weight: bold;display: inline-block;line-height: 1.2em;}#sk-container-id-23 div.sk-label-container {text-align: center;}#sk-container-id-23 div.sk-container {/* jupyter's `normalize.less` sets `[hidden] { display: none; }` but bootstrap.min.css set `[hidden] { display: none !important; }` so we also need the `!important` here to be able to override the default hidden behavior on the sphinx rendered scikit-learn.org. See: https://github.com/scikit-learn/scikit-learn/issues/21755 */display: inline-block !important;position: relative;}#sk-container-id-23 div.sk-text-repr-fallback {display: none;}</style><div id=\"sk-container-id-23\" class=\"sk-top-container\"><div class=\"sk-text-repr-fallback\"><pre>XGBClassifier(base_score=0.5, booster=&#x27;gbtree&#x27;, callbacks=None,\n",
       "              class_weight={0: 0.8696906396100667, 1: 1.2178576403398802,\n",
       "                            2: 0.9717683672335223},\n",
       "              colsample_bylevel=1, colsample_bynode=1, colsample_bytree=1,\n",
       "              early_stopping_rounds=None, enable_categorical=False,\n",
       "              eval_metric=None, gamma=0, gpu_id=-1, grow_policy=&#x27;depthwise&#x27;,\n",
       "              importance_type=None, interaction_constraints=&#x27;&#x27;,\n",
       "              learning_rate=0.300000012, max_bin=256, max_cat_to_onehot=4,\n",
       "              max_delta_step=0, max_depth=6, max_leaves=0, metric=&#x27;logloss&#x27;,\n",
       "              min_child_weight=1, missing=nan, monotone_constraints=&#x27;()&#x27;,\n",
       "              n_estimators=200, n_jobs=0, num_parallel_tree=1,\n",
       "              objective=&#x27;multi:softprob&#x27;, predictor=&#x27;auto&#x27;, ...)</pre><b>In a Jupyter environment, please rerun this cell to show the HTML representation or trust the notebook. <br />On GitHub, the HTML representation is unable to render, please try loading this page with nbviewer.org.</b></div><div class=\"sk-container\" hidden><div class=\"sk-item\"><div class=\"sk-estimator sk-toggleable\"><input class=\"sk-toggleable__control sk-hidden--visually\" id=\"sk-estimator-id-23\" type=\"checkbox\" checked><label for=\"sk-estimator-id-23\" class=\"sk-toggleable__label sk-toggleable__label-arrow\">XGBClassifier</label><div class=\"sk-toggleable__content\"><pre>XGBClassifier(base_score=0.5, booster=&#x27;gbtree&#x27;, callbacks=None,\n",
       "              class_weight={0: 0.8696906396100667, 1: 1.2178576403398802,\n",
       "                            2: 0.9717683672335223},\n",
       "              colsample_bylevel=1, colsample_bynode=1, colsample_bytree=1,\n",
       "              early_stopping_rounds=None, enable_categorical=False,\n",
       "              eval_metric=None, gamma=0, gpu_id=-1, grow_policy=&#x27;depthwise&#x27;,\n",
       "              importance_type=None, interaction_constraints=&#x27;&#x27;,\n",
       "              learning_rate=0.300000012, max_bin=256, max_cat_to_onehot=4,\n",
       "              max_delta_step=0, max_depth=6, max_leaves=0, metric=&#x27;logloss&#x27;,\n",
       "              min_child_weight=1, missing=nan, monotone_constraints=&#x27;()&#x27;,\n",
       "              n_estimators=200, n_jobs=0, num_parallel_tree=1,\n",
       "              objective=&#x27;multi:softprob&#x27;, predictor=&#x27;auto&#x27;, ...)</pre></div></div></div></div></div>"
      ],
      "text/plain": [
       "XGBClassifier(base_score=0.5, booster='gbtree', callbacks=None,\n",
       "              class_weight={0: 0.8696906396100667, 1: 1.2178576403398802,\n",
       "                            2: 0.9717683672335223},\n",
       "              colsample_bylevel=1, colsample_bynode=1, colsample_bytree=1,\n",
       "              early_stopping_rounds=None, enable_categorical=False,\n",
       "              eval_metric=None, gamma=0, gpu_id=-1, grow_policy='depthwise',\n",
       "              importance_type=None, interaction_constraints='',\n",
       "              learning_rate=0.300000012, max_bin=256, max_cat_to_onehot=4,\n",
       "              max_delta_step=0, max_depth=6, max_leaves=0, metric='logloss',\n",
       "              min_child_weight=1, missing=nan, monotone_constraints='()',\n",
       "              n_estimators=200, n_jobs=0, num_parallel_tree=1,\n",
       "              objective='multi:softprob', predictor='auto', ...)"
      ]
     },
     "execution_count": 224,
     "metadata": {},
     "output_type": "execute_result"
    }
   ],
   "source": [
    "clf = XGBClassifier(silent=False, \n",
    "                    n_estimators=200,\n",
    "                    class_weight=d, \n",
    "                    metric=\"logloss\")\n",
    "\n",
    "clf.fit(X_train, \n",
    "        Y_train, \n",
    "        eval_set=[(X_val, Y_val)],\n",
    "        verbose=20)"
   ]
  },
  {
   "cell_type": "code",
   "execution_count": 225,
   "id": "8250f2da-36bb-4f68-8606-1a125589594c",
   "metadata": {},
   "outputs": [
    {
     "name": "stdout",
     "output_type": "stream",
     "text": [
      "accuracy = 47.80621572212066%\n"
     ]
    }
   ],
   "source": [
    "Y_pred = clf.predict(X_test) \n",
    "cnt = 0 \n",
    "for i in range(len(Y_pred)):\n",
    "    if Y_pred[i] == Y_test.values[i]:\n",
    "        cnt += 1 \n",
    "        \n",
    "print(\"accuracy = {}%\".format(cnt / len(Y_pred) * 100.))"
   ]
  },
  {
   "cell_type": "code",
   "execution_count": 226,
   "id": "a6e34210-a885-4c28-9a2e-ce0702d724a0",
   "metadata": {
    "tags": []
   },
   "outputs": [
    {
     "data": {
      "text/plain": [
       "0.4599714868386508"
      ]
     },
     "execution_count": 226,
     "metadata": {},
     "output_type": "execute_result"
    }
   ],
   "source": [
    "f1_score(Y_test, Y_pred, average='macro')"
   ]
  },
  {
   "cell_type": "code",
   "execution_count": 227,
   "id": "50171be6-8973-4b76-ab51-a162d155f881",
   "metadata": {},
   "outputs": [],
   "source": [
    "#clf.save_model(\"xgboost_btc_3\") "
   ]
  },
  {
   "cell_type": "code",
   "execution_count": 228,
   "id": "3c0ee438-867b-4cb9-9207-66e9d83b2d9a",
   "metadata": {},
   "outputs": [],
   "source": [
    "test_model = XGBClassifier() \n",
    "test_model.load_model(\"xgboost_btc_3\") "
   ]
  },
  {
   "cell_type": "code",
   "execution_count": 229,
   "id": "dae82c33-89d7-4fad-9d49-3d7bfc04fd5b",
   "metadata": {},
   "outputs": [
    {
     "name": "stdout",
     "output_type": "stream",
     "text": [
      "47.80621572212066\n"
     ]
    }
   ],
   "source": [
    "Y_pred = test_model.predict(X_test) \n",
    "cnt = 0 \n",
    "for i in range(len(Y_pred)): \n",
    "    if Y_pred[i] == Y_test.values[i]: \n",
    "        cnt += 1 \n",
    "\n",
    "print(cnt / len(Y_pred) * 100) "
   ]
  },
  {
   "cell_type": "code",
   "execution_count": null,
   "id": "dafd007f-19fe-4df7-8aff-96e21a147da6",
   "metadata": {},
   "outputs": [],
   "source": []
  },
  {
   "cell_type": "code",
   "execution_count": null,
   "id": "1c41ff10-c5f2-466b-a50c-70a4bec24f93",
   "metadata": {},
   "outputs": [],
   "source": []
  },
  {
   "cell_type": "code",
   "execution_count": null,
   "id": "f9a0088e-d5b4-4c25-b195-77dedf461461",
   "metadata": {},
   "outputs": [],
   "source": []
  },
  {
   "cell_type": "code",
   "execution_count": null,
   "id": "332a5f54-932b-46d9-a05a-cfec5a896675",
   "metadata": {},
   "outputs": [],
   "source": []
  },
  {
   "cell_type": "code",
   "execution_count": null,
   "id": "a8a7e47f-6ed4-4960-8d43-2439de9201a1",
   "metadata": {},
   "outputs": [],
   "source": []
  },
  {
   "cell_type": "code",
   "execution_count": null,
   "id": "a7da9422-3982-4a86-9a32-da99295ac976",
   "metadata": {},
   "outputs": [],
   "source": []
  },
  {
   "cell_type": "code",
   "execution_count": null,
   "id": "ac8f2f1a-4c5b-4a1e-9ae8-5d83c05bd15a",
   "metadata": {},
   "outputs": [],
   "source": []
  }
 ],
 "metadata": {
  "kernelspec": {
   "display_name": "Python 3 (ipykernel)",
   "language": "python",
   "name": "python3"
  },
  "language_info": {
   "codemirror_mode": {
    "name": "ipython",
    "version": 3
   },
   "file_extension": ".py",
   "mimetype": "text/x-python",
   "name": "python",
   "nbconvert_exporter": "python",
   "pygments_lexer": "ipython3",
   "version": "3.9.13"
  }
 },
 "nbformat": 4,
 "nbformat_minor": 5
}
